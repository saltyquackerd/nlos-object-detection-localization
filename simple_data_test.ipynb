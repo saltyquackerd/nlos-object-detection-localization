{
 "cells": [
  {
   "cell_type": "markdown",
   "id": "de5d2f0f",
   "metadata": {},
   "source": [
    "## set correct pkl path below! "
   ]
  },
  {
   "cell_type": "code",
   "execution_count": 7,
   "id": "90506005",
   "metadata": {},
   "outputs": [
    {
     "name": "stdout",
     "output_type": "stream",
     "text": [
      "['/Users/diegorivero/Desktop/UROP/Repo/total_data/large_rectangle_data.pkl', '/Users/diegorivero/Desktop/UROP/Repo/total_data/N_8inch_data.pkl', '/Users/diegorivero/Desktop/UROP/Repo/total_data/circle_4inch_data.pkl', '/Users/diegorivero/Desktop/UROP/Repo/total_data/star_8inch_data.pkl', '/Users/diegorivero/Desktop/UROP/Repo/total_data/triangle_8inch_data.pkl', '/Users/diegorivero/Desktop/UROP/Repo/total_data/L_4inch_data.pkl', '/Users/diegorivero/Desktop/UROP/Repo/total_data/O_8inch_data.pkl', '/Users/diegorivero/Desktop/UROP/Repo/total_data/circle_8inch_data.pkl', '/Users/diegorivero/Desktop/UROP/Repo/total_data/triangle_4inch_data.pkl', '/Users/diegorivero/Desktop/UROP/Repo/total_data/star_4inch_data.pkl', '/Users/diegorivero/Desktop/UROP/Repo/total_data/N_4inch_data.pkl', '/Users/diegorivero/Desktop/UROP/Repo/total_data/O_4inch_data.pkl', '/Users/diegorivero/Desktop/UROP/Repo/total_data/L_8inch_data.pkl', '/Users/diegorivero/Desktop/UROP/Repo/total_data/large_P_data.pkl', '/Users/diegorivero/Desktop/UROP/Repo/total_data/small_P_data.pkl', '/Users/diegorivero/Desktop/UROP/Repo/total_data/small_rectangle_data.pkl']\n",
      "{0: 'large_rectangle_data', 1: 'N_8inch_data', 2: 'circle_4inch_data', 3: 'star_8inch_data', 4: 'triangle_8inch_data', 5: 'L_4inch_data', 6: 'O_8inch_data', 7: 'circle_8inch_data', 8: 'triangle_4inch_data', 9: 'star_4inch_data', 10: 'N_4inch_data', 11: 'O_4inch_data', 12: 'L_8inch_data', 13: 'large_P_data', 14: 'small_P_data', 15: 'small_rectangle_data'}\n",
      "Top-level info:\n",
      "{'metadata': {'object': 'rectangle', 'spad_position': {'x': 0.1, 'y': 0.4, 'z': 0.5}, 'start_time': '2025-04-26T11:15:37.123594'}}\n",
      "\n",
      "Number of captures (entries): 100\n",
      "\n",
      "First sample entry:\n",
      "{'iter': 0, 'pos': {'x': 0.0, 'y': 0.0}, 'histogram': array([[747, 780, 734, ..., 713, 746, 747],\n",
      "       [966, 923, 912, ..., 848, 822, 906],\n",
      "       [786, 817, 868, ..., 797, 808, 824],\n",
      "       ...,\n",
      "       [796, 780, 750, ..., 736, 706, 757],\n",
      "       [647, 710, 670, ..., 654, 639, 646],\n",
      "       [572, 605, 574, ..., 541, 573, 595]], dtype=int32)}\n",
      "Histogram shape: (9, 128)\n",
      "\n",
      "Shapes: X → (100, 9, 128)  (n, c, d);  y → (100, 3)  (samples, 2-coord location + identity)\n",
      "[ 0.         17.77777778  0.        ]\n",
      "Top-level info:\n",
      "{'metadata': {'object': 'N_8inch', 'spad_position': {'x': 4.0, 'y': 8.0, 'z': 6.0}, 'start_time': '2025-04-26T14:19:50.360870'}}\n",
      "\n",
      "Number of captures (entries): 100\n",
      "\n",
      "First sample entry:\n",
      "{'iter': 0, 'pos': {'x': 0.0, 'y': 0.0}, 'histogram': array([[765, 805, 783, ..., 787, 772, 779],\n",
      "       [948, 896, 957, ..., 846, 871, 846],\n",
      "       [800, 859, 845, ..., 809, 809, 821],\n",
      "       ...,\n",
      "       [798, 765, 768, ..., 728, 723, 803],\n",
      "       [691, 648, 702, ..., 598, 665, 665],\n",
      "       [554, 601, 570, ..., 568, 555, 585]], dtype=int32)}\n",
      "Histogram shape: (9, 128)\n",
      "\n",
      "Shapes: X → (100, 9, 128)  (n, c, d);  y → (100, 3)  (samples, 2-coord location + identity)\n",
      "[ 0.         17.77777778  1.        ]\n",
      "Top-level info:\n",
      "{'metadata': {'object': 'circle_4inch', 'spad_position': {'x': 4.0, 'y': 8.0, 'z': 6.0}, 'start_time': '2025-04-26T14:04:59.706070'}}\n",
      "\n",
      "Number of captures (entries): 100\n",
      "\n",
      "First sample entry:\n",
      "{'iter': 0, 'pos': {'x': 0.0, 'y': 0.0}, 'histogram': array([[757, 710, 796, ..., 699, 697, 699],\n",
      "       [918, 858, 903, ..., 850, 798, 799],\n",
      "       [823, 827, 873, ..., 818, 813, 796],\n",
      "       ...,\n",
      "       [762, 777, 777, ..., 771, 708, 769],\n",
      "       [656, 650, 671, ..., 673, 611, 623],\n",
      "       [557, 522, 548, ..., 560, 518, 537]], dtype=int32)}\n",
      "Histogram shape: (9, 128)\n",
      "\n",
      "Shapes: X → (100, 9, 128)  (n, c, d);  y → (100, 3)  (samples, 2-coord location + identity)\n",
      "[ 0.         17.77777778  2.        ]\n",
      "Top-level info:\n",
      "{'metadata': {'object': 'star_8inch1', 'spad_position': {'x': 8.0, 'y': 4.0, 'z': 6.5}, 'start_time': '2025-04-27T14:42:19.774689'}}\n",
      "\n",
      "Number of captures (entries): 100\n",
      "\n",
      "First sample entry:\n",
      "{'iter': 0, 'pos': {'x': 0.0, 'y': 0.0}, 'histogram': array([[830, 872, 816, ..., 767, 793, 779],\n",
      "       [924, 953, 974, ..., 870, 912, 924],\n",
      "       [849, 836, 807, ..., 786, 745, 782],\n",
      "       ...,\n",
      "       [828, 831, 778, ..., 767, 785, 736],\n",
      "       [695, 707, 667, ..., 667, 632, 677],\n",
      "       [586, 575, 594, ..., 563, 607, 580]], dtype=int32)}\n",
      "Histogram shape: (9, 128)\n",
      "\n",
      "Shapes: X → (100, 9, 128)  (n, c, d);  y → (100, 3)  (samples, 2-coord location + identity)\n",
      "[ 0.         17.77777778  3.        ]\n",
      "Top-level info:\n",
      "{'metadata': {'object': 'triangle_8inch', 'spad_position': {'x': 4.0, 'y': 8.0, 'z': 6.5}, 'start_time': '2025-04-26T09:54:22.381127'}}\n",
      "\n",
      "Number of captures (entries): 100\n",
      "\n",
      "First sample entry:\n",
      "{'iter': 0, 'pos': {'x': 0.0, 'y': 0.0}, 'histogram': array([[709, 739, 752, ..., 680, 723, 689],\n",
      "       [857, 854, 870, ..., 824, 766, 843],\n",
      "       [840, 831, 818, ..., 764, 766, 749],\n",
      "       ...,\n",
      "       [728, 802, 687, ..., 701, 707, 709],\n",
      "       [643, 639, 638, ..., 578, 609, 608],\n",
      "       [484, 541, 526, ..., 529, 497, 539]], dtype=int32)}\n",
      "Histogram shape: (9, 128)\n",
      "\n",
      "Shapes: X → (100, 9, 128)  (n, c, d);  y → (100, 3)  (samples, 2-coord location + identity)\n",
      "[ 0.         17.77777778  4.        ]\n",
      "Top-level info:\n",
      "{'metadata': {'object': 'L_4inch', 'spad_position': {'x': 4.0, 'y': 8.0, 'z': 6.5}, 'start_time': '2025-04-26T10:07:09.531370'}}\n",
      "\n",
      "Number of captures (entries): 100\n",
      "\n",
      "First sample entry:\n",
      "{'iter': 0, 'pos': {'x': 0.0, 'y': 0.0}, 'histogram': array([[784, 729, 761, ..., 712, 731, 726],\n",
      "       [852, 843, 879, ..., 823, 846, 873],\n",
      "       [858, 857, 872, ..., 782, 748, 792],\n",
      "       ...,\n",
      "       [733, 770, 760, ..., 714, 775, 769],\n",
      "       [671, 677, 625, ..., 592, 587, 648],\n",
      "       [560, 549, 540, ..., 520, 521, 511]], dtype=int32)}\n",
      "Histogram shape: (9, 128)\n",
      "\n",
      "Shapes: X → (100, 9, 128)  (n, c, d);  y → (100, 3)  (samples, 2-coord location + identity)\n",
      "[ 0.         17.77777778  5.        ]\n",
      "Top-level info:\n",
      "{'metadata': {'object': 'O_8inch', 'spad_position': {'x': 8.0, 'y': 4.0, 'z': 6.5}, 'start_time': '2025-04-27T14:36:49.954179'}}\n",
      "\n",
      "Number of captures (entries): 100\n",
      "\n",
      "First sample entry:\n",
      "{'iter': 0, 'pos': {'x': 0.0, 'y': 0.0}, 'histogram': array([[ 869,  909,  944, ...,  876,  875,  849],\n",
      "       [1083,  997, 1057, ...,  919,  998,  940],\n",
      "       [ 814,  880,  925, ...,  847,  816,  859],\n",
      "       ...,\n",
      "       [ 850,  875,  879, ...,  828,  811,  807],\n",
      "       [ 693,  758,  749, ...,  737,  732,  715],\n",
      "       [ 693,  687,  628, ...,  626,  622,  609]], dtype=int32)}\n",
      "Histogram shape: (9, 128)\n",
      "\n",
      "Shapes: X → (100, 9, 128)  (n, c, d);  y → (100, 3)  (samples, 2-coord location + identity)\n",
      "[ 0.         17.77777778  6.        ]\n",
      "Top-level info:\n",
      "{'metadata': {'object': 'circle_8inch', 'spad_position': {'x': 4.0, 'y': 8.0, 'z': 6.0}, 'start_time': '2025-04-26T14:10:35.564448'}}\n",
      "\n",
      "Number of captures (entries): 100\n",
      "\n",
      "First sample entry:\n",
      "{'iter': 0, 'pos': {'x': 0.0, 'y': 0.0}, 'histogram': array([[775, 846, 772, ..., 762, 789, 761],\n",
      "       [835, 868, 884, ..., 799, 830, 860],\n",
      "       [819, 888, 809, ..., 870, 834, 828],\n",
      "       ...,\n",
      "       [770, 792, 731, ..., 738, 742, 719],\n",
      "       [660, 696, 688, ..., 645, 682, 642],\n",
      "       [509, 523, 567, ..., 592, 571, 546]], dtype=int32)}\n",
      "Histogram shape: (9, 128)\n",
      "\n",
      "Shapes: X → (100, 9, 128)  (n, c, d);  y → (100, 3)  (samples, 2-coord location + identity)\n",
      "[ 0.         17.77777778  7.        ]\n",
      "Top-level info:\n",
      "{'metadata': {'object': 'triangle_4inch', 'spad_position': {'x': 4.0, 'y': 8.0, 'z': 6.5}, 'start_time': '2025-04-26T09:40:49.956025'}}\n",
      "\n",
      "Number of captures (entries): 100\n",
      "\n",
      "First sample entry:\n",
      "{'iter': 0, 'pos': {'x': 0.0, 'y': 0.0}, 'histogram': array([[673, 730, 720, ..., 687, 763, 711],\n",
      "       [837, 865, 917, ..., 775, 780, 811],\n",
      "       [835, 801, 860, ..., 751, 787, 761],\n",
      "       ...,\n",
      "       [752, 774, 739, ..., 728, 698, 735],\n",
      "       [656, 654, 632, ..., 532, 580, 650],\n",
      "       [573, 512, 519, ..., 509, 541, 526]], dtype=int32)}\n",
      "Histogram shape: (9, 128)\n",
      "\n",
      "Shapes: X → (100, 9, 128)  (n, c, d);  y → (100, 3)  (samples, 2-coord location + identity)\n",
      "[ 0.         17.77777778  8.        ]\n",
      "Top-level info:\n",
      "{'metadata': {'object': 'star_4inch', 'spad_position': {'x': 8.0, 'y': 4.0, 'z': 6.5}, 'start_time': '2025-04-27T13:55:10.355489'}}\n",
      "\n",
      "Number of captures (entries): 100\n",
      "\n",
      "First sample entry:\n",
      "{'iter': 0, 'pos': {'x': 0.0, 'y': 0.0}, 'histogram': array([[833, 912, 867, ..., 851, 774, 842],\n",
      "       [957, 960, 962, ..., 868, 923, 926],\n",
      "       [839, 872, 898, ..., 813, 851, 863],\n",
      "       ...,\n",
      "       [799, 878, 827, ..., 793, 792, 773],\n",
      "       [721, 704, 739, ..., 677, 664, 660],\n",
      "       [577, 596, 625, ..., 563, 602, 587]], dtype=int32)}\n",
      "Histogram shape: (9, 128)\n",
      "\n",
      "Shapes: X → (100, 9, 128)  (n, c, d);  y → (100, 3)  (samples, 2-coord location + identity)\n",
      "[ 0.         17.77777778  9.        ]\n",
      "Top-level info:\n",
      "{'metadata': {'object': 'N_4inch', 'spad_position': {'x': 4.0, 'y': 8.0, 'z': 6.0}, 'start_time': '2025-04-26T14:15:31.909197'}}\n",
      "\n",
      "Number of captures (entries): 100\n",
      "\n",
      "First sample entry:\n",
      "{'iter': 0, 'pos': {'x': 0.0, 'y': 0.0}, 'histogram': array([[801, 790, 720, ..., 773, 719, 751],\n",
      "       [852, 867, 849, ..., 855, 824, 875],\n",
      "       [842, 882, 851, ..., 779, 812, 791],\n",
      "       ...,\n",
      "       [734, 784, 763, ..., 757, 749, 735],\n",
      "       [637, 743, 645, ..., 598, 613, 654],\n",
      "       [560, 510, 583, ..., 539, 516, 558]], dtype=int32)}\n",
      "Histogram shape: (9, 128)\n",
      "\n",
      "Shapes: X → (100, 9, 128)  (n, c, d);  y → (100, 3)  (samples, 2-coord location + identity)\n",
      "[ 0.         17.77777778 10.        ]\n",
      "Top-level info:\n",
      "{'metadata': {'object': 'O_4inch', 'spad_position': {'x': 8.0, 'y': 4.0, 'z': 6.5}, 'start_time': '2025-04-27T14:14:26.528117'}}\n",
      "\n",
      "Number of captures (entries): 100\n",
      "\n",
      "First sample entry:\n",
      "{'iter': 0, 'pos': {'x': 0.0, 'y': 0.0}, 'histogram': array([[ 842,  843,  939, ...,  827,  825,  808],\n",
      "       [1032, 1011, 1053, ...,  984,  968,  925],\n",
      "       [ 911,  875,  858, ...,  856,  841,  879],\n",
      "       ...,\n",
      "       [ 874,  875,  824, ...,  857,  813,  818],\n",
      "       [ 749,  790,  762, ...,  697,  707,  736],\n",
      "       [ 649,  685,  640, ...,  614,  600,  612]], dtype=int32)}\n",
      "Histogram shape: (9, 128)\n",
      "\n",
      "Shapes: X → (100, 9, 128)  (n, c, d);  y → (100, 3)  (samples, 2-coord location + identity)\n",
      "[ 0.         17.77777778 11.        ]\n",
      "Top-level info:\n",
      "{'metadata': {'object': 'L_8inch', 'spad_position': {'x': 4.0, 'y': 8.0, 'z': 6.5}, 'start_time': '2025-04-26T10:18:57.848538'}}\n",
      "\n",
      "Number of captures (entries): 100\n",
      "\n",
      "First sample entry:\n",
      "{'iter': 0, 'pos': {'x': 0.0, 'y': 0.0}, 'histogram': array([[701, 740, 743, ..., 695, 723, 712],\n",
      "       [848, 798, 775, ..., 803, 842, 791],\n",
      "       [848, 743, 809, ..., 783, 821, 790],\n",
      "       ...,\n",
      "       [717, 728, 747, ..., 683, 721, 711],\n",
      "       [645, 584, 608, ..., 551, 603, 598],\n",
      "       [534, 552, 571, ..., 523, 465, 495]], dtype=int32)}\n",
      "Histogram shape: (9, 128)\n",
      "\n",
      "Shapes: X → (100, 9, 128)  (n, c, d);  y → (100, 3)  (samples, 2-coord location + identity)\n",
      "[ 0.         17.77777778 12.        ]\n",
      "Top-level info:\n",
      "{'metadata': {'object': 'large_P', 'spad_position': {'x': 0.1, 'y': 0.4, 'z': 0.5}, 'start_time': '2025-04-26T11:28:11.809080'}}\n",
      "\n",
      "Number of captures (entries): 100\n",
      "\n",
      "First sample entry:\n",
      "{'iter': 0, 'pos': {'x': 0.0, 'y': 0.0}, 'histogram': array([[ 967,  918,  931, ...,  856,  860,  881],\n",
      "       [1013, 1052, 1075, ...,  969,  991,  959],\n",
      "       [ 942,  928, 1016, ...,  905,  915,  926],\n",
      "       ...,\n",
      "       [ 953,  934,  957, ...,  857,  875,  886],\n",
      "       [ 815,  769,  835, ...,  818,  728,  783],\n",
      "       [ 708,  688,  666, ...,  675,  675,  659]], dtype=int32)}\n",
      "Histogram shape: (9, 128)\n",
      "\n",
      "Shapes: X → (100, 9, 128)  (n, c, d);  y → (100, 3)  (samples, 2-coord location + identity)\n",
      "[ 0.         17.77777778 13.        ]\n",
      "Top-level info:\n",
      "{'metadata': {'object': 'rectangle', 'spad_position': {'x': 0.1, 'y': 0.4, 'z': 0.5}, 'start_time': '2025-04-26T11:22:47.445015'}}\n",
      "\n",
      "Number of captures (entries): 100\n",
      "\n",
      "First sample entry:\n",
      "{'iter': 0, 'pos': {'x': 0.0, 'y': 0.0}, 'histogram': array([[ 900,  870,  968, ...,  885,  834,  864],\n",
      "       [1036, 1017,  995, ...,  962,  952,  960],\n",
      "       [ 923,  881,  940, ...,  931,  867,  907],\n",
      "       ...,\n",
      "       [ 863,  900,  946, ...,  819,  876,  866],\n",
      "       [ 789,  816,  780, ...,  720,  719,  746],\n",
      "       [ 743,  682,  664, ...,  689,  588,  636]], dtype=int32)}\n",
      "Histogram shape: (9, 128)\n",
      "\n",
      "Shapes: X → (100, 9, 128)  (n, c, d);  y → (100, 3)  (samples, 2-coord location + identity)\n",
      "[ 0.         17.77777778 14.        ]\n",
      "Top-level info:\n",
      "{'metadata': {'object': 'rectangle', 'spad_position': {'x': 0.1, 'y': 0.4, 'z': 0.5}, 'start_time': '2025-04-26T10:51:25.284809'}}\n",
      "\n",
      "Number of captures (entries): 100\n",
      "\n",
      "First sample entry:\n",
      "{'iter': 0, 'pos': {'x': 0.0, 'y': 0.0}, 'histogram': array([[710, 715, 773, ..., 716, 734, 706],\n",
      "       [878, 799, 893, ..., 794, 823, 780],\n",
      "       [798, 808, 858, ..., 763, 814, 775],\n",
      "       ...,\n",
      "       [679, 761, 759, ..., 708, 726, 715],\n",
      "       [666, 686, 682, ..., 627, 620, 631],\n",
      "       [543, 588, 592, ..., 514, 497, 521]], dtype=int32)}\n",
      "Histogram shape: (9, 128)\n",
      "\n",
      "Shapes: X → (100, 9, 128)  (n, c, d);  y → (100, 3)  (samples, 2-coord location + identity)\n",
      "[ 0.         17.77777778 15.        ]\n"
     ]
    }
   ],
   "source": [
    "import pickle\n",
    "import numpy as np\n",
    "# PASTE THE CORRECT PKL PATH HERE\n",
    "import os\n",
    "\n",
    "\n",
    "PKL_FOLDER_PATH = \"/Users/diegorivero/Desktop/UROP/Repo/total_data/\"\n",
    "files = [f for f in os.listdir(PKL_FOLDER_PATH)]\n",
    "PKL_FILES = [PKL_FOLDER_PATH + file for file in files if file[-3:] == \"pkl\"] \n",
    "print(PKL_FILES)\n",
    "file_dict = {i: os.path.basename(file_path)[:-4] for i, file_path in enumerate(PKL_FILES)}\n",
    "print(file_dict)\n",
    "\n",
    "def load_all_pickles(path):\n",
    "    with open(path, \"rb\") as f:\n",
    "        while True:\n",
    "            try:\n",
    "                yield pickle.load(f)\n",
    "            except EOFError:\n",
    "                break\n",
    "\n",
    "def normalize_histograms(entries):\n",
    "    normalized = []\n",
    "    for entry in entries:\n",
    "        hist = entry.get(\"histogram\")\n",
    "        if hist is not None and not isinstance(hist, np.ndarray):\n",
    "            entry[\"histogram\"] = np.array(hist)\n",
    "        normalized.append(entry)\n",
    "    return normalized\n",
    "\n",
    "all_data = [list(load_all_pickles(file)) for file in PKL_FILES]\n",
    "# try:\n",
    "#     all_objs = list(load_all_pickles(PKL_PATH))\n",
    "# except FileNotFoundError:\n",
    "#     raise FileNotFoundError(\"PKL FILE PATH GIVEN DOESNT EXIST -- double check what path youve set above!\")\n",
    "i = 0\n",
    "X_list = []\n",
    "Y_list = []\n",
    "for all_objs in all_data:\n",
    "    top_info, *data_entries = all_objs\n",
    "\n",
    "    print(\"Top-level info:\")\n",
    "    print(top_info)\n",
    "\n",
    "    num_captures = len(data_entries)\n",
    "    print(f\"\\nNumber of captures (entries): {num_captures}\")\n",
    "\n",
    "    if data_entries:\n",
    "        data_entries = normalize_histograms(data_entries)\n",
    "        sample = data_entries[0]\n",
    "\n",
    "        print(\"\\nFirst sample entry:\")\n",
    "        print(sample)\n",
    "\n",
    "        hist = sample.get(\"histogram\")\n",
    "        if hist is not None:\n",
    "            print(f\"Histogram shape: {hist.shape}\")\n",
    "\n",
    "        # ——— Machine‐Learning Dataset Preparation ———\n",
    "\n",
    "        # We’re now building the core arrays for training a predictive model:\n",
    "        #  • X (inputs): each row is a 1×m feature vector, where m is the number of histogram bins\n",
    "        #                  (we’ve averaged out the n channels so that each capture becomes a single vector)\n",
    "        #  • y (targets): each row is a length-2 vector [x, y] that gives the true position for that capture\n",
    "        #\n",
    "        # In supervised learning, we feed X and y into a training algorithm so it can learn\n",
    "        # how to predict positions from histogram patterns. Once trained, the model takes a new\n",
    "        # histogram (one row of X) and outputs its best estimate of [x, y].\n",
    "        #\n",
    "        hist_list = []\n",
    "        pos_list = []\n",
    "        identity_list = []\n",
    "        for entry in data_entries:\n",
    "            # average over channels (axis=0) → length-m vector\n",
    "            hist_list.append(entry[\"histogram\"])\n",
    "\n",
    "            # collect the ground-truth position for this capture\n",
    "            p = entry.get(\"pos\", {})\n",
    "            pos_list.append([p[\"x\"], p[\"y\"]])\n",
    "\n",
    "            identity_list.append([i])\n",
    "\n",
    "        X = np.stack(hist_list, axis=0) # shape: (num_captures, m)\n",
    "        y = np.array(pos_list)     # shape: (num_captures, 2)\n",
    "        to_add = np.array(identity_list)\n",
    "        y = np.hstack((y, to_add))\n",
    "\n",
    "        X_list.append(X)\n",
    "        Y_list.append(y)\n",
    "        # ——— Summary ———\n",
    "        print(f\"\\nShapes: X → {X.shape}  (n, c, d);  y → {y.shape}  (samples, 2-coord location + identity)\")\n",
    "        print(y[5, :])\n",
    "        i += 1\n",
    "\n",
    "X = np.vstack(X_list)\n",
    "Y = np.vstack(Y_list)"
   ]
  },
  {
   "cell_type": "code",
   "execution_count": 8,
   "id": "398940c4",
   "metadata": {},
   "outputs": [],
   "source": [
    "from sklearn.model_selection import train_test_split\n",
    "\n",
    "X_train, X_test, Y_train, Y_test = train_test_split(\n",
    "    X, Y, test_size=0.2, random_state=42\n",
    ")\n",
    "np.save('X_train', X_train)\n",
    "np.save('Y_train', Y_train)\n",
    "np.save('X_test', X_test)\n",
    "np.save('Y_test', Y_test)"
   ]
  },
  {
   "cell_type": "code",
   "execution_count": 9,
   "id": "e7d0ee2c",
   "metadata": {},
   "outputs": [
    {
     "name": "stdout",
     "output_type": "stream",
     "text": [
      "[1 2 3]\n",
      "[1 2 3]\n",
      "[1 2]\n",
      "[2 3]\n"
     ]
    }
   ],
   "source": [
    "l = np.array([1,2,3])\n",
    "print(l[:3])\n",
    "print(l[-3:])\n",
    "print(l[:2])\n",
    "print(l[-2:])"
   ]
  },
  {
   "cell_type": "code",
   "execution_count": 10,
   "id": "6b75746d",
   "metadata": {},
   "outputs": [
    {
     "name": "stdout",
     "output_type": "stream",
     "text": [
      "L=128 | best MSE=3.751e-01 | acc=75.94%\n",
      "L=124 | best MSE=3.994e-01 | acc=76.88%\n",
      "L=120 | best MSE=3.982e-01 | acc=80.31%\n",
      "L=116 | best MSE=4.087e-01 | acc=77.19%\n",
      "L=112 | best MSE=3.729e-01 | acc=78.12%\n",
      "L=108 | best MSE=4.029e-01 | acc=77.50%\n",
      "L=104 | best MSE=3.652e-01 | acc=71.88%\n",
      "L=100 | best MSE=3.706e-01 | acc=80.62%\n",
      "L= 96 | best MSE=3.504e-01 | acc=85.31%\n",
      "L= 92 | best MSE=3.210e-01 | acc=86.88%\n",
      "L= 88 | best MSE=3.125e-01 | acc=88.44%\n",
      "L= 84 | best MSE=3.762e-01 | acc=80.31%\n",
      "L= 80 | best MSE=4.535e-01 | acc=78.75%\n",
      "L= 76 | best MSE=4.615e-01 | acc=78.12%\n",
      "L= 72 | best MSE=4.700e-01 | acc=75.31%\n",
      "L= 68 | best MSE=4.675e-01 | acc=73.75%\n",
      "L= 64 | best MSE=4.778e-01 | acc=73.44%\n",
      "L= 60 | best MSE=4.666e-01 | acc=73.75%\n",
      "L= 56 | best MSE=4.810e-01 | acc=70.62%\n",
      "L= 52 | best MSE=4.775e-01 | acc=76.25%\n",
      "L= 48 | best MSE=4.864e-01 | acc=70.62%\n",
      "L= 44 | best MSE=4.862e-01 | acc=69.69%\n",
      "L= 40 | best MSE=4.890e-01 | acc=74.06%\n",
      "L= 36 | best MSE=4.901e-01 | acc=67.50%\n",
      "L= 32 | best MSE=4.876e-01 | acc=68.12%\n",
      "L= 28 | best MSE=5.080e-01 | acc=67.19%\n",
      "L= 24 | best MSE=5.057e-01 | acc=70.62%\n",
      "L= 20 | best MSE=5.039e-01 | acc=65.62%\n",
      "L= 16 | best MSE=5.045e-01 | acc=61.25%\n",
      "L= 12 | best MSE=5.203e-01 | acc=59.38%\n",
      "L=  8 | best MSE=5.246e-01 | acc=48.12%\n",
      "L=  4 | best MSE=5.443e-01 | acc=52.50%\n"
     ]
    },
    {
     "data": {
      "image/png": "[encoded data removed]",
      "text/plain": [
       "<Figure size 700x400 with 2 Axes>"
      ]
     },
     "metadata": {},
     "output_type": "display_data"
    }
   ],
   "source": [
    "import numpy as np, torch, torch.nn as nn, torch.optim as optim\n",
    "from torch.utils.data import TensorDataset, DataLoader, random_split\n",
    "from torch.nn.utils    import clip_grad_norm_\n",
    "from torch.optim.lr_scheduler import CosineAnnealingLR\n",
    "import matplotlib.pyplot as plt\n",
    "\n",
    "# ---------------------------------------------------------------------\n",
    "# 0.  helpers (unchanged)\n",
    "# ---------------------------------------------------------------------\n",
    "def zscore(x, eps=1e-8):\n",
    "    m, s = x.mean((0,2), keepdim=True), x.std((0,2), keepdim=True)\n",
    "    return (x - m) / (s + eps)\n",
    "\n",
    "def scale_xy(y):\n",
    "    mins, maxs = y.min(0)[0], y.max(0)[0]\n",
    "    y = 2*(y - mins)/(maxs - mins) - 1.0\n",
    "    return y, mins, maxs\n",
    "\n",
    "def init_weights(m):\n",
    "    if isinstance(m, (nn.Conv1d, nn.Linear)):\n",
    "        nn.init.kaiming_normal_(m.weight, nonlinearity=\"relu\")\n",
    "        nn.init.zeros_(m.bias)\n",
    "\n",
    "# ---------------------------------------------------------------------\n",
    "# 1.  outer loop over input lengths\n",
    "# ---------------------------------------------------------------------\n",
    "DEVICE  = torch.device(\"mps\" if torch.backends.mps.is_available() else \"cpu\")\n",
    "lengths = list(range(128, 3, -4))          # 128, 124, …, 8, 4\n",
    "all_mse, all_acc = [], []\n",
    "\n",
    "for L in lengths:\n",
    "    # ----------------- 1.1  dataset ----------------------------------\n",
    "    X_trunc = torch.tensor(X[:, :, -L:], dtype=torch.float32)  # (n,9,L)\n",
    "    X_trunc = zscore(X_trunc)\n",
    "\n",
    "    loc  = torch.tensor(Y[:, :2], dtype=torch.float32)\n",
    "    loc, xy_min, xy_max = scale_xy(loc)\n",
    "\n",
    "    ident= torch.tensor(Y[:,  2].astype(int), dtype=torch.long)\n",
    "\n",
    "    dataset = TensorDataset(X_trunc, loc, ident)\n",
    "    train_set, test_set = random_split(\n",
    "        dataset,\n",
    "        [int(len(dataset)*0.8), len(dataset) - int(len(dataset)*0.8)],\n",
    "        generator=torch.Generator().manual_seed(0)\n",
    "    )\n",
    "    train_loader = DataLoader(train_set, batch_size=128, shuffle=True)\n",
    "    test_loader  = DataLoader(test_set,  batch_size=128)\n",
    "\n",
    "    # ----------------- 1.2  nets -------------------------------------\n",
    "    class ConvRegressor(nn.Module):\n",
    "        def __init__(self):\n",
    "            super().__init__()\n",
    "            self.net = nn.Sequential(\n",
    "                nn.Conv1d(9, 64,  5, padding=2), nn.ReLU(),\n",
    "                nn.BatchNorm1d(64),\n",
    "                nn.Conv1d(64, 128, 5, padding=2), nn.ReLU(),\n",
    "                nn.BatchNorm1d(128),\n",
    "                nn.Conv1d(128,256, 5, padding=2), nn.ReLU(),\n",
    "                nn.AdaptiveAvgPool1d(1),\n",
    "                nn.Flatten(),\n",
    "                nn.Linear(256,128), nn.ReLU(),\n",
    "                nn.Dropout(0.3),\n",
    "                nn.Linear(128,2)\n",
    "            )\n",
    "        def forward(self,x): return self.net(x)\n",
    "\n",
    "    class ConvClassifier(nn.Module):\n",
    "        def __init__(self, emb_dim=128):\n",
    "            super().__init__()\n",
    "            self.features = nn.Sequential(\n",
    "                nn.Conv1d(9, 64,5,padding=2), nn.ReLU(),\n",
    "                nn.Conv1d(64,128,5,padding=2), nn.ReLU(),\n",
    "                nn.MaxPool1d(2),\n",
    "                nn.BatchNorm1d(128),\n",
    "                nn.Conv1d(128,256,5,padding=2), nn.ReLU(),\n",
    "                nn.Conv1d(256,512,5,padding=2), nn.ReLU(),\n",
    "                nn.AdaptiveAvgPool1d(1),\n",
    "                nn.Flatten(),\n",
    "                nn.Linear(512,emb_dim)\n",
    "            )\n",
    "        def forward(self,x):\n",
    "            z = self.features(x)\n",
    "            return nn.functional.normalize(z,dim=1)\n",
    "\n",
    "    reg_net = ConvRegressor().apply(init_weights).to(DEVICE)\n",
    "    cls_net = ConvClassifier().apply(init_weights).to(DEVICE)\n",
    "\n",
    "    # ----------------- 1.3  losses, opt, sched ------------------------\n",
    "    criterion_reg = nn.L1Loss()\n",
    "    criterion_cls = nn.CosineEmbeddingLoss(margin=0.4)\n",
    "\n",
    "    opt_reg = optim.AdamW(reg_net.parameters(), lr=3e-4, weight_decay=1e-4)\n",
    "    opt_cls = optim.AdamW(cls_net.parameters(), lr=1e-4, weight_decay=1e-4)\n",
    "\n",
    "    sched_reg = CosineAnnealingLR(opt_reg, T_max=150, eta_min=1e-5)\n",
    "    sched_cls = CosineAnnealingLR(opt_cls, T_max=150, eta_min=1e-5)\n",
    "\n",
    "    # ----------------- 1.4  train & val -------------------------------\n",
    "    EPOCHS, patience = 100000, 30\n",
    "    best_mse, wait   = float('inf'), 0\n",
    "\n",
    "    for epoch in range(1, EPOCHS+1):\n",
    "\n",
    "        # ---- train ----\n",
    "        reg_net.train(); cls_net.train()\n",
    "        for xb, y_loc, y_id in train_loader:\n",
    "            xb, y_loc, y_id = xb.to(DEVICE), y_loc.to(DEVICE), y_id.to(DEVICE)\n",
    "\n",
    "            # regression ------------------------------------------------\n",
    "            opt_reg.zero_grad()\n",
    "            loss_r = criterion_reg(reg_net(xb), y_loc)\n",
    "            loss_r.backward()\n",
    "            clip_grad_norm_(reg_net.parameters(), 5)\n",
    "            opt_reg.step()\n",
    "\n",
    "            # classification -------------------------------------------\n",
    "            opt_cls.zero_grad()\n",
    "            emb       = cls_net(xb)\n",
    "            perm      = torch.randperm(xb.size(0), device=DEVICE)\n",
    "            emb_shuf  = emb[perm]\n",
    "            same      = (y_id == y_id[perm]).float()*2 - 1\n",
    "            loss_c    = criterion_cls(emb, emb_shuf, same)\n",
    "            loss_c.backward()\n",
    "            clip_grad_norm_(cls_net.parameters(), 5)\n",
    "            opt_cls.step()\n",
    "\n",
    "        sched_reg.step(); sched_cls.step()\n",
    "\n",
    "        # ---- validate ----\n",
    "        reg_net.eval(); cls_net.eval()\n",
    "        with torch.no_grad():\n",
    "            # fit linear probe on train embeddings ---------------------\n",
    "            Z_tr, Y_tr = [], []\n",
    "            for xb, _, y_id in train_loader:\n",
    "                Z_tr.append(cls_net(xb.to(DEVICE)).cpu())\n",
    "                Y_tr.append(y_id.cpu())\n",
    "            Z_tr = torch.cat(Z_tr)\n",
    "            Y_tr = torch.cat(Y_tr)\n",
    "            C    = int(Y_tr.max()) + 1\n",
    "            one_hot = torch.nn.functional.one_hot(Y_tr, C).float()\n",
    "            W, *_ = torch.linalg.lstsq(Z_tr, one_hot)   # (emb_dim, C)\n",
    "\n",
    "            # evaluate on test split ----------------------------------\n",
    "            mse, correct, n = 0.0, 0, 0\n",
    "            for xb, y_loc, y_id in test_loader:\n",
    "                xb, y_loc = xb.to(DEVICE), y_loc.to(DEVICE)\n",
    "                mse += criterion_reg(reg_net(xb), y_loc).item() * xb.size(0)\n",
    "\n",
    "                emb    = cls_net(xb).cpu()\n",
    "                logits = emb @ W\n",
    "                preds  = logits.argmax(1)\n",
    "                correct += (preds == y_id).sum().item()\n",
    "                n += xb.size(0)\n",
    "\n",
    "        mse /= n; acc = correct / n\n",
    "\n",
    "        # early-stopping bookkeeping ----------------------------------\n",
    "        if mse < best_mse: best_mse, wait = mse, 0\n",
    "        else:              wait += 1\n",
    "        if wait >= patience:\n",
    "            break\n",
    "\n",
    "    # end epoch loop ----------------------------------------------------\n",
    "    all_mse.append(best_mse)\n",
    "    all_acc.append(acc)\n",
    "    print(f\"L={L:3d} | best MSE={best_mse:.3e} | acc={acc:6.2%}\")\n",
    "\n",
    "# ---------------------------------------------------------------------\n",
    "# 2.  plot curves\n",
    "# ---------------------------------------------------------------------\n",
    "plt.figure(figsize=(7,4))\n",
    "plt.subplot(1,2,1)\n",
    "plt.plot(lengths, all_mse, marker='o')\n",
    "plt.gca().invert_xaxis()\n",
    "plt.xlabel(\"Sequence length (time-steps)\")\n",
    "plt.ylabel(\"Best test MSE\")\n",
    "plt.title(\"Location regression\")\n",
    "\n",
    "plt.subplot(1,2,2)\n",
    "plt.plot(lengths, all_acc, marker='o')\n",
    "plt.gca().invert_xaxis()\n",
    "plt.xlabel(\"Sequence length (time-steps)\")\n",
    "plt.ylabel(\"Test accuracy\")\n",
    "plt.title(\"Identity classification\")\n",
    "\n",
    "plt.tight_layout()\n",
    "plt.show()\n"
   ]
  },
  {
   "cell_type": "markdown",
   "id": "1e533172",
   "metadata": {},
   "source": [
    "MLP (with tSNE visualization of last layer of both objects and locations)\n",
    "Try out contrastive loss for classification and regression\n",
    "\n",
    "\n"
   ]
  },
  {
   "cell_type": "code",
   "execution_count": 11,
   "id": "96fc5672",
   "metadata": {},
   "outputs": [
    {
     "name": "stdout",
     "output_type": "stream",
     "text": [
      "Epoch   1 | MSE=5.561e-01 | acc=79.69%\n",
      "Epoch  20 | MSE=5.960e-01 | acc=74.69%\n",
      "Epoch  40 | MSE=5.883e-01 | acc=70.00%\n",
      "Epoch  60 | MSE=5.550e-01 | acc=74.06%\n",
      "Epoch  80 | MSE=4.714e-01 | acc=73.75%\n",
      "Epoch 100 | MSE=4.584e-01 | acc=74.06%\n",
      "Epoch 120 | MSE=4.402e-01 | acc=76.25%\n",
      "Epoch 140 | MSE=4.349e-01 | acc=75.31%\n",
      "Epoch 160 | MSE=4.333e-01 | acc=76.88%\n",
      "Epoch 180 | MSE=4.310e-01 | acc=76.88%\n",
      "Epoch 200 | MSE=4.507e-01 | acc=75.31%\n",
      "Epoch 220 | MSE=4.441e-01 | acc=76.25%\n",
      "Epoch 240 | MSE=4.274e-01 | acc=74.69%\n",
      "Epoch 260 | MSE=4.434e-01 | acc=76.56%\n",
      "Epoch 280 | MSE=5.621e-01 | acc=76.56%\n",
      "Epoch 300 | MSE=4.033e-01 | acc=78.12%\n",
      "Epoch 320 | MSE=4.298e-01 | acc=76.56%\n",
      "Epoch 340 | MSE=4.214e-01 | acc=75.31%\n",
      "Epoch 360 | MSE=3.976e-01 | acc=78.12%\n",
      "Epoch 380 | MSE=3.744e-01 | acc=77.19%\n",
      "Epoch 400 | MSE=3.636e-01 | acc=75.62%\n",
      "Epoch 420 | MSE=3.582e-01 | acc=77.19%\n",
      "Epoch 440 | MSE=3.574e-01 | acc=76.25%\n",
      "Epoch 460 | MSE=3.538e-01 | acc=77.81%\n",
      "Epoch 480 | MSE=3.580e-01 | acc=79.38%\n",
      "↳ early stop @ epoch 490\n"
     ]
    },
    {
     "data": {
      "image/png": "[encoded data removed]",
      "text/plain": [
       "<Figure size 600x400 with 1 Axes>"
      ]
     },
     "metadata": {},
     "output_type": "display_data"
    },
    {
     "data": {
      "image/png": "[encoded data removed]",
      "text/plain": [
       "<Figure size 600x400 with 1 Axes>"
      ]
     },
     "metadata": {},
     "output_type": "display_data"
    }
   ],
   "source": [
    "import numpy as np, torch, torch.nn as nn, torch.optim as optim\n",
    "from torch.utils.data import TensorDataset, DataLoader, random_split\n",
    "from torch.nn.utils import clip_grad_norm_\n",
    "from torch.optim.lr_scheduler import CosineAnnealingLR\n",
    "import numpy as np\n",
    "import torch\n",
    "import torch.nn as nn\n",
    "import torch.optim as optim\n",
    "from torch.utils.data import TensorDataset, DataLoader, random_split\n",
    "import matplotlib.pyplot as plt\n",
    "\n",
    "# ------------------------- 0.  helpers ------------------------------- #\n",
    "def zscore(x, eps=1e-8):\n",
    "    m, s = x.mean((0,2), keepdim=True), x.std((0,2), keepdim=True)\n",
    "    return (x - m) / (s + eps)\n",
    "\n",
    "def scale_xy(y):\n",
    "    mins, maxs = y.min(0)[0], y.max(0)[0]\n",
    "    y = 2*(y - mins)/(maxs - mins) - 1.0               # → –1 … 1\n",
    "    return y, mins, maxs\n",
    "\n",
    "def init_weights(m):\n",
    "    if isinstance(m, (nn.Conv1d, nn.Linear)):\n",
    "        nn.init.kaiming_normal_(m.weight, nonlinearity=\"relu\")\n",
    "        nn.init.zeros_(m.bias)\n",
    "\n",
    "# ------------------------- 1.  data ---------------------------------- #\n",
    "X_t  = torch.tensor(X, dtype=torch.float32)             # (n,9,128)\n",
    "X_t  = zscore(X_t)                                      # (A)\n",
    "\n",
    "loc  = torch.tensor(Y[:, :2], dtype=torch.float32)\n",
    "loc, xy_min, xy_max = scale_xy(loc)                     # (A)\n",
    "\n",
    "ident= torch.tensor(Y[:,  2].astype(int), dtype=torch.long)\n",
    "dataset = TensorDataset(X_t, loc, ident)\n",
    "train_set, test_set = random_split(dataset, [int(len(dataset)*0.8),\n",
    "                                             int(len(dataset)*0.2)],\n",
    "                                   generator=torch.Generator().manual_seed(0))\n",
    "\n",
    "train_loader = DataLoader(train_set, batch_size=128, shuffle=True)\n",
    "test_loader  = DataLoader(test_set,  batch_size=128)\n",
    "\n",
    "DEVICE = torch.device(\"mps\" if torch.backends.mps.is_available() else \"cpu\")\n",
    "\n",
    "# ------------------------- 2.  nets  --------------------------------- #\n",
    "class ConvRegressor(nn.Module):\n",
    "    \"\"\"Powerful 1-D CNN + FC for (x,y) localisation.\"\"\"\n",
    "    def __init__(self):\n",
    "        super().__init__()\n",
    "        self.net = nn.Sequential(      # (n, 9, 128)\n",
    "            nn.Conv1d(9, 64,  kernel_size=5, padding=2), nn.ReLU(),\n",
    "            nn.BatchNorm1d(64),\n",
    "            nn.Conv1d(64, 128, kernel_size=5, padding=2), nn.ReLU(),\n",
    "            nn.BatchNorm1d(128),\n",
    "            nn.Conv1d(128, 256, kernel_size=5, padding=2), nn.ReLU(),\n",
    "            nn.AdaptiveAvgPool1d(1),    # → (n, 256, 1)\n",
    "            nn.Flatten(),               # → (n, 256)\n",
    "            nn.Linear(256, 128), nn.ReLU(),\n",
    "            nn.Dropout(0.3),\n",
    "            nn.Linear(128, 2)           # (x,y)\n",
    "        )\n",
    "    def forward(self, x):               # x: (n, 9, 128)\n",
    "        return self.net(x)\n",
    "\n",
    "class ConvClassifier(nn.Module):\n",
    "    \"\"\"CNN that outputs a 128-D embedding suitable for contrastive learning.\"\"\"\n",
    "    def __init__(self, emb_dim: int = 128):\n",
    "        super().__init__()\n",
    "        self.features = nn.Sequential(\n",
    "            nn.Conv1d(9, 64, 5, padding=2),  nn.ReLU(),\n",
    "            nn.Conv1d(64, 128, 5, padding=2), nn.ReLU(),\n",
    "            nn.MaxPool1d(2),                  # 128 → 64\n",
    "            nn.BatchNorm1d(128),\n",
    "            nn.Conv1d(128, 256, 5, padding=2), nn.ReLU(),\n",
    "            nn.Conv1d(256, 512, 5, padding=2), nn.ReLU(),\n",
    "            nn.AdaptiveAvgPool1d(1),          # (n,512,1)\n",
    "            nn.Flatten(),                     # (n,512)\n",
    "            nn.Linear(512, emb_dim)           # (n,128)\n",
    "        )\n",
    "\n",
    "    def forward(self, x):\n",
    "        z = self.features(x)                  # (n,128)\n",
    "        z = nn.functional.normalize(z, dim=1) # unit-norm → cosine sim = dot prod.\n",
    "        return z\n",
    "\n",
    "\n",
    "reg_net = ConvRegressor().apply(init_weights).to(DEVICE)   # (B)\n",
    "cls_net = ConvClassifier().apply(init_weights).to(DEVICE)  # (B)\n",
    "\n",
    "# --- losses ----------------------------------------------------------\n",
    "criterion_reg = nn.L1Loss()                 # ← was nn.MSELoss()\n",
    "criterion_cls = nn.CosineEmbeddingLoss(margin=0.4)   # ← replaces CrossEntropy\n",
    "\n",
    "opt_reg = optim.AdamW(reg_net.parameters(), lr=3e-4, weight_decay=1e-4)\n",
    "opt_cls = optim.AdamW(cls_net.parameters(), lr=1e-4, weight_decay=1e-4)\n",
    "\n",
    "sched_reg = CosineAnnealingLR(opt_reg, T_max=150, eta_min=1e-5)  # (D)\n",
    "sched_cls = CosineAnnealingLR(opt_cls, T_max=150, eta_min=1e-5)\n",
    "\n",
    "# ------------------------- 3.  train --------------------------------- #\n",
    "EPOCHS, patience = 100000, 30\n",
    "best_mse, best_acc, wait = float(\"inf\"), 0, 0\n",
    "hist_mse, hist_acc = [], []\n",
    "\n",
    "for epoch in range(1, EPOCHS+1):\n",
    "\n",
    "    # ---- train ----\n",
    "    reg_net.train(); cls_net.train()\n",
    "    for xb, y_loc, y_id in train_loader:\n",
    "        xb, y_loc, y_id = xb.to(DEVICE), y_loc.to(DEVICE), y_id.to(DEVICE)\n",
    "\n",
    "        # regression\n",
    "        opt_reg.zero_grad()\n",
    "        loss_r = criterion_reg(reg_net(xb), y_loc)\n",
    "        loss_r.backward()\n",
    "        clip_grad_norm_(reg_net.parameters(), 5)        # (C)\n",
    "        opt_reg.step()\n",
    "\n",
    "        # classification\n",
    "        opt_cls.zero_grad()\n",
    "\n",
    "        emb = cls_net(xb)                # (B,128)\n",
    "\n",
    "        # form a shuffled view of the same batch\n",
    "        perm      = torch.randperm(xb.size(0), device=DEVICE)\n",
    "        emb_shuf  = emb[perm]            # (B,128)\n",
    "        same      = (y_id == y_id[perm]).float()   # 1 = same identity, 0 = diff\n",
    "        same      = same * 2 - 1         # convert to +1 / –1 for CosineEmbedding\n",
    "\n",
    "        loss_c = criterion_cls(emb, emb_shuf, same)\n",
    "        loss_c.backward()\n",
    "        clip_grad_norm_(cls_net.parameters(), 5)\n",
    "        opt_cls.step()\n",
    "\n",
    "    sched_reg.step(); sched_cls.step()                  # (D)\n",
    "\n",
    "    # ---- val ----\n",
    "    reg_net.eval(); cls_net.eval()\n",
    "    with torch.no_grad():\n",
    "\n",
    "        # 1️⃣  -------- linear probe (fit on *train* embeddings) -------\n",
    "        Z_tr, Y_tr = [], []\n",
    "        for xb, _, y_id in train_loader:          # ignore y_loc here\n",
    "            Z_tr.append(cls_net(xb.to(DEVICE)).cpu())\n",
    "            Y_tr.append(y_id.cpu())\n",
    "        Z_tr = torch.cat(Z_tr)                    # (N_tr, d)\n",
    "        Y_tr = torch.cat(Y_tr)                    # (N_tr,)\n",
    "        C     = int(Y_tr.max()) + 1               # number of classes\n",
    "        d     = Z_tr.shape[1]\n",
    "\n",
    "        one_hot = torch.nn.functional.one_hot(Y_tr, C).float()\n",
    "        # least-squares:   W = argmin ||Z W - one_hot||²\n",
    "        W, *_ = torch.linalg.lstsq(Z_tr, one_hot)  # (d, C)\n",
    "\n",
    "        # 2️⃣  -------- evaluate on *test* split -----------------------\n",
    "        mse, correct, n = 0.0, 0, 0\n",
    "        for xb, y_loc, y_id in test_loader:\n",
    "            xb, y_loc = xb.to(DEVICE), y_loc.to(DEVICE)\n",
    "            # regression error\n",
    "            mse += criterion_reg(reg_net(xb), y_loc).item() * xb.size(0)\n",
    "\n",
    "            # classification via linear probe\n",
    "            emb    = cls_net(xb).cpu()            # (B, d)\n",
    "            logits = emb @ W                      # (B, C)\n",
    "            preds  = logits.argmax(1)\n",
    "            correct += (preds == y_id).sum().item()\n",
    "            n += xb.size(0)\n",
    "\n",
    "    mse, acc = mse / n, correct / n\n",
    "    hist_mse.append(mse); hist_acc.append(acc)\n",
    "\n",
    "    # early-stop bookkeeping ------------------------------------------ #\n",
    "    if mse < best_mse: best_mse, wait = mse, 0\n",
    "    else:              wait += 1\n",
    "    if wait >= patience:\n",
    "        print(f\"↳ early stop @ epoch {epoch}\")\n",
    "        break\n",
    "\n",
    "    if epoch % 20 == 0 or epoch == 1:\n",
    "        print(f\"Epoch {epoch:3d} | MSE={mse:.3e} | acc={acc:6.2%}\")\n",
    "\n",
    "\n",
    "\n",
    "\n",
    "# ---------------------------------------------------------------------\n",
    "# 5.  Plots\n",
    "# ---------------------------------------------------------------------\n",
    "plt.figure(figsize=(6,4))\n",
    "plt.plot(hist_mse)\n",
    "plt.xlabel(\"Epoch\"); plt.ylabel(\"Test MSE\")\n",
    "plt.title(\"Location (x,y) regression\")\n",
    "plt.grid(True)\n",
    "plt.tight_layout()\n",
    "\n",
    "plt.figure(figsize=(6,4))\n",
    "plt.plot(hist_acc)\n",
    "plt.xlabel(\"Epoch\"); plt.ylabel(\"Test accuracy\")\n",
    "plt.title(\"Identity classification\")\n",
    "plt.grid(True)\n",
    "plt.tight_layout()\n",
    "plt.show()\n"
   ]
  },
  {
   "cell_type": "code",
   "execution_count": 12,
   "id": "f0cd06ea",
   "metadata": {},
   "outputs": [],
   "source": [
    "def plot_actual_vs_predicted(actual: torch.Tensor, predicted: torch.Tensor):\n",
    "\n",
    "    if actual.shape != predicted.shape or actual.shape[1] != 2:\n",
    "        raise ValueError(\"Both tensors must have shape (n, 2)\")\n",
    "\n",
    "    plt.figure(figsize=(8, 6))\n",
    "\n",
    "    plt.scatter(actual[:, 0], actual[:, 1], color='blue', label='Actual', marker='o', alpha=0.7)\n",
    "    plt.scatter(predicted[:, 0], predicted[:, 1], color='red', label='Predicted', marker='x', alpha=0.7)\n",
    "\n",
    "    for i in range(actual.shape[0]):\n",
    "        plt.plot([actual[i, 0], predicted[i, 0]], [actual[i, 1], predicted[i, 1]], 'gray', linestyle='--', alpha=0.5)\n",
    "\n",
    "    plt.xlabel('X Coordinate')\n",
    "    plt.ylabel('Y Coordinate')\n",
    "    plt.title('Actual vs. Predicted Points')\n",
    "    plt.legend()\n",
    "    plt.grid(True)\n",
    "    plt.show()"
   ]
  },
  {
   "cell_type": "code",
   "execution_count": 13,
   "id": "c62267f3",
   "metadata": {},
   "outputs": [
    {
     "data": {
      "image/png": "[encoded data removed]",
      "text/plain": [
       "<Figure size 800x600 with 1 Axes>"
      ]
     },
     "metadata": {},
     "output_type": "display_data"
    }
   ],
   "source": [
    "reg_net.eval()                              # inference mode – turns off dropout/BN update\n",
    "with torch.no_grad():\n",
    "    X_t = torch.from_numpy(X).float()       # (n, 9, 128) – still on CPU\n",
    "    X_t = zscore(X_t)                       # use SAME preprocessing as training\n",
    "    X_t = X_t.to(DEVICE)                    # <-- move to the model’s device\n",
    "\n",
    "    Y_preds = reg_net(X_t)                  # (n, 2) on DEVICE\n",
    "    Y_preds = Y_preds.cpu()                 # bring back to CPU for plotting\n",
    "\n",
    "def unscale_xy(y_scaled, xy_min, xy_max):\n",
    "    return 0.5*(y_scaled + 1)*(xy_max - xy_min) + xy_min       # back to original range\n",
    "\n",
    "Y_preds_raw = unscale_xy(Y_preds, xy_min, xy_max)\n",
    "Y_true_raw  = unscale_xy(loc, xy_min, xy_max)\n",
    "\n",
    "plot_actual_vs_predicted(Y_true_raw[:100, :], Y_preds_raw[:100, :])\n"
   ]
  },
  {
   "cell_type": "code",
   "execution_count": 14,
   "id": "d25abe00",
   "metadata": {},
   "outputs": [],
   "source": [
    "import torch\n",
    "import numpy as np\n",
    "import pandas as pd\n",
    "from sklearn.manifold import TSNE\n",
    "import plotly.express as px\n",
    "\n",
    "def plot_logits_tsne_interactive(model: torch.nn.Module,\n",
    "                                 X_np: np.ndarray,\n",
    "                                 Y_np: np.ndarray,\n",
    "                                 device: torch.device | None = None,\n",
    "                                 perplexity: int = 40,\n",
    "                                 random_state: int = 0,\n",
    "                                 class_names: dict | list | tuple | None = None,\n",
    "                                 save_path: str | None = None):\n",
    "\n",
    "    \"\"\"\n",
    "    Interactive t-SNE visualisation of ConvClassifier logits using Plotly.\n",
    "\n",
    "    Parameters\n",
    "    ----------\n",
    "    *model*        : trained ConvClassifier\n",
    "    *X_np*         : (n, 9, 128)  raw signals (NumPy)\n",
    "    *Y_np*         : (n, ≥3)      col-2 = class id 0-11\n",
    "    *device*       : torch.device or None → auto\n",
    "    *perplexity*   : t-SNE perplexity\n",
    "    *random_state* : t-SNE seed\n",
    "    *class_names*  : dict {int:name}  **OR** list/tuple of length 12\n",
    "    \"\"\"\n",
    "    # ---------------- device & preprocessing -----------------------------\n",
    "    if device is None:\n",
    "        device = next(model.parameters()).device\n",
    "\n",
    "    X_t = torch.tensor(X_np, dtype=torch.float32)\n",
    "    X_t = zscore(X_t)                     # <-- your helper\n",
    "    X_t = X_t.to(device)\n",
    "\n",
    "    # ---------------- forward pass ---------------------------------------\n",
    "    model.eval()\n",
    "    with torch.no_grad():\n",
    "        logits = model(X_t).cpu().numpy()     # (n, 12)\n",
    "\n",
    "    # ---------------- t-SNE ----------------------------------------------\n",
    "    emb = TSNE(\n",
    "        n_components=2,\n",
    "        perplexity=perplexity,\n",
    "        init=\"pca\",\n",
    "        learning_rate=\"auto\",\n",
    "        random_state=random_state,\n",
    "        n_iter=2000\n",
    "    ).fit_transform(logits)                   # (n, 2)\n",
    "\n",
    "    # ---------------- labels ---------------------------------------------\n",
    "    ids = Y_np[:, 2].astype(int)\n",
    "    if class_names is None:\n",
    "        labels = [f\"class {k}\" for k in ids]\n",
    "    elif isinstance(class_names, (list, tuple)):\n",
    "        labels = [class_names[k] for k in ids]\n",
    "    else:  # dict\n",
    "        labels = [class_names.get(k, f\"class {k}\") for k in ids]\n",
    "\n",
    "    # ---------------- dataframe for Plotly -------------------------------\n",
    "    df = pd.DataFrame({\n",
    "        \"tsne-1\": emb[:, 0],\n",
    "        \"tsne-2\": emb[:, 1],\n",
    "        \"identity\": labels,\n",
    "        \"id_num\": ids\n",
    "    })\n",
    "\n",
    "    # ---------------- interactive scatter --------------------------------\n",
    "    fig = px.scatter(\n",
    "        df,\n",
    "        x=\"tsne-1\",\n",
    "        y=\"tsne-2\",\n",
    "        color=\"identity\",\n",
    "        hover_data={\"id_num\": True},\n",
    "        title=\"t-SNE of ConvClassifier logits\",\n",
    "        width=800,\n",
    "        height=650,\n",
    "    )\n",
    "    fig.update_layout(legend_title_text=\"Identity\")\n",
    "    if save_path:\n",
    "        fig.write_html(save_path, include_plotlyjs=\"cdn\")\n",
    "    fig.show()\n"
   ]
  },
  {
   "cell_type": "code",
   "execution_count": 15,
   "id": "32b7c692",
   "metadata": {},
   "outputs": [
    {
     "data": {
      "application/vnd.plotly.v1+json": {
       "config": {
        "plotlyServerURL": "https://plot.ly"
       },
       "data": [
        {
         "customdata": [
          [
           "train"
          ],
          [
           "train"
          ],
          [
           "train"
          ],
          [
           "train"
          ],
          [
           "train"
          ],
          [
           "train"
          ],
          [
           "train"
          ],
          [
           "train"
          ],
          [
           "train"
          ],
          [
           "train"
          ],
          [
           "train"
          ],
          [
           "train"
          ],
          [
           "train"
          ],
          [
           "train"
          ],
          [
           "train"
          ],
          [
           "train"
          ],
          [
           "train"
          ],
          [
           "train"
          ],
          [
           "train"
          ],
          [
           "train"
          ],
          [
           "train"
          ],
          [
           "train"
          ],
          [
           "train"
          ],
          [
           "train"
          ],
          [
           "train"
          ],
          [
           "train"
          ],
          [
           "train"
          ],
          [
           "train"
          ],
          [
           "train"
          ],
          [
           "train"
          ],
          [
           "train"
          ],
          [
           "train"
          ],
          [
           "train"
          ],
          [
           "train"
          ],
          [
           "train"
          ],
          [
           "train"
          ],
          [
           "train"
          ],
          [
           "train"
          ],
          [
           "train"
          ],
          [
           "train"
          ],
          [
           "train"
          ],
          [
           "train"
          ],
          [
           "train"
          ],
          [
           "train"
          ],
          [
           "train"
          ],
          [
           "train"
          ],
          [
           "train"
          ],
          [
           "train"
          ],
          [
           "train"
          ],
          [
           "train"
          ],
          [
           "train"
          ],
          [
           "train"
          ],
          [
           "train"
          ],
          [
           "train"
          ],
          [
           "train"
          ],
          [
           "train"
          ],
          [
           "train"
          ],
          [
           "train"
          ],
          [
           "train"
          ],
          [
           "train"
          ],
          [
           "train"
          ],
          [
           "train"
          ],
          [
           "train"
          ],
          [
           "train"
          ],
          [
           "train"
          ],
          [
           "train"
          ],
          [
           "train"
          ],
          [
           "train"
          ],
          [
           "train"
          ],
          [
           "train"
          ],
          [
           "train"
          ],
          [
           "train"
          ],
          [
           "train"
          ],
          [
           "train"
          ],
          [
           "train"
          ],
          [
           "train"
          ],
          [
           "train"
          ],
          [
           "train"
          ]
         ],
         "hovertemplate": "identity=large_rectangle_data<br>split=%{customdata[0]}<br>tsne-1=%{x}<br>tsne-2=%{y}<extra></extra>",
         "legendgroup": "large_rectangle_data, train",
         "marker": {
          "color": "#636efa",
          "symbol": "circle"
         },
         "mode": "markers",
         "name": "large_rectangle_data, train",
         "showlegend": true,
         "type": "scattergl",
         "x": [
          4.978531837463379,
          2.31972599029541,
          1.46498441696167,
          3.352004289627075,
          13.103671073913574,
          -3.334652900695801,
          5.356719970703125,
          12.742016792297363,
          3.7757909297943115,
          1.844321370124817,
          -3.2422966957092285,
          1.834823489189148,
          13.875326156616211,
          12.15408992767334,
          2.1297125816345215,
          13.971590995788574,
          -2.9648499488830566,
          12.808355331420898,
          -2.9364876747131348,
          0.45394694805145264,
          1.3028240203857422,
          13.408227920532227,
          12.160104751586914,
          13.147127151489258,
          4.396845817565918,
          11.532337188720703,
          3.2200210094451904,
          12.295998573303223,
          12.521764755249023,
          2.403150796890259,
          14.709210395812988,
          0.8659200668334961,
          4.0442986488342285,
          3.6879186630249023,
          12.891500473022461,
          1.6001025438308716,
          29.003890991210938,
          3.5534281730651855,
          3.349416732788086,
          11.392252922058105,
          -3.09737229347229,
          4.243091106414795,
          6.099586486816406,
          5.900030612945557,
          -2.9694366455078125,
          1.171999454498291,
          5.501717567443848,
          3.3152754306793213,
          0.9610615372657776,
          13.20705509185791,
          1.8330179452896118,
          11.798478126525879,
          2.134629011154175,
          -2.869621992111206,
          12.009163856506348,
          14.093160629272461,
          2.0118918418884277,
          2.1121480464935303,
          1.8966196775436401,
          45.0227165222168,
          -2.756037712097168,
          12.930654525756836,
          3.516303539276123,
          3.148047685623169,
          2.8390724658966064,
          13.719130516052246,
          12.820255279541016,
          -3.040894031524658,
          -3.054591655731201,
          4.424995422363281,
          12.573158264160156,
          14.563924789428711,
          3.4642932415008545,
          13.160505294799805,
          -0.06728462874889374,
          0.9897928237915039,
          0.5470525026321411,
          25.347902297973633
         ],
         "xaxis": "x",
         "y": [
          -16.272253036499023,
          -17.7081356048584,
          -16.711267471313477,
          -17.951196670532227,
          -35.28203582763672,
          -12.811271667480469,
          -12.457487106323242,
          -35.686378479003906,
          -14.898036003112793,
          -16.475719451904297,
          -12.89078426361084,
          -17.404787063598633,
          -35.48017501831055,
          -36.36326217651367,
          -17.388721466064453,
          -34.77839660644531,
          -13.625686645507812,
          -37.621368408203125,
          -13.8765287399292,
          -17.71619415283203,
          -17.220426559448242,
          -35.98958969116211,
          -36.38520050048828,
          -36.28303527832031,
          -16.49073600769043,
          -36.23239517211914,
          -16.123367309570312,
          -37.20497512817383,
          -36.395687103271484,
          -16.197229385375977,
          -35.18913269042969,
          -16.75249481201172,
          -17.764490127563477,
          -17.396589279174805,
          -36.67269515991211,
          -18.364166259765625,
          18.174030303955078,
          -16.65751075744629,
          -16.158031463623047,
          -36.82669448852539,
          -13.359719276428223,
          -14.941587448120117,
          -12.810641288757324,
          -12.865874290466309,
          -12.510601043701172,
          -17.47761344909668,
          -13.561909675598145,
          -15.938261032104492,
          -17.756410598754883,
          -36.422584533691406,
          -18.59087562561035,
          -36.77583694458008,
          -16.53208351135254,
          -13.848777770996094,
          -36.64303970336914,
          -34.79302215576172,
          -16.635896682739258,
          -17.553529739379883,
          -18.022932052612305,
          -0.7431656122207642,
          -13.795853614807129,
          -35.901283264160156,
          -16.681316375732422,
          -15.417343139648438,
          -15.772492408752441,
          -35.81084442138672,
          -37.00382995605469,
          -13.768980026245117,
          -13.72789192199707,
          -15.387371063232422,
          -35.9918212890625,
          -34.93442916870117,
          -15.82179069519043,
          -36.710205078125,
          -17.442785263061523,
          -18.507234573364258,
          -16.146709442138672,
          -23.66908836364746
         ],
         "yaxis": "y"
        },
        {
         "customdata": [
          [
           "test"
          ],
          [
           "test"
          ],
          [
           "test"
          ],
          [
           "test"
          ],
          [
           "test"
          ],
          [
           "test"
          ],
          [
           "test"
          ],
          [
           "test"
          ],
          [
           "test"
          ],
          [
           "test"
          ],
          [
           "test"
          ],
          [
           "test"
          ],
          [
           "test"
          ],
          [
           "test"
          ],
          [
           "test"
          ],
          [
           "test"
          ],
          [
           "test"
          ],
          [
           "test"
          ],
          [
           "test"
          ],
          [
           "test"
          ],
          [
           "test"
          ],
          [
           "test"
          ]
         ],
         "hovertemplate": "identity=large_rectangle_data<br>split=%{customdata[0]}<br>tsne-1=%{x}<br>tsne-2=%{y}<extra></extra>",
         "legendgroup": "large_rectangle_data, test",
         "marker": {
          "color": "#636efa",
          "symbol": "x"
         },
         "mode": "markers",
         "name": "large_rectangle_data, test",
         "showlegend": true,
         "type": "scattergl",
         "x": [
          2.427816390991211,
          2.471388816833496,
          11.632253646850586,
          4.089896202087402,
          1.3362009525299072,
          -3.6562981605529785,
          2.1748499870300293,
          13.88262939453125,
          5.06724214553833,
          2.7373571395874023,
          12.910513877868652,
          -3.078354597091675,
          4.558252811431885,
          11.8814115524292,
          -3.4277231693267822,
          14.262099266052246,
          1.3314992189407349,
          2.7677183151245117,
          3.2129008769989014,
          3.702505350112915,
          4.5443501472473145,
          4.514273643493652
         ],
         "xaxis": "x",
         "y": [
          -17.620115280151367,
          -18.038206100463867,
          -37.052696228027344,
          -18.105249404907227,
          -17.610809326171875,
          -13.151080131530762,
          -18.06000328063965,
          -35.19805145263672,
          -13.00606918334961,
          -18.922517776489258,
          -36.095401763916016,
          -13.51722526550293,
          -16.955520629882812,
          -37.18255615234375,
          -12.266226768493652,
          -34.87386703491211,
          -17.670639038085938,
          -17.08052635192871,
          -17.939937591552734,
          -16.178653717041016,
          -15.770902633666992,
          -17.170297622680664
         ],
         "yaxis": "y"
        },
        {
         "customdata": [
          [
           "train"
          ],
          [
           "train"
          ],
          [
           "train"
          ],
          [
           "train"
          ],
          [
           "train"
          ],
          [
           "train"
          ],
          [
           "train"
          ],
          [
           "train"
          ],
          [
           "train"
          ],
          [
           "train"
          ],
          [
           "train"
          ],
          [
           "train"
          ],
          [
           "train"
          ],
          [
           "train"
          ],
          [
           "train"
          ],
          [
           "train"
          ],
          [
           "train"
          ],
          [
           "train"
          ],
          [
           "train"
          ],
          [
           "train"
          ],
          [
           "train"
          ],
          [
           "train"
          ],
          [
           "train"
          ],
          [
           "train"
          ],
          [
           "train"
          ],
          [
           "train"
          ],
          [
           "train"
          ],
          [
           "train"
          ],
          [
           "train"
          ],
          [
           "train"
          ],
          [
           "train"
          ],
          [
           "train"
          ],
          [
           "train"
          ],
          [
           "train"
          ],
          [
           "train"
          ],
          [
           "train"
          ],
          [
           "train"
          ],
          [
           "train"
          ],
          [
           "train"
          ],
          [
           "train"
          ],
          [
           "train"
          ],
          [
           "train"
          ],
          [
           "train"
          ],
          [
           "train"
          ],
          [
           "train"
          ],
          [
           "train"
          ],
          [
           "train"
          ],
          [
           "train"
          ],
          [
           "train"
          ],
          [
           "train"
          ],
          [
           "train"
          ],
          [
           "train"
          ],
          [
           "train"
          ],
          [
           "train"
          ],
          [
           "train"
          ],
          [
           "train"
          ],
          [
           "train"
          ],
          [
           "train"
          ],
          [
           "train"
          ],
          [
           "train"
          ],
          [
           "train"
          ],
          [
           "train"
          ],
          [
           "train"
          ],
          [
           "train"
          ],
          [
           "train"
          ],
          [
           "train"
          ],
          [
           "train"
          ],
          [
           "train"
          ],
          [
           "train"
          ],
          [
           "train"
          ],
          [
           "train"
          ],
          [
           "train"
          ],
          [
           "train"
          ],
          [
           "train"
          ],
          [
           "train"
          ],
          [
           "train"
          ],
          [
           "train"
          ],
          [
           "train"
          ],
          [
           "train"
          ],
          [
           "train"
          ],
          [
           "train"
          ],
          [
           "train"
          ],
          [
           "train"
          ]
         ],
         "hovertemplate": "identity=large_P_data<br>split=%{customdata[0]}<br>tsne-1=%{x}<br>tsne-2=%{y}<extra></extra>",
         "legendgroup": "large_P_data, train",
         "marker": {
          "color": "#EF553B",
          "symbol": "circle"
         },
         "mode": "markers",
         "name": "large_P_data, train",
         "showlegend": true,
         "type": "scattergl",
         "x": [
          29.225261688232422,
          26.26058006286621,
          32.084930419921875,
          30.596160888671875,
          27.884105682373047,
          28.525318145751953,
          30.30868911743164,
          27.798799514770508,
          30.57335662841797,
          30.457172393798828,
          26.240633010864258,
          31.377485275268555,
          26.18156623840332,
          29.878908157348633,
          30.240699768066406,
          30.191349029541016,
          29.99010467529297,
          29.438982009887695,
          28.073881149291992,
          32.35810852050781,
          29.018278121948242,
          28.467975616455078,
          26.657033920288086,
          28.238914489746094,
          30.27853775024414,
          29.503963470458984,
          28.711557388305664,
          28.55866050720215,
          29.23420524597168,
          28.10942840576172,
          31.107973098754883,
          32.1272087097168,
          27.746023178100586,
          27.90483283996582,
          26.36041259765625,
          28.482295989990234,
          29.260019302368164,
          32.2802619934082,
          29.83139991760254,
          31.817903518676758,
          27.448274612426758,
          28.254806518554688,
          29.56817626953125,
          26.421117782592773,
          32.58536148071289,
          27.936084747314453,
          29.567514419555664,
          30.25732421875,
          33.01118087768555,
          26.927019119262695,
          29.30636215209961,
          25.78858184814453,
          28.511066436767578,
          30.390396118164062,
          30.97386360168457,
          27.679441452026367,
          31.403841018676758,
          30.312570571899414,
          25.372642517089844,
          29.3128604888916,
          27.420246124267578,
          31.44529151916504,
          30.634126663208008,
          31.722558975219727,
          29.933990478515625,
          27.56635284423828,
          29.554506301879883,
          28.01333999633789,
          31.521902084350586,
          31.500158309936523,
          30.392427444458008,
          26.907285690307617,
          27.6854305267334,
          31.448904037475586,
          31.237173080444336,
          27.407543182373047,
          31.40348243713379,
          32.573604583740234,
          26.653053283691406,
          30.61791229248047,
          28.869571685791016,
          31.42278480529785,
          27.987380981445312
         ],
         "xaxis": "x",
         "y": [
          -24.981901168823242,
          -25.83324432373047,
          -25.766691207885742,
          -22.707050323486328,
          -23.100168228149414,
          -22.345182418823242,
          -24.016983032226562,
          -25.5593204498291,
          -27.285486221313477,
          -21.996477127075195,
          -22.289390563964844,
          -24.16303062438965,
          -25.685338973999023,
          -22.028444290161133,
          -24.362638473510742,
          -22.665874481201172,
          -24.274946212768555,
          -25.675004959106445,
          -28.39975929260254,
          -25.71603012084961,
          -26.755413055419922,
          -26.671287536621094,
          -25.144332885742188,
          -24.432601928710938,
          -27.043405532836914,
          -26.862186431884766,
          -25.49681282043457,
          -23.93354606628418,
          -24.31533432006836,
          -28.368894577026367,
          -22.766401290893555,
          -24.921281814575195,
          -23.846017837524414,
          -28.086185455322266,
          -22.160154342651367,
          -27.01727294921875,
          -25.133590698242188,
          -24.40513801574707,
          -26.343156814575195,
          -23.740999221801758,
          -24.856355667114258,
          -21.679533004760742,
          -24.28121566772461,
          -23.82402992248535,
          -25.71664047241211,
          -28.054323196411133,
          -23.68846321105957,
          -26.543378829956055,
          -26.232362747192383,
          -23.63880729675293,
          -22.934175491333008,
          -25.117551803588867,
          -27.408985137939453,
          -22.2250919342041,
          -24.419673919677734,
          -22.825397491455078,
          -25.36393165588379,
          -23.025726318359375,
          -24.342599868774414,
          -24.179380416870117,
          -23.743087768554688,
          -25.210678100585938,
          -24.76838493347168,
          -25.898935317993164,
          -24.908727645874023,
          -24.203203201293945,
          -22.663387298583984,
          -22.65702247619629,
          -24.09736442565918,
          -24.827247619628906,
          -25.818950653076172,
          -23.32126808166504,
          -25.554962158203125,
          -23.876296997070312,
          -23.049421310424805,
          -23.549156188964844,
          -26.409622192382812,
          -25.44367790222168,
          -27.518558502197266,
          -25.278459548950195,
          -27.814369201660156,
          -24.92258071899414,
          -28.42110252380371
         ],
         "yaxis": "y"
        },
        {
         "customdata": [
          [
           "test"
          ],
          [
           "test"
          ],
          [
           "test"
          ],
          [
           "test"
          ],
          [
           "test"
          ],
          [
           "test"
          ],
          [
           "test"
          ],
          [
           "test"
          ],
          [
           "test"
          ],
          [
           "test"
          ],
          [
           "test"
          ],
          [
           "test"
          ],
          [
           "test"
          ],
          [
           "test"
          ],
          [
           "test"
          ],
          [
           "test"
          ],
          [
           "test"
          ]
         ],
         "hovertemplate": "identity=large_P_data<br>split=%{customdata[0]}<br>tsne-1=%{x}<br>tsne-2=%{y}<extra></extra>",
         "legendgroup": "large_P_data, test",
         "marker": {
          "color": "#EF553B",
          "symbol": "x"
         },
         "mode": "markers",
         "name": "large_P_data, test",
         "showlegend": true,
         "type": "scattergl",
         "x": [
          25.889659881591797,
          25.918087005615234,
          28.391239166259766,
          27.90701675415039,
          27.93560791015625,
          30.759117126464844,
          26.662343978881836,
          31.67813491821289,
          32.34262466430664,
          31.158918380737305,
          28.950185775756836,
          27.6230411529541,
          26.42741584777832,
          29.215721130371094,
          32.2040901184082,
          30.16207504272461,
          29.241792678833008
         ],
         "xaxis": "x",
         "y": [
          -24.228845596313477,
          -24.90642738342285,
          -25.285154342651367,
          -24.134971618652344,
          -23.373159408569336,
          -27.11577606201172,
          -26.24654197692871,
          -26.610382080078125,
          -25.463729858398438,
          -23.1915225982666,
          -25.898914337158203,
          -22.919143676757812,
          -23.614904403686523,
          -26.72269630432129,
          -26.08993148803711,
          -25.669086456298828,
          -21.905797958374023
         ],
         "yaxis": "y"
        },
        {
         "customdata": [
          [
           "train"
          ],
          [
           "train"
          ],
          [
           "train"
          ],
          [
           "train"
          ],
          [
           "train"
          ],
          [
           "train"
          ],
          [
           "train"
          ],
          [
           "train"
          ],
          [
           "train"
          ],
          [
           "train"
          ],
          [
           "train"
          ],
          [
           "train"
          ],
          [
           "train"
          ],
          [
           "train"
          ],
          [
           "train"
          ],
          [
           "train"
          ],
          [
           "train"
          ],
          [
           "train"
          ],
          [
           "train"
          ],
          [
           "train"
          ],
          [
           "train"
          ],
          [
           "train"
          ],
          [
           "train"
          ],
          [
           "train"
          ],
          [
           "train"
          ],
          [
           "train"
          ],
          [
           "train"
          ],
          [
           "train"
          ],
          [
           "train"
          ],
          [
           "train"
          ],
          [
           "train"
          ],
          [
           "train"
          ],
          [
           "train"
          ],
          [
           "train"
          ],
          [
           "train"
          ],
          [
           "train"
          ],
          [
           "train"
          ],
          [
           "train"
          ],
          [
           "train"
          ],
          [
           "train"
          ],
          [
           "train"
          ],
          [
           "train"
          ],
          [
           "train"
          ],
          [
           "train"
          ],
          [
           "train"
          ],
          [
           "train"
          ],
          [
           "train"
          ],
          [
           "train"
          ],
          [
           "train"
          ],
          [
           "train"
          ],
          [
           "train"
          ],
          [
           "train"
          ],
          [
           "train"
          ],
          [
           "train"
          ],
          [
           "train"
          ],
          [
           "train"
          ],
          [
           "train"
          ],
          [
           "train"
          ],
          [
           "train"
          ],
          [
           "train"
          ],
          [
           "train"
          ],
          [
           "train"
          ],
          [
           "train"
          ],
          [
           "train"
          ],
          [
           "train"
          ],
          [
           "train"
          ],
          [
           "train"
          ],
          [
           "train"
          ],
          [
           "train"
          ],
          [
           "train"
          ],
          [
           "train"
          ],
          [
           "train"
          ],
          [
           "train"
          ],
          [
           "train"
          ],
          [
           "train"
          ],
          [
           "train"
          ],
          [
           "train"
          ],
          [
           "train"
          ],
          [
           "train"
          ],
          [
           "train"
          ],
          [
           "train"
          ]
         ],
         "hovertemplate": "identity=star_4inch_data<br>split=%{customdata[0]}<br>tsne-1=%{x}<br>tsne-2=%{y}<extra></extra>",
         "legendgroup": "star_4inch_data, train",
         "marker": {
          "color": "#00cc96",
          "symbol": "circle"
         },
         "mode": "markers",
         "name": "star_4inch_data, train",
         "showlegend": true,
         "type": "scattergl",
         "x": [
          -28.332048416137695,
          -32.96836853027344,
          -37.91975021362305,
          -36.65237808227539,
          -31.46728515625,
          -28.69207763671875,
          -28.335460662841797,
          -32.20119857788086,
          -33.911685943603516,
          -31.31682777404785,
          -25.34279441833496,
          -30.722850799560547,
          -31.376482009887695,
          -30.840309143066406,
          -24.694236755371094,
          -38.062042236328125,
          -24.292926788330078,
          -35.484432220458984,
          -29.548873901367188,
          -34.318641662597656,
          -28.62060546875,
          -33.46320343017578,
          -26.49285888671875,
          -24.97266960144043,
          -30.7857666015625,
          -23.733489990234375,
          -28.55548667907715,
          -31.36751937866211,
          -31.866918563842773,
          -35.443458557128906,
          -31.81046485900879,
          -28.57927894592285,
          -33.717506408691406,
          -28.644392013549805,
          -24.14742660522461,
          -34.88711166381836,
          -33.333065032958984,
          -33.170692443847656,
          -31.139530181884766,
          -22.30498695373535,
          -33.35142517089844,
          -32.4050407409668,
          -30.556663513183594,
          -29.56676483154297,
          -30.241474151611328,
          -28.216554641723633,
          -27.261598587036133,
          -27.592235565185547,
          -30.988162994384766,
          -35.241756439208984,
          -34.96994400024414,
          -37.99799346923828,
          -32.555912017822266,
          -31.269838333129883,
          -29.623455047607422,
          -35.29763412475586,
          -24.659090042114258,
          -32.704750061035156,
          -33.74135208129883,
          -29.866395950317383,
          -37.80870819091797,
          -32.154598236083984,
          -34.045555114746094,
          -30.565078735351562,
          -30.1004638671875,
          -27.968883514404297,
          -39.437400817871094,
          -28.37871551513672,
          -38.011192321777344,
          -33.24522018432617,
          -37.96455764770508,
          -33.74436950683594,
          -30.165477752685547,
          -38.35154724121094,
          -26.602134704589844,
          -34.47416687011719,
          -30.54708480834961,
          -37.09159469604492,
          -34.573143005371094,
          -37.934757232666016,
          -37.818878173828125
         ],
         "xaxis": "x",
         "y": [
          -5.327054500579834,
          -2.4204978942871094,
          -7.936614513397217,
          -5.010578632354736,
          -13.045110702514648,
          -7.945816516876221,
          -1.7429014444351196,
          -2.7993550300598145,
          -1.8329027891159058,
          -19.124237060546875,
          -14.811407089233398,
          -18.557113647460938,
          -3.95853853225708,
          -9.545896530151367,
          -14.318319320678711,
          -4.955179214477539,
          -15.573241233825684,
          -3.6355140209198,
          -5.36414098739624,
          -2.2545876502990723,
          -1.624740481376648,
          -4.096094608306885,
          -6.073965072631836,
          -13.516331672668457,
          -18.567813873291016,
          -9.22439956665039,
          -3.567178726196289,
          -3.001520872116089,
          -1.119117259979248,
          -2.1573517322540283,
          -0.8215827941894531,
          -2.9305713176727295,
          -5.423709392547607,
          -2.0550451278686523,
          -12.927939414978027,
          -4.24230432510376,
          -9.319990158081055,
          -14.97971248626709,
          -18.975900650024414,
          -14.443756103515625,
          -1.3900415897369385,
          -19.526775360107422,
          -7.460937023162842,
          -17.678300857543945,
          -18.380779266357422,
          -2.103750228881836,
          -5.154132843017578,
          -4.656373500823975,
          -3.026886463165283,
          -3.513312339782715,
          -4.0631208419799805,
          -4.853246212005615,
          -2.66530442237854,
          -19.04500961303711,
          -2.993792772293091,
          -13.788578033447266,
          -8.730034828186035,
          -6.1093902587890625,
          -9.315213203430176,
          -6.781242370605469,
          -3.546146869659424,
          -2.5983152389526367,
          -5.988803863525391,
          -0.2965547740459442,
          -4.520174980163574,
          -3.2570717334747314,
          -8.505475044250488,
          1.1314061880111694,
          -5.211206912994385,
          -4.788939952850342,
          -16.890274047851562,
          -2.059783697128296,
          -9.886825561523438,
          -8.063010215759277,
          -8.664143562316895,
          -3.490596294403076,
          -1.1987488269805908,
          -16.855934143066406,
          -4.166031360626221,
          -6.24833345413208,
          -6.651902198791504
         ],
         "yaxis": "y"
        },
        {
         "customdata": [
          [
           "test"
          ],
          [
           "test"
          ],
          [
           "test"
          ],
          [
           "test"
          ],
          [
           "test"
          ],
          [
           "test"
          ],
          [
           "test"
          ],
          [
           "test"
          ],
          [
           "test"
          ],
          [
           "test"
          ],
          [
           "test"
          ],
          [
           "test"
          ],
          [
           "test"
          ],
          [
           "test"
          ],
          [
           "test"
          ],
          [
           "test"
          ],
          [
           "test"
          ],
          [
           "test"
          ],
          [
           "test"
          ]
         ],
         "hovertemplate": "identity=star_4inch_data<br>split=%{customdata[0]}<br>tsne-1=%{x}<br>tsne-2=%{y}<extra></extra>",
         "legendgroup": "star_4inch_data, test",
         "marker": {
          "color": "#00cc96",
          "symbol": "x"
         },
         "mode": "markers",
         "name": "star_4inch_data, test",
         "showlegend": true,
         "type": "scattergl",
         "x": [
          -34.3841438293457,
          -33.87339401245117,
          -30.259132385253906,
          -30.481462478637695,
          -32.532928466796875,
          -32.412391662597656,
          -33.388038635253906,
          -26.56570816040039,
          -34.97685623168945,
          -34.43372344970703,
          -30.615262985229492,
          -27.035926818847656,
          -29.050128936767578,
          -34.209835052490234,
          -27.2928409576416,
          -30.42875099182129,
          -34.575016021728516,
          -34.34854507446289,
          -34.5749626159668
         ],
         "xaxis": "x",
         "y": [
          -2.8527169227600098,
          -4.690290451049805,
          -1.9110159873962402,
          -9.696227073669434,
          -16.482608795166016,
          -17.76578712463379,
          -6.467635154724121,
          -2.21642804145813,
          -1.7615574598312378,
          -6.061906337738037,
          -2.145228385925293,
          -5.31920862197876,
          -0.9442238807678223,
          -3.3725478649139404,
          -4.387128829956055,
          -5.161022186279297,
          -6.2311482429504395,
          -2.6017420291900635,
          -2.474907398223877
         ],
         "yaxis": "y"
        },
        {
         "customdata": [
          [
           "train"
          ],
          [
           "train"
          ],
          [
           "train"
          ],
          [
           "train"
          ],
          [
           "train"
          ],
          [
           "train"
          ],
          [
           "train"
          ],
          [
           "train"
          ],
          [
           "train"
          ],
          [
           "train"
          ],
          [
           "train"
          ],
          [
           "train"
          ],
          [
           "train"
          ],
          [
           "train"
          ],
          [
           "train"
          ],
          [
           "train"
          ],
          [
           "train"
          ],
          [
           "train"
          ],
          [
           "train"
          ],
          [
           "train"
          ],
          [
           "train"
          ],
          [
           "train"
          ],
          [
           "train"
          ],
          [
           "train"
          ],
          [
           "train"
          ],
          [
           "train"
          ],
          [
           "train"
          ],
          [
           "train"
          ],
          [
           "train"
          ],
          [
           "train"
          ],
          [
           "train"
          ],
          [
           "train"
          ],
          [
           "train"
          ],
          [
           "train"
          ],
          [
           "train"
          ],
          [
           "train"
          ],
          [
           "train"
          ],
          [
           "train"
          ],
          [
           "train"
          ],
          [
           "train"
          ],
          [
           "train"
          ],
          [
           "train"
          ],
          [
           "train"
          ],
          [
           "train"
          ],
          [
           "train"
          ],
          [
           "train"
          ],
          [
           "train"
          ],
          [
           "train"
          ],
          [
           "train"
          ],
          [
           "train"
          ],
          [
           "train"
          ],
          [
           "train"
          ],
          [
           "train"
          ],
          [
           "train"
          ],
          [
           "train"
          ],
          [
           "train"
          ],
          [
           "train"
          ],
          [
           "train"
          ],
          [
           "train"
          ],
          [
           "train"
          ],
          [
           "train"
          ],
          [
           "train"
          ],
          [
           "train"
          ],
          [
           "train"
          ],
          [
           "train"
          ],
          [
           "train"
          ],
          [
           "train"
          ],
          [
           "train"
          ],
          [
           "train"
          ],
          [
           "train"
          ],
          [
           "train"
          ],
          [
           "train"
          ],
          [
           "train"
          ],
          [
           "train"
          ],
          [
           "train"
          ],
          [
           "train"
          ],
          [
           "train"
          ],
          [
           "train"
          ],
          [
           "train"
          ],
          [
           "train"
          ],
          [
           "train"
          ],
          [
           "train"
          ]
         ],
         "hovertemplate": "identity=L_8inch_data<br>split=%{customdata[0]}<br>tsne-1=%{x}<br>tsne-2=%{y}<extra></extra>",
         "legendgroup": "L_8inch_data, train",
         "marker": {
          "color": "#ab63fa",
          "symbol": "circle"
         },
         "mode": "markers",
         "name": "L_8inch_data, train",
         "showlegend": true,
         "type": "scattergl",
         "x": [
          -17.800413131713867,
          25.677331924438477,
          -18.07680320739746,
          -5.033560276031494,
          28.113847732543945,
          25.09397315979004,
          27.70993423461914,
          -16.90695571899414,
          24.951597213745117,
          27.319929122924805,
          25.680307388305664,
          25.892980575561523,
          -16.842247009277344,
          27.388492584228516,
          26.315736770629883,
          23.520048141479492,
          26.198835372924805,
          -15.963959693908691,
          24.639080047607422,
          23.373615264892578,
          -18.05075454711914,
          28.608028411865234,
          23.265193939208984,
          21.40743637084961,
          23.880762100219727,
          27.330814361572266,
          -18.34950828552246,
          -2.125580310821533,
          28.515958786010742,
          27.09151268005371,
          21.631994247436523,
          25.556039810180664,
          25.36496353149414,
          -19.88648796081543,
          25.96462631225586,
          25.468473434448242,
          -17.477018356323242,
          24.991239547729492,
          23.916982650756836,
          22.610305786132812,
          -18.19841766357422,
          -17.98573875427246,
          24.7764835357666,
          -16.82766342163086,
          -18.312179565429688,
          26.650894165039062,
          25.498695373535156,
          -18.8735294342041,
          25.077178955078125,
          -18.305082321166992,
          -17.853525161743164,
          27.78312873840332,
          25.66057777404785,
          27.229028701782227,
          23.648418426513672,
          25.93702507019043,
          26.941600799560547,
          -16.550146102905273,
          -15.885627746582031,
          -18.061004638671875,
          26.548429489135742,
          25.652772903442383,
          26.419527053833008,
          22.988954544067383,
          24.82529640197754,
          -18.802183151245117,
          25.20454216003418,
          27.37602996826172,
          -18.017059326171875,
          25.28341293334961,
          -17.230085372924805,
          28.3823299407959,
          -17.524662017822266,
          25.67475700378418,
          22.007030487060547,
          -18.098848342895508,
          -0.7116882801055908,
          24.417333602905273,
          25.24870491027832,
          24.384021759033203,
          -17.2086124420166,
          25.429306030273438
         ],
         "xaxis": "x",
         "y": [
          23.170879364013672,
          21.31194496154785,
          20.571502685546875,
          38.746341705322266,
          18.27739143371582,
          21.081192016601562,
          20.24681854248047,
          20.51658821105957,
          21.144073486328125,
          22.185739517211914,
          26.2459716796875,
          19.818439483642578,
          21.044414520263672,
          19.042091369628906,
          19.118040084838867,
          25.942167282104492,
          20.710634231567383,
          21.743640899658203,
          17.598785400390625,
          20.534406661987305,
          20.33608627319336,
          19.750925064086914,
          22.397382736206055,
          23.005342483520508,
          22.419973373413086,
          19.642723083496094,
          22.216022491455078,
          34.52751159667969,
          20.426788330078125,
          19.733304977416992,
          23.8162841796875,
          20.286516189575195,
          24.536563873291016,
          22.72430419921875,
          22.448795318603516,
          27.287166595458984,
          20.96306800842285,
          17.192594528198242,
          26.772645950317383,
          27.022377014160156,
          20.513334274291992,
          22.572330474853516,
          20.662948608398438,
          21.859024047851562,
          21.993738174438477,
          18.90558624267578,
          24.23223304748535,
          21.65379524230957,
          19.16663360595703,
          19.682117462158203,
          20.42334747314453,
          23.469926834106445,
          18.18967056274414,
          19.38316535949707,
          17.674457550048828,
          25.811616897583008,
          19.665679931640625,
          21.90351676940918,
          20.98925018310547,
          21.532442092895508,
          24.067684173583984,
          26.317853927612305,
          24.73638916015625,
          24.504619598388672,
          21.529203414916992,
          21.041311264038086,
          19.293176651000977,
          22.74268913269043,
          21.229595184326172,
          19.20020294189453,
          21.708126068115234,
          20.62751007080078,
          21.896692276000977,
          19.95155906677246,
          19.550811767578125,
          20.025575637817383,
          26.185714721679688,
          19.859996795654297,
          22.524248123168945,
          17.671937942504883,
          20.881893157958984,
          19.56626319885254
         ],
         "yaxis": "y"
        },
        {
         "customdata": [
          [
           "test"
          ],
          [
           "test"
          ],
          [
           "test"
          ],
          [
           "test"
          ],
          [
           "test"
          ],
          [
           "test"
          ],
          [
           "test"
          ],
          [
           "test"
          ],
          [
           "test"
          ],
          [
           "test"
          ],
          [
           "test"
          ],
          [
           "test"
          ],
          [
           "test"
          ],
          [
           "test"
          ],
          [
           "test"
          ],
          [
           "test"
          ],
          [
           "test"
          ],
          [
           "test"
          ]
         ],
         "hovertemplate": "identity=L_8inch_data<br>split=%{customdata[0]}<br>tsne-1=%{x}<br>tsne-2=%{y}<extra></extra>",
         "legendgroup": "L_8inch_data, test",
         "marker": {
          "color": "#ab63fa",
          "symbol": "x"
         },
         "mode": "markers",
         "name": "L_8inch_data, test",
         "showlegend": true,
         "type": "scattergl",
         "x": [
          24.890731811523438,
          -17.325714111328125,
          -17.601720809936523,
          -18.01407814025879,
          23.61077117919922,
          26.10758399963379,
          24.162364959716797,
          20.890426635742188,
          28.6894588470459,
          22.157665252685547,
          25.65110969543457,
          20.628894805908203,
          -16.492530822753906,
          23.750329971313477,
          27.196269989013672,
          24.695873260498047,
          23.788782119750977,
          -20.526046752929688
         ],
         "xaxis": "x",
         "y": [
          19.850189208984375,
          20.710233688354492,
          21.35847282409668,
          20.500926971435547,
          21.074373245239258,
          21.66166877746582,
          17.610301971435547,
          23.376367568969727,
          18.908639907836914,
          27.039155960083008,
          23.311296463012695,
          26.710838317871094,
          21.637187957763672,
          23.238842010498047,
          20.580190658569336,
          18.61021614074707,
          20.615026473999023,
          23.030973434448242
         ],
         "yaxis": "y"
        },
        {
         "customdata": [
          [
           "train"
          ],
          [
           "train"
          ],
          [
           "train"
          ],
          [
           "train"
          ],
          [
           "train"
          ],
          [
           "train"
          ],
          [
           "train"
          ],
          [
           "train"
          ],
          [
           "train"
          ],
          [
           "train"
          ],
          [
           "train"
          ],
          [
           "train"
          ],
          [
           "train"
          ],
          [
           "train"
          ],
          [
           "train"
          ],
          [
           "train"
          ],
          [
           "train"
          ],
          [
           "train"
          ],
          [
           "train"
          ],
          [
           "train"
          ],
          [
           "train"
          ],
          [
           "train"
          ],
          [
           "train"
          ],
          [
           "train"
          ],
          [
           "train"
          ],
          [
           "train"
          ],
          [
           "train"
          ],
          [
           "train"
          ],
          [
           "train"
          ],
          [
           "train"
          ],
          [
           "train"
          ],
          [
           "train"
          ],
          [
           "train"
          ],
          [
           "train"
          ],
          [
           "train"
          ],
          [
           "train"
          ],
          [
           "train"
          ],
          [
           "train"
          ],
          [
           "train"
          ],
          [
           "train"
          ],
          [
           "train"
          ],
          [
           "train"
          ],
          [
           "train"
          ],
          [
           "train"
          ],
          [
           "train"
          ],
          [
           "train"
          ],
          [
           "train"
          ],
          [
           "train"
          ],
          [
           "train"
          ],
          [
           "train"
          ],
          [
           "train"
          ],
          [
           "train"
          ],
          [
           "train"
          ],
          [
           "train"
          ],
          [
           "train"
          ],
          [
           "train"
          ],
          [
           "train"
          ],
          [
           "train"
          ],
          [
           "train"
          ],
          [
           "train"
          ],
          [
           "train"
          ],
          [
           "train"
          ],
          [
           "train"
          ],
          [
           "train"
          ],
          [
           "train"
          ],
          [
           "train"
          ],
          [
           "train"
          ],
          [
           "train"
          ],
          [
           "train"
          ],
          [
           "train"
          ],
          [
           "train"
          ],
          [
           "train"
          ],
          [
           "train"
          ],
          [
           "train"
          ]
         ],
         "hovertemplate": "identity=star_8inch_data<br>split=%{customdata[0]}<br>tsne-1=%{x}<br>tsne-2=%{y}<extra></extra>",
         "legendgroup": "star_8inch_data, train",
         "marker": {
          "color": "#FFA15A",
          "symbol": "circle"
         },
         "mode": "markers",
         "name": "star_8inch_data, train",
         "showlegend": true,
         "type": "scattergl",
         "x": [
          -25.918367385864258,
          -25.961061477661133,
          -34.72459030151367,
          -34.174110412597656,
          -36.97348403930664,
          -26.01972007751465,
          -37.72163391113281,
          -36.55823516845703,
          -34.369632720947266,
          -34.68586730957031,
          -25.861122131347656,
          -25.592350006103516,
          -36.13018798828125,
          -33.45687484741211,
          -33.61294174194336,
          -29.925048828125,
          -34.401458740234375,
          -36.29526901245117,
          -34.796566009521484,
          -37.487091064453125,
          -28.972023010253906,
          -35.663719177246094,
          -26.593608856201172,
          -25.981748580932617,
          -35.215965270996094,
          -33.74605178833008,
          -30.685068130493164,
          -35.90821838378906,
          -34.665061950683594,
          -34.16482925415039,
          -26.2349910736084,
          -29.78905487060547,
          -35.058143615722656,
          -30.0533390045166,
          -35.615379333496094,
          -28.090068817138672,
          -29.85596466064453,
          -27.627378463745117,
          -29.65066146850586,
          -35.48932647705078,
          -34.1619758605957,
          -35.09945297241211,
          -33.896453857421875,
          -36.98014450073242,
          -36.18623352050781,
          -30.661102294921875,
          -35.02518081665039,
          -32.03523254394531,
          -35.20686721801758,
          -28.707969665527344,
          -35.481929779052734,
          -27.708192825317383,
          -37.51018142700195,
          -32.960636138916016,
          -33.06076431274414,
          -28.133647918701172,
          -34.20848846435547,
          -29.425588607788086,
          -29.73052215576172,
          -32.89857482910156,
          -27.98583221435547,
          -34.19026184082031,
          -30.341642379760742,
          -34.17362594604492,
          -28.725055694580078,
          -36.6306037902832,
          -32.870094299316406,
          -30.362661361694336,
          -37.3769416809082,
          -35.084938049316406,
          -36.8265266418457,
          -37.35011291503906,
          -29.72078514099121,
          -36.753047943115234
         ],
         "xaxis": "x",
         "y": [
          -7.175113677978516,
          -4.235433578491211,
          -18.15127182006836,
          -16.936649322509766,
          -2.1939871311187744,
          -13.312446594238281,
          -14.36373519897461,
          -14.925667762756348,
          -16.35213851928711,
          -18.343294143676758,
          -10.887773513793945,
          -11.94613265991211,
          -2.412106990814209,
          -15.6038818359375,
          -15.970224380493164,
          -9.9956636428833,
          -14.429375648498535,
          -16.5727481842041,
          -9.51410961151123,
          -14.096193313598633,
          -9.215190887451172,
          -18.36294174194336,
          -7.531102657318115,
          -12.60891056060791,
          -15.786446571350098,
          -16.20046043395996,
          -9.34332275390625,
          -17.97344970703125,
          -18.08930206298828,
          -16.465831756591797,
          -10.941536903381348,
          -2.823119640350342,
          -17.421398162841797,
          -11.198962211608887,
          -17.930587768554688,
          -14.640237808227539,
          -6.643976211547852,
          -14.242161750793457,
          -15.489544868469238,
          -13.86655330657959,
          -19.76564598083496,
          -9.47964859008789,
          -19.641889572143555,
          -17.166223526000977,
          -16.700408935546875,
          -3.99444317817688,
          -17.68219566345215,
          -18.900802612304688,
          -17.208385467529297,
          -11.011858940124512,
          -19.31194496154785,
          -7.7134928703308105,
          -16.945362091064453,
          -19.345191955566406,
          -17.796995162963867,
          -6.397510528564453,
          -16.0515079498291,
          -9.802399635314941,
          -15.374666213989258,
          -16.99652099609375,
          -7.403022289276123,
          -18.064624786376953,
          -15.330967903137207,
          -20.089513778686523,
          -15.375594139099121,
          -16.810688018798828,
          -13.913166999816895,
          -12.357122421264648,
          -13.967138290405273,
          -17.20036506652832,
          -16.1726016998291,
          -14.325812339782715,
          -10.513710975646973,
          -2.296978712081909
         ],
         "yaxis": "y"
        },
        {
         "customdata": [
          [
           "test"
          ],
          [
           "test"
          ],
          [
           "test"
          ],
          [
           "test"
          ],
          [
           "test"
          ],
          [
           "test"
          ],
          [
           "test"
          ],
          [
           "test"
          ],
          [
           "test"
          ],
          [
           "test"
          ],
          [
           "test"
          ],
          [
           "test"
          ],
          [
           "test"
          ],
          [
           "test"
          ],
          [
           "test"
          ],
          [
           "test"
          ],
          [
           "test"
          ],
          [
           "test"
          ],
          [
           "test"
          ],
          [
           "test"
          ],
          [
           "test"
          ],
          [
           "test"
          ],
          [
           "test"
          ],
          [
           "test"
          ],
          [
           "test"
          ],
          [
           "test"
          ]
         ],
         "hovertemplate": "identity=star_8inch_data<br>split=%{customdata[0]}<br>tsne-1=%{x}<br>tsne-2=%{y}<extra></extra>",
         "legendgroup": "star_8inch_data, test",
         "marker": {
          "color": "#FFA15A",
          "symbol": "x"
         },
         "mode": "markers",
         "name": "star_8inch_data, test",
         "showlegend": true,
         "type": "scattergl",
         "x": [
          -34.19599151611328,
          -34.677852630615234,
          -34.313331604003906,
          -34.30814743041992,
          -35.23324966430664,
          -38.04707717895508,
          -34.53392791748047,
          -34.688323974609375,
          -34.213958740234375,
          -35.10247039794922,
          -33.998870849609375,
          -33.77312469482422,
          -35.278892517089844,
          -26.007522583007812,
          -26.754018783569336,
          -25.27764892578125,
          -35.558624267578125,
          -23.118051528930664,
          -38.112728118896484,
          -33.804203033447266,
          -35.64518356323242,
          -35.61220169067383,
          -35.91257858276367,
          -38.105796813964844,
          -26.758392333984375,
          -27.875425338745117
         ],
         "xaxis": "x",
         "y": [
          -16.979169845581055,
          -16.581302642822266,
          -17.236421585083008,
          -1.7222057580947876,
          -4.653822898864746,
          -14.043631553649902,
          -15.23527717590332,
          -17.717784881591797,
          -19.671871185302734,
          -15.969512939453125,
          -20.518009185791016,
          -17.7662296295166,
          -16.865142822265625,
          -13.817665100097656,
          -10.304155349731445,
          -9.258753776550293,
          -16.43017578125,
          -5.368099212646484,
          -17.275793075561523,
          -20.240127563476562,
          -17.341585159301758,
          -17.25455093383789,
          -1.8961923122406006,
          -13.928886413574219,
          -3.89479660987854,
          -10.994726181030273
         ],
         "yaxis": "y"
        },
        {
         "customdata": [
          [
           "train"
          ],
          [
           "train"
          ],
          [
           "train"
          ],
          [
           "train"
          ],
          [
           "train"
          ],
          [
           "train"
          ],
          [
           "train"
          ],
          [
           "train"
          ],
          [
           "train"
          ],
          [
           "train"
          ],
          [
           "train"
          ],
          [
           "train"
          ],
          [
           "train"
          ],
          [
           "train"
          ],
          [
           "train"
          ],
          [
           "train"
          ],
          [
           "train"
          ],
          [
           "train"
          ],
          [
           "train"
          ],
          [
           "train"
          ],
          [
           "train"
          ],
          [
           "train"
          ],
          [
           "train"
          ],
          [
           "train"
          ],
          [
           "train"
          ],
          [
           "train"
          ],
          [
           "train"
          ],
          [
           "train"
          ],
          [
           "train"
          ],
          [
           "train"
          ],
          [
           "train"
          ],
          [
           "train"
          ],
          [
           "train"
          ],
          [
           "train"
          ],
          [
           "train"
          ],
          [
           "train"
          ],
          [
           "train"
          ],
          [
           "train"
          ],
          [
           "train"
          ],
          [
           "train"
          ],
          [
           "train"
          ],
          [
           "train"
          ],
          [
           "train"
          ],
          [
           "train"
          ],
          [
           "train"
          ],
          [
           "train"
          ],
          [
           "train"
          ],
          [
           "train"
          ],
          [
           "train"
          ],
          [
           "train"
          ],
          [
           "train"
          ],
          [
           "train"
          ],
          [
           "train"
          ],
          [
           "train"
          ],
          [
           "train"
          ],
          [
           "train"
          ],
          [
           "train"
          ],
          [
           "train"
          ],
          [
           "train"
          ],
          [
           "train"
          ],
          [
           "train"
          ],
          [
           "train"
          ],
          [
           "train"
          ],
          [
           "train"
          ],
          [
           "train"
          ],
          [
           "train"
          ],
          [
           "train"
          ],
          [
           "train"
          ],
          [
           "train"
          ],
          [
           "train"
          ],
          [
           "train"
          ],
          [
           "train"
          ],
          [
           "train"
          ],
          [
           "train"
          ],
          [
           "train"
          ],
          [
           "train"
          ],
          [
           "train"
          ],
          [
           "train"
          ],
          [
           "train"
          ],
          [
           "train"
          ],
          [
           "train"
          ],
          [
           "train"
          ],
          [
           "train"
          ],
          [
           "train"
          ],
          [
           "train"
          ]
         ],
         "hovertemplate": "identity=N_8inch_data<br>split=%{customdata[0]}<br>tsne-1=%{x}<br>tsne-2=%{y}<extra></extra>",
         "legendgroup": "N_8inch_data, train",
         "marker": {
          "color": "#19d3f3",
          "symbol": "circle"
         },
         "mode": "markers",
         "name": "N_8inch_data, train",
         "showlegend": true,
         "type": "scattergl",
         "x": [
          45.438011169433594,
          46.99521255493164,
          43.54006576538086,
          42.745635986328125,
          45.40369415283203,
          41.76526641845703,
          43.55665969848633,
          48.10624313354492,
          45.91495132446289,
          46.55390930175781,
          41.35674285888672,
          46.94483184814453,
          45.185768127441406,
          45.929412841796875,
          45.686973571777344,
          47.133750915527344,
          46.02943420410156,
          44.943119049072266,
          47.86069107055664,
          23.64588737487793,
          44.466270446777344,
          44.92938995361328,
          40.098506927490234,
          41.691734313964844,
          44.8716926574707,
          44.6978645324707,
          43.31016159057617,
          43.492706298828125,
          46.202476501464844,
          46.96990203857422,
          46.77015686035156,
          44.55473709106445,
          46.04928970336914,
          44.70219039916992,
          47.714725494384766,
          45.35458755493164,
          42.834468841552734,
          47.869178771972656,
          44.65050506591797,
          45.8260612487793,
          22.993803024291992,
          43.949588775634766,
          43.01981735229492,
          44.885108947753906,
          42.16795349121094,
          47.19894027709961,
          47.633750915527344,
          45.34553146362305,
          45.40457534790039,
          38.82079315185547,
          44.27375411987305,
          47.169456481933594,
          46.46078109741211,
          43.1806755065918,
          48.174686431884766,
          44.03188705444336,
          39.210044860839844,
          43.28829574584961,
          44.58036422729492,
          46.10844421386719,
          43.56001281738281,
          45.932945251464844,
          44.706241607666016,
          45.09945297241211,
          42.570621490478516,
          40.41499328613281,
          42.20410919189453,
          42.619346618652344,
          46.2877082824707,
          43.57636642456055,
          43.51445770263672,
          20.695438385009766,
          41.569496154785156,
          44.423973083496094,
          41.463443756103516,
          42.542362213134766,
          42.757503509521484,
          45.0778694152832,
          46.33259582519531,
          44.875709533691406,
          47.42307662963867,
          43.8697509765625,
          47.53732681274414,
          47.58729553222656,
          47.4797477722168
         ],
         "xaxis": "x",
         "y": [
          3.0147671699523926,
          5.718589782714844,
          4.947283744812012,
          3.489729881286621,
          5.995494365692139,
          5.603155136108398,
          2.2881150245666504,
          0.9502338171005249,
          3.252244472503662,
          1.1600689888000488,
          2.114828109741211,
          3.10846209526062,
          5.783870220184326,
          5.3565239906311035,
          2.1150591373443604,
          0.7781631946563721,
          4.175506114959717,
          3.4028217792510986,
          1.4998133182525635,
          12.524834632873535,
          4.110634803771973,
          4.1235504150390625,
          1.8310807943344116,
          3.573993444442749,
          3.4698245525360107,
          0.5010418891906738,
          4.055087089538574,
          1.6550796031951904,
          0.37058478593826294,
          2.436556816101074,
          3.057417869567871,
          3.2656450271606445,
          0.3903186023235321,
          3.815157651901245,
          0.46604016423225403,
          4.320741653442383,
          4.019978046417236,
          0.6729775071144104,
          4.6109771728515625,
          2.95245623588562,
          9.559572219848633,
          3.6270556449890137,
          3.5327131748199463,
          3.3090054988861084,
          4.988698482513428,
          5.1393723487854,
          4.309113502502441,
          2.087475538253784,
          0.09191928058862686,
          2.3845200538635254,
          3.0565109252929688,
          0.9916782379150391,
          4.731140613555908,
          2.4432075023651123,
          1.0639294385910034,
          5.132515907287598,
          2.088822603225708,
          1.5288734436035156,
          2.7477211952209473,
          1.1785571575164795,
          2.86257266998291,
          3.6638760566711426,
          2.833259344100952,
          5.454639911651611,
          5.422852039337158,
          2.955493688583374,
          2.0865824222564697,
          5.321015357971191,
          4.24057674407959,
          4.042042255401611,
          4.554708957672119,
          -3.09639835357666,
          2.346081256866455,
          6.26650333404541,
          3.208555221557617,
          5.033007621765137,
          3.123394727706909,
          3.249662160873413,
          0.05759076029062271,
          1.7513333559036255,
          1.4193155765533447,
          3.9636380672454834,
          2.3883368968963623,
          1.8431569337844849,
          2.298938751220703
         ],
         "yaxis": "y"
        },
        {
         "customdata": [
          [
           "test"
          ],
          [
           "test"
          ],
          [
           "test"
          ],
          [
           "test"
          ],
          [
           "test"
          ],
          [
           "test"
          ],
          [
           "test"
          ],
          [
           "test"
          ],
          [
           "test"
          ],
          [
           "test"
          ],
          [
           "test"
          ],
          [
           "test"
          ],
          [
           "test"
          ],
          [
           "test"
          ],
          [
           "test"
          ]
         ],
         "hovertemplate": "identity=N_8inch_data<br>split=%{customdata[0]}<br>tsne-1=%{x}<br>tsne-2=%{y}<extra></extra>",
         "legendgroup": "N_8inch_data, test",
         "marker": {
          "color": "#19d3f3",
          "symbol": "x"
         },
         "mode": "markers",
         "name": "N_8inch_data, test",
         "showlegend": true,
         "type": "scattergl",
         "x": [
          45.16631317138672,
          47.5748176574707,
          47.4687385559082,
          46.70712661743164,
          43.12469482421875,
          47.077571868896484,
          38.95088195800781,
          47.438270568847656,
          44.77684783935547,
          46.03709030151367,
          44.71137237548828,
          46.701080322265625,
          44.81451416015625,
          47.85969543457031,
          45.38263702392578
         ],
         "xaxis": "x",
         "y": [
          2.940890073776245,
          2.321143627166748,
          0.8048809766769409,
          1.2907788753509521,
          3.4493472576141357,
          0.7779877185821533,
          2.6661503314971924,
          3.487143039703369,
          1.2522516250610352,
          1.2042826414108276,
          5.097355365753174,
          4.0260820388793945,
          2.0537185668945312,
          2.7031991481781006,
          4.6002397537231445
         ],
         "yaxis": "y"
        },
        {
         "customdata": [
          [
           "train"
          ],
          [
           "train"
          ],
          [
           "train"
          ],
          [
           "train"
          ],
          [
           "train"
          ],
          [
           "train"
          ],
          [
           "train"
          ],
          [
           "train"
          ],
          [
           "train"
          ],
          [
           "train"
          ],
          [
           "train"
          ],
          [
           "train"
          ],
          [
           "train"
          ],
          [
           "train"
          ],
          [
           "train"
          ],
          [
           "train"
          ],
          [
           "train"
          ],
          [
           "train"
          ],
          [
           "train"
          ],
          [
           "train"
          ],
          [
           "train"
          ],
          [
           "train"
          ],
          [
           "train"
          ],
          [
           "train"
          ],
          [
           "train"
          ],
          [
           "train"
          ],
          [
           "train"
          ],
          [
           "train"
          ],
          [
           "train"
          ],
          [
           "train"
          ],
          [
           "train"
          ],
          [
           "train"
          ],
          [
           "train"
          ],
          [
           "train"
          ],
          [
           "train"
          ],
          [
           "train"
          ],
          [
           "train"
          ],
          [
           "train"
          ],
          [
           "train"
          ],
          [
           "train"
          ],
          [
           "train"
          ],
          [
           "train"
          ],
          [
           "train"
          ],
          [
           "train"
          ],
          [
           "train"
          ],
          [
           "train"
          ],
          [
           "train"
          ],
          [
           "train"
          ],
          [
           "train"
          ],
          [
           "train"
          ],
          [
           "train"
          ],
          [
           "train"
          ],
          [
           "train"
          ],
          [
           "train"
          ],
          [
           "train"
          ],
          [
           "train"
          ],
          [
           "train"
          ],
          [
           "train"
          ],
          [
           "train"
          ],
          [
           "train"
          ],
          [
           "train"
          ],
          [
           "train"
          ],
          [
           "train"
          ],
          [
           "train"
          ],
          [
           "train"
          ],
          [
           "train"
          ],
          [
           "train"
          ],
          [
           "train"
          ],
          [
           "train"
          ],
          [
           "train"
          ],
          [
           "train"
          ],
          [
           "train"
          ],
          [
           "train"
          ],
          [
           "train"
          ],
          [
           "train"
          ]
         ],
         "hovertemplate": "identity=circle_4inch_data<br>split=%{customdata[0]}<br>tsne-1=%{x}<br>tsne-2=%{y}<extra></extra>",
         "legendgroup": "circle_4inch_data, train",
         "marker": {
          "color": "#FF6692",
          "symbol": "circle"
         },
         "mode": "markers",
         "name": "circle_4inch_data, train",
         "showlegend": true,
         "type": "scattergl",
         "x": [
          6.16517448425293,
          7.874870300292969,
          6.012612342834473,
          4.940926551818848,
          6.182357311248779,
          4.906589984893799,
          4.65687894821167,
          6.499274253845215,
          3.3267719745635986,
          20.073959350585938,
          6.033071994781494,
          2.905215263366699,
          3.1477625370025635,
          4.6276631355285645,
          5.474252700805664,
          4.264292240142822,
          5.295836925506592,
          23.453495025634766,
          5.191467761993408,
          3.2820520401000977,
          4.987701416015625,
          7.891798496246338,
          5.984528541564941,
          5.976461410522461,
          8.099813461303711,
          4.044591426849365,
          3.653964042663574,
          5.137075424194336,
          7.15816068649292,
          6.577131748199463,
          8.956708908081055,
          4.489187240600586,
          5.57961368560791,
          5.21365213394165,
          5.262625694274902,
          3.752251386642456,
          7.903034210205078,
          5.058930397033691,
          3.6181743144989014,
          9.551742553710938,
          4.087937831878662,
          3.591197967529297,
          3.930302858352661,
          7.51280403137207,
          6.231308460235596,
          8.489988327026367,
          5.586531162261963,
          6.553501605987549,
          4.130359649658203,
          6.684148788452148,
          4.699511528015137,
          23.58981704711914,
          4.820426940917969,
          4.236441612243652,
          23.182952880859375,
          6.314421653747559,
          4.9094672203063965,
          2.483353853225708,
          4.48855447769165,
          4.98296594619751,
          2.9490103721618652,
          4.170803070068359,
          6.63258695602417,
          3.768061876296997,
          2.4711391925811768,
          5.6630353927612305,
          4.956762790679932,
          8.266874313354492,
          5.634836673736572,
          6.598199844360352,
          9.158429145812988,
          5.354520797729492,
          5.515600204467773,
          7.351765155792236,
          21.99127197265625
         ],
         "xaxis": "x",
         "y": [
          0.12755806744098663,
          -0.9869188666343689,
          1.7616283893585205,
          2.490527868270874,
          -1.7253469228744507,
          1.4418504238128662,
          1.4711655378341675,
          -0.8747695088386536,
          0.5615897178649902,
          -1.086302399635315,
          -3.74338960647583,
          -1.9975701570510864,
          1.3080687522888184,
          0.024050354957580566,
          0.0803137794137001,
          -1.0694154500961304,
          -0.3594995439052582,
          11.473869323730469,
          0.7509440779685974,
          1.2180017232894897,
          -0.438717246055603,
          5.092336654663086,
          -4.064267158508301,
          -1.9063518047332764,
          0.5895929932594299,
          -0.3465175926685333,
          1.7707626819610596,
          -1.9323595762252808,
          -1.5624898672103882,
          -0.9965282678604126,
          1.0027997493743896,
          -2.9417126178741455,
          -1.4839859008789062,
          -2.1683263778686523,
          -5.929706573486328,
          -0.8995485901832581,
          5.026094436645508,
          -1.8821561336517334,
          0.39890971779823303,
          1.068598985671997,
          1.5436182022094727,
          -1.8068392276763916,
          -2.3509204387664795,
          -1.6615208387374878,
          -5.840393543243408,
          6.722405433654785,
          1.5277032852172852,
          1.7908103466033936,
          -3.1471352577209473,
          0.7121115922927856,
          -3.079310417175293,
          11.867508888244629,
          -1.567760944366455,
          1.0683510303497314,
          11.439742088317871,
          0.9053269028663635,
          1.76980721950531,
          -0.799997866153717,
          -4.002139091491699,
          -0.03735211119055748,
          -1.4009273052215576,
          0.6466480493545532,
          -2.197323799133301,
          1.4392037391662598,
          -1.6081880331039429,
          0.08680244535207748,
          -0.21036113798618317,
          0.49191343784332275,
          2.4372713565826416,
          -0.825943112373352,
          0.9131219387054443,
          -1.437438726425171,
          2.2803878784179688,
          1.6952286958694458,
          10.491581916809082
         ],
         "yaxis": "y"
        },
        {
         "customdata": [
          [
           "test"
          ],
          [
           "test"
          ],
          [
           "test"
          ],
          [
           "test"
          ],
          [
           "test"
          ],
          [
           "test"
          ],
          [
           "test"
          ],
          [
           "test"
          ],
          [
           "test"
          ],
          [
           "test"
          ],
          [
           "test"
          ],
          [
           "test"
          ],
          [
           "test"
          ],
          [
           "test"
          ],
          [
           "test"
          ],
          [
           "test"
          ],
          [
           "test"
          ],
          [
           "test"
          ],
          [
           "test"
          ],
          [
           "test"
          ],
          [
           "test"
          ],
          [
           "test"
          ],
          [
           "test"
          ],
          [
           "test"
          ],
          [
           "test"
          ]
         ],
         "hovertemplate": "identity=circle_4inch_data<br>split=%{customdata[0]}<br>tsne-1=%{x}<br>tsne-2=%{y}<extra></extra>",
         "legendgroup": "circle_4inch_data, test",
         "marker": {
          "color": "#FF6692",
          "symbol": "x"
         },
         "mode": "markers",
         "name": "circle_4inch_data, test",
         "showlegend": true,
         "type": "scattergl",
         "x": [
          3.535055160522461,
          4.521032810211182,
          2.803229808807373,
          3.561180353164673,
          9.104533195495605,
          3.265275478363037,
          6.882418632507324,
          5.072765827178955,
          4.052639961242676,
          2.6502113342285156,
          3.206165313720703,
          5.678713321685791,
          4.533228397369385,
          5.367403984069824,
          4.549558639526367,
          6.794351100921631,
          7.992631435394287,
          5.224208831787109,
          5.265353679656982,
          4.567650318145752,
          7.8914384841918945,
          5.979672908782959,
          5.726231575012207,
          8.137184143066406,
          3.63736629486084
         ],
         "xaxis": "x",
         "y": [
          0.536595344543457,
          -4.098337650299072,
          0.015804553404450417,
          -3.9843838214874268,
          -0.6615214943885803,
          -0.1099255234003067,
          -0.8655310273170471,
          0.5148409605026245,
          -2.9460794925689697,
          0.3917572498321533,
          -0.47991490364074707,
          -2.2234902381896973,
          -3.7692768573760986,
          -4.027956485748291,
          2.7352957725524902,
          1.0284825563430786,
          2.074849843978882,
          -3.059751033782959,
          -3.9495673179626465,
          -2.5277223587036133,
          -0.8558307886123657,
          0.4527856409549713,
          -2.5675716400146484,
          0.6028441786766052,
          0.8670874238014221
         ],
         "yaxis": "y"
        },
        {
         "customdata": [
          [
           "train"
          ],
          [
           "train"
          ],
          [
           "train"
          ],
          [
           "train"
          ],
          [
           "train"
          ],
          [
           "train"
          ],
          [
           "train"
          ],
          [
           "train"
          ],
          [
           "train"
          ],
          [
           "train"
          ],
          [
           "train"
          ],
          [
           "train"
          ],
          [
           "train"
          ],
          [
           "train"
          ],
          [
           "train"
          ],
          [
           "train"
          ],
          [
           "train"
          ],
          [
           "train"
          ],
          [
           "train"
          ],
          [
           "train"
          ],
          [
           "train"
          ],
          [
           "train"
          ],
          [
           "train"
          ],
          [
           "train"
          ],
          [
           "train"
          ],
          [
           "train"
          ],
          [
           "train"
          ],
          [
           "train"
          ],
          [
           "train"
          ],
          [
           "train"
          ],
          [
           "train"
          ],
          [
           "train"
          ],
          [
           "train"
          ],
          [
           "train"
          ],
          [
           "train"
          ],
          [
           "train"
          ],
          [
           "train"
          ],
          [
           "train"
          ],
          [
           "train"
          ],
          [
           "train"
          ],
          [
           "train"
          ],
          [
           "train"
          ],
          [
           "train"
          ],
          [
           "train"
          ],
          [
           "train"
          ],
          [
           "train"
          ],
          [
           "train"
          ],
          [
           "train"
          ],
          [
           "train"
          ],
          [
           "train"
          ],
          [
           "train"
          ],
          [
           "train"
          ],
          [
           "train"
          ],
          [
           "train"
          ],
          [
           "train"
          ],
          [
           "train"
          ],
          [
           "train"
          ],
          [
           "train"
          ],
          [
           "train"
          ],
          [
           "train"
          ],
          [
           "train"
          ],
          [
           "train"
          ],
          [
           "train"
          ],
          [
           "train"
          ],
          [
           "train"
          ],
          [
           "train"
          ],
          [
           "train"
          ],
          [
           "train"
          ],
          [
           "train"
          ],
          [
           "train"
          ],
          [
           "train"
          ],
          [
           "train"
          ],
          [
           "train"
          ]
         ],
         "hovertemplate": "identity=L_4inch_data<br>split=%{customdata[0]}<br>tsne-1=%{x}<br>tsne-2=%{y}<extra></extra>",
         "legendgroup": "L_4inch_data, train",
         "marker": {
          "color": "#B6E880",
          "symbol": "circle"
         },
         "mode": "markers",
         "name": "L_4inch_data, train",
         "showlegend": true,
         "type": "scattergl",
         "x": [
          -23.806922912597656,
          -27.027986526489258,
          -25.50661849975586,
          23.74262237548828,
          20.3546142578125,
          21.482744216918945,
          -22.614660263061523,
          23.142742156982422,
          23.693897247314453,
          26.784038543701172,
          -16.450546264648438,
          22.71310043334961,
          -21.79559326171875,
          22.890018463134766,
          -25.344181060791016,
          26.69361114501953,
          -18.057601928710938,
          22.52779769897461,
          -19.573169708251953,
          23.92072868347168,
          25.85803985595703,
          -24.579872131347656,
          24.560409545898438,
          24.172452926635742,
          20.742708206176758,
          27.684282302856445,
          23.705171585083008,
          25.237079620361328,
          24.56833839416504,
          24.328096389770508,
          25.665170669555664,
          21.181184768676758,
          20.800411224365234,
          21.599382400512695,
          -16.811174392700195,
          21.18893051147461,
          -27.224924087524414,
          -24.846694946289062,
          -21.91055679321289,
          22.18479347229004,
          24.234455108642578,
          21.036191940307617,
          22.81340217590332,
          -22.41206169128418,
          -23.221704483032227,
          22.64047622680664,
          23.10539436340332,
          23.32727813720703,
          19.790090560913086,
          -23.5905818939209,
          21.595359802246094,
          -22.91505241394043,
          19.914487838745117,
          22.49958610534668,
          26.81206703186035,
          22.75748634338379,
          27.280258178710938,
          22.049440383911133,
          -27.497644424438477,
          27.36603546142578,
          25.299436569213867,
          25.03048324584961,
          23.2620849609375,
          -23.289838790893555,
          23.248842239379883,
          21.86710548400879,
          22.16718101501465,
          -26.231897354125977,
          19.996660232543945,
          26.96307945251465,
          22.802608489990234,
          -23.580549240112305,
          21.89841079711914
         ],
         "xaxis": "x",
         "y": [
          22.290283203125,
          23.550355911254883,
          25.65896987915039,
          18.723384857177734,
          25.60936737060547,
          27.11456298828125,
          21.061800003051758,
          19.284976959228516,
          24.47982406616211,
          23.86393165588379,
          22.534069061279297,
          20.75472068786621,
          20.72974967956543,
          26.50519561767578,
          26.060014724731445,
          23.222684860229492,
          24.04420280456543,
          22.05234718322754,
          22.219274520874023,
          25.20115852355957,
          23.976560592651367,
          24.285829544067383,
          24.687015533447266,
          21.76728630065918,
          24.38735580444336,
          25.20987892150879,
          19.077909469604492,
          24.258769989013672,
          21.33124351501465,
          24.98861312866211,
          18.523601531982422,
          26.128658294677734,
          23.222270965576172,
          24.372798919677734,
          24.128713607788086,
          25.255481719970703,
          23.453033447265625,
          23.300045013427734,
          23.0672607421875,
          20.5067195892334,
          26.301319122314453,
          26.4545955657959,
          20.555200576782227,
          20.688249588012695,
          21.20339584350586,
          26.04102897644043,
          21.767852783203125,
          25.44394874572754,
          25.936813354492188,
          22.400775909423828,
          23.618242263793945,
          24.037540435791016,
          26.374839782714844,
          19.768964767456055,
          22.979427337646484,
          25.256671905517578,
          25.06140899658203,
          26.15984535217285,
          23.698162078857422,
          21.612682342529297,
          17.988935470581055,
          25.350576400756836,
          23.23688316345215,
          23.107149124145508,
          26.79079818725586,
          21.636470794677734,
          24.368722915649414,
          22.713727951049805,
          27.595998764038086,
          24.66465950012207,
          27.225648880004883,
          21.88184928894043,
          26.98272132873535
         ],
         "yaxis": "y"
        },
        {
         "customdata": [
          [
           "test"
          ],
          [
           "test"
          ],
          [
           "test"
          ],
          [
           "test"
          ],
          [
           "test"
          ],
          [
           "test"
          ],
          [
           "test"
          ],
          [
           "test"
          ],
          [
           "test"
          ],
          [
           "test"
          ],
          [
           "test"
          ],
          [
           "test"
          ],
          [
           "test"
          ],
          [
           "test"
          ],
          [
           "test"
          ],
          [
           "test"
          ],
          [
           "test"
          ],
          [
           "test"
          ],
          [
           "test"
          ],
          [
           "test"
          ],
          [
           "test"
          ],
          [
           "test"
          ],
          [
           "test"
          ],
          [
           "test"
          ],
          [
           "test"
          ],
          [
           "test"
          ],
          [
           "test"
          ]
         ],
         "hovertemplate": "identity=L_4inch_data<br>split=%{customdata[0]}<br>tsne-1=%{x}<br>tsne-2=%{y}<extra></extra>",
         "legendgroup": "L_4inch_data, test",
         "marker": {
          "color": "#B6E880",
          "symbol": "x"
         },
         "mode": "markers",
         "name": "L_4inch_data, test",
         "showlegend": true,
         "type": "scattergl",
         "x": [
          23.740415573120117,
          19.771188735961914,
          20.862802505493164,
          21.702674865722656,
          21.042644500732422,
          21.38363265991211,
          26.426273345947266,
          27.966625213623047,
          28.129831314086914,
          24.359046936035156,
          20.360370635986328,
          25.73870849609375,
          25.739147186279297,
          22.121171951293945,
          25.91899871826172,
          26.337528228759766,
          -25.86627769470215,
          21.803977966308594,
          24.033655166625977,
          21.311431884765625,
          20.86322021484375,
          -22.714298248291016,
          20.060033798217773,
          27.232105255126953,
          21.31281852722168,
          22.782907485961914,
          21.182327270507812
         ],
         "xaxis": "x",
         "y": [
          24.67190933227539,
          27.857698440551758,
          26.40152931213379,
          27.39067840576172,
          23.37778091430664,
          26.353851318359375,
          22.214632034301758,
          18.136667251586914,
          21.333255767822266,
          18.97972869873047,
          22.779348373413086,
          23.634389877319336,
          21.350906372070312,
          26.332393646240234,
          23.440629959106445,
          23.692533493041992,
          23.18115997314453,
          21.18138885498047,
          22.90529441833496,
          25.461626052856445,
          23.54421043395996,
          22.613008499145508,
          26.031347274780273,
          23.876916885375977,
          26.187747955322266,
          22.85651397705078,
          25.190025329589844
         ],
         "yaxis": "y"
        },
        {
         "customdata": [
          [
           "train"
          ],
          [
           "train"
          ],
          [
           "train"
          ],
          [
           "train"
          ],
          [
           "train"
          ],
          [
           "train"
          ],
          [
           "train"
          ],
          [
           "train"
          ],
          [
           "train"
          ],
          [
           "train"
          ],
          [
           "train"
          ],
          [
           "train"
          ],
          [
           "train"
          ],
          [
           "train"
          ],
          [
           "train"
          ],
          [
           "train"
          ],
          [
           "train"
          ],
          [
           "train"
          ],
          [
           "train"
          ],
          [
           "train"
          ],
          [
           "train"
          ],
          [
           "train"
          ],
          [
           "train"
          ],
          [
           "train"
          ],
          [
           "train"
          ],
          [
           "train"
          ],
          [
           "train"
          ],
          [
           "train"
          ],
          [
           "train"
          ],
          [
           "train"
          ],
          [
           "train"
          ],
          [
           "train"
          ],
          [
           "train"
          ],
          [
           "train"
          ],
          [
           "train"
          ],
          [
           "train"
          ],
          [
           "train"
          ],
          [
           "train"
          ],
          [
           "train"
          ],
          [
           "train"
          ],
          [
           "train"
          ],
          [
           "train"
          ],
          [
           "train"
          ],
          [
           "train"
          ],
          [
           "train"
          ],
          [
           "train"
          ],
          [
           "train"
          ],
          [
           "train"
          ],
          [
           "train"
          ],
          [
           "train"
          ],
          [
           "train"
          ],
          [
           "train"
          ],
          [
           "train"
          ],
          [
           "train"
          ],
          [
           "train"
          ],
          [
           "train"
          ],
          [
           "train"
          ],
          [
           "train"
          ],
          [
           "train"
          ],
          [
           "train"
          ],
          [
           "train"
          ],
          [
           "train"
          ],
          [
           "train"
          ],
          [
           "train"
          ],
          [
           "train"
          ],
          [
           "train"
          ],
          [
           "train"
          ],
          [
           "train"
          ],
          [
           "train"
          ],
          [
           "train"
          ],
          [
           "train"
          ],
          [
           "train"
          ],
          [
           "train"
          ],
          [
           "train"
          ],
          [
           "train"
          ],
          [
           "train"
          ],
          [
           "train"
          ],
          [
           "train"
          ],
          [
           "train"
          ],
          [
           "train"
          ]
         ],
         "hovertemplate": "identity=small_P_data<br>split=%{customdata[0]}<br>tsne-1=%{x}<br>tsne-2=%{y}<extra></extra>",
         "legendgroup": "small_P_data, train",
         "marker": {
          "color": "#FF97FF",
          "symbol": "circle"
         },
         "mode": "markers",
         "name": "small_P_data, train",
         "showlegend": true,
         "type": "scattergl",
         "x": [
          4.725848197937012,
          6.007322788238525,
          4.508188724517822,
          4.8106513023376465,
          5.240362167358398,
          5.569899082183838,
          6.529098987579346,
          7.089406967163086,
          27.022062301635742,
          4.443121433258057,
          5.1689677238464355,
          5.531839370727539,
          6.125489711761475,
          4.684810161590576,
          7.0002593994140625,
          4.880069255828857,
          4.273082256317139,
          2.954847574234009,
          4.805025577545166,
          4.648064136505127,
          5.760532855987549,
          6.407721996307373,
          4.176004409790039,
          26.662748336791992,
          5.769830226898193,
          3.93445086479187,
          5.034613609313965,
          6.99444055557251,
          3.404378652572632,
          8.379215240478516,
          26.553274154663086,
          4.32649040222168,
          3.688642740249634,
          7.839029788970947,
          6.459979057312012,
          4.660894870758057,
          7.667812824249268,
          2.855268716812134,
          6.609263896942139,
          7.4785590171813965,
          5.171822547912598,
          7.738907814025879,
          4.6640448570251465,
          4.088919162750244,
          4.047978401184082,
          7.171147346496582,
          7.22022008895874,
          4.762824058532715,
          4.766498565673828,
          6.61615514755249,
          7.418131351470947,
          4.190662860870361,
          26.579622268676758,
          4.0252685546875,
          6.824488639831543,
          7.426762580871582,
          6.7704854011535645,
          4.340878486633301,
          26.839359283447266,
          4.718055248260498,
          7.283526420593262,
          6.042612552642822,
          3.7435977458953857,
          5.500075340270996,
          6.027956962585449,
          5.205259323120117,
          2.733916997909546,
          6.327801704406738,
          6.304836750030518,
          5.080908298492432,
          6.564798355102539,
          4.252894401550293,
          5.331148624420166,
          5.922667026519775,
          3.6235342025756836,
          5.813750743865967,
          4.616351127624512,
          3.1051905155181885,
          4.433991432189941,
          4.5818963050842285
         ],
         "xaxis": "x",
         "y": [
          -38.85521697998047,
          -43.25474548339844,
          -44.806278228759766,
          -44.629005432128906,
          -39.10953140258789,
          -45.312015533447266,
          -44.72120666503906,
          -39.83106994628906,
          -20.216257095336914,
          -39.35826110839844,
          -41.3914909362793,
          -45.627197265625,
          -43.67778015136719,
          -41.86967086791992,
          -41.18354415893555,
          -45.07951736450195,
          -38.26403045654297,
          -41.225929260253906,
          -40.300994873046875,
          -41.54375457763672,
          -41.71527862548828,
          -44.428409576416016,
          -41.229835510253906,
          -20.055206298828125,
          -43.0453987121582,
          -41.611942291259766,
          -43.27122116088867,
          -42.1264762878418,
          -41.92755126953125,
          -41.364349365234375,
          -20.00468635559082,
          -40.02408218383789,
          -42.038047790527344,
          -42.449947357177734,
          -40.545928955078125,
          -44.704410552978516,
          -45.392147064208984,
          -39.33355712890625,
          -44.17436599731445,
          -44.836761474609375,
          -43.78992462158203,
          -44.03356170654297,
          -39.05735397338867,
          -42.13833999633789,
          -40.67866516113281,
          -40.27608108520508,
          -45.37621307373047,
          -39.62602996826172,
          -41.83045196533203,
          -44.11913299560547,
          -41.50407028198242,
          -40.31633377075195,
          -20.00747299194336,
          -38.31703186035156,
          -44.63358688354492,
          -43.56089782714844,
          -41.117488861083984,
          -42.570335388183594,
          -20.14345932006836,
          -40.89344787597656,
          -42.09659957885742,
          -40.61649703979492,
          -40.671234130859375,
          -40.10255432128906,
          -43.82898712158203,
          -42.001869201660156,
          -39.4340705871582,
          -45.187801361083984,
          -44.96806716918945,
          -39.468753814697266,
          -45.342288970947266,
          -42.99449920654297,
          -45.569637298583984,
          -44.93455123901367,
          -43.168697357177734,
          -41.19794464111328,
          -39.14336395263672,
          -41.164058685302734,
          -44.7992057800293,
          -42.574256896972656
         ],
         "yaxis": "y"
        },
        {
         "customdata": [
          [
           "test"
          ],
          [
           "test"
          ],
          [
           "test"
          ],
          [
           "test"
          ],
          [
           "test"
          ],
          [
           "test"
          ],
          [
           "test"
          ],
          [
           "test"
          ],
          [
           "test"
          ],
          [
           "test"
          ],
          [
           "test"
          ],
          [
           "test"
          ],
          [
           "test"
          ],
          [
           "test"
          ],
          [
           "test"
          ],
          [
           "test"
          ],
          [
           "test"
          ],
          [
           "test"
          ],
          [
           "test"
          ],
          [
           "test"
          ]
         ],
         "hovertemplate": "identity=small_P_data<br>split=%{customdata[0]}<br>tsne-1=%{x}<br>tsne-2=%{y}<extra></extra>",
         "legendgroup": "small_P_data, test",
         "marker": {
          "color": "#FF97FF",
          "symbol": "x"
         },
         "mode": "markers",
         "name": "small_P_data, test",
         "showlegend": true,
         "type": "scattergl",
         "x": [
          27.283374786376953,
          5.6744890213012695,
          7.893932819366455,
          7.224216461181641,
          3.44783091545105,
          7.925869464874268,
          7.343127727508545,
          4.104450225830078,
          6.229754447937012,
          6.475526809692383,
          5.433045864105225,
          5.407639980316162,
          27.290000915527344,
          7.882473945617676,
          5.197225093841553,
          5.382966041564941,
          4.063745498657227,
          6.368752956390381,
          26.62073516845703,
          7.6432366371154785
         ],
         "xaxis": "x",
         "y": [
          -20.354591369628906,
          -42.441650390625,
          -42.5169792175293,
          -44.711669921875,
          -43.81876754760742,
          -44.158084869384766,
          -40.822967529296875,
          -38.66352081298828,
          -42.05889129638672,
          -45.547828674316406,
          -41.28278350830078,
          -41.393741607666016,
          -20.346826553344727,
          -44.346771240234375,
          -39.15569305419922,
          -42.4422607421875,
          -39.45952224731445,
          -44.70180130004883,
          -20.025924682617188,
          -45.30356979370117
         ],
         "yaxis": "y"
        },
        {
         "customdata": [
          [
           "train"
          ],
          [
           "train"
          ],
          [
           "train"
          ],
          [
           "train"
          ],
          [
           "train"
          ],
          [
           "train"
          ],
          [
           "train"
          ],
          [
           "train"
          ],
          [
           "train"
          ],
          [
           "train"
          ],
          [
           "train"
          ],
          [
           "train"
          ],
          [
           "train"
          ],
          [
           "train"
          ],
          [
           "train"
          ],
          [
           "train"
          ],
          [
           "train"
          ],
          [
           "train"
          ],
          [
           "train"
          ],
          [
           "train"
          ],
          [
           "train"
          ],
          [
           "train"
          ],
          [
           "train"
          ],
          [
           "train"
          ],
          [
           "train"
          ],
          [
           "train"
          ],
          [
           "train"
          ],
          [
           "train"
          ],
          [
           "train"
          ],
          [
           "train"
          ],
          [
           "train"
          ],
          [
           "train"
          ],
          [
           "train"
          ],
          [
           "train"
          ],
          [
           "train"
          ],
          [
           "train"
          ],
          [
           "train"
          ],
          [
           "train"
          ],
          [
           "train"
          ],
          [
           "train"
          ],
          [
           "train"
          ],
          [
           "train"
          ],
          [
           "train"
          ],
          [
           "train"
          ],
          [
           "train"
          ],
          [
           "train"
          ],
          [
           "train"
          ],
          [
           "train"
          ],
          [
           "train"
          ],
          [
           "train"
          ],
          [
           "train"
          ],
          [
           "train"
          ],
          [
           "train"
          ],
          [
           "train"
          ],
          [
           "train"
          ],
          [
           "train"
          ],
          [
           "train"
          ],
          [
           "train"
          ],
          [
           "train"
          ],
          [
           "train"
          ],
          [
           "train"
          ],
          [
           "train"
          ],
          [
           "train"
          ],
          [
           "train"
          ],
          [
           "train"
          ],
          [
           "train"
          ],
          [
           "train"
          ],
          [
           "train"
          ],
          [
           "train"
          ],
          [
           "train"
          ],
          [
           "train"
          ],
          [
           "train"
          ],
          [
           "train"
          ],
          [
           "train"
          ],
          [
           "train"
          ],
          [
           "train"
          ],
          [
           "train"
          ],
          [
           "train"
          ]
         ],
         "hovertemplate": "identity=circle_8inch_data<br>split=%{customdata[0]}<br>tsne-1=%{x}<br>tsne-2=%{y}<extra></extra>",
         "legendgroup": "circle_8inch_data, train",
         "marker": {
          "color": "#FECB52",
          "symbol": "circle"
         },
         "mode": "markers",
         "name": "circle_8inch_data, train",
         "showlegend": true,
         "type": "scattergl",
         "x": [
          5.568512439727783,
          5.663649082183838,
          4.845339298248291,
          17.44900131225586,
          15.599628448486328,
          6.06300687789917,
          4.020625591278076,
          8.910263061523438,
          11.614995956420898,
          4.090802192687988,
          8.662259101867676,
          14.462900161743164,
          4.608100891113281,
          7.852522850036621,
          15.320427894592285,
          1.1259084939956665,
          2.058567762374878,
          3.0103280544281006,
          8.194016456604004,
          8.999112129211426,
          6.499740123748779,
          9.069929122924805,
          4.922660827636719,
          12.93172550201416,
          7.549153804779053,
          5.246623992919922,
          3.4435508251190186,
          15.632366180419922,
          22.624801635742188,
          6.859741687774658,
          1.6016292572021484,
          1.310085415840149,
          16.79599380493164,
          7.01594352722168,
          10.493261337280273,
          14.119434356689453,
          11.720038414001465,
          18.03766441345215,
          20.645971298217773,
          5.1528730392456055,
          4.374771595001221,
          5.270068168640137,
          4.946918487548828,
          6.411584377288818,
          8.46035099029541,
          5.174663543701172,
          9.934646606445312,
          10.987030029296875,
          3.021721363067627,
          3.9795477390289307,
          4.7279157638549805,
          8.209282875061035,
          4.446956157684326,
          14.630249977111816,
          12.769082069396973,
          4.6348042488098145,
          8.222623825073242,
          7.875577926635742,
          2.9217214584350586,
          5.110471725463867,
          23.621721267700195,
          1.8242794275283813,
          10.128579139709473,
          2.734043598175049,
          17.015804290771484,
          11.815285682678223,
          4.148780822753906,
          13.856939315795898,
          3.8556177616119385,
          4.878259658813477,
          8.627568244934082,
          17.67685890197754,
          23.897945404052734,
          1.9291536808013916,
          5.360610485076904,
          14.678535461425781,
          3.9484004974365234,
          6.768540382385254
         ],
         "xaxis": "x",
         "y": [
          -9.219133377075195,
          -10.727032661437988,
          -11.201353073120117,
          -0.8759404420852661,
          -2.2861902713775635,
          -11.171366691589355,
          -15.50561809539795,
          -6.271198272705078,
          -5.839025974273682,
          -13.99103832244873,
          -5.991800785064697,
          -4.396156311035156,
          -9.420406341552734,
          -7.015716552734375,
          -5.56188440322876,
          -15.700326919555664,
          -14.180490493774414,
          -13.449257850646973,
          -7.380826950073242,
          -5.9459028244018555,
          -9.39443302154541,
          -6.271773815155029,
          -6.458352565765381,
          -5.636839389801025,
          -7.405076503753662,
          -8.147881507873535,
          -10.845754623413086,
          -5.54313850402832,
          10.780802726745605,
          -7.401830673217773,
          -16.82392120361328,
          -16.15771484375,
          -2.029193639755249,
          -8.585623741149902,
          -6.197963237762451,
          0.6412403583526611,
          -5.475157260894775,
          -2.0589675903320312,
          -3.0685412883758545,
          -10.179938316345215,
          -5.9066162109375,
          -8.603290557861328,
          -10.43038272857666,
          -8.872932434082031,
          -7.534656047821045,
          -11.876086235046387,
          -6.23167085647583,
          -6.380690097808838,
          -11.983936309814453,
          -9.592636108398438,
          -7.610234260559082,
          -6.831335544586182,
          -12.86270523071289,
          -2.629361152648926,
          2.0371716022491455,
          -10.618748664855957,
          4.944911479949951,
          -3.264131784439087,
          -15.07641315460205,
          -10.515070915222168,
          12.305685997009277,
          -14.758049964904785,
          -5.436002731323242,
          -14.368012428283691,
          -4.694680213928223,
          -0.6609067320823669,
          -8.76261043548584,
          -4.865726947784424,
          -13.806109428405762,
          -6.541770935058594,
          6.293292045593262,
          -4.111364841461182,
          11.374591827392578,
          -13.828824043273926,
          -9.372998237609863,
          -5.6739068031311035,
          -9.667262077331543,
          -8.871575355529785
         ],
         "yaxis": "y"
        },
        {
         "customdata": [
          [
           "test"
          ],
          [
           "test"
          ],
          [
           "test"
          ],
          [
           "test"
          ],
          [
           "test"
          ],
          [
           "test"
          ],
          [
           "test"
          ],
          [
           "test"
          ],
          [
           "test"
          ],
          [
           "test"
          ],
          [
           "test"
          ],
          [
           "test"
          ],
          [
           "test"
          ],
          [
           "test"
          ],
          [
           "test"
          ],
          [
           "test"
          ],
          [
           "test"
          ],
          [
           "test"
          ],
          [
           "test"
          ],
          [
           "test"
          ],
          [
           "test"
          ],
          [
           "test"
          ]
         ],
         "hovertemplate": "identity=circle_8inch_data<br>split=%{customdata[0]}<br>tsne-1=%{x}<br>tsne-2=%{y}<extra></extra>",
         "legendgroup": "circle_8inch_data, test",
         "marker": {
          "color": "#FECB52",
          "symbol": "x"
         },
         "mode": "markers",
         "name": "circle_8inch_data, test",
         "showlegend": true,
         "type": "scattergl",
         "x": [
          3.6517045497894287,
          6.655299663543701,
          8.78478717803955,
          2.349034309387207,
          5.883959770202637,
          18.834489822387695,
          2.9014174938201904,
          19.30176544189453,
          6.340465068817139,
          8.568696975708008,
          4.256955146789551,
          8.77751636505127,
          0.1914529651403427,
          22.805686950683594,
          10.10232925415039,
          7.480709552764893,
          1.7888401746749878,
          1.5124911069869995,
          16.046541213989258,
          9.95677661895752,
          8.422248840332031,
          18.626127243041992
         ],
         "xaxis": "x",
         "y": [
          -11.467998504638672,
          -7.329686641693115,
          5.930855751037598,
          -14.825549125671387,
          -11.226545333862305,
          0.1003211960196495,
          -12.174554824829102,
          -3.266681671142578,
          -7.068040370941162,
          -5.6155548095703125,
          -10.79880428314209,
          5.956054210662842,
          -18.48274040222168,
          11.18134593963623,
          2.6437227725982666,
          -5.759926795959473,
          -14.3109769821167,
          -14.526410102844238,
          0.6510985493659973,
          -0.8500975966453552,
          6.1769866943359375,
          -3.6878373622894287
         ],
         "yaxis": "y"
        },
        {
         "customdata": [
          [
           "train"
          ],
          [
           "train"
          ],
          [
           "train"
          ],
          [
           "train"
          ],
          [
           "train"
          ],
          [
           "train"
          ],
          [
           "train"
          ],
          [
           "train"
          ],
          [
           "train"
          ],
          [
           "train"
          ],
          [
           "train"
          ],
          [
           "train"
          ],
          [
           "train"
          ],
          [
           "train"
          ],
          [
           "train"
          ],
          [
           "train"
          ],
          [
           "train"
          ],
          [
           "train"
          ],
          [
           "train"
          ],
          [
           "train"
          ],
          [
           "train"
          ],
          [
           "train"
          ],
          [
           "train"
          ],
          [
           "train"
          ],
          [
           "train"
          ],
          [
           "train"
          ],
          [
           "train"
          ],
          [
           "train"
          ],
          [
           "train"
          ],
          [
           "train"
          ],
          [
           "train"
          ],
          [
           "train"
          ],
          [
           "train"
          ],
          [
           "train"
          ],
          [
           "train"
          ],
          [
           "train"
          ],
          [
           "train"
          ],
          [
           "train"
          ],
          [
           "train"
          ],
          [
           "train"
          ],
          [
           "train"
          ],
          [
           "train"
          ],
          [
           "train"
          ],
          [
           "train"
          ],
          [
           "train"
          ],
          [
           "train"
          ],
          [
           "train"
          ],
          [
           "train"
          ],
          [
           "train"
          ],
          [
           "train"
          ],
          [
           "train"
          ],
          [
           "train"
          ],
          [
           "train"
          ],
          [
           "train"
          ],
          [
           "train"
          ],
          [
           "train"
          ],
          [
           "train"
          ],
          [
           "train"
          ],
          [
           "train"
          ],
          [
           "train"
          ],
          [
           "train"
          ],
          [
           "train"
          ],
          [
           "train"
          ],
          [
           "train"
          ],
          [
           "train"
          ],
          [
           "train"
          ],
          [
           "train"
          ],
          [
           "train"
          ],
          [
           "train"
          ],
          [
           "train"
          ],
          [
           "train"
          ],
          [
           "train"
          ],
          [
           "train"
          ],
          [
           "train"
          ],
          [
           "train"
          ],
          [
           "train"
          ],
          [
           "train"
          ],
          [
           "train"
          ],
          [
           "train"
          ],
          [
           "train"
          ],
          [
           "train"
          ],
          [
           "train"
          ],
          [
           "train"
          ]
         ],
         "hovertemplate": "identity=triangle_8inch_data<br>split=%{customdata[0]}<br>tsne-1=%{x}<br>tsne-2=%{y}<extra></extra>",
         "legendgroup": "triangle_8inch_data, train",
         "marker": {
          "color": "#636efa",
          "symbol": "circle"
         },
         "mode": "markers",
         "name": "triangle_8inch_data, train",
         "showlegend": true,
         "type": "scattergl",
         "x": [
          -19.364351272583008,
          -20.005311965942383,
          -26.21793556213379,
          -21.599163055419922,
          -21.134632110595703,
          -22.128934860229492,
          -26.14495086669922,
          -23.93170166015625,
          -22.552452087402344,
          -0.4018406569957733,
          23.78652000427246,
          -23.2147159576416,
          -25.377962112426758,
          -21.77759552001953,
          -18.816133499145508,
          -23.132423400878906,
          -24.915599822998047,
          -24.8537540435791,
          24.05918312072754,
          -27.36102294921875,
          -25.856172561645508,
          -25.854787826538086,
          -22.385046005249023,
          24.228445053100586,
          23.208574295043945,
          -25.162342071533203,
          -19.87226676940918,
          -26.255170822143555,
          -18.866527557373047,
          -26.507328033447266,
          -20.256484985351562,
          -21.83049201965332,
          -25.861133575439453,
          -23.7971134185791,
          -23.35926055908203,
          -26.36910629272461,
          -26.895017623901367,
          -21.372692108154297,
          -24.28083610534668,
          -25.244821548461914,
          -24.093503952026367,
          -21.4071102142334,
          -24.129671096801758,
          -24.705516815185547,
          -19.71526336669922,
          -1.7286633253097534,
          -26.46757698059082,
          -17.90464210510254,
          -25.597612380981445,
          -26.524221420288086,
          -23.371583938598633,
          -1.9506707191467285,
          -26.33036994934082,
          -23.622791290283203,
          -25.229520797729492,
          -24.472169876098633,
          -24.67354965209961,
          -25.697431564331055,
          -24.76203727722168,
          -27.462562561035156,
          -23.597183227539062,
          -25.78984832763672,
          -26.450584411621094,
          -27.051271438598633,
          -23.14896011352539,
          21.81972312927246,
          -22.154321670532227,
          -24.784481048583984,
          -26.605716705322266,
          -27.369731903076172,
          -21.867698669433594,
          -0.5616312623023987,
          -21.76460075378418,
          -24.362457275390625,
          -22.57187271118164,
          -22.26377296447754,
          -26.647172927856445,
          -20.099124908447266,
          -23.824552536010742,
          -24.34442901611328,
          -26.944072723388672,
          -24.928489685058594,
          -22.860471725463867
         ],
         "xaxis": "x",
         "y": [
          24.902286529541016,
          21.54570770263672,
          26.310359954833984,
          24.044513702392578,
          21.697479248046875,
          22.814498901367188,
          27.661226272583008,
          25.260093688964844,
          23.15764045715332,
          38.869930267333984,
          22.107372283935547,
          27.188953399658203,
          24.702409744262695,
          24.97536277770996,
          22.90065574645996,
          24.222131729125977,
          22.935684204101562,
          25.06012725830078,
          21.230579376220703,
          24.37872314453125,
          26.364103317260742,
          27.575681686401367,
          25.930152893066406,
          27.24595069885254,
          27.1523380279541,
          23.519020080566406,
          24.97063636779785,
          25.097097396850586,
          24.93062400817871,
          24.078147888183594,
          25.136974334716797,
          24.051454544067383,
          27.968339920043945,
          22.946361541748047,
          26.446414947509766,
          26.450559616088867,
          25.524919509887695,
          21.7818546295166,
          25.920480728149414,
          24.932693481445312,
          22.637584686279297,
          25.818647384643555,
          24.519258499145508,
          28.059370040893555,
          21.810998916625977,
          40.99125289916992,
          24.71705436706543,
          23.936647415161133,
          25.084381103515625,
          24.975757598876953,
          22.444406509399414,
          35.132205963134766,
          26.510005950927734,
          26.995817184448242,
          24.306991577148438,
          23.942913055419922,
          28.24212646484375,
          24.608854293823242,
          28.23671531677246,
          26.416339874267578,
          24.69422149658203,
          26.71587371826172,
          25.597116470336914,
          26.654586791992188,
          25.995534896850586,
          24.25522804260254,
          26.567445755004883,
          22.726398468017578,
          26.239524841308594,
          26.990415573120117,
          21.95342445373535,
          36.00479507446289,
          25.676368713378906,
          23.934646606445312,
          26.80645179748535,
          25.081724166870117,
          26.954652786254883,
          25.023927688598633,
          25.74617576599121,
          24.616857528686523,
          25.715242385864258,
          27.069692611694336,
          25.211612701416016
         ],
         "yaxis": "y"
        },
        {
         "customdata": [
          [
           "test"
          ],
          [
           "test"
          ],
          [
           "test"
          ],
          [
           "test"
          ],
          [
           "test"
          ],
          [
           "test"
          ],
          [
           "test"
          ],
          [
           "test"
          ],
          [
           "test"
          ],
          [
           "test"
          ],
          [
           "test"
          ],
          [
           "test"
          ],
          [
           "test"
          ],
          [
           "test"
          ],
          [
           "test"
          ],
          [
           "test"
          ],
          [
           "test"
          ]
         ],
         "hovertemplate": "identity=triangle_8inch_data<br>split=%{customdata[0]}<br>tsne-1=%{x}<br>tsne-2=%{y}<extra></extra>",
         "legendgroup": "triangle_8inch_data, test",
         "marker": {
          "color": "#636efa",
          "symbol": "x"
         },
         "mode": "markers",
         "name": "triangle_8inch_data, test",
         "showlegend": true,
         "type": "scattergl",
         "x": [
          -24.12607765197754,
          -26.567068099975586,
          -24.186691284179688,
          -25.689775466918945,
          -24.102886199951172,
          -26.2324161529541,
          -0.24649189412593842,
          -18.89613151550293,
          -23.39023780822754,
          -25.3635311126709,
          -21.54943084716797,
          -23.148086547851562,
          -22.644916534423828,
          -25.956026077270508,
          -0.7042843699455261,
          -24.371089935302734,
          -27.59343719482422
         ],
         "xaxis": "x",
         "y": [
          25.571462631225586,
          28.437030792236328,
          21.089405059814453,
          21.945545196533203,
          24.92030143737793,
          25.065153121948242,
          38.198421478271484,
          23.615907669067383,
          24.334287643432617,
          27.060020446777344,
          24.63167381286621,
          23.678234100341797,
          21.68877601623535,
          27.08414077758789,
          40.08060073852539,
          23.430313110351562,
          26.297714233398438
         ],
         "yaxis": "y"
        },
        {
         "customdata": [
          [
           "train"
          ],
          [
           "train"
          ],
          [
           "train"
          ],
          [
           "train"
          ],
          [
           "train"
          ],
          [
           "train"
          ],
          [
           "train"
          ],
          [
           "train"
          ],
          [
           "train"
          ],
          [
           "train"
          ],
          [
           "train"
          ],
          [
           "train"
          ],
          [
           "train"
          ],
          [
           "train"
          ],
          [
           "train"
          ],
          [
           "train"
          ],
          [
           "train"
          ],
          [
           "train"
          ],
          [
           "train"
          ],
          [
           "train"
          ],
          [
           "train"
          ],
          [
           "train"
          ],
          [
           "train"
          ],
          [
           "train"
          ],
          [
           "train"
          ],
          [
           "train"
          ],
          [
           "train"
          ],
          [
           "train"
          ],
          [
           "train"
          ],
          [
           "train"
          ],
          [
           "train"
          ],
          [
           "train"
          ],
          [
           "train"
          ],
          [
           "train"
          ],
          [
           "train"
          ],
          [
           "train"
          ],
          [
           "train"
          ],
          [
           "train"
          ],
          [
           "train"
          ],
          [
           "train"
          ],
          [
           "train"
          ],
          [
           "train"
          ],
          [
           "train"
          ],
          [
           "train"
          ],
          [
           "train"
          ],
          [
           "train"
          ],
          [
           "train"
          ],
          [
           "train"
          ],
          [
           "train"
          ],
          [
           "train"
          ],
          [
           "train"
          ],
          [
           "train"
          ],
          [
           "train"
          ],
          [
           "train"
          ],
          [
           "train"
          ],
          [
           "train"
          ],
          [
           "train"
          ],
          [
           "train"
          ],
          [
           "train"
          ],
          [
           "train"
          ],
          [
           "train"
          ],
          [
           "train"
          ],
          [
           "train"
          ],
          [
           "train"
          ],
          [
           "train"
          ],
          [
           "train"
          ],
          [
           "train"
          ],
          [
           "train"
          ],
          [
           "train"
          ],
          [
           "train"
          ],
          [
           "train"
          ],
          [
           "train"
          ],
          [
           "train"
          ],
          [
           "train"
          ],
          [
           "train"
          ],
          [
           "train"
          ],
          [
           "train"
          ],
          [
           "train"
          ],
          [
           "train"
          ],
          [
           "train"
          ],
          [
           "train"
          ],
          [
           "train"
          ],
          [
           "train"
          ]
         ],
         "hovertemplate": "identity=N_4inch_data<br>split=%{customdata[0]}<br>tsne-1=%{x}<br>tsne-2=%{y}<extra></extra>",
         "legendgroup": "N_4inch_data, train",
         "marker": {
          "color": "#EF553B",
          "symbol": "circle"
         },
         "mode": "markers",
         "name": "N_4inch_data, train",
         "showlegend": true,
         "type": "scattergl",
         "x": [
          18.83782386779785,
          9.258071899414062,
          9.827766418457031,
          19.136816024780273,
          17.522743225097656,
          7.530228137969971,
          8.756394386291504,
          17.488197326660156,
          15.034191131591797,
          4.9552812576293945,
          13.167553901672363,
          15.355903625488281,
          15.553817749023438,
          13.420150756835938,
          11.339029312133789,
          13.214027404785156,
          13.319477081298828,
          14.143207550048828,
          18.40839958190918,
          16.911006927490234,
          18.570453643798828,
          12.674286842346191,
          18.642122268676758,
          14.804793357849121,
          12.715903282165527,
          15.313861846923828,
          15.096367835998535,
          14.665144920349121,
          15.959020614624023,
          12.74360466003418,
          18.691259384155273,
          10.099227905273438,
          14.965790748596191,
          15.452880859375,
          11.003904342651367,
          15.329934120178223,
          17.863670349121094,
          16.737586975097656,
          18.47217559814453,
          22.577632904052734,
          8.228238105773926,
          15.289565086364746,
          16.369890213012695,
          8.430222511291504,
          16.07343864440918,
          16.3558292388916,
          16.66473388671875,
          18.746479034423828,
          17.062213897705078,
          23.874006271362305,
          13.931977272033691,
          8.861920356750488,
          19.18819236755371,
          16.097553253173828,
          14.742932319641113,
          17.92702293395996,
          14.77155876159668,
          8.256555557250977,
          16.04033660888672,
          13.086931228637695,
          12.850534439086914,
          17.774526596069336,
          12.915504455566406,
          17.431306838989258,
          16.83971405029297,
          16.41939353942871,
          14.508333206176758,
          17.41732406616211,
          16.797595977783203,
          15.425806045532227,
          17.08740234375,
          15.793527603149414,
          12.905320167541504,
          15.646402359008789,
          15.844409942626953,
          10.476255416870117,
          8.239493370056152,
          18.577741622924805,
          17.63296127319336,
          17.09048080444336,
          17.63089942932129,
          17.051841735839844,
          16.9423828125
         ],
         "xaxis": "x",
         "y": [
          -3.3327524662017822,
          -1.932363510131836,
          2.7347171306610107,
          0.8026816844940186,
          -0.6140763163566589,
          0.061921555548906326,
          -2.6298916339874268,
          0.5043688416481018,
          -0.13156285881996155,
          -5.176663875579834,
          -3.16188383102417,
          -1.3949837684631348,
          0.7802736163139343,
          2.1040802001953125,
          -3.5079686641693115,
          -0.03412617743015289,
          -0.3367865979671478,
          -0.04163606837391853,
          -1.2410105466842651,
          0.8524851202964783,
          1.3145521879196167,
          0.662197470664978,
          -2.4195289611816406,
          1.0687401294708252,
          -1.3633203506469727,
          0.9172291159629822,
          0.6221509575843811,
          1.8289896249771118,
          1.0853208303451538,
          -1.5201910734176636,
          -1.6578497886657715,
          0.03355808183550835,
          -2.8377764225006104,
          -0.9386401176452637,
          0.7839265465736389,
          1.8471252918243408,
          0.12819048762321472,
          2.13392972946167,
          0.8585111498832703,
          11.20698070526123,
          4.793576240539551,
          1.5425909757614136,
          -0.4795008897781372,
          6.729152202606201,
          -2.6314375400543213,
          -3.285379648208618,
          -3.475450277328491,
          0.18783201277256012,
          -3.077699899673462,
          13.602225303649902,
          -1.0815534591674805,
          5.974743366241455,
          -1.3400946855545044,
          1.5868221521377563,
          -3.5926942825317383,
          -2.026865005493164,
          -1.5283979177474976,
          5.4926862716674805,
          -0.26194339990615845,
          1.6114957332611084,
          1.0670082569122314,
          -4.682270526885986,
          1.1841953992843628,
          -4.102338790893555,
          -2.1380739212036133,
          -3.635573625564575,
          -0.6596128940582275,
          1.0776827335357666,
          0.35836681723594666,
          -5.58449125289917,
          -1.3969753980636597,
          0.14486190676689148,
          0.07270032167434692,
          1.1462581157684326,
          -2.602961301803589,
          0.7021366953849792,
          4.952956199645996,
          1.3774445056915283,
          -2.3583858013153076,
          -2.7262837886810303,
          0.9362490773200989,
          -0.3032207489013672,
          1.4157919883728027
         ],
         "yaxis": "y"
        },
        {
         "customdata": [
          [
           "test"
          ],
          [
           "test"
          ],
          [
           "test"
          ],
          [
           "test"
          ],
          [
           "test"
          ],
          [
           "test"
          ],
          [
           "test"
          ],
          [
           "test"
          ],
          [
           "test"
          ],
          [
           "test"
          ],
          [
           "test"
          ],
          [
           "test"
          ],
          [
           "test"
          ],
          [
           "test"
          ],
          [
           "test"
          ],
          [
           "test"
          ],
          [
           "test"
          ]
         ],
         "hovertemplate": "identity=N_4inch_data<br>split=%{customdata[0]}<br>tsne-1=%{x}<br>tsne-2=%{y}<extra></extra>",
         "legendgroup": "N_4inch_data, test",
         "marker": {
          "color": "#EF553B",
          "symbol": "x"
         },
         "mode": "markers",
         "name": "N_4inch_data, test",
         "showlegend": true,
         "type": "scattergl",
         "x": [
          14.112136840820312,
          14.515816688537598,
          18.222490310668945,
          16.7042293548584,
          14.814986228942871,
          16.135622024536133,
          19.84490966796875,
          15.035905838012695,
          23.72134017944336,
          16.192583084106445,
          17.001216888427734,
          12.418381690979004,
          16.38178062438965,
          16.12052345275879,
          13.391979217529297,
          19.118953704833984,
          17.71255111694336
         ],
         "xaxis": "x",
         "y": [
          -1.807228922843933,
          1.0600476264953613,
          1.5692282915115356,
          -0.5348609685897827,
          -2.1307196617126465,
          -0.1453343629837036,
          0.9295945763587952,
          -2.3095033168792725,
          11.519852638244629,
          2.154128074645996,
          -2.8640501499176025,
          -4.305568218231201,
          -1.102667212486267,
          -0.9161391854286194,
          -1.4041022062301636,
          -1.1866883039474487,
          -0.9842818975448608
         ],
         "yaxis": "y"
        },
        {
         "customdata": [
          [
           "train"
          ],
          [
           "train"
          ],
          [
           "train"
          ],
          [
           "train"
          ],
          [
           "train"
          ],
          [
           "train"
          ],
          [
           "train"
          ],
          [
           "train"
          ],
          [
           "train"
          ],
          [
           "train"
          ],
          [
           "train"
          ],
          [
           "train"
          ],
          [
           "train"
          ],
          [
           "train"
          ],
          [
           "train"
          ],
          [
           "train"
          ],
          [
           "train"
          ],
          [
           "train"
          ],
          [
           "train"
          ],
          [
           "train"
          ],
          [
           "train"
          ],
          [
           "train"
          ],
          [
           "train"
          ],
          [
           "train"
          ],
          [
           "train"
          ],
          [
           "train"
          ],
          [
           "train"
          ],
          [
           "train"
          ],
          [
           "train"
          ],
          [
           "train"
          ],
          [
           "train"
          ],
          [
           "train"
          ],
          [
           "train"
          ],
          [
           "train"
          ],
          [
           "train"
          ],
          [
           "train"
          ],
          [
           "train"
          ],
          [
           "train"
          ],
          [
           "train"
          ],
          [
           "train"
          ],
          [
           "train"
          ],
          [
           "train"
          ],
          [
           "train"
          ],
          [
           "train"
          ],
          [
           "train"
          ],
          [
           "train"
          ],
          [
           "train"
          ],
          [
           "train"
          ],
          [
           "train"
          ],
          [
           "train"
          ],
          [
           "train"
          ],
          [
           "train"
          ],
          [
           "train"
          ],
          [
           "train"
          ],
          [
           "train"
          ],
          [
           "train"
          ],
          [
           "train"
          ],
          [
           "train"
          ],
          [
           "train"
          ],
          [
           "train"
          ],
          [
           "train"
          ],
          [
           "train"
          ],
          [
           "train"
          ],
          [
           "train"
          ],
          [
           "train"
          ],
          [
           "train"
          ],
          [
           "train"
          ],
          [
           "train"
          ],
          [
           "train"
          ],
          [
           "train"
          ],
          [
           "train"
          ],
          [
           "train"
          ],
          [
           "train"
          ],
          [
           "train"
          ],
          [
           "train"
          ],
          [
           "train"
          ],
          [
           "train"
          ]
         ],
         "hovertemplate": "identity=O_4inch_data<br>split=%{customdata[0]}<br>tsne-1=%{x}<br>tsne-2=%{y}<extra></extra>",
         "legendgroup": "O_4inch_data, train",
         "marker": {
          "color": "#00cc96",
          "symbol": "circle"
         },
         "mode": "markers",
         "name": "O_4inch_data, train",
         "showlegend": true,
         "type": "scattergl",
         "x": [
          -30.13313865661621,
          -26.820878982543945,
          -24.862789154052734,
          -34.611568450927734,
          -29.707117080688477,
          -27.512678146362305,
          -29.530546188354492,
          -37.04313659667969,
          -25.600929260253906,
          -27.027263641357422,
          -24.722333908081055,
          -25.054065704345703,
          -34.27472686767578,
          -38.760501861572266,
          -35.423828125,
          -28.82683563232422,
          -26.68471908569336,
          -23.860456466674805,
          -27.288484573364258,
          -27.505081176757812,
          -26.260473251342773,
          -26.885400772094727,
          -25.74400520324707,
          -28.44188690185547,
          -24.271821975708008,
          -24.970888137817383,
          -32.17898941040039,
          -39.49711227416992,
          -25.104942321777344,
          -26.030237197875977,
          -23.299827575683594,
          -28.643877029418945,
          -26.310596466064453,
          -27.345115661621094,
          -23.94813346862793,
          -27.551895141601562,
          -27.078859329223633,
          -24.699899673461914,
          -25.040632247924805,
          -29.28783416748047,
          -26.66868782043457,
          -25.20166015625,
          -37.07334899902344,
          -28.601276397705078,
          -25.04242706298828,
          -24.30290985107422,
          -27.479524612426758,
          -26.35114288330078,
          -25.168264389038086,
          -28.91289710998535,
          -38.36662673950195,
          -24.356077194213867,
          -27.809803009033203,
          -23.498809814453125,
          -22.387468338012695,
          -38.247737884521484,
          -25.667455673217773,
          -27.013710021972656,
          -25.716699600219727,
          -25.378124237060547,
          -27.984107971191406,
          -25.63035774230957,
          -29.193771362304688,
          -25.861328125,
          -28.50433349609375,
          -33.272499084472656,
          -31.974987030029297,
          -26.039838790893555,
          -24.33693504333496,
          -24.353260040283203,
          -25.450178146362305,
          -29.394641876220703,
          -25.614072799682617,
          -25.067697525024414,
          -27.39579963684082,
          -27.709352493286133,
          -28.27661895751953
         ],
         "xaxis": "x",
         "y": [
          -12.713386535644531,
          -11.66038703918457,
          -7.420873641967773,
          -9.432579040527344,
          -3.8665294647216797,
          -12.368372917175293,
          -4.317078113555908,
          -9.860759735107422,
          -4.82280969619751,
          -13.746782302856445,
          -8.060626029968262,
          -16.020105361938477,
          -9.937725067138672,
          -8.061111450195312,
          -13.389862060546875,
          -8.863429069519043,
          -6.668288230895996,
          -9.101675987243652,
          -15.398024559020996,
          -8.663697242736816,
          -15.538662910461426,
          -14.933732032775879,
          -7.650068759918213,
          -17.27297019958496,
          -14.636513710021973,
          -15.446415901184082,
          -6.221771717071533,
          -8.5477294921875,
          -9.970011711120605,
          -6.9408793449401855,
          -6.794007778167725,
          -6.923196315765381,
          -11.897329330444336,
          -16.703407287597656,
          -10.042654037475586,
          -9.236169815063477,
          -10.894756317138672,
          -10.984567642211914,
          -14.404047966003418,
          -7.854983806610107,
          -9.139444351196289,
          -12.170308113098145,
          -9.88117790222168,
          -11.984119415283203,
          -8.286781311035156,
          -15.0056791305542,
          -10.520920753479004,
          -15.443575859069824,
          -15.153059959411621,
          -8.702880859375,
          -8.218955993652344,
          -4.092851161956787,
          -10.79798698425293,
          -14.998984336853027,
          -14.523916244506836,
          -7.698218822479248,
          -6.472131252288818,
          -14.41845417022705,
          -15.880232810974121,
          -6.068023681640625,
          -13.032369613647461,
          -7.563360691070557,
          -1.2660555839538574,
          -12.828845977783203,
          -8.755452156066895,
          -10.154254913330078,
          -17.371530532836914,
          -6.575175762176514,
          -9.965996742248535,
          -13.502605438232422,
          -13.40932846069336,
          -5.689411640167236,
          -15.06695556640625,
          -8.890116691589355,
          -5.890354156494141,
          -8.032817840576172,
          -16.78584861755371
         ],
         "yaxis": "y"
        },
        {
         "customdata": [
          [
           "test"
          ],
          [
           "test"
          ],
          [
           "test"
          ],
          [
           "test"
          ],
          [
           "test"
          ],
          [
           "test"
          ],
          [
           "test"
          ],
          [
           "test"
          ],
          [
           "test"
          ],
          [
           "test"
          ],
          [
           "test"
          ],
          [
           "test"
          ],
          [
           "test"
          ],
          [
           "test"
          ],
          [
           "test"
          ],
          [
           "test"
          ],
          [
           "test"
          ],
          [
           "test"
          ],
          [
           "test"
          ],
          [
           "test"
          ],
          [
           "test"
          ],
          [
           "test"
          ],
          [
           "test"
          ]
         ],
         "hovertemplate": "identity=O_4inch_data<br>split=%{customdata[0]}<br>tsne-1=%{x}<br>tsne-2=%{y}<extra></extra>",
         "legendgroup": "O_4inch_data, test",
         "marker": {
          "color": "#00cc96",
          "symbol": "x"
         },
         "mode": "markers",
         "name": "O_4inch_data, test",
         "showlegend": true,
         "type": "scattergl",
         "x": [
          -28.184667587280273,
          -26.102378845214844,
          -25.930696487426758,
          -26.6016788482666,
          -27.510557174682617,
          -29.109392166137695,
          -37.820037841796875,
          -24.815202713012695,
          -26.679725646972656,
          -30.97079086303711,
          -31.76176643371582,
          -28.19564437866211,
          -29.48155403137207,
          -25.692716598510742,
          -24.731420516967773,
          -29.026275634765625,
          -34.208717346191406,
          -27.162860870361328,
          -28.156177520751953,
          -25.287979125976562,
          -24.851314544677734,
          -27.250404357910156,
          -23.9586181640625
         ],
         "xaxis": "x",
         "y": [
          -7.788311004638672,
          -10.053079605102539,
          -9.751197814941406,
          -13.617781639099121,
          -13.99812126159668,
          -8.457014083862305,
          -7.267999172210693,
          -11.083062171936035,
          -14.031280517578125,
          -5.38375186920166,
          -4.70310115814209,
          -4.582052707672119,
          -8.393409729003906,
          -13.772618293762207,
          -15.510226249694824,
          -7.4160475730896,
          -10.165063858032227,
          -6.482410907745361,
          -9.902974128723145,
          -7.3651442527771,
          -11.215676307678223,
          -15.170342445373535,
          -6.5735182762146
         ],
         "yaxis": "y"
        },
        {
         "customdata": [
          [
           "train"
          ],
          [
           "train"
          ],
          [
           "train"
          ],
          [
           "train"
          ],
          [
           "train"
          ],
          [
           "train"
          ],
          [
           "train"
          ],
          [
           "train"
          ],
          [
           "train"
          ],
          [
           "train"
          ],
          [
           "train"
          ],
          [
           "train"
          ],
          [
           "train"
          ],
          [
           "train"
          ],
          [
           "train"
          ],
          [
           "train"
          ],
          [
           "train"
          ],
          [
           "train"
          ],
          [
           "train"
          ],
          [
           "train"
          ],
          [
           "train"
          ],
          [
           "train"
          ],
          [
           "train"
          ],
          [
           "train"
          ],
          [
           "train"
          ],
          [
           "train"
          ],
          [
           "train"
          ],
          [
           "train"
          ],
          [
           "train"
          ],
          [
           "train"
          ],
          [
           "train"
          ],
          [
           "train"
          ],
          [
           "train"
          ],
          [
           "train"
          ],
          [
           "train"
          ],
          [
           "train"
          ],
          [
           "train"
          ],
          [
           "train"
          ],
          [
           "train"
          ],
          [
           "train"
          ],
          [
           "train"
          ],
          [
           "train"
          ],
          [
           "train"
          ],
          [
           "train"
          ],
          [
           "train"
          ],
          [
           "train"
          ],
          [
           "train"
          ],
          [
           "train"
          ],
          [
           "train"
          ],
          [
           "train"
          ],
          [
           "train"
          ],
          [
           "train"
          ],
          [
           "train"
          ],
          [
           "train"
          ],
          [
           "train"
          ],
          [
           "train"
          ],
          [
           "train"
          ],
          [
           "train"
          ],
          [
           "train"
          ],
          [
           "train"
          ],
          [
           "train"
          ],
          [
           "train"
          ],
          [
           "train"
          ],
          [
           "train"
          ],
          [
           "train"
          ],
          [
           "train"
          ],
          [
           "train"
          ],
          [
           "train"
          ],
          [
           "train"
          ],
          [
           "train"
          ],
          [
           "train"
          ],
          [
           "train"
          ],
          [
           "train"
          ],
          [
           "train"
          ],
          [
           "train"
          ],
          [
           "train"
          ],
          [
           "train"
          ],
          [
           "train"
          ],
          [
           "train"
          ],
          [
           "train"
          ],
          [
           "train"
          ],
          [
           "train"
          ]
         ],
         "hovertemplate": "identity=O_8inch_data<br>split=%{customdata[0]}<br>tsne-1=%{x}<br>tsne-2=%{y}<extra></extra>",
         "legendgroup": "O_8inch_data, train",
         "marker": {
          "color": "#ab63fa",
          "symbol": "circle"
         },
         "mode": "markers",
         "name": "O_8inch_data, train",
         "showlegend": true,
         "type": "scattergl",
         "x": [
          -38.18782424926758,
          -25.235145568847656,
          -20.769683837890625,
          -26.746910095214844,
          -20.623964309692383,
          -22.45914077758789,
          -38.02490997314453,
          -30.791959762573242,
          -31.989604949951172,
          -36.319854736328125,
          -25.991270065307617,
          -25.719205856323242,
          -27.04483985900879,
          -20.567840576171875,
          -24.108243942260742,
          -28.189579010009766,
          -33.123722076416016,
          -37.0987548828125,
          -20.70043182373047,
          -24.371471405029297,
          -27.26180076599121,
          -26.24643898010254,
          -22.048084259033203,
          -30.174531936645508,
          -30.251266479492188,
          -23.046464920043945,
          -21.502023696899414,
          -34.2781982421875,
          -22.968334197998047,
          -25.049480438232422,
          -26.634645462036133,
          -39.13344192504883,
          -26.227746963500977,
          -24.58547019958496,
          -21.067760467529297,
          -27.65282440185547,
          -21.093923568725586,
          -27.623079299926758,
          -22.886394500732422,
          -25.08776092529297,
          -25.7059383392334,
          -26.807710647583008,
          -25.138235092163086,
          -35.837223052978516,
          -23.699981689453125,
          -27.16306495666504,
          -25.77491569519043,
          -34.78313064575195,
          -29.26439094543457,
          -24.54668617248535,
          -35.447540283203125,
          -35.850799560546875,
          -23.054643630981445,
          -23.656299591064453,
          -31.923851013183594,
          -25.503847122192383,
          -26.990034103393555,
          -25.067893981933594,
          -26.407114028930664,
          -39.1536865234375,
          -33.280086517333984,
          -24.831283569335938,
          -27.782468795776367,
          -38.41598892211914,
          -27.440603256225586,
          -34.49789810180664,
          -27.308002471923828,
          -25.6024227142334,
          -38.07420349121094,
          -35.462127685546875,
          -23.314212799072266,
          -24.676708221435547,
          -22.56287384033203,
          -22.50724983215332,
          -25.862802505493164,
          -23.529407501220703,
          -21.012962341308594,
          -22.963706970214844,
          -36.15842056274414,
          -26.415170669555664,
          -35.83283615112305,
          -24.17054557800293
         ],
         "xaxis": "x",
         "y": [
          -7.248937606811523,
          2.4791667461395264,
          3.7606372833251953,
          1.3648825883865356,
          3.67264986038208,
          3.021047592163086,
          -4.809510707855225,
          -7.352540493011475,
          -13.528900146484375,
          -2.087001085281372,
          -0.46771156787872314,
          0.21439722180366516,
          1.031936526298523,
          3.6424567699432373,
          1.8555676937103271,
          -9.16822624206543,
          -3.395073175430298,
          -9.185920715332031,
          3.63799786567688,
          -0.16185617446899414,
          0.04104386642575264,
          0.1946287602186203,
          3.3474180698394775,
          -14.587297439575195,
          -2.3725664615631104,
          -7.914167404174805,
          3.2838611602783203,
          -6.648749351501465,
          3.003958225250244,
          -7.054948806762695,
          0.8735918402671814,
          -8.216646194458008,
          0.7561484575271606,
          -3.826343059539795,
          3.609732151031494,
          1.9509714841842651,
          3.5990376472473145,
          0.9290472269058228,
          2.3039822578430176,
          1.2050929069519043,
          2.3746964931488037,
          -13.192400932312012,
          2.1758499145507812,
          -2.5916671752929688,
          2.8412230014801025,
          -7.161886692047119,
          -1.3290092945098877,
          -9.559599876403809,
          -14.991641998291016,
          0.9359256625175476,
          -4.604864597320557,
          -2.3838448524475098,
          -5.356741905212402,
          -7.692220687866211,
          -13.374687194824219,
          -0.4995132386684418,
          -0.18365736305713654,
          -1.960203766822815,
          0.14469340443611145,
          -8.401873588562012,
          -9.18566608428955,
          1.9695321321487427,
          1.545110821723938,
          -8.217854499816895,
          -1.2240911722183228,
          -1.5512677431106567,
          -1.1643327474594116,
          0.14341719448566437,
          -8.522704124450684,
          -2.34794545173645,
          -9.13469409942627,
          1.8118818998336792,
          3.0846469402313232,
          3.1039466857910156,
          1.9757343530654907,
          -1.8184207677841187,
          3.5220932960510254,
          2.8106586933135986,
          -3.474773406982422,
          -3.399437427520752,
          -14.83355712890625,
          -12.663532257080078
         ],
         "yaxis": "y"
        },
        {
         "customdata": [
          [
           "test"
          ],
          [
           "test"
          ],
          [
           "test"
          ],
          [
           "test"
          ],
          [
           "test"
          ],
          [
           "test"
          ],
          [
           "test"
          ],
          [
           "test"
          ],
          [
           "test"
          ],
          [
           "test"
          ],
          [
           "test"
          ],
          [
           "test"
          ],
          [
           "test"
          ],
          [
           "test"
          ],
          [
           "test"
          ],
          [
           "test"
          ],
          [
           "test"
          ],
          [
           "test"
          ]
         ],
         "hovertemplate": "identity=O_8inch_data<br>split=%{customdata[0]}<br>tsne-1=%{x}<br>tsne-2=%{y}<extra></extra>",
         "legendgroup": "O_8inch_data, test",
         "marker": {
          "color": "#ab63fa",
          "symbol": "x"
         },
         "mode": "markers",
         "name": "O_8inch_data, test",
         "showlegend": true,
         "type": "scattergl",
         "x": [
          -26.377870559692383,
          -31.879323959350586,
          -37.142181396484375,
          -26.88496971130371,
          -22.98672103881836,
          -24.764328002929688,
          -27.38225746154785,
          -23.596649169921875,
          -24.916994094848633,
          -25.773250579833984,
          -30.53797721862793,
          -22.14106559753418,
          -20.772220611572266,
          -38.528541564941406,
          -33.64737319946289,
          -25.94228172302246,
          -23.353801727294922,
          -24.451557159423828
         ],
         "xaxis": "x",
         "y": [
          -0.09038684517145157,
          -13.53713607788086,
          -6.191420555114746,
          1.6125296354293823,
          -4.687757968902588,
          2.6103391647338867,
          -11.574615478515625,
          1.2998820543289185,
          -6.5169172286987305,
          -4.733593940734863,
          -11.317806243896484,
          3.342362880706787,
          3.5919878482818604,
          -4.714597702026367,
          -2.2169036865234375,
          -0.6310293674468994,
          3.2296361923217773,
          0.8569942116737366
         ],
         "yaxis": "y"
        },
        {
         "customdata": [
          [
           "train"
          ],
          [
           "train"
          ],
          [
           "train"
          ],
          [
           "train"
          ],
          [
           "train"
          ],
          [
           "train"
          ],
          [
           "train"
          ],
          [
           "train"
          ],
          [
           "train"
          ],
          [
           "train"
          ],
          [
           "train"
          ],
          [
           "train"
          ],
          [
           "train"
          ],
          [
           "train"
          ],
          [
           "train"
          ],
          [
           "train"
          ],
          [
           "train"
          ],
          [
           "train"
          ],
          [
           "train"
          ],
          [
           "train"
          ],
          [
           "train"
          ],
          [
           "train"
          ],
          [
           "train"
          ],
          [
           "train"
          ],
          [
           "train"
          ],
          [
           "train"
          ],
          [
           "train"
          ],
          [
           "train"
          ],
          [
           "train"
          ],
          [
           "train"
          ],
          [
           "train"
          ],
          [
           "train"
          ],
          [
           "train"
          ],
          [
           "train"
          ],
          [
           "train"
          ],
          [
           "train"
          ],
          [
           "train"
          ],
          [
           "train"
          ],
          [
           "train"
          ],
          [
           "train"
          ],
          [
           "train"
          ],
          [
           "train"
          ],
          [
           "train"
          ],
          [
           "train"
          ],
          [
           "train"
          ],
          [
           "train"
          ],
          [
           "train"
          ],
          [
           "train"
          ],
          [
           "train"
          ],
          [
           "train"
          ],
          [
           "train"
          ],
          [
           "train"
          ],
          [
           "train"
          ],
          [
           "train"
          ],
          [
           "train"
          ],
          [
           "train"
          ],
          [
           "train"
          ],
          [
           "train"
          ],
          [
           "train"
          ],
          [
           "train"
          ],
          [
           "train"
          ],
          [
           "train"
          ],
          [
           "train"
          ],
          [
           "train"
          ],
          [
           "train"
          ],
          [
           "train"
          ],
          [
           "train"
          ],
          [
           "train"
          ],
          [
           "train"
          ],
          [
           "train"
          ],
          [
           "train"
          ],
          [
           "train"
          ],
          [
           "train"
          ],
          [
           "train"
          ],
          [
           "train"
          ],
          [
           "train"
          ],
          [
           "train"
          ],
          [
           "train"
          ],
          [
           "train"
          ],
          [
           "train"
          ],
          [
           "train"
          ],
          [
           "train"
          ],
          [
           "train"
          ]
         ],
         "hovertemplate": "identity=triangle_4inch_data<br>split=%{customdata[0]}<br>tsne-1=%{x}<br>tsne-2=%{y}<extra></extra>",
         "legendgroup": "triangle_4inch_data, train",
         "marker": {
          "color": "#FFA15A",
          "symbol": "circle"
         },
         "mode": "markers",
         "name": "triangle_4inch_data, train",
         "showlegend": true,
         "type": "scattergl",
         "x": [
          -2.3073885440826416,
          -2.480982542037964,
          -1.9600635766983032,
          -5.388186931610107,
          -1.142795205116272,
          -1.8707122802734375,
          -0.7194966077804565,
          -3.134162425994873,
          -2.2389650344848633,
          -1.8312033414840698,
          -0.10767920315265656,
          1.1791765689849854,
          -0.656482994556427,
          -0.8983055353164673,
          -1.913938283920288,
          -1.4180982112884521,
          -1.4460363388061523,
          -5.021677494049072,
          -3.199946165084839,
          -2.8618969917297363,
          -0.23817329108715057,
          -2.395603656768799,
          -4.98862886428833,
          -0.4264407157897949,
          -2.612424373626709,
          -4.257102966308594,
          -2.0755534172058105,
          -4.014561653137207,
          -5.228822231292725,
          -3.206019639968872,
          -1.1124870777130127,
          -0.7065895795822144,
          -1.8431990146636963,
          -0.2933672070503235,
          -1.0338579416275024,
          -0.28836357593536377,
          -1.1997119188308716,
          -4.63330078125,
          -0.951123058795929,
          -2.0998849868774414,
          -2.4982025623321533,
          -1.075136661529541,
          -1.0982459783554077,
          -3.780977487564087,
          -2.618299961090088,
          -1.4144095182418823,
          -1.6008096933364868,
          -5.901919841766357,
          -2.5919559001922607,
          -3.6445696353912354,
          -1.577472448348999,
          1.5635098218917847,
          -0.6132873892784119,
          -2.6346755027770996,
          -1.6285439729690552,
          -1.5200221538543701,
          -0.5447837710380554,
          -1.2202160358428955,
          -3.686478614807129,
          -1.270692229270935,
          -2.8498284816741943,
          -0.6109058260917664,
          -0.9283628463745117,
          -1.245762586593628,
          0.39115020632743835,
          -4.621493816375732,
          -3.884455680847168,
          -0.8126421570777893,
          -1.231002688407898,
          -2.384031057357788,
          -1.5499262809753418,
          -3.264281749725342,
          -1.8306305408477783,
          -1.0620719194412231,
          -1.6158344745635986,
          -5.2247209548950195,
          -5.079755783081055,
          -2.412587881088257,
          -3.3596930503845215,
          -2.4709606170654297,
          0.5898642539978027,
          -3.1745877265930176,
          -3.408315420150757
         ],
         "xaxis": "x",
         "y": [
          38.0606689453125,
          30.464601516723633,
          38.42306137084961,
          39.91118621826172,
          35.37596893310547,
          38.37586975097656,
          36.62015914916992,
          43.03528594970703,
          30.600584030151367,
          41.333396911621094,
          39.826202392578125,
          37.55290222167969,
          41.01495361328125,
          38.12810134887695,
          34.78668212890625,
          42.13212203979492,
          41.79141616821289,
          40.45161819458008,
          39.72818374633789,
          40.51205825805664,
          37.757930755615234,
          43.108882904052734,
          42.223236083984375,
          41.6495475769043,
          39.382686614990234,
          42.383060455322266,
          41.288570404052734,
          39.11778259277344,
          41.80072021484375,
          42.7835693359375,
          40.699073791503906,
          28.5164794921875,
          42.50686264038086,
          43.03860855102539,
          35.983760833740234,
          40.323272705078125,
          38.07768249511719,
          41.26021194458008,
          28.67731285095215,
          40.24256134033203,
          39.291297912597656,
          35.90462112426758,
          40.7859001159668,
          42.5794792175293,
          43.34836959838867,
          37.06915283203125,
          40.31985855102539,
          41.96040344238281,
          42.79159164428711,
          42.039642333984375,
          42.240718841552734,
          38.48586654663086,
          43.087974548339844,
          43.07347869873047,
          41.423187255859375,
          29.677419662475586,
          40.31940841674805,
          35.2579460144043,
          40.48350524902344,
          39.387081146240234,
          37.69936752319336,
          39.261837005615234,
          41.42308807373047,
          43.045196533203125,
          38.16206741333008,
          39.94826126098633,
          42.132102966308594,
          41.99102783203125,
          38.95497131347656,
          38.49112319946289,
          43.369239807128906,
          39.96333694458008,
          30.274879455566406,
          36.655914306640625,
          29.838592529296875,
          40.08203887939453,
          41.00165939331055,
          40.235469818115234,
          42.41236114501953,
          40.01057815551758,
          37.91056442260742,
          42.08852005004883,
          42.01554870605469
         ],
         "yaxis": "y"
        },
        {
         "customdata": [
          [
           "test"
          ],
          [
           "test"
          ],
          [
           "test"
          ],
          [
           "test"
          ],
          [
           "test"
          ],
          [
           "test"
          ],
          [
           "test"
          ],
          [
           "test"
          ],
          [
           "test"
          ],
          [
           "test"
          ],
          [
           "test"
          ],
          [
           "test"
          ],
          [
           "test"
          ],
          [
           "test"
          ],
          [
           "test"
          ],
          [
           "test"
          ],
          [
           "test"
          ]
         ],
         "hovertemplate": "identity=triangle_4inch_data<br>split=%{customdata[0]}<br>tsne-1=%{x}<br>tsne-2=%{y}<extra></extra>",
         "legendgroup": "triangle_4inch_data, test",
         "marker": {
          "color": "#FFA15A",
          "symbol": "x"
         },
         "mode": "markers",
         "name": "triangle_4inch_data, test",
         "showlegend": true,
         "type": "scattergl",
         "x": [
          -1.6286789178848267,
          -4.875188827514648,
          -3.515629529953003,
          -2.8151659965515137,
          -1.2336902618408203,
          -1.9732908010482788,
          -2.651729106903076,
          -2.473090887069702,
          0.6743141412734985,
          -1.8430559635162354,
          -3.0259172916412354,
          -0.9443562626838684,
          -2.33089542388916,
          -4.840359210968018,
          0.8855208158493042,
          1.47642183303833,
          -1.384189248085022
         ],
         "xaxis": "x",
         "y": [
          37.93791961669922,
          40.90260696411133,
          43.0473747253418,
          40.65959930419922,
          37.87883758544922,
          37.98863220214844,
          41.97932815551758,
          39.55925750732422,
          37.853797912597656,
          40.853092193603516,
          36.2039680480957,
          37.27389144897461,
          40.518856048583984,
          29.619884490966797,
          37.959983825683594,
          38.19529342651367,
          36.75798797607422
         ],
         "yaxis": "y"
        },
        {
         "customdata": [
          [
           "train"
          ],
          [
           "train"
          ],
          [
           "train"
          ],
          [
           "train"
          ],
          [
           "train"
          ],
          [
           "train"
          ],
          [
           "train"
          ],
          [
           "train"
          ],
          [
           "train"
          ],
          [
           "train"
          ],
          [
           "train"
          ],
          [
           "train"
          ],
          [
           "train"
          ],
          [
           "train"
          ],
          [
           "train"
          ],
          [
           "train"
          ],
          [
           "train"
          ],
          [
           "train"
          ],
          [
           "train"
          ],
          [
           "train"
          ],
          [
           "train"
          ],
          [
           "train"
          ],
          [
           "train"
          ],
          [
           "train"
          ],
          [
           "train"
          ],
          [
           "train"
          ],
          [
           "train"
          ],
          [
           "train"
          ],
          [
           "train"
          ],
          [
           "train"
          ],
          [
           "train"
          ],
          [
           "train"
          ],
          [
           "train"
          ],
          [
           "train"
          ],
          [
           "train"
          ],
          [
           "train"
          ],
          [
           "train"
          ],
          [
           "train"
          ],
          [
           "train"
          ],
          [
           "train"
          ],
          [
           "train"
          ],
          [
           "train"
          ],
          [
           "train"
          ],
          [
           "train"
          ],
          [
           "train"
          ],
          [
           "train"
          ],
          [
           "train"
          ],
          [
           "train"
          ],
          [
           "train"
          ],
          [
           "train"
          ],
          [
           "train"
          ],
          [
           "train"
          ],
          [
           "train"
          ],
          [
           "train"
          ],
          [
           "train"
          ],
          [
           "train"
          ],
          [
           "train"
          ],
          [
           "train"
          ],
          [
           "train"
          ],
          [
           "train"
          ],
          [
           "train"
          ],
          [
           "train"
          ],
          [
           "train"
          ],
          [
           "train"
          ],
          [
           "train"
          ],
          [
           "train"
          ],
          [
           "train"
          ],
          [
           "train"
          ],
          [
           "train"
          ],
          [
           "train"
          ],
          [
           "train"
          ],
          [
           "train"
          ],
          [
           "train"
          ],
          [
           "train"
          ],
          [
           "train"
          ],
          [
           "train"
          ],
          [
           "train"
          ],
          [
           "train"
          ],
          [
           "train"
          ],
          [
           "train"
          ],
          [
           "train"
          ],
          [
           "train"
          ],
          [
           "train"
          ]
         ],
         "hovertemplate": "identity=small_rectangle_data<br>split=%{customdata[0]}<br>tsne-1=%{x}<br>tsne-2=%{y}<extra></extra>",
         "legendgroup": "small_rectangle_data, train",
         "marker": {
          "color": "#19d3f3",
          "symbol": "circle"
         },
         "mode": "markers",
         "name": "small_rectangle_data, train",
         "showlegend": true,
         "type": "scattergl",
         "x": [
          -6.407643795013428,
          -6.8468804359436035,
          -24.10695457458496,
          -1.585886001586914,
          -5.626990795135498,
          -3.9220268726348877,
          -4.792969703674316,
          -3.999826431274414,
          -3.356637954711914,
          -4.6779093742370605,
          -6.912522792816162,
          -3.085965156555176,
          -4.031114101409912,
          -1.6073204278945923,
          -2.3306937217712402,
          -1.4727123975753784,
          -5.295042514801025,
          -3.2482991218566895,
          -3.996263265609741,
          -4.164061069488525,
          27.094650268554688,
          -1.933255672454834,
          -3.6147541999816895,
          -2.6962432861328125,
          -1.695774793624878,
          -2.0488452911376953,
          -4.683168411254883,
          -6.29302978515625,
          -6.287029266357422,
          -3.400132656097412,
          -5.781200885772705,
          -1.264193058013916,
          -6.070921897888184,
          -1.1357851028442383,
          -5.892016410827637,
          -5.438676357269287,
          -3.7336361408233643,
          -0.6688668727874756,
          -4.965479850769043,
          -5.925333499908447,
          -1.2547844648361206,
          -1.1901755332946777,
          -2.7382562160491943,
          -4.553968906402588,
          -2.3968429565429688,
          -2.5323314666748047,
          -4.80387020111084,
          -3.1979548931121826,
          -3.6813902854919434,
          -5.933919429779053,
          -4.601585865020752,
          -1.6094971895217896,
          -2.397662401199341,
          -4.145396709442139,
          -2.8085052967071533,
          -4.486917018890381,
          -2.9560627937316895,
          -2.1623637676239014,
          -2.814074993133545,
          -5.991960048675537,
          -4.0204758644104,
          -4.452696800231934,
          -7.567514419555664,
          -2.513566255569458,
          -3.664761543273926,
          -2.402956247329712,
          -4.281901836395264,
          -6.24974250793457,
          -5.510150909423828,
          -4.167722225189209,
          -2.961658477783203,
          -3.1810426712036133,
          -2.6153852939605713,
          -4.792848110198975,
          -1.8761252164840698,
          -2.4129862785339355,
          -7.063708782196045,
          -2.648247480392456,
          -0.9592167139053345,
          24.92979621887207,
          -1.213714838027954,
          -5.271459102630615,
          -2.1060307025909424
         ],
         "xaxis": "x",
         "y": [
          25.312414169311523,
          28.035993576049805,
          28.874744415283203,
          30.94761085510254,
          27.53494644165039,
          27.58247184753418,
          29.933242797851562,
          30.73878288269043,
          27.115835189819336,
          29.238039016723633,
          25.106069564819336,
          25.398075103759766,
          28.96465301513672,
          27.113412857055664,
          23.512109756469727,
          24.18086051940918,
          29.7841854095459,
          23.852733612060547,
          28.101713180541992,
          23.947879791259766,
          17.737167358398438,
          23.02269744873047,
          24.420310974121094,
          33.96009826660156,
          25.948881149291992,
          27.621641159057617,
          23.690006256103516,
          26.15941047668457,
          26.798843383789062,
          24.106456756591797,
          29.092262268066406,
          26.83605194091797,
          27.965850830078125,
          29.344829559326172,
          26.944154739379883,
          28.59168815612793,
          25.91432762145996,
          27.357227325439453,
          25.1306095123291,
          28.280858993530273,
          24.79118537902832,
          26.841033935546875,
          24.144466400146484,
          29.822734832763672,
          29.339162826538086,
          26.155366897583008,
          25.17232322692871,
          23.28837776184082,
          23.370433807373047,
          28.099735260009766,
          23.99008560180664,
          29.61163330078125,
          24.131834030151367,
          25.75154685974121,
          26.786956787109375,
          26.83626365661621,
          24.49196434020996,
          32.7411994934082,
          23.972122192382812,
          28.42182731628418,
          27.349746704101562,
          29.22667121887207,
          25.48515510559082,
          27.919784545898438,
          26.369993209838867,
          23.7098445892334,
          31.478271484375,
          24.991056442260742,
          24.81510353088379,
          27.36312484741211,
          24.988805770874023,
          28.575082778930664,
          23.04222297668457,
          26.619129180908203,
          28.761301040649414,
          27.832870483398438,
          27.3129825592041,
          27.68904685974121,
          25.0886287689209,
          16.673805236816406,
          28.388534545898438,
          30.054025650024414,
          26.33791160583496
         ],
         "yaxis": "y"
        },
        {
         "customdata": [
          [
           "test"
          ],
          [
           "test"
          ],
          [
           "test"
          ],
          [
           "test"
          ],
          [
           "test"
          ],
          [
           "test"
          ],
          [
           "test"
          ],
          [
           "test"
          ],
          [
           "test"
          ],
          [
           "test"
          ],
          [
           "test"
          ],
          [
           "test"
          ],
          [
           "test"
          ],
          [
           "test"
          ],
          [
           "test"
          ],
          [
           "test"
          ],
          [
           "test"
          ]
         ],
         "hovertemplate": "identity=small_rectangle_data<br>split=%{customdata[0]}<br>tsne-1=%{x}<br>tsne-2=%{y}<extra></extra>",
         "legendgroup": "small_rectangle_data, test",
         "marker": {
          "color": "#19d3f3",
          "symbol": "x"
         },
         "mode": "markers",
         "name": "small_rectangle_data, test",
         "showlegend": true,
         "type": "scattergl",
         "x": [
          -5.848029136657715,
          25.413230895996094,
          -3.829724073410034,
          -3.5026543140411377,
          -1.2365891933441162,
          -5.177061080932617,
          -5.0522541999816895,
          -6.476149082183838,
          -6.710242748260498,
          -1.691035270690918,
          -3.8314576148986816,
          -5.3184733390808105,
          -2.9058451652526855,
          -1.7183483839035034,
          -3.406599283218384,
          -1.7991052865982056,
          -3.870457172393799
         ],
         "xaxis": "x",
         "y": [
          41.267417907714844,
          26.191789627075195,
          26.757549285888672,
          25.877531051635742,
          24.60968589782715,
          23.981754302978516,
          24.154783248901367,
          28.147371292114258,
          26.53559684753418,
          27.427549362182617,
          24.890182495117188,
          26.262529373168945,
          26.07374382019043,
          27.590370178222656,
          28.10740852355957,
          23.690086364746094,
          23.89285659790039
         ],
         "yaxis": "y"
        }
       ],
       "layout": {
        "height": 650,
        "legend": {
         "title": {
          "text": "Class"
         },
         "tracegroupgap": 0
        },
        "template": {
         "data": {
          "bar": [
           {
            "error_x": {
             "color": "#2a3f5f"
            },
            "error_y": {
             "color": "#2a3f5f"
            },
            "marker": {
             "line": {
              "color": "#E5ECF6",
              "width": 0.5
             },
             "pattern": {
              "fillmode": "overlay",
              "size": 10,
              "solidity": 0.2
             }
            },
            "type": "bar"
           }
          ],
          "barpolar": [
           {
            "marker": {
             "line": {
              "color": "#E5ECF6",
              "width": 0.5
             },
             "pattern": {
              "fillmode": "overlay",
              "size": 10,
              "solidity": 0.2
             }
            },
            "type": "barpolar"
           }
          ],
          "carpet": [
           {
            "aaxis": {
             "endlinecolor": "#2a3f5f",
             "gridcolor": "white",
             "linecolor": "white",
             "minorgridcolor": "white",
             "startlinecolor": "#2a3f5f"
            },
            "baxis": {
             "endlinecolor": "#2a3f5f",
             "gridcolor": "white",
             "linecolor": "white",
             "minorgridcolor": "white",
             "startlinecolor": "#2a3f5f"
            },
            "type": "carpet"
           }
          ],
          "choropleth": [
           {
            "colorbar": {
             "outlinewidth": 0,
             "ticks": ""
            },
            "type": "choropleth"
           }
          ],
          "contour": [
           {
            "colorbar": {
             "outlinewidth": 0,
             "ticks": ""
            },
            "colorscale": [
             [
              0,
              "#0d0887"
             ],
             [
              0.1111111111111111,
              "#46039f"
             ],
             [
              0.2222222222222222,
              "#7201a8"
             ],
             [
              0.3333333333333333,
              "#9c179e"
             ],
             [
              0.4444444444444444,
              "#bd3786"
             ],
             [
              0.5555555555555556,
              "#d8576b"
             ],
             [
              0.6666666666666666,
              "#ed7953"
             ],
             [
              0.7777777777777778,
              "#fb9f3a"
             ],
             [
              0.8888888888888888,
              "#fdca26"
             ],
             [
              1,
              "#f0f921"
             ]
            ],
            "type": "contour"
           }
          ],
          "contourcarpet": [
           {
            "colorbar": {
             "outlinewidth": 0,
             "ticks": ""
            },
            "type": "contourcarpet"
           }
          ],
          "heatmap": [
           {
            "colorbar": {
             "outlinewidth": 0,
             "ticks": ""
            },
            "colorscale": [
             [
              0,
              "#0d0887"
             ],
             [
              0.1111111111111111,
              "#46039f"
             ],
             [
              0.2222222222222222,
              "#7201a8"
             ],
             [
              0.3333333333333333,
              "#9c179e"
             ],
             [
              0.4444444444444444,
              "#bd3786"
             ],
             [
              0.5555555555555556,
              "#d8576b"
             ],
             [
              0.6666666666666666,
              "#ed7953"
             ],
             [
              0.7777777777777778,
              "#fb9f3a"
             ],
             [
              0.8888888888888888,
              "#fdca26"
             ],
             [
              1,
              "#f0f921"
             ]
            ],
            "type": "heatmap"
           }
          ],
          "heatmapgl": [
           {
            "colorbar": {
             "outlinewidth": 0,
             "ticks": ""
            },
            "colorscale": [
             [
              0,
              "#0d0887"
             ],
             [
              0.1111111111111111,
              "#46039f"
             ],
             [
              0.2222222222222222,
              "#7201a8"
             ],
             [
              0.3333333333333333,
              "#9c179e"
             ],
             [
              0.4444444444444444,
              "#bd3786"
             ],
             [
              0.5555555555555556,
              "#d8576b"
             ],
             [
              0.6666666666666666,
              "#ed7953"
             ],
             [
              0.7777777777777778,
              "#fb9f3a"
             ],
             [
              0.8888888888888888,
              "#fdca26"
             ],
             [
              1,
              "#f0f921"
             ]
            ],
            "type": "heatmapgl"
           }
          ],
          "histogram": [
           {
            "marker": {
             "pattern": {
              "fillmode": "overlay",
              "size": 10,
              "solidity": 0.2
             }
            },
            "type": "histogram"
           }
          ],
          "histogram2d": [
           {
            "colorbar": {
             "outlinewidth": 0,
             "ticks": ""
            },
            "colorscale": [
             [
              0,
              "#0d0887"
             ],
             [
              0.1111111111111111,
              "#46039f"
             ],
             [
              0.2222222222222222,
              "#7201a8"
             ],
             [
              0.3333333333333333,
              "#9c179e"
             ],
             [
              0.4444444444444444,
              "#bd3786"
             ],
             [
              0.5555555555555556,
              "#d8576b"
             ],
             [
              0.6666666666666666,
              "#ed7953"
             ],
             [
              0.7777777777777778,
              "#fb9f3a"
             ],
             [
              0.8888888888888888,
              "#fdca26"
             ],
             [
              1,
              "#f0f921"
             ]
            ],
            "type": "histogram2d"
           }
          ],
          "histogram2dcontour": [
           {
            "colorbar": {
             "outlinewidth": 0,
             "ticks": ""
            },
            "colorscale": [
             [
              0,
              "#0d0887"
             ],
             [
              0.1111111111111111,
              "#46039f"
             ],
             [
              0.2222222222222222,
              "#7201a8"
             ],
             [
              0.3333333333333333,
              "#9c179e"
             ],
             [
              0.4444444444444444,
              "#bd3786"
             ],
             [
              0.5555555555555556,
              "#d8576b"
             ],
             [
              0.6666666666666666,
              "#ed7953"
             ],
             [
              0.7777777777777778,
              "#fb9f3a"
             ],
             [
              0.8888888888888888,
              "#fdca26"
             ],
             [
              1,
              "#f0f921"
             ]
            ],
            "type": "histogram2dcontour"
           }
          ],
          "mesh3d": [
           {
            "colorbar": {
             "outlinewidth": 0,
             "ticks": ""
            },
            "type": "mesh3d"
           }
          ],
          "parcoords": [
           {
            "line": {
             "colorbar": {
              "outlinewidth": 0,
              "ticks": ""
             }
            },
            "type": "parcoords"
           }
          ],
          "pie": [
           {
            "automargin": true,
            "type": "pie"
           }
          ],
          "scatter": [
           {
            "fillpattern": {
             "fillmode": "overlay",
             "size": 10,
             "solidity": 0.2
            },
            "type": "scatter"
           }
          ],
          "scatter3d": [
           {
            "line": {
             "colorbar": {
              "outlinewidth": 0,
              "ticks": ""
             }
            },
            "marker": {
             "colorbar": {
              "outlinewidth": 0,
              "ticks": ""
             }
            },
            "type": "scatter3d"
           }
          ],
          "scattercarpet": [
           {
            "marker": {
             "colorbar": {
              "outlinewidth": 0,
              "ticks": ""
             }
            },
            "type": "scattercarpet"
           }
          ],
          "scattergeo": [
           {
            "marker": {
             "colorbar": {
              "outlinewidth": 0,
              "ticks": ""
             }
            },
            "type": "scattergeo"
           }
          ],
          "scattergl": [
           {
            "marker": {
             "colorbar": {
              "outlinewidth": 0,
              "ticks": ""
             }
            },
            "type": "scattergl"
           }
          ],
          "scattermapbox": [
           {
            "marker": {
             "colorbar": {
              "outlinewidth": 0,
              "ticks": ""
             }
            },
            "type": "scattermapbox"
           }
          ],
          "scatterpolar": [
           {
            "marker": {
             "colorbar": {
              "outlinewidth": 0,
              "ticks": ""
             }
            },
            "type": "scatterpolar"
           }
          ],
          "scatterpolargl": [
           {
            "marker": {
             "colorbar": {
              "outlinewidth": 0,
              "ticks": ""
             }
            },
            "type": "scatterpolargl"
           }
          ],
          "scatterternary": [
           {
            "marker": {
             "colorbar": {
              "outlinewidth": 0,
              "ticks": ""
             }
            },
            "type": "scatterternary"
           }
          ],
          "surface": [
           {
            "colorbar": {
             "outlinewidth": 0,
             "ticks": ""
            },
            "colorscale": [
             [
              0,
              "#0d0887"
             ],
             [
              0.1111111111111111,
              "#46039f"
             ],
             [
              0.2222222222222222,
              "#7201a8"
             ],
             [
              0.3333333333333333,
              "#9c179e"
             ],
             [
              0.4444444444444444,
              "#bd3786"
             ],
             [
              0.5555555555555556,
              "#d8576b"
             ],
             [
              0.6666666666666666,
              "#ed7953"
             ],
             [
              0.7777777777777778,
              "#fb9f3a"
             ],
             [
              0.8888888888888888,
              "#fdca26"
             ],
             [
              1,
              "#f0f921"
             ]
            ],
            "type": "surface"
           }
          ],
          "table": [
           {
            "cells": {
             "fill": {
              "color": "#EBF0F8"
             },
             "line": {
              "color": "white"
             }
            },
            "header": {
             "fill": {
              "color": "#C8D4E3"
             },
             "line": {
              "color": "white"
             }
            },
            "type": "table"
           }
          ]
         },
         "layout": {
          "annotationdefaults": {
           "arrowcolor": "#2a3f5f",
           "arrowhead": 0,
           "arrowwidth": 1
          },
          "autotypenumbers": "strict",
          "coloraxis": {
           "colorbar": {
            "outlinewidth": 0,
            "ticks": ""
           }
          },
          "colorscale": {
           "diverging": [
            [
             0,
             "#8e0152"
            ],
            [
             0.1,
             "#c51b7d"
            ],
            [
             0.2,
             "#de77ae"
            ],
            [
             0.3,
             "#f1b6da"
            ],
            [
             0.4,
             "#fde0ef"
            ],
            [
             0.5,
             "#f7f7f7"
            ],
            [
             0.6,
             "#e6f5d0"
            ],
            [
             0.7,
             "#b8e186"
            ],
            [
             0.8,
             "#7fbc41"
            ],
            [
             0.9,
             "#4d9221"
            ],
            [
             1,
             "#276419"
            ]
           ],
           "sequential": [
            [
             0,
             "#0d0887"
            ],
            [
             0.1111111111111111,
             "#46039f"
            ],
            [
             0.2222222222222222,
             "#7201a8"
            ],
            [
             0.3333333333333333,
             "#9c179e"
            ],
            [
             0.4444444444444444,
             "#bd3786"
            ],
            [
             0.5555555555555556,
             "#d8576b"
            ],
            [
             0.6666666666666666,
             "#ed7953"
            ],
            [
             0.7777777777777778,
             "#fb9f3a"
            ],
            [
             0.8888888888888888,
             "#fdca26"
            ],
            [
             1,
             "#f0f921"
            ]
           ],
           "sequentialminus": [
            [
             0,
             "#0d0887"
            ],
            [
             0.1111111111111111,
             "#46039f"
            ],
            [
             0.2222222222222222,
             "#7201a8"
            ],
            [
             0.3333333333333333,
             "#9c179e"
            ],
            [
             0.4444444444444444,
             "#bd3786"
            ],
            [
             0.5555555555555556,
             "#d8576b"
            ],
            [
             0.6666666666666666,
             "#ed7953"
            ],
            [
             0.7777777777777778,
             "#fb9f3a"
            ],
            [
             0.8888888888888888,
             "#fdca26"
            ],
            [
             1,
             "#f0f921"
            ]
           ]
          },
          "colorway": [
           "#636efa",
           "#EF553B",
           "#00cc96",
           "#ab63fa",
           "#FFA15A",
           "#19d3f3",
           "#FF6692",
           "#B6E880",
           "#FF97FF",
           "#FECB52"
          ],
          "font": {
           "color": "#2a3f5f"
          },
          "geo": {
           "bgcolor": "white",
           "lakecolor": "white",
           "landcolor": "#E5ECF6",
           "showlakes": true,
           "showland": true,
           "subunitcolor": "white"
          },
          "hoverlabel": {
           "align": "left"
          },
          "hovermode": "closest",
          "mapbox": {
           "style": "light"
          },
          "paper_bgcolor": "white",
          "plot_bgcolor": "#E5ECF6",
          "polar": {
           "angularaxis": {
            "gridcolor": "white",
            "linecolor": "white",
            "ticks": ""
           },
           "bgcolor": "#E5ECF6",
           "radialaxis": {
            "gridcolor": "white",
            "linecolor": "white",
            "ticks": ""
           }
          },
          "scene": {
           "xaxis": {
            "backgroundcolor": "#E5ECF6",
            "gridcolor": "white",
            "gridwidth": 2,
            "linecolor": "white",
            "showbackground": true,
            "ticks": "",
            "zerolinecolor": "white"
           },
           "yaxis": {
            "backgroundcolor": "#E5ECF6",
            "gridcolor": "white",
            "gridwidth": 2,
            "linecolor": "white",
            "showbackground": true,
            "ticks": "",
            "zerolinecolor": "white"
           },
           "zaxis": {
            "backgroundcolor": "#E5ECF6",
            "gridcolor": "white",
            "gridwidth": 2,
            "linecolor": "white",
            "showbackground": true,
            "ticks": "",
            "zerolinecolor": "white"
           }
          },
          "shapedefaults": {
           "line": {
            "color": "#2a3f5f"
           }
          },
          "ternary": {
           "aaxis": {
            "gridcolor": "white",
            "linecolor": "white",
            "ticks": ""
           },
           "baxis": {
            "gridcolor": "white",
            "linecolor": "white",
            "ticks": ""
           },
           "bgcolor": "#E5ECF6",
           "caxis": {
            "gridcolor": "white",
            "linecolor": "white",
            "ticks": ""
           }
          },
          "title": {
           "x": 0.05
          },
          "xaxis": {
           "automargin": true,
           "gridcolor": "white",
           "linecolor": "white",
           "ticks": "",
           "title": {
            "standoff": 15
           },
           "zerolinecolor": "white",
           "zerolinewidth": 2
          },
          "yaxis": {
           "automargin": true,
           "gridcolor": "white",
           "linecolor": "white",
           "ticks": "",
           "title": {
            "standoff": 15
           },
           "zerolinecolor": "white",
           "zerolinewidth": 2
          }
         }
        },
        "title": {
         "text": "t-SNE of train / test embeddings"
        },
        "width": 850,
        "xaxis": {
         "anchor": "y",
         "domain": [
          0,
          1
         ],
         "title": {
          "text": "tsne-1"
         }
        },
        "yaxis": {
         "anchor": "x",
         "domain": [
          0,
          1
         ],
         "title": {
          "text": "tsne-2"
         }
        }
       }
      }
     },
     "metadata": {},
     "output_type": "display_data"
    },
    {
     "name": "stdout",
     "output_type": "stream",
     "text": [
      "Linear-probe accuracy: 79.06%\n"
     ]
    }
   ],
   "source": [
    "import torch, numpy as np, pandas as pd\n",
    "from sklearn.manifold import TSNE\n",
    "import plotly.express as px\n",
    "\n",
    "@torch.inference_mode()\n",
    "def evaluate_contrastive_model(\n",
    "    model: torch.nn.Module,\n",
    "    train_loader,        # iterable of (xb, …, y_id)\n",
    "    test_loader,\n",
    "    class_names=None,    # dict | list | tuple mapping ids → names\n",
    "    device: torch.device | None = None,\n",
    "    tsne_perplexity: int = 40,\n",
    "    random_state: int = 0,\n",
    "    save_path: str | None = None,      # HTML file to save the plot\n",
    "):\n",
    "    \"\"\"\n",
    "    Fits a linear probe on top of *model*, reports top-1 accuracy on the\n",
    "    test set, **and shows an interactive Plotly t-SNE** of train+test\n",
    "    embeddings.  \n",
    "    Colours = class, marker shape = split (train ⭘ / test ✕).\n",
    "\n",
    "    Returns\n",
    "    -------\n",
    "    acc : float\n",
    "        Top-1 accuracy on `test_loader`.\n",
    "    \"\"\"\n",
    "    # ---------------- device -------------------------------------------\n",
    "    if device is None:\n",
    "        device = next(model.parameters()).device\n",
    "\n",
    "    # ---------------- collect embeddings -------------------------------\n",
    "    def _pass(loader):\n",
    "        z_list, y_list = [], []\n",
    "        for xb, _, y_id in loader:          # xb, …, y_id\n",
    "            xb = xb.to(device)\n",
    "            z_list.append(model(xb).cpu())\n",
    "            y_list.append(y_id.cpu())\n",
    "        return torch.cat(z_list), torch.cat(y_list)\n",
    "\n",
    "    model.eval()\n",
    "    Z_tr, Y_tr = _pass(train_loader)        # (N_tr, d)\n",
    "    Z_te, Y_te = _pass(test_loader)\n",
    "    n_classes  = int(torch.cat([Y_tr, Y_te]).max()) + 1\n",
    "\n",
    "    # ---------------- closed-form linear probe -------------------------\n",
    "    one_hot_tr = torch.nn.functional.one_hot(Y_tr, n_classes).float()\n",
    "    W, *_      = torch.linalg.lstsq(Z_tr, one_hot_tr)   # (d, C)\n",
    "    preds_te   = (Z_te @ W).argmax(1)\n",
    "    acc        = (preds_te == Y_te).float().mean().item()\n",
    "\n",
    "    # ---------------- t-SNE on *combined* embeddings -------------------\n",
    "    Z_comb = torch.cat([Z_tr, Z_te]).numpy()\n",
    "    Y_comb = torch.cat([Y_tr, Y_te]).numpy()\n",
    "    split  = np.concatenate([np.zeros(len(Z_tr), bool),\n",
    "                             np.ones (len(Z_te), bool)])  # False=train\n",
    "\n",
    "    emb2d = TSNE(\n",
    "        n_components=2,\n",
    "        perplexity=tsne_perplexity,\n",
    "        random_state=random_state,\n",
    "        init=\"pca\",\n",
    "        learning_rate=\"auto\",\n",
    "    ).fit_transform(Z_comb)\n",
    "\n",
    "    # --------------- labels & dataframe for Plotly ---------------------\n",
    "    if class_names is None:\n",
    "        identity_lbls = [f\"class {k}\" for k in Y_comb]\n",
    "    elif isinstance(class_names, (list, tuple)):\n",
    "        identity_lbls = [class_names[k] for k in Y_comb]\n",
    "    else:                                   # dict\n",
    "        identity_lbls = [class_names.get(k, f\"class {k}\") for k in Y_comb]\n",
    "\n",
    "    df = pd.DataFrame({\n",
    "        \"tsne-1\"   : emb2d[:, 0],\n",
    "        \"tsne-2\"   : emb2d[:, 1],\n",
    "        \"identity\" : identity_lbls,\n",
    "        \"split\"    : np.where(split, \"test\", \"train\"),\n",
    "    })\n",
    "\n",
    "    # --------------- interactive scatter -------------------------------\n",
    "    fig = px.scatter(\n",
    "        df,\n",
    "        x=\"tsne-1\",\n",
    "        y=\"tsne-2\",\n",
    "        color=\"identity\",\n",
    "        symbol=\"split\",\n",
    "        symbol_sequence=[\"circle\", \"x\"],\n",
    "        hover_data={\"split\": True},\n",
    "        width=850,\n",
    "        height=650,\n",
    "        title=\"t-SNE of train / test embeddings\",\n",
    "    )\n",
    "    fig.update_layout(legend_title_text=\"Class\")\n",
    "\n",
    "    if save_path:                # saves a self-contained HTML file\n",
    "        fig.write_html(save_path, include_plotlyjs=\"cdn\")\n",
    "    fig.show()\n",
    "\n",
    "    return acc\n",
    "\n",
    "acc = evaluate_contrastive_model(\n",
    "    cls_net,\n",
    "    train_loader,\n",
    "    test_loader,\n",
    "    class_names=file_dict,          # ← your dict of class names\n",
    "    save_path=\"tsne_embeddings.html\"\n",
    ")\n",
    "print(f\"Linear-probe accuracy: {acc:.2%}\")\n"
   ]
  },
  {
   "cell_type": "code",
   "execution_count": 16,
   "id": "c912853e",
   "metadata": {},
   "outputs": [
    {
     "name": "stderr",
     "output_type": "stream",
     "text": [
      "/var/folders/wn/4nj87rbs0g3dpdktf27qylhr0000gn/T/ipykernel_33843/2427498899.py:33: UserWarning:\n",
      "\n",
      "To copy construct from a tensor, it is recommended to use sourceTensor.clone().detach() or sourceTensor.clone().detach().requires_grad_(True), rather than torch.tensor(sourceTensor).\n",
      "\n"
     ]
    },
    {
     "data": {
      "application/vnd.plotly.v1+json": {
       "config": {
        "plotlyServerURL": "https://plot.ly"
       },
       "data": [
        {
         "customdata": [
          [
           0
          ],
          [
           0
          ],
          [
           0
          ],
          [
           0
          ],
          [
           0
          ],
          [
           0
          ],
          [
           0
          ],
          [
           0
          ],
          [
           0
          ],
          [
           0
          ],
          [
           0
          ],
          [
           0
          ],
          [
           0
          ],
          [
           0
          ],
          [
           0
          ],
          [
           0
          ],
          [
           0
          ],
          [
           0
          ],
          [
           0
          ],
          [
           0
          ],
          [
           0
          ],
          [
           0
          ],
          [
           0
          ],
          [
           0
          ],
          [
           0
          ],
          [
           0
          ],
          [
           0
          ],
          [
           0
          ],
          [
           0
          ],
          [
           0
          ],
          [
           0
          ],
          [
           0
          ],
          [
           0
          ],
          [
           0
          ],
          [
           0
          ],
          [
           0
          ],
          [
           0
          ],
          [
           0
          ],
          [
           0
          ],
          [
           0
          ],
          [
           0
          ],
          [
           0
          ],
          [
           0
          ],
          [
           0
          ],
          [
           0
          ],
          [
           0
          ],
          [
           0
          ],
          [
           0
          ],
          [
           0
          ],
          [
           0
          ],
          [
           0
          ],
          [
           0
          ],
          [
           0
          ],
          [
           0
          ],
          [
           0
          ],
          [
           0
          ],
          [
           0
          ],
          [
           0
          ],
          [
           0
          ],
          [
           0
          ],
          [
           0
          ],
          [
           0
          ],
          [
           0
          ],
          [
           0
          ],
          [
           0
          ],
          [
           0
          ],
          [
           0
          ],
          [
           0
          ],
          [
           0
          ],
          [
           0
          ],
          [
           0
          ],
          [
           0
          ],
          [
           0
          ],
          [
           0
          ],
          [
           0
          ],
          [
           0
          ],
          [
           0
          ],
          [
           0
          ],
          [
           0
          ],
          [
           0
          ],
          [
           0
          ],
          [
           0
          ],
          [
           0
          ],
          [
           0
          ],
          [
           0
          ],
          [
           0
          ],
          [
           0
          ],
          [
           0
          ],
          [
           0
          ],
          [
           0
          ],
          [
           0
          ],
          [
           0
          ],
          [
           0
          ],
          [
           0
          ],
          [
           0
          ],
          [
           0
          ],
          [
           0
          ],
          [
           0
          ],
          [
           0
          ],
          [
           0
          ]
         ],
         "hovertemplate": "identity=large_rectangle_data<br>tsne-1=%{x}<br>tsne-2=%{y}<br>id_num=%{customdata[0]}<extra></extra>",
         "legendgroup": "large_rectangle_data",
         "marker": {
          "color": "#636efa",
          "symbol": "circle"
         },
         "mode": "markers",
         "name": "large_rectangle_data",
         "showlegend": true,
         "type": "scattergl",
         "x": [
          -13.202606201171875,
          -13.681315422058105,
          -14.587520599365234,
          -15.429585456848145,
          -13.07945442199707,
          -13.535809516906738,
          -13.743481636047363,
          -13.834717750549316,
          -14.735461235046387,
          -13.910776138305664,
          41.696537017822266,
          -15.03026294708252,
          -14.057700157165527,
          -14.87369441986084,
          -0.9415345191955566,
          -0.9709620475769043,
          -2.498758316040039,
          -1.9672679901123047,
          -1.0897129774093628,
          -2.0421440601348877,
          -2.454885244369507,
          -1.1919687986373901,
          -4.298364162445068,
          -2.7271728515625,
          -3.7075624465942383,
          -3.5977909564971924,
          -2.8858108520507812,
          -2.873516082763672,
          -3.8764281272888184,
          -3.1419687271118164,
          -2.4329140186309814,
          0.6525399684906006,
          -2.9783692359924316,
          -1.1409449577331543,
          2.332954168319702,
          -0.1590113490819931,
          -4.181246280670166,
          -5.083461761474609,
          -5.685137748718262,
          -5.486910343170166,
          -5.311136245727539,
          -5.319655418395996,
          -3.348928451538086,
          -6.205008506774902,
          2.1143879890441895,
          2.476675510406494,
          3.3588812351226807,
          0.006864122115075588,
          3.377760410308838,
          -1.9879679679870605,
          -2.0002615451812744,
          -3.317638397216797,
          -5.227055072784424,
          -2.105616569519043,
          -1.7921820878982544,
          -5.220407962799072,
          -1.15407133102417,
          -5.0060200691223145,
          -3.7389400005340576,
          -3.0751800537109375,
          -5.486748218536377,
          -3.371833562850952,
          -5.321629047393799,
          -5.914298057556152,
          -5.277343273162842,
          -1.2876636981964111,
          -2.6511497497558594,
          -3.2003495693206787,
          68.68782806396484,
          33.76045608520508,
          34.502037048339844,
          33.32259750366211,
          31.716203689575195,
          33.07819747924805,
          33.892242431640625,
          32.33446502685547,
          32.79295349121094,
          34.434593200683594,
          34.11720275878906,
          33.691314697265625,
          30.93396759033203,
          32.76607894897461,
          30.532733917236328,
          31.49052619934082,
          32.42346954345703,
          31.93048095703125,
          31.75942611694336,
          29.702369689941406,
          31.016843795776367,
          31.8795223236084,
          30.39533805847168,
          31.712434768676758,
          32.44118881225586,
          31.20659828186035,
          49.49885177612305,
          30.49542999267578,
          30.75253677368164,
          32.275333404541016,
          31.303232192993164,
          33.04084777832031
         ],
         "xaxis": "x",
         "y": [
          -35.967124938964844,
          -36.889888763427734,
          -34.55193328857422,
          -34.852840423583984,
          -36.437496185302734,
          -35.74898147583008,
          -36.621360778808594,
          -36.60127639770508,
          -35.324607849121094,
          -35.92755126953125,
          26.96350860595703,
          -36.28789520263672,
          -35.748050689697266,
          -35.33815002441406,
          -36.95463180541992,
          -29.53850555419922,
          -36.70708084106445,
          -36.04317092895508,
          -30.898662567138672,
          -31.545310974121094,
          -34.35704803466797,
          -32.91214370727539,
          -34.11888885498047,
          -33.821407318115234,
          -35.107208251953125,
          -34.76771545410156,
          -33.577537536621094,
          -34.79957580566406,
          -35.743526458740234,
          -36.46308135986328,
          -34.20956802368164,
          -34.57235336303711,
          -35.379329681396484,
          -35.731285095214844,
          -26.755523681640625,
          -29.065343856811523,
          -29.828874588012695,
          -30.58548355102539,
          -37.327919006347656,
          -30.006317138671875,
          -31.319284439086914,
          -31.33338737487793,
          -29.54619789123535,
          -30.89728355407715,
          -26.198291778564453,
          -24.357606887817383,
          -25.424264907836914,
          -30.573463439941406,
          -25.677278518676758,
          -32.612220764160156,
          -29.674591064453125,
          -31.59743881225586,
          -37.227752685546875,
          -36.05818557739258,
          -30.80408477783203,
          -30.76557731628418,
          -31.25596809387207,
          -34.798431396484375,
          -36.11269760131836,
          -33.08782958984375,
          -32.99997329711914,
          -30.14299774169922,
          -33.463539123535156,
          -34.07242965698242,
          -35.92949295043945,
          -28.830551147460938,
          -37.30459976196289,
          -30.61137580871582,
          9.524154663085938,
          -43.59202575683594,
          -44.57747268676758,
          -43.38224792480469,
          -46.18013381958008,
          -44.53369140625,
          -46.200077056884766,
          -45.58839416503906,
          -45.27883529663086,
          -44.37407302856445,
          -44.04066848754883,
          -44.807456970214844,
          -45.98979949951172,
          -46.44234085083008,
          -46.55797576904297,
          -45.93993377685547,
          -47.1967658996582,
          -47.84327697753906,
          -47.165287017822266,
          -46.576786041259766,
          -49.12002182006836,
          -47.79931640625,
          -47.55637741088867,
          -48.83271026611328,
          -46.291839599609375,
          -46.525638580322266,
          -24.916728973388672,
          -48.22791290283203,
          -48.61869430541992,
          -49.014591217041016,
          -48.14860534667969,
          -46.859527587890625
         ],
         "yaxis": "y"
        },
        {
         "customdata": [
          [
           1
          ],
          [
           1
          ],
          [
           1
          ],
          [
           1
          ],
          [
           1
          ],
          [
           1
          ],
          [
           1
          ],
          [
           1
          ],
          [
           1
          ],
          [
           1
          ],
          [
           1
          ],
          [
           1
          ],
          [
           1
          ],
          [
           1
          ],
          [
           1
          ],
          [
           1
          ],
          [
           1
          ],
          [
           1
          ],
          [
           1
          ],
          [
           1
          ],
          [
           1
          ],
          [
           1
          ],
          [
           1
          ],
          [
           1
          ],
          [
           1
          ],
          [
           1
          ],
          [
           1
          ],
          [
           1
          ],
          [
           1
          ],
          [
           1
          ],
          [
           1
          ],
          [
           1
          ],
          [
           1
          ],
          [
           1
          ],
          [
           1
          ],
          [
           1
          ],
          [
           1
          ],
          [
           1
          ],
          [
           1
          ],
          [
           1
          ],
          [
           1
          ],
          [
           1
          ],
          [
           1
          ],
          [
           1
          ],
          [
           1
          ],
          [
           1
          ],
          [
           1
          ],
          [
           1
          ],
          [
           1
          ],
          [
           1
          ],
          [
           1
          ],
          [
           1
          ],
          [
           1
          ],
          [
           1
          ],
          [
           1
          ],
          [
           1
          ],
          [
           1
          ],
          [
           1
          ],
          [
           1
          ],
          [
           1
          ],
          [
           1
          ],
          [
           1
          ],
          [
           1
          ],
          [
           1
          ],
          [
           1
          ],
          [
           1
          ],
          [
           1
          ],
          [
           1
          ],
          [
           1
          ],
          [
           1
          ],
          [
           1
          ],
          [
           1
          ],
          [
           1
          ],
          [
           1
          ],
          [
           1
          ],
          [
           1
          ],
          [
           1
          ],
          [
           1
          ],
          [
           1
          ],
          [
           1
          ],
          [
           1
          ],
          [
           1
          ],
          [
           1
          ],
          [
           1
          ],
          [
           1
          ],
          [
           1
          ],
          [
           1
          ],
          [
           1
          ],
          [
           1
          ],
          [
           1
          ],
          [
           1
          ],
          [
           1
          ],
          [
           1
          ],
          [
           1
          ],
          [
           1
          ],
          [
           1
          ],
          [
           1
          ],
          [
           1
          ],
          [
           1
          ],
          [
           1
          ]
         ],
         "hovertemplate": "identity=N_8inch_data<br>tsne-1=%{x}<br>tsne-2=%{y}<br>id_num=%{customdata[0]}<extra></extra>",
         "legendgroup": "N_8inch_data",
         "marker": {
          "color": "#EF553B",
          "symbol": "circle"
         },
         "mode": "markers",
         "name": "N_8inch_data",
         "showlegend": true,
         "type": "scattergl",
         "x": [
          55.43976593017578,
          11.709253311157227,
          34.064029693603516,
          54.239078521728516,
          59.66691970825195,
          34.3151969909668,
          58.99394607543945,
          57.16810989379883,
          56.68956756591797,
          57.90013885498047,
          62.0414924621582,
          63.38447570800781,
          53.70973205566406,
          54.792564392089844,
          64.57528686523438,
          57.47834396362305,
          57.94681167602539,
          53.743812561035156,
          57.355567932128906,
          67.74240112304688,
          57.118080139160156,
          66.45569610595703,
          64.69776153564453,
          62.85978698730469,
          59.07612609863281,
          56.949676513671875,
          67.86437225341797,
          65.98114013671875,
          59.265995025634766,
          64.00659942626953,
          60.639339447021484,
          59.14858627319336,
          68.0712661743164,
          62.268455505371094,
          64.0309829711914,
          62.97028732299805,
          61.491966247558594,
          60.83879852294922,
          63.64208221435547,
          63.107173919677734,
          60.0832633972168,
          60.483970642089844,
          63.49704360961914,
          66.75132751464844,
          62.14011764526367,
          66.87395477294922,
          60.4177131652832,
          63.85106658935547,
          63.142372131347656,
          61.97385787963867,
          57.93655014038086,
          59.052589416503906,
          65.7342300415039,
          64.59178924560547,
          63.72412109375,
          60.36246109008789,
          68.30998229980469,
          59.51156997680664,
          60.51327896118164,
          59.757896423339844,
          62.95042037963867,
          63.71798324584961,
          64.04132080078125,
          67.23816680908203,
          63.09870910644531,
          65.8275146484375,
          62.83583450317383,
          65.35445404052734,
          67.08892822265625,
          61.677757263183594,
          61.9711799621582,
          65.07197570800781,
          64.18922424316406,
          67.21630859375,
          62.829551696777344,
          63.912620544433594,
          65.99002838134766,
          60.113136291503906,
          66.84408569335938,
          62.16865539550781,
          62.41850280761719,
          67.07743835449219,
          65.84638977050781,
          67.77484893798828,
          66.42300415039062,
          68.27005767822266,
          68.74908447265625,
          68.6671371459961,
          67.8816146850586,
          65.2420425415039,
          67.61809539794922,
          64.96123504638672,
          65.32666778564453,
          68.13455200195312,
          62.83981704711914,
          65.04682922363281,
          65.69491577148438,
          67.2650375366211,
          68.33047485351562,
          66.91706848144531
         ],
         "xaxis": "x",
         "y": [
          12.353511810302734,
          6.186800003051758,
          18.068992614746094,
          12.168270111083984,
          6.049890518188477,
          13.818225860595703,
          11.296900749206543,
          9.839317321777344,
          5.558391094207764,
          5.808078765869141,
          3.3599183559417725,
          3.5109755992889404,
          11.689539909362793,
          10.426982879638672,
          10.07561206817627,
          6.504584312438965,
          6.1842241287231445,
          11.139142036437988,
          9.59945297241211,
          15.391233444213867,
          11.315865516662598,
          6.461736679077148,
          7.144735813140869,
          5.454560279846191,
          9.309164047241211,
          11.477761268615723,
          11.43475341796875,
          14.24112606048584,
          8.707010269165039,
          13.046009063720703,
          5.244708061218262,
          9.320135116577148,
          14.050291061401367,
          9.605145454406738,
          7.514814376831055,
          11.058377265930176,
          9.006680488586426,
          5.582396030426025,
          9.216103553771973,
          5.778104305267334,
          6.585291385650635,
          7.112240791320801,
          8.813436508178711,
          4.315389633178711,
          8.961702346801758,
          8.995094299316406,
          9.693221092224121,
          4.888247489929199,
          3.7376418113708496,
          5.133801460266113,
          5.851134300231934,
          8.146636009216309,
          10.302310943603516,
          8.9137544631958,
          3.9715631008148193,
          11.946038246154785,
          14.722136497497559,
          8.748065948486328,
          11.828461647033691,
          7.635195732116699,
          8.115996360778809,
          8.277566909790039,
          8.118023872375488,
          12.60898208618164,
          9.774232864379883,
          7.995112419128418,
          8.933585166931152,
          5.657252311706543,
          5.386902332305908,
          8.285927772521973,
          11.022787094116211,
          6.833223342895508,
          12.9564790725708,
          12.131484031677246,
          7.988940715789795,
          10.344828605651855,
          6.543276786804199,
          11.037192344665527,
          4.897282123565674,
          7.279231071472168,
          6.775603294372559,
          13.953858375549316,
          9.136544227600098,
          9.41275691986084,
          11.21932315826416,
          13.345993041992188,
          14.432300567626953,
          11.223556518554688,
          15.254996299743652,
          14.103808403015137,
          13.457904815673828,
          14.36178970336914,
          14.258064270019531,
          13.305009841918945,
          6.375215530395508,
          13.437347412109375,
          14.991884231567383,
          12.776750564575195,
          11.811699867248535,
          14.588698387145996
         ],
         "yaxis": "y"
        },
        {
         "customdata": [
          [
           2
          ],
          [
           2
          ],
          [
           2
          ],
          [
           2
          ],
          [
           2
          ],
          [
           2
          ],
          [
           2
          ],
          [
           2
          ],
          [
           2
          ],
          [
           2
          ],
          [
           2
          ],
          [
           2
          ],
          [
           2
          ],
          [
           2
          ],
          [
           2
          ],
          [
           2
          ],
          [
           2
          ],
          [
           2
          ],
          [
           2
          ],
          [
           2
          ],
          [
           2
          ],
          [
           2
          ],
          [
           2
          ],
          [
           2
          ],
          [
           2
          ],
          [
           2
          ],
          [
           2
          ],
          [
           2
          ],
          [
           2
          ],
          [
           2
          ],
          [
           2
          ],
          [
           2
          ],
          [
           2
          ],
          [
           2
          ],
          [
           2
          ],
          [
           2
          ],
          [
           2
          ],
          [
           2
          ],
          [
           2
          ],
          [
           2
          ],
          [
           2
          ],
          [
           2
          ],
          [
           2
          ],
          [
           2
          ],
          [
           2
          ],
          [
           2
          ],
          [
           2
          ],
          [
           2
          ],
          [
           2
          ],
          [
           2
          ],
          [
           2
          ],
          [
           2
          ],
          [
           2
          ],
          [
           2
          ],
          [
           2
          ],
          [
           2
          ],
          [
           2
          ],
          [
           2
          ],
          [
           2
          ],
          [
           2
          ],
          [
           2
          ],
          [
           2
          ],
          [
           2
          ],
          [
           2
          ],
          [
           2
          ],
          [
           2
          ],
          [
           2
          ],
          [
           2
          ],
          [
           2
          ],
          [
           2
          ],
          [
           2
          ],
          [
           2
          ],
          [
           2
          ],
          [
           2
          ],
          [
           2
          ],
          [
           2
          ],
          [
           2
          ],
          [
           2
          ],
          [
           2
          ],
          [
           2
          ],
          [
           2
          ],
          [
           2
          ],
          [
           2
          ],
          [
           2
          ],
          [
           2
          ],
          [
           2
          ],
          [
           2
          ],
          [
           2
          ],
          [
           2
          ],
          [
           2
          ],
          [
           2
          ],
          [
           2
          ],
          [
           2
          ],
          [
           2
          ],
          [
           2
          ],
          [
           2
          ],
          [
           2
          ],
          [
           2
          ],
          [
           2
          ],
          [
           2
          ]
         ],
         "hovertemplate": "identity=circle_4inch_data<br>tsne-1=%{x}<br>tsne-2=%{y}<br>id_num=%{customdata[0]}<extra></extra>",
         "legendgroup": "circle_4inch_data",
         "marker": {
          "color": "#00cc96",
          "symbol": "circle"
         },
         "mode": "markers",
         "name": "circle_4inch_data",
         "showlegend": true,
         "type": "scattergl",
         "x": [
          7.025951385498047,
          7.0372443199157715,
          8.631184577941895,
          32.7813606262207,
          7.678308486938477,
          26.787134170532227,
          9.418039321899414,
          8.97592830657959,
          34.690425872802734,
          34.6048698425293,
          5.526074409484863,
          8.876620292663574,
          3.1765732765197754,
          34.14141845703125,
          0.5242049694061279,
          3.164109706878662,
          4.314694881439209,
          -0.18670164048671722,
          -1.9793238639831543,
          -0.07308503985404968,
          1.709282636642456,
          1.2108741998672485,
          3.40255069732666,
          5.139468193054199,
          -0.9748358726501465,
          2.8431670665740967,
          7.654760837554932,
          0.27908384799957275,
          1.7110695838928223,
          2.9440603256225586,
          -2.3609867095947266,
          -3.235358953475952,
          1.4434738159179688,
          -1.8405096530914307,
          -2.921260118484497,
          6.425623416900635,
          2.909379005432129,
          -2.7191121578216553,
          0.1033158004283905,
          1.7016000747680664,
          2.49155330657959,
          4.109265327453613,
          5.544707775115967,
          -1.1387563943862915,
          7.320766448974609,
          7.591291427612305,
          3.2523272037506104,
          2.60766863822937,
          -2.280456781387329,
          1.9884364604949951,
          3.041980266571045,
          3.158277988433838,
          -1.9579952955245972,
          -1.9562617540359497,
          5.371352672576904,
          3.8656833171844482,
          -1.0860154628753662,
          1.6352955102920532,
          -0.5455297827720642,
          2.001427412033081,
          -1.5310412645339966,
          -1.4767403602600098,
          3.2077581882476807,
          -2.8636744022369385,
          4.643814563751221,
          0.19061493873596191,
          2.8413431644439697,
          4.562683582305908,
          7.188119411468506,
          4.6566009521484375,
          4.011033535003662,
          0.3261530101299286,
          0.3455437421798706,
          3.8934810161590576,
          1.405995488166809,
          1.4178324937820435,
          4.738636493682861,
          -0.239218607544899,
          7.298766613006592,
          1.2897484302520752,
          -1.3543847799301147,
          4.434638500213623,
          4.1592841148376465,
          1.3062169551849365,
          3.631157636642456,
          -0.09557955712080002,
          5.482827186584473,
          3.46394419670105,
          1.6577116250991821,
          1.1889158487319946,
          0.8133882880210876,
          -1.6148879528045654,
          -0.08840296417474747,
          12.083754539489746,
          1.1194928884506226,
          6.472720623016357,
          5.7505574226379395,
          3.483637809753418,
          0.6737346649169922,
          4.786394119262695
         ],
         "xaxis": "x",
         "y": [
          5.109894275665283,
          5.062468528747559,
          7.429966449737549,
          14.639408111572266,
          -6.48501443862915,
          -5.678130626678467,
          -2.608668327331543,
          -2.863384246826172,
          17.21133041381836,
          16.387348175048828,
          -1.3098236322402954,
          -2.7734313011169434,
          -12.415070533752441,
          16.265439987182617,
          -2.3351290225982666,
          -11.790583610534668,
          -2.346797466278076,
          -9.765423774719238,
          -2.464226007461548,
          -8.756247520446777,
          -10.085309982299805,
          -10.565223693847656,
          -4.447939872741699,
          -7.802412986755371,
          -9.343268394470215,
          -5.285696983337402,
          -6.38497257232666,
          -1.1389693021774292,
          -7.10825252532959,
          -4.88978910446167,
          -6.369688510894775,
          -6.652375221252441,
          -0.05595198646187782,
          -3.4474737644195557,
          -5.039428234100342,
          -1.0425876379013062,
          -11.472929000854492,
          -3.349533796310425,
          -6.765063285827637,
          -5.145320415496826,
          -0.7526790499687195,
          -8.963102340698242,
          -6.741958141326904,
          -3.510542631149292,
          -3.433014392852783,
          -3.2613956928253174,
          -8.850394248962402,
          -7.782511234283447,
          -3.7258975505828857,
          -10.165266990661621,
          -8.390130043029785,
          -3.3311877250671387,
          -5.204873085021973,
          -5.12952184677124,
          -5.5741400718688965,
          -9.477776527404785,
          -7.800098419189453,
          -8.697246551513672,
          -4.103934288024902,
          -1.1262472867965698,
          -5.877683162689209,
          -4.095129013061523,
          -8.163492202758789,
          -5.204289436340332,
          -2.591648578643799,
          -2.4378533363342285,
          -0.6194722056388855,
          -11.487714767456055,
          -3.7234065532684326,
          -2.201000452041626,
          -7.799397945404053,
          -2.0847373008728027,
          -7.456789970397949,
          -4.307438373565674,
          -12.620110511779785,
          -3.2817060947418213,
          -7.995347499847412,
          -10.793656349182129,
          -7.784554958343506,
          -3.8877885341644287,
          -2.5504047870635986,
          -11.22542953491211,
          -6.10896635055542,
          -0.1879117637872696,
          -11.583064079284668,
          -0.20292416214942932,
          -6.170713901519775,
          -7.12299108505249,
          -4.781095504760742,
          -4.523616790771484,
          -11.492067337036133,
          -7.032194137573242,
          -5.877999305725098,
          -4.744004249572754,
          -10.810009002685547,
          -7.936925888061523,
          -6.199723243713379,
          -14.63973331451416,
          -4.788529396057129,
          -15.54455852508545
         ],
         "yaxis": "y"
        },
        {
         "customdata": [
          [
           3
          ],
          [
           3
          ],
          [
           3
          ],
          [
           3
          ],
          [
           3
          ],
          [
           3
          ],
          [
           3
          ],
          [
           3
          ],
          [
           3
          ],
          [
           3
          ],
          [
           3
          ],
          [
           3
          ],
          [
           3
          ],
          [
           3
          ],
          [
           3
          ],
          [
           3
          ],
          [
           3
          ],
          [
           3
          ],
          [
           3
          ],
          [
           3
          ],
          [
           3
          ],
          [
           3
          ],
          [
           3
          ],
          [
           3
          ],
          [
           3
          ],
          [
           3
          ],
          [
           3
          ],
          [
           3
          ],
          [
           3
          ],
          [
           3
          ],
          [
           3
          ],
          [
           3
          ],
          [
           3
          ],
          [
           3
          ],
          [
           3
          ],
          [
           3
          ],
          [
           3
          ],
          [
           3
          ],
          [
           3
          ],
          [
           3
          ],
          [
           3
          ],
          [
           3
          ],
          [
           3
          ],
          [
           3
          ],
          [
           3
          ],
          [
           3
          ],
          [
           3
          ],
          [
           3
          ],
          [
           3
          ],
          [
           3
          ],
          [
           3
          ],
          [
           3
          ],
          [
           3
          ],
          [
           3
          ],
          [
           3
          ],
          [
           3
          ],
          [
           3
          ],
          [
           3
          ],
          [
           3
          ],
          [
           3
          ],
          [
           3
          ],
          [
           3
          ],
          [
           3
          ],
          [
           3
          ],
          [
           3
          ],
          [
           3
          ],
          [
           3
          ],
          [
           3
          ],
          [
           3
          ],
          [
           3
          ],
          [
           3
          ],
          [
           3
          ],
          [
           3
          ],
          [
           3
          ],
          [
           3
          ],
          [
           3
          ],
          [
           3
          ],
          [
           3
          ],
          [
           3
          ],
          [
           3
          ],
          [
           3
          ],
          [
           3
          ],
          [
           3
          ],
          [
           3
          ],
          [
           3
          ],
          [
           3
          ],
          [
           3
          ],
          [
           3
          ],
          [
           3
          ],
          [
           3
          ],
          [
           3
          ],
          [
           3
          ],
          [
           3
          ],
          [
           3
          ],
          [
           3
          ],
          [
           3
          ],
          [
           3
          ],
          [
           3
          ],
          [
           3
          ],
          [
           3
          ]
         ],
         "hovertemplate": "identity=star_8inch_data<br>tsne-1=%{x}<br>tsne-2=%{y}<br>id_num=%{customdata[0]}<extra></extra>",
         "legendgroup": "star_8inch_data",
         "marker": {
          "color": "#ab63fa",
          "symbol": "circle"
         },
         "mode": "markers",
         "name": "star_8inch_data",
         "showlegend": true,
         "type": "scattergl",
         "x": [
          -59.228240966796875,
          -59.41671371459961,
          -58.530853271484375,
          -59.36826705932617,
          -58.32248306274414,
          -63.6002082824707,
          -64.37238311767578,
          -62.09334182739258,
          -63.563961029052734,
          -62.811214447021484,
          -62.75356674194336,
          -62.364234924316406,
          -61.83418655395508,
          -55.48653030395508,
          -63.581443786621094,
          -65.65203094482422,
          -63.44561767578125,
          -62.75162124633789,
          -62.120826721191406,
          -56.90767288208008,
          -56.618770599365234,
          -62.69770431518555,
          -60.72553253173828,
          -56.399776458740234,
          -59.5224609375,
          -61.827484130859375,
          -60.325950622558594,
          -58.30896759033203,
          -59.30443572998047,
          -59.58611297607422,
          -61.468528747558594,
          -63.068031311035156,
          -61.81317138671875,
          -64.79828643798828,
          -62.09239196777344,
          -58.8713264465332,
          -62.40848159790039,
          -59.17033767700195,
          -60.532135009765625,
          -63.08012390136719,
          -60.131370544433594,
          -60.51463317871094,
          -61.316287994384766,
          -60.85533142089844,
          -60.43789291381836,
          -59.21099090576172,
          -58.969947814941406,
          -62.577110290527344,
          -61.20978546142578,
          -61.633644104003906,
          -59.11267852783203,
          -63.606346130371094,
          -58.94894790649414,
          -61.25605773925781,
          -60.9761962890625,
          -58.421226501464844,
          -59.57896423339844,
          -59.443885803222656,
          -59.14020919799805,
          -58.3278694152832,
          -60.75827407836914,
          -61.51137161254883,
          -42.80574035644531,
          -57.07281494140625,
          -43.353031158447266,
          -44.926605224609375,
          -44.71442413330078,
          -47.45797348022461,
          -39.987125396728516,
          -43.56064224243164,
          -45.027950286865234,
          -58.00370407104492,
          -46.82632827758789,
          -44.79264450073242,
          -45.7391242980957,
          -40.84144592285156,
          -42.96863555908203,
          -38.48577117919922,
          -41.694862365722656,
          -42.691795349121094,
          -38.46350860595703,
          -41.843196868896484,
          -45.35855484008789,
          -44.73348617553711,
          -37.0570068359375,
          -38.56452560424805,
          -42.79050827026367,
          -38.24354553222656,
          -50.18648910522461,
          -41.65138626098633,
          -44.37751388549805,
          -36.93006134033203,
          -43.584075927734375,
          -37.39431381225586,
          -52.69870376586914,
          -39.89496612548828,
          -30.368568420410156,
          -30.872896194458008,
          -37.22698974609375,
          -44.70713806152344
         ],
         "xaxis": "x",
         "y": [
          8.227914810180664,
          8.315433502197266,
          9.501873016357422,
          8.351288795471191,
          9.126002311706543,
          0.13488814234733582,
          2.0411572456359863,
          7.012136459350586,
          -5.193889141082764,
          5.1392621994018555,
          -4.146018981933594,
          -14.215283393859863,
          5.012632369995117,
          7.784743785858154,
          -4.9651265144348145,
          1.8637607097625732,
          -4.285151958465576,
          -3.9375030994415283,
          4.058168888092041,
          8.20525074005127,
          4.633450984954834,
          4.7740864753723145,
          4.71343994140625,
          3.633464813232422,
          5.5011091232299805,
          3.781695604324341,
          5.429381847381592,
          4.667884826660156,
          3.761110782623291,
          4.663395881652832,
          3.7746193408966064,
          1.7805951833724976,
          2.211674690246582,
          1.3647129535675049,
          -14.093042373657227,
          9.069873809814453,
          -4.266758441925049,
          3.1261422634124756,
          5.621365070343018,
          2.5656330585479736,
          2.6609177589416504,
          2.1007070541381836,
          1.157071590423584,
          4.4967570304870605,
          4.046880722045898,
          2.4628891944885254,
          -1.6617070436477661,
          -2.8037354946136475,
          0.33904165029525757,
          -0.28766098618507385,
          1.5781819820404053,
          1.5573489665985107,
          3.3871066570281982,
          -10.59928035736084,
          -14.291707038879395,
          1.076653003692627,
          -15.393610000610352,
          2.3486828804016113,
          5.3832502365112305,
          2.0950801372528076,
          -0.12407930195331573,
          3.085524082183838,
          1.4390662908554077,
          -13.1043062210083,
          1.4428292512893677,
          -2.6180856227874756,
          -5.397606372833252,
          -11.022685050964355,
          -0.9227057099342346,
          -5.328865051269531,
          -6.597622394561768,
          2.0352783203125,
          -5.8378400802612305,
          -7.490262985229492,
          -5.882953643798828,
          -0.38375863432884216,
          0.9471701979637146,
          -10.905269622802734,
          -5.744423866271973,
          -17.723207473754883,
          -18.630714416503906,
          1.890143632888794,
          -12.459617614746094,
          -4.362865924835205,
          -3.1007895469665527,
          -8.853614807128906,
          -13.509172439575195,
          -7.752577304840088,
          -16.209341049194336,
          -15.412490844726562,
          -10.592446327209473,
          -3.5986928939819336,
          -10.291402816772461,
          -5.173818588256836,
          -17.133258819580078,
          -8.301172256469727,
          -11.286482810974121,
          -11.331451416015625,
          -5.743866443634033,
          -18.631343841552734
         ],
         "yaxis": "y"
        },
        {
         "customdata": [
          [
           4
          ],
          [
           4
          ],
          [
           4
          ],
          [
           4
          ],
          [
           4
          ],
          [
           4
          ],
          [
           4
          ],
          [
           4
          ],
          [
           4
          ],
          [
           4
          ],
          [
           4
          ],
          [
           4
          ],
          [
           4
          ],
          [
           4
          ],
          [
           4
          ],
          [
           4
          ],
          [
           4
          ],
          [
           4
          ],
          [
           4
          ],
          [
           4
          ],
          [
           4
          ],
          [
           4
          ],
          [
           4
          ],
          [
           4
          ],
          [
           4
          ],
          [
           4
          ],
          [
           4
          ],
          [
           4
          ],
          [
           4
          ],
          [
           4
          ],
          [
           4
          ],
          [
           4
          ],
          [
           4
          ],
          [
           4
          ],
          [
           4
          ],
          [
           4
          ],
          [
           4
          ],
          [
           4
          ],
          [
           4
          ],
          [
           4
          ],
          [
           4
          ],
          [
           4
          ],
          [
           4
          ],
          [
           4
          ],
          [
           4
          ],
          [
           4
          ],
          [
           4
          ],
          [
           4
          ],
          [
           4
          ],
          [
           4
          ],
          [
           4
          ],
          [
           4
          ],
          [
           4
          ],
          [
           4
          ],
          [
           4
          ],
          [
           4
          ],
          [
           4
          ],
          [
           4
          ],
          [
           4
          ],
          [
           4
          ],
          [
           4
          ],
          [
           4
          ],
          [
           4
          ],
          [
           4
          ],
          [
           4
          ],
          [
           4
          ],
          [
           4
          ],
          [
           4
          ],
          [
           4
          ],
          [
           4
          ],
          [
           4
          ],
          [
           4
          ],
          [
           4
          ],
          [
           4
          ],
          [
           4
          ],
          [
           4
          ],
          [
           4
          ],
          [
           4
          ],
          [
           4
          ],
          [
           4
          ],
          [
           4
          ],
          [
           4
          ],
          [
           4
          ],
          [
           4
          ],
          [
           4
          ],
          [
           4
          ],
          [
           4
          ],
          [
           4
          ],
          [
           4
          ],
          [
           4
          ],
          [
           4
          ],
          [
           4
          ],
          [
           4
          ],
          [
           4
          ],
          [
           4
          ],
          [
           4
          ],
          [
           4
          ],
          [
           4
          ],
          [
           4
          ],
          [
           4
          ]
         ],
         "hovertemplate": "identity=triangle_8inch_data<br>tsne-1=%{x}<br>tsne-2=%{y}<br>id_num=%{customdata[0]}<extra></extra>",
         "legendgroup": "triangle_8inch_data",
         "marker": {
          "color": "#FFA15A",
          "symbol": "circle"
         },
         "mode": "markers",
         "name": "triangle_8inch_data",
         "showlegend": true,
         "type": "scattergl",
         "x": [
          -1.1874107122421265,
          0.881889820098877,
          1.4721742868423462,
          1.1957553625106812,
          34.88633346557617,
          -0.4856468439102173,
          0.5780673623085022,
          -32.6727180480957,
          -40.63275909423828,
          -33.176944732666016,
          -33.85425567626953,
          -34.266910552978516,
          -35.13117218017578,
          -34.96420669555664,
          -36.501792907714844,
          -39.72949981689453,
          -40.22426986694336,
          -37.09018325805664,
          -32.806053161621094,
          -32.630977630615234,
          -31.6928653717041,
          -32.932762145996094,
          -31.832395553588867,
          -30.3767147064209,
          -30.093740463256836,
          -30.173107147216797,
          -33.01335144042969,
          -32.324485778808594,
          -33.68075180053711,
          -32.44813537597656,
          -28.57878303527832,
          -36.07936096191406,
          -39.677337646484375,
          -36.18633270263672,
          33.042137145996094,
          -29.861698150634766,
          -39.029937744140625,
          -35.32933044433594,
          -37.60374450683594,
          -33.85469436645508,
          -28.717670440673828,
          -38.81977081298828,
          -38.116546630859375,
          -37.081417083740234,
          -37.23687744140625,
          -37.70137405395508,
          -39.137210845947266,
          -37.05692672729492,
          -36.532230377197266,
          33.01295471191406,
          -35.01454544067383,
          -35.320369720458984,
          -36.617523193359375,
          -39.72293472290039,
          -36.08853530883789,
          33.3578987121582,
          -40.41134262084961,
          -29.172958374023438,
          -37.77116775512695,
          -37.54344177246094,
          -35.629581451416016,
          -38.68836975097656,
          -39.3172492980957,
          27.116680145263672,
          -32.42642593383789,
          -37.937408447265625,
          -32.931488037109375,
          -35.909698486328125,
          -30.64535903930664,
          -39.485008239746094,
          -36.335994720458984,
          -35.6157112121582,
          -41.09427261352539,
          -40.158260345458984,
          -37.78025817871094,
          -33.152801513671875,
          -38.61506271362305,
          -40.13120651245117,
          -41.89250183105469,
          -37.076416015625,
          -38.68644332885742,
          -39.551422119140625,
          -38.65663528442383,
          -41.48234176635742,
          -39.27423095703125,
          -35.97559356689453,
          -36.840545654296875,
          -38.41543197631836,
          -40.20726776123047,
          -35.83582305908203,
          -32.383094787597656,
          -35.620018005371094,
          -36.34896469116211,
          -37.751590728759766,
          -37.02643585205078,
          -35.9628791809082,
          -38.435874938964844,
          -38.95588684082031,
          -38.362335205078125,
          -39.943016052246094
         ],
         "xaxis": "x",
         "y": [
          45.53105926513672,
          47.38343048095703,
          51.228206634521484,
          52.56881332397461,
          40.979515075683594,
          56.29229736328125,
          54.669158935546875,
          42.86271667480469,
          35.38448715209961,
          35.65042495727539,
          46.289066314697266,
          41.512664794921875,
          44.92466735839844,
          41.989200592041016,
          34.0078239440918,
          43.19414520263672,
          39.12506103515625,
          39.53996276855469,
          31.85477066040039,
          36.98893356323242,
          39.60096740722656,
          40.31745147705078,
          41.27019119262695,
          38.6416015625,
          35.01741409301758,
          38.475589752197266,
          35.82851791381836,
          37.64888000488281,
          46.334049224853516,
          42.74100112915039,
          34.6027946472168,
          33.44827651977539,
          44.98204803466797,
          33.58142852783203,
          31.518709182739258,
          38.329345703125,
          40.07973098754883,
          36.20622634887695,
          35.08315658569336,
          46.68719482421875,
          37.679019927978516,
          41.21404266357422,
          39.31299591064453,
          45.777095794677734,
          40.88718032836914,
          36.358333587646484,
          42.558876037597656,
          44.87141418457031,
          47.01823806762695,
          33.0496940612793,
          39.96826171875,
          40.53974914550781,
          46.22657012939453,
          43.03852462768555,
          45.7321662902832,
          42.11811065673828,
          42.61236572265625,
          37.944828033447266,
          45.69695281982422,
          42.0079345703125,
          36.81605911254883,
          41.30636215209961,
          47.2440299987793,
          37.63494110107422,
          31.951915740966797,
          40.56231689453125,
          38.60200881958008,
          46.66263961791992,
          33.11552429199219,
          44.894065856933594,
          48.1210823059082,
          47.03120803833008,
          43.123138427734375,
          37.392822265625,
          45.61921310424805,
          39.233070373535156,
          44.09803009033203,
          41.2271614074707,
          39.67058181762695,
          37.99093246459961,
          45.73589324951172,
          46.58440017700195,
          37.690433502197266,
          41.29462814331055,
          42.23106384277344,
          38.357845306396484,
          38.44438934326172,
          37.41389083862305,
          37.7571907043457,
          40.90116500854492,
          41.82065200805664,
          41.39530944824219,
          41.30097961425781,
          44.811126708984375,
          39.530521392822266,
          39.523319244384766,
          38.44617462158203,
          46.72771072387695,
          46.75398635864258,
          46.57162857055664
         ],
         "yaxis": "y"
        },
        {
         "customdata": [
          [
           5
          ],
          [
           5
          ],
          [
           5
          ],
          [
           5
          ],
          [
           5
          ],
          [
           5
          ],
          [
           5
          ],
          [
           5
          ],
          [
           5
          ],
          [
           5
          ],
          [
           5
          ],
          [
           5
          ],
          [
           5
          ],
          [
           5
          ],
          [
           5
          ],
          [
           5
          ],
          [
           5
          ],
          [
           5
          ],
          [
           5
          ],
          [
           5
          ],
          [
           5
          ],
          [
           5
          ],
          [
           5
          ],
          [
           5
          ],
          [
           5
          ],
          [
           5
          ],
          [
           5
          ],
          [
           5
          ],
          [
           5
          ],
          [
           5
          ],
          [
           5
          ],
          [
           5
          ],
          [
           5
          ],
          [
           5
          ],
          [
           5
          ],
          [
           5
          ],
          [
           5
          ],
          [
           5
          ],
          [
           5
          ],
          [
           5
          ],
          [
           5
          ],
          [
           5
          ],
          [
           5
          ],
          [
           5
          ],
          [
           5
          ],
          [
           5
          ],
          [
           5
          ],
          [
           5
          ],
          [
           5
          ],
          [
           5
          ],
          [
           5
          ],
          [
           5
          ],
          [
           5
          ],
          [
           5
          ],
          [
           5
          ],
          [
           5
          ],
          [
           5
          ],
          [
           5
          ],
          [
           5
          ],
          [
           5
          ],
          [
           5
          ],
          [
           5
          ],
          [
           5
          ],
          [
           5
          ],
          [
           5
          ],
          [
           5
          ],
          [
           5
          ],
          [
           5
          ],
          [
           5
          ],
          [
           5
          ],
          [
           5
          ],
          [
           5
          ],
          [
           5
          ],
          [
           5
          ],
          [
           5
          ],
          [
           5
          ],
          [
           5
          ],
          [
           5
          ],
          [
           5
          ],
          [
           5
          ],
          [
           5
          ],
          [
           5
          ],
          [
           5
          ],
          [
           5
          ],
          [
           5
          ],
          [
           5
          ],
          [
           5
          ],
          [
           5
          ],
          [
           5
          ],
          [
           5
          ],
          [
           5
          ],
          [
           5
          ],
          [
           5
          ],
          [
           5
          ],
          [
           5
          ],
          [
           5
          ],
          [
           5
          ],
          [
           5
          ],
          [
           5
          ],
          [
           5
          ]
         ],
         "hovertemplate": "identity=L_4inch_data<br>tsne-1=%{x}<br>tsne-2=%{y}<br>id_num=%{customdata[0]}<extra></extra>",
         "legendgroup": "L_4inch_data",
         "marker": {
          "color": "#19d3f3",
          "symbol": "circle"
         },
         "mode": "markers",
         "name": "L_4inch_data",
         "showlegend": true,
         "type": "scattergl",
         "x": [
          -32.30935287475586,
          -27.04337501525879,
          40.256595611572266,
          35.49760055541992,
          33.56584548950195,
          39.21440887451172,
          39.736942291259766,
          -27.485422134399414,
          -28.678434371948242,
          29.55561065673828,
          28.393199920654297,
          -39.55461883544922,
          37.04122543334961,
          38.0516242980957,
          37.623504638671875,
          -42.58855056762695,
          37.84362030029297,
          -35.03933334350586,
          -37.1546745300293,
          39.04148483276367,
          40.44407272338867,
          -39.40674591064453,
          39.129398345947266,
          35.67646789550781,
          -37.46470642089844,
          33.1657600402832,
          30.008419036865234,
          28.338661193847656,
          27.0423526763916,
          -36.42154312133789,
          33.4603385925293,
          -35.49296951293945,
          34.21739196777344,
          27.737747192382812,
          31.026782989501953,
          30.074525833129883,
          39.268253326416016,
          -39.47556686401367,
          29.433244705200195,
          32.56446075439453,
          30.617204666137695,
          -35.22807693481445,
          29.60863494873047,
          27.239986419677734,
          39.3853645324707,
          27.583580017089844,
          28.913738250732422,
          29.755125045776367,
          -36.8958625793457,
          29.791275024414062,
          27.61419105529785,
          -38.833988189697266,
          -34.84720993041992,
          -39.9696159362793,
          29.565317153930664,
          29.174331665039062,
          34.07939910888672,
          27.6647891998291,
          30.757305145263672,
          31.13601303100586,
          31.968286514282227,
          -39.18404769897461,
          34.23576354980469,
          32.608360290527344,
          33.17085266113281,
          31.975759506225586,
          36.755733489990234,
          30.739971160888672,
          33.993980407714844,
          29.25141143798828,
          38.51462936401367,
          32.2087287902832,
          30.846752166748047,
          27.316015243530273,
          36.763832092285156,
          36.341800689697266,
          39.917118072509766,
          30.864572525024414,
          38.17998504638672,
          34.73138427734375,
          31.43593406677246,
          -38.61545181274414,
          30.046955108642578,
          39.02671813964844,
          -42.47140884399414,
          -38.8119010925293,
          -38.52927017211914,
          32.753211975097656,
          33.81019973754883,
          29.916912078857422,
          36.170475006103516,
          -42.77971649169922,
          35.09437561035156,
          29.959169387817383,
          31.30381202697754,
          27.742416381835938,
          27.471721649169922,
          35.416847229003906,
          32.41020965576172,
          30.064207077026367
         ],
         "xaxis": "x",
         "y": [
          33.14680099487305,
          31.372533798217773,
          26.1680965423584,
          35.520912170410156,
          34.0749626159668,
          31.498064041137695,
          36.01594161987305,
          34.42884826660156,
          34.69218444824219,
          32.797080993652344,
          34.799049377441406,
          34.817962646484375,
          34.99092483520508,
          32.69351577758789,
          34.70692443847656,
          42.64701461791992,
          35.48359680175781,
          36.15982437133789,
          35.81975173950195,
          34.16046905517578,
          31.02869987487793,
          39.135040283203125,
          33.9056396484375,
          26.545822143554688,
          43.58760452270508,
          39.230499267578125,
          42.62996292114258,
          35.63279724121094,
          37.780555725097656,
          43.7291259765625,
          41.37468719482422,
          43.03430938720703,
          41.75638198852539,
          36.64579391479492,
          33.75423049926758,
          38.753055572509766,
          35.72117614746094,
          36.54092025756836,
          32.55991744995117,
          41.42898178100586,
          42.43976593017578,
          43.2349853515625,
          41.181610107421875,
          41.283653259277344,
          37.98097229003906,
          41.55427551269531,
          36.004730224609375,
          37.532386779785156,
          36.96741485595703,
          40.833065032958984,
          43.623443603515625,
          33.16680145263672,
          39.24177932739258,
          38.65457534790039,
          40.349185943603516,
          40.85332107543945,
          31.4783992767334,
          40.66047668457031,
          30.818342208862305,
          41.584678649902344,
          42.537025451660156,
          35.84325408935547,
          38.77557373046875,
          38.78135681152344,
          32.04949951171875,
          35.27651596069336,
          24.97333335876465,
          30.695144653320312,
          38.388771057128906,
          36.11283874511719,
          34.902034759521484,
          32.72238540649414,
          40.67936325073242,
          38.118106842041016,
          24.688819885253906,
          31.468585968017578,
          38.132049560546875,
          28.585180282592773,
          38.2438850402832,
          37.78833770751953,
          28.11810302734375,
          34.17078399658203,
          40.853702545166016,
          37.353145599365234,
          42.585838317871094,
          33.61944580078125,
          36.582054138183594,
          42.16706848144531,
          37.46298599243164,
          39.3568229675293,
          24.431135177612305,
          42.83967590332031,
          37.407413482666016,
          38.799102783203125,
          34.693111419677734,
          43.35882568359375,
          40.86717224121094,
          25.23243522644043,
          40.58564376831055,
          30.696998596191406
         ],
         "yaxis": "y"
        },
        {
         "customdata": [
          [
           6
          ],
          [
           6
          ],
          [
           6
          ],
          [
           6
          ],
          [
           6
          ],
          [
           6
          ],
          [
           6
          ],
          [
           6
          ],
          [
           6
          ],
          [
           6
          ],
          [
           6
          ],
          [
           6
          ],
          [
           6
          ],
          [
           6
          ],
          [
           6
          ],
          [
           6
          ],
          [
           6
          ],
          [
           6
          ],
          [
           6
          ],
          [
           6
          ],
          [
           6
          ],
          [
           6
          ],
          [
           6
          ],
          [
           6
          ],
          [
           6
          ],
          [
           6
          ],
          [
           6
          ],
          [
           6
          ],
          [
           6
          ],
          [
           6
          ],
          [
           6
          ],
          [
           6
          ],
          [
           6
          ],
          [
           6
          ],
          [
           6
          ],
          [
           6
          ],
          [
           6
          ],
          [
           6
          ],
          [
           6
          ],
          [
           6
          ],
          [
           6
          ],
          [
           6
          ],
          [
           6
          ],
          [
           6
          ],
          [
           6
          ],
          [
           6
          ],
          [
           6
          ],
          [
           6
          ],
          [
           6
          ],
          [
           6
          ],
          [
           6
          ],
          [
           6
          ],
          [
           6
          ],
          [
           6
          ],
          [
           6
          ],
          [
           6
          ],
          [
           6
          ],
          [
           6
          ],
          [
           6
          ],
          [
           6
          ],
          [
           6
          ],
          [
           6
          ],
          [
           6
          ],
          [
           6
          ],
          [
           6
          ],
          [
           6
          ],
          [
           6
          ],
          [
           6
          ],
          [
           6
          ],
          [
           6
          ],
          [
           6
          ],
          [
           6
          ],
          [
           6
          ],
          [
           6
          ],
          [
           6
          ],
          [
           6
          ],
          [
           6
          ],
          [
           6
          ],
          [
           6
          ],
          [
           6
          ],
          [
           6
          ],
          [
           6
          ],
          [
           6
          ],
          [
           6
          ],
          [
           6
          ],
          [
           6
          ],
          [
           6
          ],
          [
           6
          ],
          [
           6
          ],
          [
           6
          ],
          [
           6
          ],
          [
           6
          ],
          [
           6
          ],
          [
           6
          ],
          [
           6
          ],
          [
           6
          ],
          [
           6
          ],
          [
           6
          ],
          [
           6
          ],
          [
           6
          ]
         ],
         "hovertemplate": "identity=O_8inch_data<br>tsne-1=%{x}<br>tsne-2=%{y}<br>id_num=%{customdata[0]}<extra></extra>",
         "legendgroup": "O_8inch_data",
         "marker": {
          "color": "#FF6692",
          "symbol": "circle"
         },
         "mode": "markers",
         "name": "O_8inch_data",
         "showlegend": true,
         "type": "scattergl",
         "x": [
          -43.673763275146484,
          -44.56364440917969,
          -44.5238151550293,
          -43.86776351928711,
          -43.522071838378906,
          -43.82567596435547,
          -44.520713806152344,
          -43.852352142333984,
          -45.16721725463867,
          -44.771358489990234,
          -45.14445114135742,
          -44.99250793457031,
          -45.4224739074707,
          -44.81299591064453,
          -45.271183013916016,
          -46.40644454956055,
          -47.376834869384766,
          -44.030250549316406,
          -45.6738395690918,
          -30.639636993408203,
          -44.73320770263672,
          -46.28125762939453,
          -47.90696334838867,
          -48.38563537597656,
          -44.94300079345703,
          -46.599525451660156,
          -48.71913146972656,
          -47.181339263916016,
          -45.5815315246582,
          -45.92544174194336,
          -46.179893493652344,
          -46.12051010131836,
          -45.90264129638672,
          -47.561439514160156,
          -46.92698669433594,
          -46.034244537353516,
          -44.316062927246094,
          -45.20954132080078,
          -45.37763595581055,
          -45.94611740112305,
          -50.417232513427734,
          -44.49913024902344,
          -48.91219711303711,
          -47.91269302368164,
          -50.45528030395508,
          -47.236175537109375,
          -43.66511535644531,
          -46.743656158447266,
          -46.96940231323242,
          -44.40837860107422,
          -37.4012336730957,
          -43.54902267456055,
          -47.64017868041992,
          -43.506263732910156,
          -40.82851028442383,
          -55.06184005737305,
          -47.49180221557617,
          -49.07154846191406,
          -38.45648956298828,
          -49.369686126708984,
          -48.21597671508789,
          -47.98994827270508,
          -34.465553283691406,
          -38.229164123535156,
          -40.98980712890625,
          -30.993804931640625,
          -39.82390594482422,
          -53.2156982421875,
          -38.128604888916016,
          -50.82722854614258,
          -36.083946228027344,
          -38.411006927490234,
          -47.30695724487305,
          -48.98464584350586,
          -40.41021728515625,
          -51.78044891357422,
          -42.68014144897461,
          -54.03705596923828,
          -53.948158264160156,
          -51.145259857177734,
          -44.71083450317383,
          -43.4897346496582,
          -59.46040344238281,
          -47.371822357177734,
          -53.50286865234375,
          -47.2723274230957,
          -52.46885299682617,
          -57.779090881347656,
          -56.60430145263672,
          -55.99063491821289,
          -57.11217498779297,
          -55.631980895996094,
          -61.95846176147461,
          -60.15022659301758,
          -45.1104736328125,
          -32.37043762207031,
          -60.407508850097656,
          -59.752559661865234,
          -61.19235610961914,
          -60.75603485107422
         ],
         "xaxis": "x",
         "y": [
          -36.019893646240234,
          -35.819087982177734,
          -35.87692642211914,
          -35.59727478027344,
          -36.44281005859375,
          -36.309425354003906,
          -36.582061767578125,
          -36.52096176147461,
          -34.212738037109375,
          -32.05124282836914,
          -34.3441047668457,
          -33.45985794067383,
          -32.57857894897461,
          -30.167192459106445,
          -33.48009490966797,
          -32.866798400878906,
          -30.26239585876465,
          -34.83938217163086,
          -32.92640686035156,
          -12.263397216796875,
          -33.46059036254883,
          -32.04655075073242,
          -29.924549102783203,
          -29.164478302001953,
          -28.156723022460938,
          -29.560087203979492,
          -26.91724395751953,
          -29.56208038330078,
          -30.023075103759766,
          -26.356733322143555,
          -29.420438766479492,
          -28.449886322021484,
          -24.26725959777832,
          -29.002010345458984,
          -25.226818084716797,
          -24.290592193603516,
          -26.432701110839844,
          -23.91695785522461,
          -25.73048210144043,
          -26.288394927978516,
          -26.809097290039062,
          -28.277114868164062,
          -26.175886154174805,
          -26.56826400756836,
          -27.19695281982422,
          -26.62352180480957,
          -23.48647117614746,
          -26.22455596923828,
          -25.73065185546875,
          -19.017393112182617,
          -15.3955078125,
          -18.598730087280273,
          -24.62529182434082,
          -7.878966808319092,
          -16.418216705322266,
          -9.721125602722168,
          -22.254005432128906,
          -27.079099655151367,
          -19.4867000579834,
          -25.91796112060547,
          -25.15552520751953,
          -22.46476936340332,
          -3.3012146949768066,
          -4.012422561645508,
          -20.157325744628906,
          -11.297707557678223,
          -14.62332534790039,
          -4.01338005065918,
          -15.704174041748047,
          -18.546079635620117,
          -13.078204154968262,
          -18.674264907836914,
          -0.20964981615543365,
          -9.451717376708984,
          -4.745211124420166,
          -4.992456436157227,
          0.6346211433410645,
          -6.130958080291748,
          -9.465205192565918,
          -2.546407461166382,
          1.236343264579773,
          -12.741884231567383,
          -7.410192966461182,
          -0.19048623740673065,
          -4.257774353027344,
          -0.4271003007888794,
          -5.074444770812988,
          -12.403770446777344,
          -14.230449676513672,
          -7.626968860626221,
          -17.00069808959961,
          1.6686233282089233,
          -11.340170860290527,
          -16.52079963684082,
          -4.030076026916504,
          -9.277386665344238,
          -14.633841514587402,
          -14.457730293273926,
          -14.6605806350708,
          -14.028229713439941
         ],
         "yaxis": "y"
        },
        {
         "customdata": [
          [
           7
          ],
          [
           7
          ],
          [
           7
          ],
          [
           7
          ],
          [
           7
          ],
          [
           7
          ],
          [
           7
          ],
          [
           7
          ],
          [
           7
          ],
          [
           7
          ],
          [
           7
          ],
          [
           7
          ],
          [
           7
          ],
          [
           7
          ],
          [
           7
          ],
          [
           7
          ],
          [
           7
          ],
          [
           7
          ],
          [
           7
          ],
          [
           7
          ],
          [
           7
          ],
          [
           7
          ],
          [
           7
          ],
          [
           7
          ],
          [
           7
          ],
          [
           7
          ],
          [
           7
          ],
          [
           7
          ],
          [
           7
          ],
          [
           7
          ],
          [
           7
          ],
          [
           7
          ],
          [
           7
          ],
          [
           7
          ],
          [
           7
          ],
          [
           7
          ],
          [
           7
          ],
          [
           7
          ],
          [
           7
          ],
          [
           7
          ],
          [
           7
          ],
          [
           7
          ],
          [
           7
          ],
          [
           7
          ],
          [
           7
          ],
          [
           7
          ],
          [
           7
          ],
          [
           7
          ],
          [
           7
          ],
          [
           7
          ],
          [
           7
          ],
          [
           7
          ],
          [
           7
          ],
          [
           7
          ],
          [
           7
          ],
          [
           7
          ],
          [
           7
          ],
          [
           7
          ],
          [
           7
          ],
          [
           7
          ],
          [
           7
          ],
          [
           7
          ],
          [
           7
          ],
          [
           7
          ],
          [
           7
          ],
          [
           7
          ],
          [
           7
          ],
          [
           7
          ],
          [
           7
          ],
          [
           7
          ],
          [
           7
          ],
          [
           7
          ],
          [
           7
          ],
          [
           7
          ],
          [
           7
          ],
          [
           7
          ],
          [
           7
          ],
          [
           7
          ],
          [
           7
          ],
          [
           7
          ],
          [
           7
          ],
          [
           7
          ],
          [
           7
          ],
          [
           7
          ],
          [
           7
          ],
          [
           7
          ],
          [
           7
          ],
          [
           7
          ],
          [
           7
          ],
          [
           7
          ],
          [
           7
          ],
          [
           7
          ],
          [
           7
          ],
          [
           7
          ],
          [
           7
          ],
          [
           7
          ],
          [
           7
          ],
          [
           7
          ],
          [
           7
          ],
          [
           7
          ]
         ],
         "hovertemplate": "identity=circle_8inch_data<br>tsne-1=%{x}<br>tsne-2=%{y}<br>id_num=%{customdata[0]}<extra></extra>",
         "legendgroup": "circle_8inch_data",
         "marker": {
          "color": "#B6E880",
          "symbol": "circle"
         },
         "mode": "markers",
         "name": "circle_8inch_data",
         "showlegend": true,
         "type": "scattergl",
         "x": [
          11.289321899414062,
          9.007274627685547,
          7.764612674713135,
          33.701229095458984,
          8.814977645874023,
          34.580020904541016,
          8.31049633026123,
          9.232446670532227,
          5.824238300323486,
          22.814722061157227,
          9.860930442810059,
          20.8016300201416,
          35.357093811035156,
          20.881011962890625,
          26.504091262817383,
          33.527793884277344,
          25.236486434936523,
          18.913557052612305,
          25.65314292907715,
          14.821573257446289,
          17.762907028198242,
          18.55742073059082,
          13.580835342407227,
          17.26729393005371,
          10.388129234313965,
          22.834712982177734,
          18.82182502746582,
          20.55985450744629,
          19.650634765625,
          16.503681182861328,
          13.797401428222656,
          11.719327926635742,
          -0.17825187742710114,
          3.220421552658081,
          -0.39468473196029663,
          0.1481621265411377,
          -4.417507648468018,
          1.1932793855667114,
          -0.46276378631591797,
          0.16424734890460968,
          -4.795358657836914,
          1.1187920570373535,
          0.8457918763160706,
          2.282257318496704,
          2.5406744480133057,
          -1.8345719575881958,
          -0.44022050499916077,
          1.615829348564148,
          1.6471655368804932,
          2.4319190979003906,
          1.4996038675308228,
          2.0114729404449463,
          2.4276795387268066,
          -0.4963691532611847,
          10.954870223999023,
          2.758453845977783,
          13.023605346679688,
          0.931651771068573,
          15.070881843566895,
          6.879650592803955,
          19.960247039794922,
          2.0053396224975586,
          5.782021999359131,
          9.337618827819824,
          8.597637176513672,
          8.125654220581055,
          9.646069526672363,
          2.5385546684265137,
          5.415092945098877,
          1.1757253408432007,
          9.380522727966309,
          2.039574384689331,
          7.023472309112549,
          1.04471755027771,
          7.388797760009766,
          6.262237548828125,
          8.153402328491211,
          8.366949081420898,
          8.84251880645752,
          5.09346866607666,
          5.226252555847168,
          5.666919231414795,
          2.6593234539031982,
          5.28162956237793,
          3.0902199745178223,
          2.203763008117676,
          1.404213786125183,
          1.968721628189087,
          1.3024982213974,
          17.078502655029297,
          13.654117584228516,
          11.010869026184082,
          3.375589370727539,
          1.3760465383529663,
          4.26400899887085,
          2.593137502670288,
          1.028603196144104,
          2.86480712890625,
          2.480208396911621,
          4.224822521209717
         ],
         "xaxis": "x",
         "y": [
          6.152667999267578,
          5.890886306762695,
          4.584051132202148,
          15.603114128112793,
          6.578734397888184,
          17.7963924407959,
          6.3469367027282715,
          5.8774919509887695,
          -2.679417848587036,
          -5.776871204376221,
          0.6128390431404114,
          -6.926260471343994,
          16.36690902709961,
          -10.66299819946289,
          -9.397972106933594,
          15.203177452087402,
          -3.1167185306549072,
          -14.204188346862793,
          -10.207736015319824,
          -13.925300598144531,
          -14.15434741973877,
          -14.16583251953125,
          -14.198806762695312,
          -11.522591590881348,
          -13.510558128356934,
          -7.925671577453613,
          -8.51419734954834,
          -2.5503251552581787,
          -10.644248962402344,
          -12.9992094039917,
          -13.903092384338379,
          -15.407204627990723,
          -22.260961532592773,
          -20.35197639465332,
          -23.641267776489258,
          -23.176870346069336,
          -37.923770904541016,
          -31.34012222290039,
          -34.52312088012695,
          -31.369033813476562,
          -34.63384246826172,
          -32.85493850708008,
          -31.8720703125,
          -27.652278900146484,
          -32.28064727783203,
          -34.87022018432617,
          -29.639680862426758,
          -28.54802131652832,
          -28.709381103515625,
          -32.02906036376953,
          -33.15192413330078,
          -32.343414306640625,
          -30.053028106689453,
          -23.78648567199707,
          -15.57262897491455,
          -18.847993850708008,
          -14.62783432006836,
          -19.676578521728516,
          -2.0355753898620605,
          -17.17713165283203,
          -8.370970726013184,
          -17.23649024963379,
          -17.539287567138672,
          -15.875009536743164,
          -15.021267890930176,
          -17.560514450073242,
          -15.807497024536133,
          -18.135896682739258,
          -17.225976943969727,
          -18.746109008789062,
          -15.517033576965332,
          -15.259986877441406,
          -10.319223403930664,
          -22.35212516784668,
          -16.820648193359375,
          -19.507360458374023,
          -16.81464195251465,
          -17.958526611328125,
          -15.452126502990723,
          -16.988126754760742,
          -20.39068603515625,
          -19.942996978759766,
          -15.293594360351562,
          -20.01983070373535,
          -22.86654281616211,
          -21.918527603149414,
          -20.718242645263672,
          -23.126428604125977,
          -15.215015411376953,
          -0.7445113658905029,
          -5.314521789550781,
          -13.732844352722168,
          -20.00518798828125,
          -22.060646057128906,
          -23.571821212768555,
          -21.99239158630371,
          -19.54888153076172,
          -21.51783561706543,
          -24.045995712280273,
          -23.573455810546875
         ],
         "yaxis": "y"
        },
        {
         "customdata": [
          [
           8
          ],
          [
           8
          ],
          [
           8
          ],
          [
           8
          ],
          [
           8
          ],
          [
           8
          ],
          [
           8
          ],
          [
           8
          ],
          [
           8
          ],
          [
           8
          ],
          [
           8
          ],
          [
           8
          ],
          [
           8
          ],
          [
           8
          ],
          [
           8
          ],
          [
           8
          ],
          [
           8
          ],
          [
           8
          ],
          [
           8
          ],
          [
           8
          ],
          [
           8
          ],
          [
           8
          ],
          [
           8
          ],
          [
           8
          ],
          [
           8
          ],
          [
           8
          ],
          [
           8
          ],
          [
           8
          ],
          [
           8
          ],
          [
           8
          ],
          [
           8
          ],
          [
           8
          ],
          [
           8
          ],
          [
           8
          ],
          [
           8
          ],
          [
           8
          ],
          [
           8
          ],
          [
           8
          ],
          [
           8
          ],
          [
           8
          ],
          [
           8
          ],
          [
           8
          ],
          [
           8
          ],
          [
           8
          ],
          [
           8
          ],
          [
           8
          ],
          [
           8
          ],
          [
           8
          ],
          [
           8
          ],
          [
           8
          ],
          [
           8
          ],
          [
           8
          ],
          [
           8
          ],
          [
           8
          ],
          [
           8
          ],
          [
           8
          ],
          [
           8
          ],
          [
           8
          ],
          [
           8
          ],
          [
           8
          ],
          [
           8
          ],
          [
           8
          ],
          [
           8
          ],
          [
           8
          ],
          [
           8
          ],
          [
           8
          ],
          [
           8
          ],
          [
           8
          ],
          [
           8
          ],
          [
           8
          ],
          [
           8
          ],
          [
           8
          ],
          [
           8
          ],
          [
           8
          ],
          [
           8
          ],
          [
           8
          ],
          [
           8
          ],
          [
           8
          ],
          [
           8
          ],
          [
           8
          ],
          [
           8
          ],
          [
           8
          ],
          [
           8
          ],
          [
           8
          ],
          [
           8
          ],
          [
           8
          ],
          [
           8
          ],
          [
           8
          ],
          [
           8
          ],
          [
           8
          ],
          [
           8
          ],
          [
           8
          ],
          [
           8
          ],
          [
           8
          ],
          [
           8
          ],
          [
           8
          ],
          [
           8
          ],
          [
           8
          ],
          [
           8
          ],
          [
           8
          ]
         ],
         "hovertemplate": "identity=triangle_4inch_data<br>tsne-1=%{x}<br>tsne-2=%{y}<br>id_num=%{customdata[0]}<extra></extra>",
         "legendgroup": "triangle_4inch_data",
         "marker": {
          "color": "#FF97FF",
          "symbol": "circle"
         },
         "mode": "markers",
         "name": "triangle_4inch_data",
         "showlegend": true,
         "type": "scattergl",
         "x": [
          -0.25734803080558777,
          -0.4689640998840332,
          -6.005645275115967,
          0.9310806393623352,
          -0.8128886818885803,
          1.1990935802459717,
          -1.2018744945526123,
          0.13962557911872864,
          -1.9214521646499634,
          -0.2789711058139801,
          -0.30365315079689026,
          -0.34226855635643005,
          0.15557193756103516,
          -0.6781525015830994,
          -1.591736912727356,
          -0.24826323986053467,
          -0.04795944318175316,
          -1.2260907888412476,
          -4.070372581481934,
          4.144697189331055,
          -0.5432977676391602,
          -3.1733224391937256,
          0.20366635918617249,
          -0.15515251457691193,
          2.9010045528411865,
          -1.5874919891357422,
          1.5325363874435425,
          -0.0047189160250127316,
          -0.7934592366218567,
          -3.1385385990142822,
          2.5748703479766846,
          -3.0788955688476562,
          0.489621102809906,
          -4.424164772033691,
          3.3992226123809814,
          -3.066304922103882,
          -2.5049304962158203,
          -1.9661142826080322,
          -3.3502449989318848,
          -4.075612545013428,
          -3.006803512573242,
          -2.8718953132629395,
          -2.0352370738983154,
          0.8929697275161743,
          -1.45980966091156,
          -1.3085860013961792,
          3.0850846767425537,
          -2.3735501766204834,
          1.0066965818405151,
          -6.376880168914795,
          -4.79811429977417,
          0.0702332854270935,
          -5.121140956878662,
          -1.050532579421997,
          -5.422308921813965,
          -0.08004819601774216,
          -5.7101545333862305,
          -5.411877155303955,
          -2.272952079772949,
          -1.0556201934814453,
          -0.9879165887832642,
          -3.1677584648132324,
          -6.438795566558838,
          -4.625978946685791,
          -5.240203380584717,
          -3.2185440063476562,
          -4.907278537750244,
          -2.7045693397521973,
          0.31697461009025574,
          4.5895256996154785,
          1.363088607788086,
          -2.956132650375366,
          -3.728151798248291,
          -0.12013537436723709,
          4.4363017082214355,
          -1.9048992395401,
          -1.9376492500305176,
          0.18099045753479004,
          -2.6425018310546875,
          -2.202481269836426,
          0.9156897068023682,
          1.4958317279815674,
          1.0913169384002686,
          -2.2226040363311768,
          -2.3363699913024902,
          0.08537577837705612,
          -2.8591272830963135,
          -1.8894768953323364,
          1.5014116764068604,
          -1.318237543106079,
          -0.5168920755386353,
          -2.2090559005737305,
          -0.930042564868927,
          -1.4436441659927368,
          -0.6431230306625366,
          1.1582244634628296,
          2.336686372756958,
          1.9803521633148193,
          1.2786738872528076,
          -0.09798478335142136
         ],
         "xaxis": "x",
         "y": [
          38.24429702758789,
          38.51994705200195,
          38.087318420410156,
          36.602901458740234,
          39.248931884765625,
          36.199485778808594,
          45.28564453125,
          46.26960754394531,
          39.377525329589844,
          47.441993713378906,
          46.45370864868164,
          52.498260498046875,
          48.210147857666016,
          49.337493896484375,
          39.522125244140625,
          48.313621520996094,
          51.3270149230957,
          50.65054702758789,
          54.26845932006836,
          50.370361328125,
          48.5067253112793,
          53.78681182861328,
          51.317466735839844,
          46.946136474609375,
          50.747745513916016,
          51.65840148925781,
          50.5324592590332,
          53.44924545288086,
          50.47879409790039,
          53.38976287841797,
          50.92814254760742,
          53.22807312011719,
          49.638038635253906,
          56.816829681396484,
          50.76285171508789,
          55.00029373168945,
          51.307899475097656,
          54.391841888427734,
          48.72610092163086,
          54.46971130371094,
          50.11454772949219,
          56.16413497924805,
          50.56791687011719,
          53.49363327026367,
          51.14072036743164,
          55.385379791259766,
          50.66554641723633,
          50.50745391845703,
          57.88451385498047,
          59.388092041015625,
          58.72191619873047,
          55.7139778137207,
          60.556217193603516,
          59.05929183959961,
          60.464962005615234,
          60.16577911376953,
          59.09085464477539,
          59.745235443115234,
          61.66869354248047,
          57.68012237548828,
          60.19916915893555,
          61.980133056640625,
          61.9244499206543,
          59.81737518310547,
          62.631744384765625,
          58.143245697021484,
          61.93209457397461,
          61.09684371948242,
          58.652427673339844,
          51.37772750854492,
          57.059444427490234,
          61.692359924316406,
          62.55503463745117,
          56.83567428588867,
          51.10202407836914,
          62.69993591308594,
          61.85572052001953,
          58.45726776123047,
          62.445213317871094,
          54.93471145629883,
          54.79734420776367,
          54.84144973754883,
          56.272315979003906,
          55.14533233642578,
          57.76378631591797,
          55.88532638549805,
          54.92976760864258,
          57.2498664855957,
          54.26620101928711,
          57.514892578125,
          58.11159896850586,
          60.433624267578125,
          61.59516906738281,
          61.8125,
          61.1336784362793,
          60.440303802490234,
          59.150291442871094,
          59.49851608276367,
          59.772850036621094,
          61.3471794128418
         ],
         "yaxis": "y"
        },
        {
         "customdata": [
          [
           9
          ],
          [
           9
          ],
          [
           9
          ],
          [
           9
          ],
          [
           9
          ],
          [
           9
          ],
          [
           9
          ],
          [
           9
          ],
          [
           9
          ],
          [
           9
          ],
          [
           9
          ],
          [
           9
          ],
          [
           9
          ],
          [
           9
          ],
          [
           9
          ],
          [
           9
          ],
          [
           9
          ],
          [
           9
          ],
          [
           9
          ],
          [
           9
          ],
          [
           9
          ],
          [
           9
          ],
          [
           9
          ],
          [
           9
          ],
          [
           9
          ],
          [
           9
          ],
          [
           9
          ],
          [
           9
          ],
          [
           9
          ],
          [
           9
          ],
          [
           9
          ],
          [
           9
          ],
          [
           9
          ],
          [
           9
          ],
          [
           9
          ],
          [
           9
          ],
          [
           9
          ],
          [
           9
          ],
          [
           9
          ],
          [
           9
          ],
          [
           9
          ],
          [
           9
          ],
          [
           9
          ],
          [
           9
          ],
          [
           9
          ],
          [
           9
          ],
          [
           9
          ],
          [
           9
          ],
          [
           9
          ],
          [
           9
          ],
          [
           9
          ],
          [
           9
          ],
          [
           9
          ],
          [
           9
          ],
          [
           9
          ],
          [
           9
          ],
          [
           9
          ],
          [
           9
          ],
          [
           9
          ],
          [
           9
          ],
          [
           9
          ],
          [
           9
          ],
          [
           9
          ],
          [
           9
          ],
          [
           9
          ],
          [
           9
          ],
          [
           9
          ],
          [
           9
          ],
          [
           9
          ],
          [
           9
          ],
          [
           9
          ],
          [
           9
          ],
          [
           9
          ],
          [
           9
          ],
          [
           9
          ],
          [
           9
          ],
          [
           9
          ],
          [
           9
          ],
          [
           9
          ],
          [
           9
          ],
          [
           9
          ],
          [
           9
          ],
          [
           9
          ],
          [
           9
          ],
          [
           9
          ],
          [
           9
          ],
          [
           9
          ],
          [
           9
          ],
          [
           9
          ],
          [
           9
          ],
          [
           9
          ],
          [
           9
          ],
          [
           9
          ],
          [
           9
          ],
          [
           9
          ],
          [
           9
          ],
          [
           9
          ],
          [
           9
          ],
          [
           9
          ],
          [
           9
          ]
         ],
         "hovertemplate": "identity=star_4inch_data<br>tsne-1=%{x}<br>tsne-2=%{y}<br>id_num=%{customdata[0]}<extra></extra>",
         "legendgroup": "star_4inch_data",
         "marker": {
          "color": "#FECB52",
          "symbol": "circle"
         },
         "mode": "markers",
         "name": "star_4inch_data",
         "showlegend": true,
         "type": "scattergl",
         "x": [
          -52.5411376953125,
          -54.68084716796875,
          -53.586002349853516,
          -54.26953887939453,
          -54.35945510864258,
          -53.528228759765625,
          -56.25257873535156,
          -52.99977493286133,
          -44.70987319946289,
          -47.13852310180664,
          -45.08979415893555,
          -48.648773193359375,
          -48.326210021972656,
          -53.80732345581055,
          -48.345115661621094,
          -52.513668060302734,
          -46.404296875,
          -47.83241271972656,
          -50.55937957763672,
          -52.55135726928711,
          -34.84469223022461,
          -47.59143829345703,
          -36.04597473144531,
          -48.770572662353516,
          -35.20109558105469,
          -38.00602340698242,
          -35.8592529296875,
          -46.096126556396484,
          -31.700336456298828,
          -53.29081344604492,
          -45.296546936035156,
          -34.562705993652344,
          -44.07360076904297,
          -49.07418441772461,
          -51.47686004638672,
          -48.2004508972168,
          -46.639930725097656,
          -44.90654373168945,
          -36.508602142333984,
          -50.5955696105957,
          -50.39739990234375,
          -48.97958755493164,
          -51.53032302856445,
          -46.862030029296875,
          -51.2564582824707,
          -46.30448532104492,
          -54.33063888549805,
          -48.722190856933594,
          -56.98405838012695,
          -54.28429412841797,
          -32.17439651489258,
          -52.8583984375,
          -55.95960998535156,
          -49.76348114013672,
          -47.0390739440918,
          -55.30662155151367,
          -54.73573684692383,
          -57.002357482910156,
          -53.303131103515625,
          -32.4670295715332,
          -56.46989059448242,
          -47.4583740234375,
          -40.880218505859375,
          -59.10198974609375,
          -54.43394470214844,
          -50.603336334228516,
          -60.88136672973633,
          -58.061378479003906,
          -55.14528274536133,
          -53.87782669067383,
          -45.67824172973633,
          -57.177955627441406,
          -58.448822021484375,
          -60.10803985595703,
          -60.024105072021484,
          -50.614654541015625,
          -65.26934814453125,
          -59.24028396606445,
          -58.360939025878906,
          -56.49760055541992,
          -58.97869110107422,
          -59.81742477416992,
          -58.07689666748047,
          -59.471519470214844,
          -55.03242111206055,
          -63.23844909667969,
          -54.31124496459961,
          -64.1516342163086,
          -57.85347366333008,
          -55.25137710571289,
          -54.22652816772461,
          -54.89620590209961,
          -59.521121978759766,
          -55.117828369140625,
          -56.98110580444336,
          -57.73301315307617,
          -60.937950134277344,
          -60.50589370727539,
          -61.52839279174805,
          -58.91062545776367
         ],
         "xaxis": "x",
         "y": [
          7.853198528289795,
          8.568325996398926,
          8.0200834274292,
          8.528496742248535,
          8.608683586120605,
          8.026182174682617,
          8.526020050048828,
          8.161210060119629,
          -16.281583786010742,
          -19.297149658203125,
          -17.299497604370117,
          -19.607398986816406,
          -20.64923858642578,
          -20.298704147338867,
          -19.958162307739258,
          -16.877471923828125,
          -21.796812057495117,
          -10.578483581542969,
          -25.724544525146484,
          -5.3625569343566895,
          1.708893060684204,
          -17.725366592407227,
          -0.4310019016265869,
          -14.70383358001709,
          -1.2255767583847046,
          -12.770307540893555,
          -2.232074737548828,
          -16.565494537353516,
          -0.0815320834517479,
          -3.4908437728881836,
          -9.621759414672852,
          -3.001400947570801,
          -15.766926765441895,
          -20.359149932861328,
          -13.954788208007812,
          -18.475746154785156,
          -14.91080379486084,
          -14.510491371154785,
          -12.563780784606934,
          -19.450498580932617,
          -20.969043731689453,
          -15.354455947875977,
          -20.373262405395508,
          -1.0551215410232544,
          -18.724191665649414,
          -5.710928916931152,
          -19.15092658996582,
          -9.452750205993652,
          -12.722344398498535,
          -19.566911697387695,
          -9.812041282653809,
          -5.9282450675964355,
          -12.252639770507812,
          -15.464441299438477,
          -5.5801191329956055,
          -16.43951988220215,
          -15.37643051147461,
          -12.198193550109863,
          -15.789445877075195,
          -9.28970718383789,
          -15.747599601745605,
          -14.960687637329102,
          -10.226993560791016,
          -9.92403793334961,
          -9.092108726501465,
          -16.834354400634766,
          -12.170023918151855,
          -14.676213264465332,
          -15.343215942382812,
          -7.377972602844238,
          -5.935896873474121,
          -13.95121955871582,
          -13.998922348022461,
          -8.515263557434082,
          -8.801453590393066,
          -12.259509086608887,
          1.0254294872283936,
          -14.915708541870117,
          -11.848660469055176,
          3.2252655029296875,
          -10.55617904663086,
          -11.45047664642334,
          0.4351653456687927,
          -12.443499565124512,
          -8.63939094543457,
          -7.404618740081787,
          -7.6358866691589355,
          1.5054194927215576,
          -14.238554000854492,
          4.3367533683776855,
          -13.604519844055176,
          -9.118160247802734,
          -7.722994327545166,
          -13.533074378967285,
          -10.114944458007812,
          -14.770683288574219,
          -11.113834381103516,
          -11.430915832519531,
          -12.287454605102539,
          -1.613217830657959
         ],
         "yaxis": "y"
        },
        {
         "customdata": [
          [
           10
          ],
          [
           10
          ],
          [
           10
          ],
          [
           10
          ],
          [
           10
          ],
          [
           10
          ],
          [
           10
          ],
          [
           10
          ],
          [
           10
          ],
          [
           10
          ],
          [
           10
          ],
          [
           10
          ],
          [
           10
          ],
          [
           10
          ],
          [
           10
          ],
          [
           10
          ],
          [
           10
          ],
          [
           10
          ],
          [
           10
          ],
          [
           10
          ],
          [
           10
          ],
          [
           10
          ],
          [
           10
          ],
          [
           10
          ],
          [
           10
          ],
          [
           10
          ],
          [
           10
          ],
          [
           10
          ],
          [
           10
          ],
          [
           10
          ],
          [
           10
          ],
          [
           10
          ],
          [
           10
          ],
          [
           10
          ],
          [
           10
          ],
          [
           10
          ],
          [
           10
          ],
          [
           10
          ],
          [
           10
          ],
          [
           10
          ],
          [
           10
          ],
          [
           10
          ],
          [
           10
          ],
          [
           10
          ],
          [
           10
          ],
          [
           10
          ],
          [
           10
          ],
          [
           10
          ],
          [
           10
          ],
          [
           10
          ],
          [
           10
          ],
          [
           10
          ],
          [
           10
          ],
          [
           10
          ],
          [
           10
          ],
          [
           10
          ],
          [
           10
          ],
          [
           10
          ],
          [
           10
          ],
          [
           10
          ],
          [
           10
          ],
          [
           10
          ],
          [
           10
          ],
          [
           10
          ],
          [
           10
          ],
          [
           10
          ],
          [
           10
          ],
          [
           10
          ],
          [
           10
          ],
          [
           10
          ],
          [
           10
          ],
          [
           10
          ],
          [
           10
          ],
          [
           10
          ],
          [
           10
          ],
          [
           10
          ],
          [
           10
          ],
          [
           10
          ],
          [
           10
          ],
          [
           10
          ],
          [
           10
          ],
          [
           10
          ],
          [
           10
          ],
          [
           10
          ],
          [
           10
          ],
          [
           10
          ],
          [
           10
          ],
          [
           10
          ],
          [
           10
          ],
          [
           10
          ],
          [
           10
          ],
          [
           10
          ],
          [
           10
          ],
          [
           10
          ],
          [
           10
          ],
          [
           10
          ],
          [
           10
          ],
          [
           10
          ],
          [
           10
          ],
          [
           10
          ]
         ],
         "hovertemplate": "identity=N_4inch_data<br>tsne-1=%{x}<br>tsne-2=%{y}<br>id_num=%{customdata[0]}<extra></extra>",
         "legendgroup": "N_4inch_data",
         "marker": {
          "color": "#636efa",
          "symbol": "circle"
         },
         "mode": "markers",
         "name": "N_4inch_data",
         "showlegend": true,
         "type": "scattergl",
         "x": [
          9.620718002319336,
          7.832080364227295,
          7.826574325561523,
          7.801784038543701,
          8.511944770812988,
          34.34482192993164,
          9.73764705657959,
          19.69189453125,
          17.891746520996094,
          11.00477409362793,
          8.743010520935059,
          17.512971878051758,
          33.2249755859375,
          12.635087966918945,
          6.514342308044434,
          35.025577545166016,
          1.7766748666763306,
          14.34174919128418,
          19.59670639038086,
          21.659116744995117,
          19.014434814453125,
          21.219032287597656,
          19.517789840698242,
          19.00657081604004,
          10.540498733520508,
          15.243372917175293,
          16.984848022460938,
          17.279138565063477,
          20.295188903808594,
          18.49665069580078,
          2.0631396770477295,
          22.397716522216797,
          9.956103324890137,
          13.345185279846191,
          14.272053718566895,
          16.347763061523438,
          14.25961971282959,
          18.109712600708008,
          24.580116271972656,
          18.398712158203125,
          15.650413513183594,
          26.99226188659668,
          22.585731506347656,
          18.727880477905273,
          22.533544540405273,
          23.576580047607422,
          20.354188919067383,
          21.746408462524414,
          22.01694107055664,
          15.927291870117188,
          16.495046615600586,
          24.936193466186523,
          23.00995635986328,
          23.345340728759766,
          24.12708282470703,
          25.220731735229492,
          23.699871063232422,
          21.11705207824707,
          14.922651290893555,
          23.09160804748535,
          15.30800724029541,
          23.98723602294922,
          20.07970428466797,
          22.559680938720703,
          21.39889144897461,
          23.09385108947754,
          18.69184684753418,
          21.04397201538086,
          21.79500389099121,
          19.27495574951172,
          20.977005004882812,
          25.281015396118164,
          20.802900314331055,
          25.0091609954834,
          23.269039154052734,
          14.529223442077637,
          25.879947662353516,
          14.39622688293457,
          23.419710159301758,
          18.978513717651367,
          21.3293399810791,
          21.172983169555664,
          20.215688705444336,
          16.980642318725586,
          15.477577209472656,
          20.117509841918945,
          19.47269058227539,
          18.202678680419922,
          19.859390258789062,
          19.18413734436035,
          23.147512435913086,
          25.930416107177734,
          22.70443344116211,
          20.591535568237305,
          19.59601593017578,
          24.86530876159668,
          25.615514755249023,
          24.875083923339844,
          24.860267639160156,
          22.52053451538086
         ],
         "xaxis": "x",
         "y": [
          6.065833568572998,
          4.550692558288574,
          5.498571395874023,
          4.3446831703186035,
          7.403027534484863,
          19.46510124206543,
          0.667678952217102,
          -6.773078918457031,
          -0.8989412784576416,
          -3.370455026626587,
          -8.013938903808594,
          -7.0992841720581055,
          16.039968490600586,
          -4.369854927062988,
          -4.609045028686523,
          16.475812911987305,
          -14.049480438232422,
          -4.984176158905029,
          -0.6982359290122986,
          -6.040973663330078,
          -2.1759910583496094,
          -11.741358757019043,
          -2.1023802757263184,
          -9.113577842712402,
          -2.8321478366851807,
          -3.220156669616699,
          -7.56746768951416,
          -6.07307767868042,
          -3.3034069538116455,
          -3.833399534225464,
          -2.8985438346862793,
          -3.5898990631103516,
          -4.842803478240967,
          -9.56138801574707,
          -7.012974739074707,
          -3.135542631149292,
          -7.138230800628662,
          -1.0199114084243774,
          -5.83276891708374,
          -7.57614278793335,
          -6.826129913330078,
          -2.647233486175537,
          -6.1491875648498535,
          -5.369390964508057,
          -4.3373703956604,
          -3.7973508834838867,
          -2.230590343475342,
          -2.2792930603027344,
          -9.555402755737305,
          -10.530290603637695,
          -8.606131553649902,
          -8.133475303649902,
          -10.643446922302246,
          -4.528549671173096,
          -1.15684175491333,
          -3.0529987812042236,
          -5.273311138153076,
          -10.780892372131348,
          -3.4175548553466797,
          -8.406454086303711,
          -6.928665637969971,
          -7.329950332641602,
          -4.487154483795166,
          -2.1488699913024902,
          -1.8326915502548218,
          -10.860759735107422,
          -14.169397354125977,
          -8.601032257080078,
          -4.78567361831665,
          -8.325285911560059,
          -6.983964920043945,
          -5.845181941986084,
          0.4524729549884796,
          -6.5687994956970215,
          -8.94307804107666,
          -3.7698190212249756,
          -9.931272506713867,
          -4.732788562774658,
          -9.499217987060547,
          -0.4392024576663971,
          -4.666719913482666,
          -5.132010459899902,
          0.49780377745628357,
          -10.421292304992676,
          -2.811899423599243,
          -0.002374749630689621,
          -5.657341957092285,
          -3.09879994392395,
          -4.266944408416748,
          -0.7849358320236206,
          -9.145856857299805,
          -2.3854568004608154,
          -2.041698932647705,
          -8.84553337097168,
          -1.6795761585235596,
          -1.9371060132980347,
          -6.184758186340332,
          -1.3784340620040894,
          -1.312958836555481,
          -1.4729045629501343
         ],
         "yaxis": "y"
        },
        {
         "customdata": [
          [
           11
          ],
          [
           11
          ],
          [
           11
          ],
          [
           11
          ],
          [
           11
          ],
          [
           11
          ],
          [
           11
          ],
          [
           11
          ],
          [
           11
          ],
          [
           11
          ],
          [
           11
          ],
          [
           11
          ],
          [
           11
          ],
          [
           11
          ],
          [
           11
          ],
          [
           11
          ],
          [
           11
          ],
          [
           11
          ],
          [
           11
          ],
          [
           11
          ],
          [
           11
          ],
          [
           11
          ],
          [
           11
          ],
          [
           11
          ],
          [
           11
          ],
          [
           11
          ],
          [
           11
          ],
          [
           11
          ],
          [
           11
          ],
          [
           11
          ],
          [
           11
          ],
          [
           11
          ],
          [
           11
          ],
          [
           11
          ],
          [
           11
          ],
          [
           11
          ],
          [
           11
          ],
          [
           11
          ],
          [
           11
          ],
          [
           11
          ],
          [
           11
          ],
          [
           11
          ],
          [
           11
          ],
          [
           11
          ],
          [
           11
          ],
          [
           11
          ],
          [
           11
          ],
          [
           11
          ],
          [
           11
          ],
          [
           11
          ],
          [
           11
          ],
          [
           11
          ],
          [
           11
          ],
          [
           11
          ],
          [
           11
          ],
          [
           11
          ],
          [
           11
          ],
          [
           11
          ],
          [
           11
          ],
          [
           11
          ],
          [
           11
          ],
          [
           11
          ],
          [
           11
          ],
          [
           11
          ],
          [
           11
          ],
          [
           11
          ],
          [
           11
          ],
          [
           11
          ],
          [
           11
          ],
          [
           11
          ],
          [
           11
          ],
          [
           11
          ],
          [
           11
          ],
          [
           11
          ],
          [
           11
          ],
          [
           11
          ],
          [
           11
          ],
          [
           11
          ],
          [
           11
          ],
          [
           11
          ],
          [
           11
          ],
          [
           11
          ],
          [
           11
          ],
          [
           11
          ],
          [
           11
          ],
          [
           11
          ],
          [
           11
          ],
          [
           11
          ],
          [
           11
          ],
          [
           11
          ],
          [
           11
          ],
          [
           11
          ],
          [
           11
          ],
          [
           11
          ],
          [
           11
          ],
          [
           11
          ],
          [
           11
          ],
          [
           11
          ],
          [
           11
          ],
          [
           11
          ]
         ],
         "hovertemplate": "identity=O_4inch_data<br>tsne-1=%{x}<br>tsne-2=%{y}<br>id_num=%{customdata[0]}<extra></extra>",
         "legendgroup": "O_4inch_data",
         "marker": {
          "color": "#EF553B",
          "symbol": "circle"
         },
         "mode": "markers",
         "name": "O_4inch_data",
         "showlegend": true,
         "type": "scattergl",
         "x": [
          -35.88611602783203,
          -35.7244987487793,
          -35.455528259277344,
          -33.62555694580078,
          -34.51982116699219,
          -36.68784713745117,
          -37.68670654296875,
          -31.759424209594727,
          -36.67333984375,
          -38.48240280151367,
          -34.53058624267578,
          -36.29570770263672,
          -51.5247802734375,
          -41.98597717285156,
          -37.508941650390625,
          -35.94276428222656,
          -49.750736236572266,
          -50.884071350097656,
          -44.575767517089844,
          -50.78165817260742,
          -41.739376068115234,
          -40.1691780090332,
          -39.53270721435547,
          -38.963287353515625,
          -45.72947692871094,
          -40.96104049682617,
          -43.54519271850586,
          -35.659610748291016,
          -38.73554992675781,
          -39.1400032043457,
          -53.3320198059082,
          -39.338356018066406,
          -51.7956657409668,
          -39.652950286865234,
          -54.485496520996094,
          -34.22506332397461,
          -38.26716232299805,
          -53.312782287597656,
          -44.790470123291016,
          -42.356361389160156,
          -46.19316101074219,
          -48.57270812988281,
          -58.9447135925293,
          -36.93980407714844,
          -53.584476470947266,
          -46.46418762207031,
          -44.50257110595703,
          -51.31465530395508,
          -53.365047454833984,
          -42.84776306152344,
          -48.4473762512207,
          -40.43504333496094,
          -35.10903549194336,
          -35.4437141418457,
          -45.35808563232422,
          -50.16484832763672,
          -42.37504196166992,
          -40.70347595214844,
          -38.83926010131836,
          -36.622493743896484,
          -39.770809173583984,
          -40.534427642822266,
          -34.92014694213867,
          -40.537418365478516,
          -40.035152435302734,
          -37.9488525390625,
          -46.273067474365234,
          -43.599327087402344,
          -40.16160583496094,
          -43.9168586730957,
          -40.02284622192383,
          -31.062196731567383,
          -32.35392761230469,
          -39.10600662231445,
          -46.83543014526367,
          -42.55366516113281,
          -40.182403564453125,
          -32.1171875,
          -37.069271087646484,
          -36.026710510253906,
          -47.26445007324219,
          -44.342525482177734,
          -40.85159683227539,
          -43.33446502685547,
          -41.03609085083008,
          -40.50950622558594,
          -36.12758255004883,
          -37.96082305908203,
          -52.04597473144531,
          -41.11148452758789,
          -41.82986068725586,
          -48.714969635009766,
          -38.77210998535156,
          -45.83657455444336,
          -41.917510986328125,
          -36.91812515258789,
          -40.174713134765625,
          -38.59425735473633,
          -38.65755081176758,
          -39.00640106201172
         ],
         "xaxis": "x",
         "y": [
          1.8339310884475708,
          0.6946206092834473,
          1.2758265733718872,
          -0.013284727931022644,
          -0.5462015867233276,
          1.7013059854507446,
          0.5084062814712524,
          -0.05755328759551048,
          -0.11528986692428589,
          0.02337511070072651,
          0.5206860899925232,
          -11.357551574707031,
          7.910425662994385,
          -7.722717761993408,
          0.5991970896720886,
          0.0024502715095877647,
          -12.790762901306152,
          -1.5377694368362427,
          -8.641261100769043,
          -1.5439367294311523,
          -13.952937126159668,
          -12.795204162597656,
          0.08019344508647919,
          -7.036350727081299,
          -8.779126167297363,
          -6.952653884887695,
          -13.845677375793457,
          -0.833977997303009,
          -1.4840319156646729,
          -0.9295558333396912,
          -4.8726115226745605,
          0.26542750000953674,
          7.78835391998291,
          1.8794516324996948,
          3.700819969177246,
          -8.92127799987793,
          -6.858583450317383,
          -3.393965244293213,
          -2.3054752349853516,
          -12.472333908081055,
          -10.619434356689453,
          -16.559206008911133,
          -2.270052671432495,
          -10.967615127563477,
          -6.612094879150391,
          -9.119065284729004,
          -8.019388198852539,
          -14.844807624816895,
          -5.752930641174316,
          -9.505661964416504,
          -16.124452590942383,
          -13.944828987121582,
          -8.651267051696777,
          -8.164990425109863,
          -8.965078353881836,
          -20.47658348083496,
          -14.343042373657227,
          -13.5614013671875,
          -9.458806991577148,
          -12.662181854248047,
          -9.102648735046387,
          -9.417828559875488,
          -2.3231143951416016,
          -14.657726287841797,
          -14.16745662689209,
          -2.767550230026245,
          -8.200113296508789,
          -10.1525239944458,
          -5.178538799285889,
          -14.937383651733398,
          -7.563978672027588,
          -11.251080513000488,
          -11.14513111114502,
          -2.1116373538970947,
          -17.1834659576416,
          -9.147126197814941,
          -1.2353017330169678,
          -11.045231819152832,
          -2.142246961593628,
          -8.627753257751465,
          -14.26993179321289,
          -10.1637544631958,
          -20.075544357299805,
          -18.750152587890625,
          -2.250180244445801,
          -3.899885416030884,
          -5.245244979858398,
          -10.345026016235352,
          -5.647486209869385,
          -5.168301105499268,
          -15.26910400390625,
          -13.211323738098145,
          -12.381147384643555,
          -11.36732292175293,
          -12.12123966217041,
          -4.496958255767822,
          -15.402929306030273,
          -13.96572494506836,
          -2.7162363529205322,
          -13.315604209899902
         ],
         "yaxis": "y"
        },
        {
         "customdata": [
          [
           12
          ],
          [
           12
          ],
          [
           12
          ],
          [
           12
          ],
          [
           12
          ],
          [
           12
          ],
          [
           12
          ],
          [
           12
          ],
          [
           12
          ],
          [
           12
          ],
          [
           12
          ],
          [
           12
          ],
          [
           12
          ],
          [
           12
          ],
          [
           12
          ],
          [
           12
          ],
          [
           12
          ],
          [
           12
          ],
          [
           12
          ],
          [
           12
          ],
          [
           12
          ],
          [
           12
          ],
          [
           12
          ],
          [
           12
          ],
          [
           12
          ],
          [
           12
          ],
          [
           12
          ],
          [
           12
          ],
          [
           12
          ],
          [
           12
          ],
          [
           12
          ],
          [
           12
          ],
          [
           12
          ],
          [
           12
          ],
          [
           12
          ],
          [
           12
          ],
          [
           12
          ],
          [
           12
          ],
          [
           12
          ],
          [
           12
          ],
          [
           12
          ],
          [
           12
          ],
          [
           12
          ],
          [
           12
          ],
          [
           12
          ],
          [
           12
          ],
          [
           12
          ],
          [
           12
          ],
          [
           12
          ],
          [
           12
          ],
          [
           12
          ],
          [
           12
          ],
          [
           12
          ],
          [
           12
          ],
          [
           12
          ],
          [
           12
          ],
          [
           12
          ],
          [
           12
          ],
          [
           12
          ],
          [
           12
          ],
          [
           12
          ],
          [
           12
          ],
          [
           12
          ],
          [
           12
          ],
          [
           12
          ],
          [
           12
          ],
          [
           12
          ],
          [
           12
          ],
          [
           12
          ],
          [
           12
          ],
          [
           12
          ],
          [
           12
          ],
          [
           12
          ],
          [
           12
          ],
          [
           12
          ],
          [
           12
          ],
          [
           12
          ],
          [
           12
          ],
          [
           12
          ],
          [
           12
          ],
          [
           12
          ],
          [
           12
          ],
          [
           12
          ],
          [
           12
          ],
          [
           12
          ],
          [
           12
          ],
          [
           12
          ],
          [
           12
          ],
          [
           12
          ],
          [
           12
          ],
          [
           12
          ],
          [
           12
          ],
          [
           12
          ],
          [
           12
          ],
          [
           12
          ],
          [
           12
          ],
          [
           12
          ],
          [
           12
          ],
          [
           12
          ],
          [
           12
          ]
         ],
         "hovertemplate": "identity=L_8inch_data<br>tsne-1=%{x}<br>tsne-2=%{y}<br>id_num=%{customdata[0]}<extra></extra>",
         "legendgroup": "L_8inch_data",
         "marker": {
          "color": "#00cc96",
          "symbol": "circle"
         },
         "mode": "markers",
         "name": "L_8inch_data",
         "showlegend": true,
         "type": "scattergl",
         "x": [
          1.5074670314788818,
          -6.266214847564697,
          -1.7476704120635986,
          36.671546936035156,
          34.31784439086914,
          36.90801239013672,
          29.974061965942383,
          36.85110092163086,
          35.91050338745117,
          -28.99271011352539,
          28.908306121826172,
          -29.28850746154785,
          41.25691223144531,
          32.209686279296875,
          35.640037536621094,
          27.022933959960938,
          31.865196228027344,
          -26.45816421508789,
          40.39393997192383,
          40.99925994873047,
          -30.473520278930664,
          -27.092126846313477,
          -31.4827938079834,
          35.1241340637207,
          36.42439270019531,
          32.781429290771484,
          -29.177875518798828,
          39.62012481689453,
          32.63882064819336,
          36.94906234741211,
          34.30812072753906,
          -31.948129653930664,
          40.95353698730469,
          34.91082763671875,
          28.425479888916016,
          -28.15887451171875,
          -30.0648136138916,
          34.03520202636719,
          37.68476867675781,
          36.15677261352539,
          -27.045900344848633,
          -30.424692153930664,
          35.811275482177734,
          34.48030090332031,
          39.84633255004883,
          -26.831653594970703,
          33.470985412597656,
          38.03834533691406,
          -28.3690128326416,
          37.41082763671875,
          35.534236907958984,
          -28.74323844909668,
          -30.541358947753906,
          39.004486083984375,
          36.21601104736328,
          32.352294921875,
          38.016048431396484,
          35.98488998413086,
          -28.439802169799805,
          39.09898376464844,
          39.58967208862305,
          -31.196321487426758,
          36.118247985839844,
          34.95439910888672,
          34.45665740966797,
          32.86152648925781,
          30.718595504760742,
          -28.645315170288086,
          32.978885650634766,
          -28.997602462768555,
          34.53163146972656,
          -30.271150588989258,
          -29.004703521728516,
          34.439876556396484,
          -32.886383056640625,
          -30.026260375976562,
          33.64421844482422,
          33.97782516479492,
          31.63137435913086,
          37.396202087402344,
          38.6577033996582,
          -30.819181442260742,
          27.337642669677734,
          36.488739013671875,
          31.601173400878906,
          32.263694763183594,
          37.81734085083008,
          38.49118423461914,
          31.98526954650879,
          35.61725616455078,
          40.355010986328125,
          -29.969884872436523,
          -29.954486846923828,
          -27.252391815185547,
          -29.96449089050293,
          40.99999237060547,
          33.20466232299805,
          34.9542350769043,
          38.8050537109375,
          -30.28318977355957
         ],
         "xaxis": "x",
         "y": [
          32.20936965942383,
          57.938724517822266,
          45.08351516723633,
          38.62717819213867,
          40.64815139770508,
          40.20432662963867,
          28.615947723388672,
          40.11211013793945,
          38.762123107910156,
          32.96601104736328,
          42.03755187988281,
          32.21694564819336,
          27.773643493652344,
          25.639759063720703,
          29.51384735107422,
          36.08883285522461,
          30.878694534301758,
          29.5913028717041,
          26.35757064819336,
          30.003801345825195,
          29.010984420776367,
          29.76026725769043,
          30.219606399536133,
          28.31141471862793,
          35.9189338684082,
          26.000577926635742,
          29.10743522644043,
          33.0158576965332,
          30.200841903686523,
          33.49256896972656,
          31.78139877319336,
          34.77436065673828,
          30.151351928710938,
          25.99273681640625,
          35.9343376159668,
          29.047157287597656,
          31.416213989257812,
          30.026994705200195,
          28.007904052734375,
          36.058658599853516,
          30.268535614013672,
          31.872756958007812,
          33.84475326538086,
          27.410829544067383,
          33.72301483154297,
          28.304519653320312,
          33.8418083190918,
          36.15354537963867,
          30.355777740478516,
          34.63053512573242,
          28.355297088623047,
          28.723609924316406,
          28.523658752441406,
          27.53142547607422,
          29.357839584350586,
          42.11442947387695,
          28.903705596923828,
          28.815059661865234,
          27.780858993530273,
          28.5006160736084,
          29.24264907836914,
          31.49188995361328,
          31.056806564331055,
          30.512977600097656,
          30.70268440246582,
          37.05105972290039,
          42.65574264526367,
          30.703577041625977,
          26.207561492919922,
          29.886497497558594,
          27.968238830566406,
          28.01859474182129,
          28.526395797729492,
          31.419809341430664,
          33.79777526855469,
          28.51605224609375,
          28.713415145874023,
          24.587804794311523,
          39.790897369384766,
          31.84990119934082,
          28.271696090698242,
          27.230403900146484,
          36.97633743286133,
          27.750682830810547,
          33.92442321777344,
          31.259241104125977,
          36.700111389160156,
          29.814315795898438,
          27.007387161254883,
          25.952896118164062,
          35.81010437011719,
          28.613012313842773,
          30.172143936157227,
          30.18752098083496,
          30.659278869628906,
          28.6309757232666,
          36.062278747558594,
          27.262962341308594,
          27.949216842651367,
          27.63278579711914
         ],
         "yaxis": "y"
        },
        {
         "customdata": [
          [
           13
          ],
          [
           13
          ],
          [
           13
          ],
          [
           13
          ],
          [
           13
          ],
          [
           13
          ],
          [
           13
          ],
          [
           13
          ],
          [
           13
          ],
          [
           13
          ],
          [
           13
          ],
          [
           13
          ],
          [
           13
          ],
          [
           13
          ],
          [
           13
          ],
          [
           13
          ],
          [
           13
          ],
          [
           13
          ],
          [
           13
          ],
          [
           13
          ],
          [
           13
          ],
          [
           13
          ],
          [
           13
          ],
          [
           13
          ],
          [
           13
          ],
          [
           13
          ],
          [
           13
          ],
          [
           13
          ],
          [
           13
          ],
          [
           13
          ],
          [
           13
          ],
          [
           13
          ],
          [
           13
          ],
          [
           13
          ],
          [
           13
          ],
          [
           13
          ],
          [
           13
          ],
          [
           13
          ],
          [
           13
          ],
          [
           13
          ],
          [
           13
          ],
          [
           13
          ],
          [
           13
          ],
          [
           13
          ],
          [
           13
          ],
          [
           13
          ],
          [
           13
          ],
          [
           13
          ],
          [
           13
          ],
          [
           13
          ],
          [
           13
          ],
          [
           13
          ],
          [
           13
          ],
          [
           13
          ],
          [
           13
          ],
          [
           13
          ],
          [
           13
          ],
          [
           13
          ],
          [
           13
          ],
          [
           13
          ],
          [
           13
          ],
          [
           13
          ],
          [
           13
          ],
          [
           13
          ],
          [
           13
          ],
          [
           13
          ],
          [
           13
          ],
          [
           13
          ],
          [
           13
          ],
          [
           13
          ],
          [
           13
          ],
          [
           13
          ],
          [
           13
          ],
          [
           13
          ],
          [
           13
          ],
          [
           13
          ],
          [
           13
          ],
          [
           13
          ],
          [
           13
          ],
          [
           13
          ],
          [
           13
          ],
          [
           13
          ],
          [
           13
          ],
          [
           13
          ],
          [
           13
          ],
          [
           13
          ],
          [
           13
          ],
          [
           13
          ],
          [
           13
          ],
          [
           13
          ],
          [
           13
          ],
          [
           13
          ],
          [
           13
          ],
          [
           13
          ],
          [
           13
          ],
          [
           13
          ],
          [
           13
          ],
          [
           13
          ],
          [
           13
          ],
          [
           13
          ]
         ],
         "hovertemplate": "identity=large_P_data<br>tsne-1=%{x}<br>tsne-2=%{y}<br>id_num=%{customdata[0]}<extra></extra>",
         "legendgroup": "large_P_data",
         "marker": {
          "color": "#ab63fa",
          "symbol": "circle"
         },
         "mode": "markers",
         "name": "large_P_data",
         "showlegend": true,
         "type": "scattergl",
         "x": [
          53.79838562011719,
          49.3936653137207,
          49.341121673583984,
          53.51169967651367,
          56.229164123535156,
          59.185298919677734,
          64.26238250732422,
          56.81192398071289,
          56.739070892333984,
          57.05844497680664,
          56.071861267089844,
          57.023311614990234,
          55.962318420410156,
          55.08061599731445,
          52.293128967285156,
          59.19136428833008,
          60.170040130615234,
          62.73045349121094,
          57.53282165527344,
          58.05939865112305,
          63.178714752197266,
          58.036277770996094,
          57.65554428100586,
          61.995033264160156,
          52.403358459472656,
          62.99734878540039,
          60.75250244140625,
          57.90592956542969,
          57.330257415771484,
          52.14719772338867,
          62.92146682739258,
          57.20243453979492,
          60.697261810302734,
          61.431602478027344,
          52.51120376586914,
          56.867862701416016,
          56.90563201904297,
          62.390403747558594,
          61.03458023071289,
          62.6053466796875,
          63.41947937011719,
          61.94420623779297,
          60.55481719970703,
          61.31629943847656,
          59.95869827270508,
          58.54109573364258,
          61.21794509887695,
          52.24791717529297,
          56.11405944824219,
          56.42258071899414,
          56.00297927856445,
          59.196163177490234,
          54.17420959472656,
          60.01499938964844,
          51.98939895629883,
          55.65283203125,
          59.54266357421875,
          57.70241928100586,
          60.39865493774414,
          60.30186080932617,
          52.924537658691406,
          60.38276290893555,
          53.79931640625,
          51.59162521362305,
          50.30541229248047,
          52.963233947753906,
          53.16987991333008,
          57.46577453613281,
          58.77410888671875,
          51.164093017578125,
          56.671302795410156,
          58.30655288696289,
          55.40660095214844,
          57.1361083984375,
          50.69297409057617,
          56.114532470703125,
          53.170372009277344,
          58.29303741455078,
          57.3681526184082,
          52.10480880737305,
          59.360145568847656,
          59.446197509765625,
          53.56428527832031,
          52.15433120727539,
          56.119903564453125,
          54.34843826293945,
          51.984127044677734,
          54.44757843017578,
          56.509010314941406,
          55.87192153930664,
          52.324283599853516,
          55.677024841308594,
          51.609046936035156,
          55.786190032958984,
          50.86620330810547,
          56.09553146362305,
          56.28948211669922,
          51.20994186401367,
          49.85287094116211,
          50.893028259277344
         ],
         "xaxis": "x",
         "y": [
          -29.916614532470703,
          -21.813220977783203,
          -21.899110794067383,
          -20.500629425048828,
          -19.658184051513672,
          -19.702011108398438,
          -23.85486602783203,
          -19.21773910522461,
          -23.035194396972656,
          -19.638118743896484,
          -22.556964874267578,
          -20.747150421142578,
          -21.2701358795166,
          -20.3449649810791,
          -20.17333221435547,
          -20.461753845214844,
          -20.885173797607422,
          -24.015439987182617,
          -23.5589656829834,
          -24.17453384399414,
          -23.174299240112305,
          -23.384483337402344,
          -26.355533599853516,
          -24.41066551208496,
          -21.196645736694336,
          -24.226552963256836,
          -21.01795196533203,
          -22.855112075805664,
          -21.108814239501953,
          -21.991897583007812,
          -23.797351837158203,
          -20.3986759185791,
          -23.010759353637695,
          -23.765501022338867,
          -22.997573852539062,
          -26.709285736083984,
          -26.218307495117188,
          -25.460647583007812,
          -24.402036666870117,
          -23.020109176635742,
          -23.42500114440918,
          -22.078737258911133,
          -23.385547637939453,
          -25.792522430419922,
          -21.590299606323242,
          -20.041269302368164,
          -23.404804229736328,
          -23.641672134399414,
          -24.01416015625,
          -24.915122985839844,
          -23.74104881286621,
          -23.004573822021484,
          -23.971940994262695,
          -22.803096771240234,
          -26.57438850402832,
          -21.684545516967773,
          -24.42693328857422,
          -24.62736701965332,
          -27.65509605407715,
          -21.310314178466797,
          -21.963424682617188,
          -27.25220489501953,
          -22.163679122924805,
          -23.808124542236328,
          -25.20155143737793,
          -24.081501007080078,
          -24.331008911132812,
          -28.03351593017578,
          -26.367427825927734,
          -23.16791343688965,
          -28.053110122680664,
          -25.747610092163086,
          -25.902442932128906,
          -28.759737014770508,
          -24.006149291992188,
          -25.98164939880371,
          -22.985219955444336,
          -27.888513565063477,
          -29.651151657104492,
          -22.053462982177734,
          -27.218000411987305,
          -27.513269424438477,
          -25.65536880493164,
          -23.160011291503906,
          -29.1159610748291,
          -26.481666564941406,
          -27.672863006591797,
          -26.45896339416504,
          -28.30902671813965,
          -31.149673461914062,
          -27.86716651916504,
          -30.502880096435547,
          -27.29939842224121,
          -30.537189483642578,
          -26.33574867248535,
          -31.022916793823242,
          -30.91437530517578,
          -24.61368179321289,
          -26.016633987426758,
          -26.878042221069336
         ],
         "yaxis": "y"
        },
        {
         "customdata": [
          [
           14
          ],
          [
           14
          ],
          [
           14
          ],
          [
           14
          ],
          [
           14
          ],
          [
           14
          ],
          [
           14
          ],
          [
           14
          ],
          [
           14
          ],
          [
           14
          ],
          [
           14
          ],
          [
           14
          ],
          [
           14
          ],
          [
           14
          ],
          [
           14
          ],
          [
           14
          ],
          [
           14
          ],
          [
           14
          ],
          [
           14
          ],
          [
           14
          ],
          [
           14
          ],
          [
           14
          ],
          [
           14
          ],
          [
           14
          ],
          [
           14
          ],
          [
           14
          ],
          [
           14
          ],
          [
           14
          ],
          [
           14
          ],
          [
           14
          ],
          [
           14
          ],
          [
           14
          ],
          [
           14
          ],
          [
           14
          ],
          [
           14
          ],
          [
           14
          ],
          [
           14
          ],
          [
           14
          ],
          [
           14
          ],
          [
           14
          ],
          [
           14
          ],
          [
           14
          ],
          [
           14
          ],
          [
           14
          ],
          [
           14
          ],
          [
           14
          ],
          [
           14
          ],
          [
           14
          ],
          [
           14
          ],
          [
           14
          ],
          [
           14
          ],
          [
           14
          ],
          [
           14
          ],
          [
           14
          ],
          [
           14
          ],
          [
           14
          ],
          [
           14
          ],
          [
           14
          ],
          [
           14
          ],
          [
           14
          ],
          [
           14
          ],
          [
           14
          ],
          [
           14
          ],
          [
           14
          ],
          [
           14
          ],
          [
           14
          ],
          [
           14
          ],
          [
           14
          ],
          [
           14
          ],
          [
           14
          ],
          [
           14
          ],
          [
           14
          ],
          [
           14
          ],
          [
           14
          ],
          [
           14
          ],
          [
           14
          ],
          [
           14
          ],
          [
           14
          ],
          [
           14
          ],
          [
           14
          ],
          [
           14
          ],
          [
           14
          ],
          [
           14
          ],
          [
           14
          ],
          [
           14
          ],
          [
           14
          ],
          [
           14
          ],
          [
           14
          ],
          [
           14
          ],
          [
           14
          ],
          [
           14
          ],
          [
           14
          ],
          [
           14
          ],
          [
           14
          ],
          [
           14
          ],
          [
           14
          ],
          [
           14
          ],
          [
           14
          ],
          [
           14
          ],
          [
           14
          ]
         ],
         "hovertemplate": "identity=small_P_data<br>tsne-1=%{x}<br>tsne-2=%{y}<br>id_num=%{customdata[0]}<extra></extra>",
         "legendgroup": "small_P_data",
         "marker": {
          "color": "#FFA15A",
          "symbol": "circle"
         },
         "mode": "markers",
         "name": "small_P_data",
         "showlegend": true,
         "type": "scattergl",
         "x": [
          48.62275314331055,
          48.78227233886719,
          49.3507080078125,
          48.959129333496094,
          50.22271728515625,
          48.70038986206055,
          50.191673278808594,
          49.79121017456055,
          16.048137664794922,
          17.71692657470703,
          15.446122169494629,
          16.4243106842041,
          18.75309944152832,
          17.68953514099121,
          20.470674514770508,
          13.129546165466309,
          16.281967163085938,
          13.552815437316895,
          11.25114917755127,
          14.212279319763184,
          14.302193641662598,
          18.526145935058594,
          14.930817604064941,
          12.924489974975586,
          11.198598861694336,
          13.955658912658691,
          13.554512023925781,
          15.547982215881348,
          14.255824089050293,
          14.403643608093262,
          20.497255325317383,
          16.472877502441406,
          12.50477123260498,
          15.263660430908203,
          15.860091209411621,
          18.5986385345459,
          17.238245010375977,
          14.972000122070312,
          16.941312789916992,
          12.00582218170166,
          13.626991271972656,
          13.188854217529297,
          13.00958251953125,
          12.92358684539795,
          17.46698570251465,
          15.282264709472656,
          16.617839813232422,
          13.965842247009277,
          18.82355308532715,
          15.919844627380371,
          16.50832748413086,
          15.49277114868164,
          17.907726287841797,
          19.018062591552734,
          19.72383689880371,
          17.170251846313477,
          17.088035583496094,
          13.328816413879395,
          12.504681587219238,
          16.009214401245117,
          12.090662956237793,
          13.70537281036377,
          14.59965705871582,
          13.70156192779541,
          13.259088516235352,
          13.359819412231445,
          14.510765075683594,
          16.23284339904785,
          12.56381607055664,
          17.029478073120117,
          17.460847854614258,
          19.508750915527344,
          18.8572940826416,
          13.66910171508789,
          19.76079559326172,
          15.782852172851562,
          19.1812801361084,
          13.227599143981934,
          19.274147033691406,
          17.137855529785156,
          17.19500160217285,
          13.83304500579834,
          16.38924217224121,
          14.79761028289795,
          16.643665313720703,
          14.611397743225098,
          14.814786911010742,
          17.31155014038086,
          16.897300720214844,
          18.201784133911133,
          13.855697631835938,
          13.501300811767578,
          17.32611656188965,
          14.455182075500488,
          19.759389877319336,
          19.02587127685547,
          16.548484802246094,
          17.00490379333496,
          16.697702407836914,
          12.389274597167969
         ],
         "xaxis": "x",
         "y": [
          -17.84682846069336,
          -17.664419174194336,
          -17.603788375854492,
          -17.900684356689453,
          -17.763261795043945,
          -17.939516067504883,
          -17.855653762817383,
          -17.877832412719727,
          -70.44774627685547,
          -71.65773010253906,
          -69.36779022216797,
          -59.302005767822266,
          -70.47565460205078,
          -71.76530456542969,
          -64.93960571289062,
          -56.24198532104492,
          -62.7041015625,
          -60.792877197265625,
          -58.24607467651367,
          -59.86465835571289,
          -57.907169342041016,
          -65.851806640625,
          -57.35882568359375,
          -63.364532470703125,
          -58.296634674072266,
          -57.23957824707031,
          -60.22201919555664,
          -58.57720184326172,
          -58.41072082519531,
          -58.89382553100586,
          -65.01436614990234,
          -69.68470764160156,
          -68.17755889892578,
          -61.179752349853516,
          -61.40900421142578,
          -63.746315002441406,
          -69.29266357421875,
          -57.561405181884766,
          -67.21404266357422,
          -62.028587341308594,
          -59.70606994628906,
          -61.436038970947266,
          -56.3309440612793,
          -68.04329681396484,
          -60.366493225097656,
          -63.79537582397461,
          -60.80366134643555,
          -69.81224060058594,
          -69.03617095947266,
          -62.4731330871582,
          -68.63096618652344,
          -70.82926177978516,
          -70.81612396240234,
          -70.12033081054688,
          -62.00283432006836,
          -63.03683090209961,
          -71.33390808105469,
          -68.62702941894531,
          -64.7850341796875,
          -70.08258056640625,
          -66.05599975585938,
          -62.83097457885742,
          -62.493553161621094,
          -69.59342956542969,
          -56.997127532958984,
          -57.796329498291016,
          -69.44942474365234,
          -64.14554595947266,
          -63.08806228637695,
          -63.88273620605469,
          -70.29975891113281,
          -63.69239807128906,
          -69.91539001464844,
          -63.492984771728516,
          -63.344322204589844,
          -69.6942138671875,
          -60.42082977294922,
          -68.17986297607422,
          -62.46098327636719,
          -66.1545181274414,
          -66.75853729248047,
          -65.0174789428711,
          -62.327598571777344,
          -65.80648040771484,
          -69.0002212524414,
          -63.7364501953125,
          -66.29331970214844,
          -66.37625122070312,
          -69.81278991699219,
          -60.81867599487305,
          -64.10848236083984,
          -68.05654907226562,
          -69.0134506225586,
          -57.20927429199219,
          -61.44462966918945,
          -62.3326416015625,
          -61.03672409057617,
          -61.277984619140625,
          -63.3539924621582,
          -61.95130920410156
         ],
         "yaxis": "y"
        },
        {
         "customdata": [
          [
           15
          ],
          [
           15
          ],
          [
           15
          ],
          [
           15
          ],
          [
           15
          ],
          [
           15
          ],
          [
           15
          ],
          [
           15
          ],
          [
           15
          ],
          [
           15
          ],
          [
           15
          ],
          [
           15
          ],
          [
           15
          ],
          [
           15
          ],
          [
           15
          ],
          [
           15
          ],
          [
           15
          ],
          [
           15
          ],
          [
           15
          ],
          [
           15
          ],
          [
           15
          ],
          [
           15
          ],
          [
           15
          ],
          [
           15
          ],
          [
           15
          ],
          [
           15
          ],
          [
           15
          ],
          [
           15
          ],
          [
           15
          ],
          [
           15
          ],
          [
           15
          ],
          [
           15
          ],
          [
           15
          ],
          [
           15
          ],
          [
           15
          ],
          [
           15
          ],
          [
           15
          ],
          [
           15
          ],
          [
           15
          ],
          [
           15
          ],
          [
           15
          ],
          [
           15
          ],
          [
           15
          ],
          [
           15
          ],
          [
           15
          ],
          [
           15
          ],
          [
           15
          ],
          [
           15
          ],
          [
           15
          ],
          [
           15
          ],
          [
           15
          ],
          [
           15
          ],
          [
           15
          ],
          [
           15
          ],
          [
           15
          ],
          [
           15
          ],
          [
           15
          ],
          [
           15
          ],
          [
           15
          ],
          [
           15
          ],
          [
           15
          ],
          [
           15
          ],
          [
           15
          ],
          [
           15
          ],
          [
           15
          ],
          [
           15
          ],
          [
           15
          ],
          [
           15
          ],
          [
           15
          ],
          [
           15
          ],
          [
           15
          ],
          [
           15
          ],
          [
           15
          ],
          [
           15
          ],
          [
           15
          ],
          [
           15
          ],
          [
           15
          ],
          [
           15
          ],
          [
           15
          ],
          [
           15
          ],
          [
           15
          ],
          [
           15
          ],
          [
           15
          ],
          [
           15
          ],
          [
           15
          ],
          [
           15
          ],
          [
           15
          ],
          [
           15
          ],
          [
           15
          ],
          [
           15
          ],
          [
           15
          ],
          [
           15
          ],
          [
           15
          ],
          [
           15
          ],
          [
           15
          ],
          [
           15
          ],
          [
           15
          ],
          [
           15
          ],
          [
           15
          ],
          [
           15
          ]
         ],
         "hovertemplate": "identity=small_rectangle_data<br>tsne-1=%{x}<br>tsne-2=%{y}<br>id_num=%{customdata[0]}<extra></extra>",
         "legendgroup": "small_rectangle_data",
         "marker": {
          "color": "#19d3f3",
          "symbol": "circle"
         },
         "mode": "markers",
         "name": "small_rectangle_data",
         "showlegend": true,
         "type": "scattergl",
         "x": [
          0.5272168517112732,
          0.6170644760131836,
          -0.3765943944454193,
          -0.5967501997947693,
          -1.2436776161193848,
          -0.5192859172821045,
          -1.9468237161636353,
          -0.05392288416624069,
          -1.8343238830566406,
          -1.031363606452942,
          36.58224868774414,
          -7.782176971435547,
          -0.23231223225593567,
          -6.8803391456604,
          34.2025032043457,
          -2.0994656085968018,
          -2.2279212474823,
          -7.005980014801025,
          0.60743647813797,
          -0.7758989930152893,
          -5.735348224639893,
          -6.378679275512695,
          1.266938328742981,
          -3.6069939136505127,
          -4.238834381103516,
          -4.599520206451416,
          -8.967450141906738,
          -5.293254375457764,
          -3.1686298847198486,
          1.7960480451583862,
          -6.4333271980285645,
          -5.663598537445068,
          -3.208800792694092,
          -1.029750108718872,
          -3.190833568572998,
          -0.54350745677948,
          -5.010692596435547,
          -7.816244602203369,
          0.04596981406211853,
          -4.110676288604736,
          -0.8759297728538513,
          -9.320786476135254,
          0.2353963404893875,
          -1.3533574342727661,
          -4.402059555053711,
          -5.805602550506592,
          -1.9331111907958984,
          -2.3344645500183105,
          -3.6327574253082275,
          -6.767821311950684,
          -7.004601955413818,
          -7.442653179168701,
          -5.232468128204346,
          -1.5525431632995605,
          -5.86832332611084,
          -2.372568130493164,
          -3.773252487182617,
          -2.4249684810638428,
          -4.4613165855407715,
          -2.9554433822631836,
          -2.895453453063965,
          -2.6861636638641357,
          -6.296802997589111,
          -1.7418382167816162,
          -3.287574529647827,
          -2.942406415939331,
          0.3435160219669342,
          -9.413789749145508,
          -6.486966133117676,
          38.910728454589844,
          -8.24748706817627,
          -3.0554540157318115,
          -5.20252799987793,
          -5.7288947105407715,
          -32.63275146484375,
          -9.236617088317871,
          -3.8720219135284424,
          -7.122416973114014,
          -3.1509501934051514,
          -6.358033180236816,
          -7.7535529136657715,
          -2.613882064819336,
          -7.801433086395264,
          -7.032766819000244,
          -8.570298194885254,
          -0.25391823053359985,
          -8.837726593017578,
          -4.878948211669922,
          -7.372915744781494,
          0.666333794593811,
          -5.127089500427246,
          -6.738255977630615,
          -0.017924083396792412,
          -6.567993640899658,
          -9.607476234436035,
          -3.460541009902954,
          -8.413567543029785,
          -4.023962020874023,
          -3.6369590759277344,
          -3.9622740745544434
         ],
         "xaxis": "x",
         "y": [
          35.94580078125,
          37.31241989135742,
          38.1479606628418,
          37.21514129638672,
          42.598182678222656,
          40.29310989379883,
          37.63970184326172,
          34.603519439697266,
          43.69871520996094,
          32.37445068359375,
          40.14031219482422,
          35.39723587036133,
          34.43999099731445,
          38.62628936767578,
          23.886320114135742,
          34.02296447753906,
          32.77397918701172,
          38.84005355834961,
          29.120948791503906,
          34.44181442260742,
          62.906951904296875,
          39.664817810058594,
          33.52045440673828,
          31.58293914794922,
          40.6269645690918,
          39.54381561279297,
          36.33690643310547,
          38.725162506103516,
          33.880393981933594,
          33.817543029785156,
          39.29132843017578,
          38.76824951171875,
          33.041664123535156,
          27.4641056060791,
          33.19248580932617,
          32.57748031616211,
          29.846511840820312,
          35.9033203125,
          32.02679443359375,
          30.858718872070312,
          27.06667137145996,
          36.331939697265625,
          28.64789390563965,
          35.16104507446289,
          27.76265525817871,
          27.830947875976562,
          28.233919143676758,
          31.282421112060547,
          26.552837371826172,
          28.56368637084961,
          28.047094345092773,
          35.65800476074219,
          27.780071258544922,
          35.52438735961914,
          30.392473220825195,
          35.233726501464844,
          35.57979202270508,
          26.634845733642578,
          28.42072296142578,
          26.583066940307617,
          30.385318756103516,
          29.622575759887695,
          30.621755599975586,
          27.01505470275879,
          27.824604034423828,
          27.65062141418457,
          29.96173667907715,
          32.00835418701172,
          27.87022590637207,
          25.42696189880371,
          30.86022186279297,
          28.203262329101562,
          33.77970886230469,
          33.53191375732422,
          46.31111145019531,
          30.59320068359375,
          26.568599700927734,
          30.502117156982422,
          31.130348205566406,
          33.169891357421875,
          33.70399475097656,
          28.679826736450195,
          32.77671813964844,
          36.96585464477539,
          30.944053649902344,
          28.217561721801758,
          34.98699951171875,
          33.927703857421875,
          36.303245544433594,
          33.52896499633789,
          37.22364044189453,
          34.79862594604492,
          33.998844146728516,
          36.61959457397461,
          35.648582458496094,
          36.05183410644531,
          33.143917083740234,
          32.30549240112305,
          31.936067581176758,
          28.52114486694336
         ],
         "yaxis": "y"
        }
       ],
       "layout": {
        "height": 650,
        "legend": {
         "title": {
          "text": "Identity"
         },
         "tracegroupgap": 0
        },
        "template": {
         "data": {
          "bar": [
           {
            "error_x": {
             "color": "#2a3f5f"
            },
            "error_y": {
             "color": "#2a3f5f"
            },
            "marker": {
             "line": {
              "color": "#E5ECF6",
              "width": 0.5
             },
             "pattern": {
              "fillmode": "overlay",
              "size": 10,
              "solidity": 0.2
             }
            },
            "type": "bar"
           }
          ],
          "barpolar": [
           {
            "marker": {
             "line": {
              "color": "#E5ECF6",
              "width": 0.5
             },
             "pattern": {
              "fillmode": "overlay",
              "size": 10,
              "solidity": 0.2
             }
            },
            "type": "barpolar"
           }
          ],
          "carpet": [
           {
            "aaxis": {
             "endlinecolor": "#2a3f5f",
             "gridcolor": "white",
             "linecolor": "white",
             "minorgridcolor": "white",
             "startlinecolor": "#2a3f5f"
            },
            "baxis": {
             "endlinecolor": "#2a3f5f",
             "gridcolor": "white",
             "linecolor": "white",
             "minorgridcolor": "white",
             "startlinecolor": "#2a3f5f"
            },
            "type": "carpet"
           }
          ],
          "choropleth": [
           {
            "colorbar": {
             "outlinewidth": 0,
             "ticks": ""
            },
            "type": "choropleth"
           }
          ],
          "contour": [
           {
            "colorbar": {
             "outlinewidth": 0,
             "ticks": ""
            },
            "colorscale": [
             [
              0,
              "#0d0887"
             ],
             [
              0.1111111111111111,
              "#46039f"
             ],
             [
              0.2222222222222222,
              "#7201a8"
             ],
             [
              0.3333333333333333,
              "#9c179e"
             ],
             [
              0.4444444444444444,
              "#bd3786"
             ],
             [
              0.5555555555555556,
              "#d8576b"
             ],
             [
              0.6666666666666666,
              "#ed7953"
             ],
             [
              0.7777777777777778,
              "#fb9f3a"
             ],
             [
              0.8888888888888888,
              "#fdca26"
             ],
             [
              1,
              "#f0f921"
             ]
            ],
            "type": "contour"
           }
          ],
          "contourcarpet": [
           {
            "colorbar": {
             "outlinewidth": 0,
             "ticks": ""
            },
            "type": "contourcarpet"
           }
          ],
          "heatmap": [
           {
            "colorbar": {
             "outlinewidth": 0,
             "ticks": ""
            },
            "colorscale": [
             [
              0,
              "#0d0887"
             ],
             [
              0.1111111111111111,
              "#46039f"
             ],
             [
              0.2222222222222222,
              "#7201a8"
             ],
             [
              0.3333333333333333,
              "#9c179e"
             ],
             [
              0.4444444444444444,
              "#bd3786"
             ],
             [
              0.5555555555555556,
              "#d8576b"
             ],
             [
              0.6666666666666666,
              "#ed7953"
             ],
             [
              0.7777777777777778,
              "#fb9f3a"
             ],
             [
              0.8888888888888888,
              "#fdca26"
             ],
             [
              1,
              "#f0f921"
             ]
            ],
            "type": "heatmap"
           }
          ],
          "heatmapgl": [
           {
            "colorbar": {
             "outlinewidth": 0,
             "ticks": ""
            },
            "colorscale": [
             [
              0,
              "#0d0887"
             ],
             [
              0.1111111111111111,
              "#46039f"
             ],
             [
              0.2222222222222222,
              "#7201a8"
             ],
             [
              0.3333333333333333,
              "#9c179e"
             ],
             [
              0.4444444444444444,
              "#bd3786"
             ],
             [
              0.5555555555555556,
              "#d8576b"
             ],
             [
              0.6666666666666666,
              "#ed7953"
             ],
             [
              0.7777777777777778,
              "#fb9f3a"
             ],
             [
              0.8888888888888888,
              "#fdca26"
             ],
             [
              1,
              "#f0f921"
             ]
            ],
            "type": "heatmapgl"
           }
          ],
          "histogram": [
           {
            "marker": {
             "pattern": {
              "fillmode": "overlay",
              "size": 10,
              "solidity": 0.2
             }
            },
            "type": "histogram"
           }
          ],
          "histogram2d": [
           {
            "colorbar": {
             "outlinewidth": 0,
             "ticks": ""
            },
            "colorscale": [
             [
              0,
              "#0d0887"
             ],
             [
              0.1111111111111111,
              "#46039f"
             ],
             [
              0.2222222222222222,
              "#7201a8"
             ],
             [
              0.3333333333333333,
              "#9c179e"
             ],
             [
              0.4444444444444444,
              "#bd3786"
             ],
             [
              0.5555555555555556,
              "#d8576b"
             ],
             [
              0.6666666666666666,
              "#ed7953"
             ],
             [
              0.7777777777777778,
              "#fb9f3a"
             ],
             [
              0.8888888888888888,
              "#fdca26"
             ],
             [
              1,
              "#f0f921"
             ]
            ],
            "type": "histogram2d"
           }
          ],
          "histogram2dcontour": [
           {
            "colorbar": {
             "outlinewidth": 0,
             "ticks": ""
            },
            "colorscale": [
             [
              0,
              "#0d0887"
             ],
             [
              0.1111111111111111,
              "#46039f"
             ],
             [
              0.2222222222222222,
              "#7201a8"
             ],
             [
              0.3333333333333333,
              "#9c179e"
             ],
             [
              0.4444444444444444,
              "#bd3786"
             ],
             [
              0.5555555555555556,
              "#d8576b"
             ],
             [
              0.6666666666666666,
              "#ed7953"
             ],
             [
              0.7777777777777778,
              "#fb9f3a"
             ],
             [
              0.8888888888888888,
              "#fdca26"
             ],
             [
              1,
              "#f0f921"
             ]
            ],
            "type": "histogram2dcontour"
           }
          ],
          "mesh3d": [
           {
            "colorbar": {
             "outlinewidth": 0,
             "ticks": ""
            },
            "type": "mesh3d"
           }
          ],
          "parcoords": [
           {
            "line": {
             "colorbar": {
              "outlinewidth": 0,
              "ticks": ""
             }
            },
            "type": "parcoords"
           }
          ],
          "pie": [
           {
            "automargin": true,
            "type": "pie"
           }
          ],
          "scatter": [
           {
            "fillpattern": {
             "fillmode": "overlay",
             "size": 10,
             "solidity": 0.2
            },
            "type": "scatter"
           }
          ],
          "scatter3d": [
           {
            "line": {
             "colorbar": {
              "outlinewidth": 0,
              "ticks": ""
             }
            },
            "marker": {
             "colorbar": {
              "outlinewidth": 0,
              "ticks": ""
             }
            },
            "type": "scatter3d"
           }
          ],
          "scattercarpet": [
           {
            "marker": {
             "colorbar": {
              "outlinewidth": 0,
              "ticks": ""
             }
            },
            "type": "scattercarpet"
           }
          ],
          "scattergeo": [
           {
            "marker": {
             "colorbar": {
              "outlinewidth": 0,
              "ticks": ""
             }
            },
            "type": "scattergeo"
           }
          ],
          "scattergl": [
           {
            "marker": {
             "colorbar": {
              "outlinewidth": 0,
              "ticks": ""
             }
            },
            "type": "scattergl"
           }
          ],
          "scattermapbox": [
           {
            "marker": {
             "colorbar": {
              "outlinewidth": 0,
              "ticks": ""
             }
            },
            "type": "scattermapbox"
           }
          ],
          "scatterpolar": [
           {
            "marker": {
             "colorbar": {
              "outlinewidth": 0,
              "ticks": ""
             }
            },
            "type": "scatterpolar"
           }
          ],
          "scatterpolargl": [
           {
            "marker": {
             "colorbar": {
              "outlinewidth": 0,
              "ticks": ""
             }
            },
            "type": "scatterpolargl"
           }
          ],
          "scatterternary": [
           {
            "marker": {
             "colorbar": {
              "outlinewidth": 0,
              "ticks": ""
             }
            },
            "type": "scatterternary"
           }
          ],
          "surface": [
           {
            "colorbar": {
             "outlinewidth": 0,
             "ticks": ""
            },
            "colorscale": [
             [
              0,
              "#0d0887"
             ],
             [
              0.1111111111111111,
              "#46039f"
             ],
             [
              0.2222222222222222,
              "#7201a8"
             ],
             [
              0.3333333333333333,
              "#9c179e"
             ],
             [
              0.4444444444444444,
              "#bd3786"
             ],
             [
              0.5555555555555556,
              "#d8576b"
             ],
             [
              0.6666666666666666,
              "#ed7953"
             ],
             [
              0.7777777777777778,
              "#fb9f3a"
             ],
             [
              0.8888888888888888,
              "#fdca26"
             ],
             [
              1,
              "#f0f921"
             ]
            ],
            "type": "surface"
           }
          ],
          "table": [
           {
            "cells": {
             "fill": {
              "color": "#EBF0F8"
             },
             "line": {
              "color": "white"
             }
            },
            "header": {
             "fill": {
              "color": "#C8D4E3"
             },
             "line": {
              "color": "white"
             }
            },
            "type": "table"
           }
          ]
         },
         "layout": {
          "annotationdefaults": {
           "arrowcolor": "#2a3f5f",
           "arrowhead": 0,
           "arrowwidth": 1
          },
          "autotypenumbers": "strict",
          "coloraxis": {
           "colorbar": {
            "outlinewidth": 0,
            "ticks": ""
           }
          },
          "colorscale": {
           "diverging": [
            [
             0,
             "#8e0152"
            ],
            [
             0.1,
             "#c51b7d"
            ],
            [
             0.2,
             "#de77ae"
            ],
            [
             0.3,
             "#f1b6da"
            ],
            [
             0.4,
             "#fde0ef"
            ],
            [
             0.5,
             "#f7f7f7"
            ],
            [
             0.6,
             "#e6f5d0"
            ],
            [
             0.7,
             "#b8e186"
            ],
            [
             0.8,
             "#7fbc41"
            ],
            [
             0.9,
             "#4d9221"
            ],
            [
             1,
             "#276419"
            ]
           ],
           "sequential": [
            [
             0,
             "#0d0887"
            ],
            [
             0.1111111111111111,
             "#46039f"
            ],
            [
             0.2222222222222222,
             "#7201a8"
            ],
            [
             0.3333333333333333,
             "#9c179e"
            ],
            [
             0.4444444444444444,
             "#bd3786"
            ],
            [
             0.5555555555555556,
             "#d8576b"
            ],
            [
             0.6666666666666666,
             "#ed7953"
            ],
            [
             0.7777777777777778,
             "#fb9f3a"
            ],
            [
             0.8888888888888888,
             "#fdca26"
            ],
            [
             1,
             "#f0f921"
            ]
           ],
           "sequentialminus": [
            [
             0,
             "#0d0887"
            ],
            [
             0.1111111111111111,
             "#46039f"
            ],
            [
             0.2222222222222222,
             "#7201a8"
            ],
            [
             0.3333333333333333,
             "#9c179e"
            ],
            [
             0.4444444444444444,
             "#bd3786"
            ],
            [
             0.5555555555555556,
             "#d8576b"
            ],
            [
             0.6666666666666666,
             "#ed7953"
            ],
            [
             0.7777777777777778,
             "#fb9f3a"
            ],
            [
             0.8888888888888888,
             "#fdca26"
            ],
            [
             1,
             "#f0f921"
            ]
           ]
          },
          "colorway": [
           "#636efa",
           "#EF553B",
           "#00cc96",
           "#ab63fa",
           "#FFA15A",
           "#19d3f3",
           "#FF6692",
           "#B6E880",
           "#FF97FF",
           "#FECB52"
          ],
          "font": {
           "color": "#2a3f5f"
          },
          "geo": {
           "bgcolor": "white",
           "lakecolor": "white",
           "landcolor": "#E5ECF6",
           "showlakes": true,
           "showland": true,
           "subunitcolor": "white"
          },
          "hoverlabel": {
           "align": "left"
          },
          "hovermode": "closest",
          "mapbox": {
           "style": "light"
          },
          "paper_bgcolor": "white",
          "plot_bgcolor": "#E5ECF6",
          "polar": {
           "angularaxis": {
            "gridcolor": "white",
            "linecolor": "white",
            "ticks": ""
           },
           "bgcolor": "#E5ECF6",
           "radialaxis": {
            "gridcolor": "white",
            "linecolor": "white",
            "ticks": ""
           }
          },
          "scene": {
           "xaxis": {
            "backgroundcolor": "#E5ECF6",
            "gridcolor": "white",
            "gridwidth": 2,
            "linecolor": "white",
            "showbackground": true,
            "ticks": "",
            "zerolinecolor": "white"
           },
           "yaxis": {
            "backgroundcolor": "#E5ECF6",
            "gridcolor": "white",
            "gridwidth": 2,
            "linecolor": "white",
            "showbackground": true,
            "ticks": "",
            "zerolinecolor": "white"
           },
           "zaxis": {
            "backgroundcolor": "#E5ECF6",
            "gridcolor": "white",
            "gridwidth": 2,
            "linecolor": "white",
            "showbackground": true,
            "ticks": "",
            "zerolinecolor": "white"
           }
          },
          "shapedefaults": {
           "line": {
            "color": "#2a3f5f"
           }
          },
          "ternary": {
           "aaxis": {
            "gridcolor": "white",
            "linecolor": "white",
            "ticks": ""
           },
           "baxis": {
            "gridcolor": "white",
            "linecolor": "white",
            "ticks": ""
           },
           "bgcolor": "#E5ECF6",
           "caxis": {
            "gridcolor": "white",
            "linecolor": "white",
            "ticks": ""
           }
          },
          "title": {
           "x": 0.05
          },
          "xaxis": {
           "automargin": true,
           "gridcolor": "white",
           "linecolor": "white",
           "ticks": "",
           "title": {
            "standoff": 15
           },
           "zerolinecolor": "white",
           "zerolinewidth": 2
          },
          "yaxis": {
           "automargin": true,
           "gridcolor": "white",
           "linecolor": "white",
           "ticks": "",
           "title": {
            "standoff": 15
           },
           "zerolinecolor": "white",
           "zerolinewidth": 2
          }
         }
        },
        "title": {
         "text": "t-SNE of ConvClassifier logits"
        },
        "width": 800,
        "xaxis": {
         "anchor": "y",
         "domain": [
          0,
          1
         ],
         "title": {
          "text": "tsne-1"
         }
        },
        "yaxis": {
         "anchor": "x",
         "domain": [
          0,
          1
         ],
         "title": {
          "text": "tsne-2"
         }
        }
       }
      }
     },
     "metadata": {},
     "output_type": "display_data"
    }
   ],
   "source": [
    "plot_logits_tsne_interactive(cls_net, X_t, Y, device=DEVICE,perplexity=20,class_names=file_dict, save_path=\"tsne_logits.html\")\n"
   ]
  },
  {
   "cell_type": "code",
   "execution_count": 17,
   "id": "9d25e2ad",
   "metadata": {},
   "outputs": [
    {
     "name": "stderr",
     "output_type": "stream",
     "text": [
      "/var/folders/wn/4nj87rbs0g3dpdktf27qylhr0000gn/T/ipykernel_33843/3477943712.py:23: UserWarning:\n",
      "\n",
      "To copy construct from a tensor, it is recommended to use sourceTensor.clone().detach() or sourceTensor.clone().detach().requires_grad_(True), rather than torch.tensor(sourceTensor).\n",
      "\n",
      "/var/folders/wn/4nj87rbs0g3dpdktf27qylhr0000gn/T/ipykernel_33843/3477943712.py:24: UserWarning:\n",
      "\n",
      "To copy construct from a tensor, it is recommended to use sourceTensor.clone().detach() or sourceTensor.clone().detach().requires_grad_(True), rather than torch.tensor(sourceTensor).\n",
      "\n"
     ]
    },
    {
     "data": {
      "application/vnd.plotly.v1+json": {
       "config": {
        "plotlyServerURL": "https://plot.ly"
       },
       "data": [
        {
         "coloraxis": "coloraxis",
         "hovertemplate": "x: %{x}<br>y: %{y}<br>Avg Distance: %{z}<extra></extra>",
         "name": "0",
         "type": "heatmap",
         "x": [
          "large_rectangle_data",
          "N_8inch_data",
          "circle_4inch_data",
          "star_8inch_data",
          "triangle_8inch_data",
          "L_4inch_data",
          "O_8inch_data",
          "circle_8inch_data",
          "triangle_4inch_data",
          "star_4inch_data",
          "N_4inch_data",
          "O_4inch_data",
          "L_8inch_data",
          "large_P_data",
          "small_P_data",
          "small_rectangle_data"
         ],
         "xaxis": "x",
         "y": [
          "large_rectangle_data",
          "N_8inch_data",
          "circle_4inch_data",
          "star_8inch_data",
          "triangle_8inch_data",
          "L_4inch_data",
          "O_8inch_data",
          "circle_8inch_data",
          "triangle_4inch_data",
          "star_4inch_data",
          "N_4inch_data",
          "O_4inch_data",
          "L_8inch_data",
          "large_P_data",
          "small_P_data",
          "small_rectangle_data"
         ],
         "yaxis": "y",
         "z": [
          [
           0,
           1.2997442483901978,
           1.1217855215072632,
           1.084730625152588,
           1.1883940696716309,
           1.1122249364852905,
           0.9414156675338745,
           0.766511857509613,
           1.4844062328338623,
           1.1027231216430664,
           1.2202341556549072,
           1.056190848350525,
           0.9354783296585083,
           0.9951270818710327,
           0.830979585647583,
           1.1378862857818604
          ],
          [
           1.2997442483901978,
           0,
           1.562311053276062,
           1.431200623512268,
           1.487200379371643,
           1.3771289587020874,
           1.3639531135559082,
           1.335026502609253,
           1.2820744514465332,
           1.409204125404358,
           1.3211498260498047,
           1.437965989112854,
           1.4045497179031372,
           1.2883985042572021,
           1.5195931196212769,
           1.4961609840393066
          ],
          [
           1.1217855215072632,
           1.562311053276062,
           0,
           0.7608322501182556,
           0.7811857461929321,
           0.9036706686019897,
           0.813715398311615,
           0.49643680453300476,
           1.08058500289917,
           0.6722162365913391,
           0.4568997621536255,
           0.6919483542442322,
           0.8626315593719482,
           1.0066413879394531,
           1.0454652309417725,
           0.9475762844085693
          ],
          [
           1.084730625152588,
           1.431200623512268,
           0.7608322501182556,
           0,
           0.9329153895378113,
           0.946153461933136,
           0.711074709892273,
           0.8203793168067932,
           1.0572190284729004,
           0.4240623414516449,
           0.8661671876907349,
           0.5314859747886658,
           0.8743574023246765,
           1.135670781135559,
           1.0326670408248901,
           0.8141528367996216
          ],
          [
           1.1883940696716309,
           1.487200379371643,
           0.7811857461929321,
           0.9329153895378113,
           0,
           0.5605173110961914,
           0.797894299030304,
           0.9543938040733337,
           0.8056966662406921,
           0.8039013743400574,
           0.9729735255241394,
           0.8480205535888672,
           0.6730462908744812,
           1.1871503591537476,
           1.1566718816757202,
           0.8509941697120667
          ],
          [
           1.1122249364852905,
           1.3771289587020874,
           0.9036706686019897,
           0.946153461933136,
           0.5605173110961914,
           0,
           0.8723277449607849,
           0.9641490578651428,
           0.9868460297584534,
           0.837823748588562,
           1.0280530452728271,
           0.9029467701911926,
           0.3072041869163513,
           1.1549980640411377,
           1.1625537872314453,
           0.9187541007995605
          ],
          [
           0.9414156675338745,
           1.3639531135559082,
           0.813715398311615,
           0.711074709892273,
           0.797894299030304,
           0.8723277449607849,
           0,
           0.8313275575637817,
           1.0074301958084106,
           0.4742821156978607,
           0.9404736757278442,
           0.5157716274261475,
           0.8230640888214111,
           0.9571095108985901,
           1.0343656539916992,
           0.8286904692649841
          ],
          [
           0.766511857509613,
           1.335026502609253,
           0.49643680453300476,
           0.8203793168067932,
           0.9543938040733337,
           0.9641490578651428,
           0.8313275575637817,
           0,
           1.2454885244369507,
           0.7798047065734863,
           0.551072895526886,
           0.7331475615501404,
           0.8590484261512756,
           0.9094506502151489,
           0.9426944255828857,
           1.0702478885650635
          ],
          [
           1.4844062328338623,
           1.2820744514465332,
           1.08058500289917,
           1.0572190284729004,
           0.8056966662406921,
           0.9868460297584534,
           1.0074301958084106,
           1.2454885244369507,
           0,
           0.985366940498352,
           1.0558677911758423,
           1.0313467979431152,
           1.126091718673706,
           1.262690544128418,
           1.3367974758148193,
           0.8272778391838074
          ],
          [
           1.1027231216430664,
           1.409204125404358,
           0.6722162365913391,
           0.4240623414516449,
           0.8039013743400574,
           0.837823748588562,
           0.4742821156978607,
           0.7798047065734863,
           0.985366940498352,
           0,
           0.7480660080909729,
           0.40904152393341064,
           0.8187426924705505,
           0.9896679520606995,
           1.038435935974121,
           0.8761767148971558
          ],
          [
           1.2202341556549072,
           1.3211498260498047,
           0.4568997621536255,
           0.8661671876907349,
           0.9729735255241394,
           1.0280530452728271,
           0.9404736757278442,
           0.551072895526886,
           1.0558677911758423,
           0.7480660080909729,
           0,
           0.8058955073356628,
           1.0446237325668335,
           0.9743459224700928,
           1.1301902532577515,
           1.1504327058792114
          ],
          [
           1.056190848350525,
           1.437965989112854,
           0.6919483542442322,
           0.5314859747886658,
           0.8480205535888672,
           0.9029467701911926,
           0.5157716274261475,
           0.7331475615501404,
           1.0313467979431152,
           0.40904152393341064,
           0.8058955073356628,
           0,
           0.8311569690704346,
           0.9485924243927002,
           1.145263671875,
           0.8317266702651978
          ],
          [
           0.9354783296585083,
           1.4045497179031372,
           0.8626315593719482,
           0.8743574023246765,
           0.6730462908744812,
           0.3072041869163513,
           0.8230640888214111,
           0.8590484261512756,
           1.126091718673706,
           0.8187426924705505,
           1.0446237325668335,
           0.8311569690704346,
           0,
           1.0829176902770996,
           1.0920137166976929,
           0.8308541774749756
          ],
          [
           0.9951270818710327,
           1.2883985042572021,
           1.0066413879394531,
           1.135670781135559,
           1.1871503591537476,
           1.1549980640411377,
           0.9571095108985901,
           0.9094506502151489,
           1.262690544128418,
           0.9896679520606995,
           0.9743459224700928,
           0.9485924243927002,
           1.0829176902770996,
           0,
           1.070412039756775,
           1.1395626068115234
          ],
          [
           0.830979585647583,
           1.5195931196212769,
           1.0454652309417725,
           1.0326670408248901,
           1.1566718816757202,
           1.1625537872314453,
           1.0343656539916992,
           0.9426944255828857,
           1.3367974758148193,
           1.038435935974121,
           1.1301902532577515,
           1.145263671875,
           1.0920137166976929,
           1.070412039756775,
           0,
           1.1318435668945312
          ],
          [
           1.1378862857818604,
           1.4961609840393066,
           0.9475762844085693,
           0.8141528367996216,
           0.8509941697120667,
           0.9187541007995605,
           0.8286904692649841,
           1.0702478885650635,
           0.8272778391838074,
           0.8761767148971558,
           1.1504327058792114,
           0.8317266702651978,
           0.8308541774749756,
           1.1395626068115234,
           1.1318435668945312,
           0
          ]
         ]
        }
       ],
       "layout": {
        "coloraxis": {
         "colorbar": {
          "title": {
           "text": "Avg Distance"
          }
         },
         "colorscale": [
          [
           0,
           "#440154"
          ],
          [
           0.1111111111111111,
           "#482878"
          ],
          [
           0.2222222222222222,
           "#3e4989"
          ],
          [
           0.3333333333333333,
           "#31688e"
          ],
          [
           0.4444444444444444,
           "#26828e"
          ],
          [
           0.5555555555555556,
           "#1f9e89"
          ],
          [
           0.6666666666666666,
           "#35b779"
          ],
          [
           0.7777777777777778,
           "#6ece58"
          ],
          [
           0.8888888888888888,
           "#b5de2b"
          ],
          [
           1,
           "#fde725"
          ]
         ]
        },
        "height": 700,
        "template": {
         "data": {
          "bar": [
           {
            "error_x": {
             "color": "#2a3f5f"
            },
            "error_y": {
             "color": "#2a3f5f"
            },
            "marker": {
             "line": {
              "color": "#E5ECF6",
              "width": 0.5
             },
             "pattern": {
              "fillmode": "overlay",
              "size": 10,
              "solidity": 0.2
             }
            },
            "type": "bar"
           }
          ],
          "barpolar": [
           {
            "marker": {
             "line": {
              "color": "#E5ECF6",
              "width": 0.5
             },
             "pattern": {
              "fillmode": "overlay",
              "size": 10,
              "solidity": 0.2
             }
            },
            "type": "barpolar"
           }
          ],
          "carpet": [
           {
            "aaxis": {
             "endlinecolor": "#2a3f5f",
             "gridcolor": "white",
             "linecolor": "white",
             "minorgridcolor": "white",
             "startlinecolor": "#2a3f5f"
            },
            "baxis": {
             "endlinecolor": "#2a3f5f",
             "gridcolor": "white",
             "linecolor": "white",
             "minorgridcolor": "white",
             "startlinecolor": "#2a3f5f"
            },
            "type": "carpet"
           }
          ],
          "choropleth": [
           {
            "colorbar": {
             "outlinewidth": 0,
             "ticks": ""
            },
            "type": "choropleth"
           }
          ],
          "contour": [
           {
            "colorbar": {
             "outlinewidth": 0,
             "ticks": ""
            },
            "colorscale": [
             [
              0,
              "#0d0887"
             ],
             [
              0.1111111111111111,
              "#46039f"
             ],
             [
              0.2222222222222222,
              "#7201a8"
             ],
             [
              0.3333333333333333,
              "#9c179e"
             ],
             [
              0.4444444444444444,
              "#bd3786"
             ],
             [
              0.5555555555555556,
              "#d8576b"
             ],
             [
              0.6666666666666666,
              "#ed7953"
             ],
             [
              0.7777777777777778,
              "#fb9f3a"
             ],
             [
              0.8888888888888888,
              "#fdca26"
             ],
             [
              1,
              "#f0f921"
             ]
            ],
            "type": "contour"
           }
          ],
          "contourcarpet": [
           {
            "colorbar": {
             "outlinewidth": 0,
             "ticks": ""
            },
            "type": "contourcarpet"
           }
          ],
          "heatmap": [
           {
            "colorbar": {
             "outlinewidth": 0,
             "ticks": ""
            },
            "colorscale": [
             [
              0,
              "#0d0887"
             ],
             [
              0.1111111111111111,
              "#46039f"
             ],
             [
              0.2222222222222222,
              "#7201a8"
             ],
             [
              0.3333333333333333,
              "#9c179e"
             ],
             [
              0.4444444444444444,
              "#bd3786"
             ],
             [
              0.5555555555555556,
              "#d8576b"
             ],
             [
              0.6666666666666666,
              "#ed7953"
             ],
             [
              0.7777777777777778,
              "#fb9f3a"
             ],
             [
              0.8888888888888888,
              "#fdca26"
             ],
             [
              1,
              "#f0f921"
             ]
            ],
            "type": "heatmap"
           }
          ],
          "heatmapgl": [
           {
            "colorbar": {
             "outlinewidth": 0,
             "ticks": ""
            },
            "colorscale": [
             [
              0,
              "#0d0887"
             ],
             [
              0.1111111111111111,
              "#46039f"
             ],
             [
              0.2222222222222222,
              "#7201a8"
             ],
             [
              0.3333333333333333,
              "#9c179e"
             ],
             [
              0.4444444444444444,
              "#bd3786"
             ],
             [
              0.5555555555555556,
              "#d8576b"
             ],
             [
              0.6666666666666666,
              "#ed7953"
             ],
             [
              0.7777777777777778,
              "#fb9f3a"
             ],
             [
              0.8888888888888888,
              "#fdca26"
             ],
             [
              1,
              "#f0f921"
             ]
            ],
            "type": "heatmapgl"
           }
          ],
          "histogram": [
           {
            "marker": {
             "pattern": {
              "fillmode": "overlay",
              "size": 10,
              "solidity": 0.2
             }
            },
            "type": "histogram"
           }
          ],
          "histogram2d": [
           {
            "colorbar": {
             "outlinewidth": 0,
             "ticks": ""
            },
            "colorscale": [
             [
              0,
              "#0d0887"
             ],
             [
              0.1111111111111111,
              "#46039f"
             ],
             [
              0.2222222222222222,
              "#7201a8"
             ],
             [
              0.3333333333333333,
              "#9c179e"
             ],
             [
              0.4444444444444444,
              "#bd3786"
             ],
             [
              0.5555555555555556,
              "#d8576b"
             ],
             [
              0.6666666666666666,
              "#ed7953"
             ],
             [
              0.7777777777777778,
              "#fb9f3a"
             ],
             [
              0.8888888888888888,
              "#fdca26"
             ],
             [
              1,
              "#f0f921"
             ]
            ],
            "type": "histogram2d"
           }
          ],
          "histogram2dcontour": [
           {
            "colorbar": {
             "outlinewidth": 0,
             "ticks": ""
            },
            "colorscale": [
             [
              0,
              "#0d0887"
             ],
             [
              0.1111111111111111,
              "#46039f"
             ],
             [
              0.2222222222222222,
              "#7201a8"
             ],
             [
              0.3333333333333333,
              "#9c179e"
             ],
             [
              0.4444444444444444,
              "#bd3786"
             ],
             [
              0.5555555555555556,
              "#d8576b"
             ],
             [
              0.6666666666666666,
              "#ed7953"
             ],
             [
              0.7777777777777778,
              "#fb9f3a"
             ],
             [
              0.8888888888888888,
              "#fdca26"
             ],
             [
              1,
              "#f0f921"
             ]
            ],
            "type": "histogram2dcontour"
           }
          ],
          "mesh3d": [
           {
            "colorbar": {
             "outlinewidth": 0,
             "ticks": ""
            },
            "type": "mesh3d"
           }
          ],
          "parcoords": [
           {
            "line": {
             "colorbar": {
              "outlinewidth": 0,
              "ticks": ""
             }
            },
            "type": "parcoords"
           }
          ],
          "pie": [
           {
            "automargin": true,
            "type": "pie"
           }
          ],
          "scatter": [
           {
            "fillpattern": {
             "fillmode": "overlay",
             "size": 10,
             "solidity": 0.2
            },
            "type": "scatter"
           }
          ],
          "scatter3d": [
           {
            "line": {
             "colorbar": {
              "outlinewidth": 0,
              "ticks": ""
             }
            },
            "marker": {
             "colorbar": {
              "outlinewidth": 0,
              "ticks": ""
             }
            },
            "type": "scatter3d"
           }
          ],
          "scattercarpet": [
           {
            "marker": {
             "colorbar": {
              "outlinewidth": 0,
              "ticks": ""
             }
            },
            "type": "scattercarpet"
           }
          ],
          "scattergeo": [
           {
            "marker": {
             "colorbar": {
              "outlinewidth": 0,
              "ticks": ""
             }
            },
            "type": "scattergeo"
           }
          ],
          "scattergl": [
           {
            "marker": {
             "colorbar": {
              "outlinewidth": 0,
              "ticks": ""
             }
            },
            "type": "scattergl"
           }
          ],
          "scattermapbox": [
           {
            "marker": {
             "colorbar": {
              "outlinewidth": 0,
              "ticks": ""
             }
            },
            "type": "scattermapbox"
           }
          ],
          "scatterpolar": [
           {
            "marker": {
             "colorbar": {
              "outlinewidth": 0,
              "ticks": ""
             }
            },
            "type": "scatterpolar"
           }
          ],
          "scatterpolargl": [
           {
            "marker": {
             "colorbar": {
              "outlinewidth": 0,
              "ticks": ""
             }
            },
            "type": "scatterpolargl"
           }
          ],
          "scatterternary": [
           {
            "marker": {
             "colorbar": {
              "outlinewidth": 0,
              "ticks": ""
             }
            },
            "type": "scatterternary"
           }
          ],
          "surface": [
           {
            "colorbar": {
             "outlinewidth": 0,
             "ticks": ""
            },
            "colorscale": [
             [
              0,
              "#0d0887"
             ],
             [
              0.1111111111111111,
              "#46039f"
             ],
             [
              0.2222222222222222,
              "#7201a8"
             ],
             [
              0.3333333333333333,
              "#9c179e"
             ],
             [
              0.4444444444444444,
              "#bd3786"
             ],
             [
              0.5555555555555556,
              "#d8576b"
             ],
             [
              0.6666666666666666,
              "#ed7953"
             ],
             [
              0.7777777777777778,
              "#fb9f3a"
             ],
             [
              0.8888888888888888,
              "#fdca26"
             ],
             [
              1,
              "#f0f921"
             ]
            ],
            "type": "surface"
           }
          ],
          "table": [
           {
            "cells": {
             "fill": {
              "color": "#EBF0F8"
             },
             "line": {
              "color": "white"
             }
            },
            "header": {
             "fill": {
              "color": "#C8D4E3"
             },
             "line": {
              "color": "white"
             }
            },
            "type": "table"
           }
          ]
         },
         "layout": {
          "annotationdefaults": {
           "arrowcolor": "#2a3f5f",
           "arrowhead": 0,
           "arrowwidth": 1
          },
          "autotypenumbers": "strict",
          "coloraxis": {
           "colorbar": {
            "outlinewidth": 0,
            "ticks": ""
           }
          },
          "colorscale": {
           "diverging": [
            [
             0,
             "#8e0152"
            ],
            [
             0.1,
             "#c51b7d"
            ],
            [
             0.2,
             "#de77ae"
            ],
            [
             0.3,
             "#f1b6da"
            ],
            [
             0.4,
             "#fde0ef"
            ],
            [
             0.5,
             "#f7f7f7"
            ],
            [
             0.6,
             "#e6f5d0"
            ],
            [
             0.7,
             "#b8e186"
            ],
            [
             0.8,
             "#7fbc41"
            ],
            [
             0.9,
             "#4d9221"
            ],
            [
             1,
             "#276419"
            ]
           ],
           "sequential": [
            [
             0,
             "#0d0887"
            ],
            [
             0.1111111111111111,
             "#46039f"
            ],
            [
             0.2222222222222222,
             "#7201a8"
            ],
            [
             0.3333333333333333,
             "#9c179e"
            ],
            [
             0.4444444444444444,
             "#bd3786"
            ],
            [
             0.5555555555555556,
             "#d8576b"
            ],
            [
             0.6666666666666666,
             "#ed7953"
            ],
            [
             0.7777777777777778,
             "#fb9f3a"
            ],
            [
             0.8888888888888888,
             "#fdca26"
            ],
            [
             1,
             "#f0f921"
            ]
           ],
           "sequentialminus": [
            [
             0,
             "#0d0887"
            ],
            [
             0.1111111111111111,
             "#46039f"
            ],
            [
             0.2222222222222222,
             "#7201a8"
            ],
            [
             0.3333333333333333,
             "#9c179e"
            ],
            [
             0.4444444444444444,
             "#bd3786"
            ],
            [
             0.5555555555555556,
             "#d8576b"
            ],
            [
             0.6666666666666666,
             "#ed7953"
            ],
            [
             0.7777777777777778,
             "#fb9f3a"
            ],
            [
             0.8888888888888888,
             "#fdca26"
            ],
            [
             1,
             "#f0f921"
            ]
           ]
          },
          "colorway": [
           "#636efa",
           "#EF553B",
           "#00cc96",
           "#ab63fa",
           "#FFA15A",
           "#19d3f3",
           "#FF6692",
           "#B6E880",
           "#FF97FF",
           "#FECB52"
          ],
          "font": {
           "color": "#2a3f5f"
          },
          "geo": {
           "bgcolor": "white",
           "lakecolor": "white",
           "landcolor": "#E5ECF6",
           "showlakes": true,
           "showland": true,
           "subunitcolor": "white"
          },
          "hoverlabel": {
           "align": "left"
          },
          "hovermode": "closest",
          "mapbox": {
           "style": "light"
          },
          "paper_bgcolor": "white",
          "plot_bgcolor": "#E5ECF6",
          "polar": {
           "angularaxis": {
            "gridcolor": "white",
            "linecolor": "white",
            "ticks": ""
           },
           "bgcolor": "#E5ECF6",
           "radialaxis": {
            "gridcolor": "white",
            "linecolor": "white",
            "ticks": ""
           }
          },
          "scene": {
           "xaxis": {
            "backgroundcolor": "#E5ECF6",
            "gridcolor": "white",
            "gridwidth": 2,
            "linecolor": "white",
            "showbackground": true,
            "ticks": "",
            "zerolinecolor": "white"
           },
           "yaxis": {
            "backgroundcolor": "#E5ECF6",
            "gridcolor": "white",
            "gridwidth": 2,
            "linecolor": "white",
            "showbackground": true,
            "ticks": "",
            "zerolinecolor": "white"
           },
           "zaxis": {
            "backgroundcolor": "#E5ECF6",
            "gridcolor": "white",
            "gridwidth": 2,
            "linecolor": "white",
            "showbackground": true,
            "ticks": "",
            "zerolinecolor": "white"
           }
          },
          "shapedefaults": {
           "line": {
            "color": "#2a3f5f"
           }
          },
          "ternary": {
           "aaxis": {
            "gridcolor": "white",
            "linecolor": "white",
            "ticks": ""
           },
           "baxis": {
            "gridcolor": "white",
            "linecolor": "white",
            "ticks": ""
           },
           "bgcolor": "#E5ECF6",
           "caxis": {
            "gridcolor": "white",
            "linecolor": "white",
            "ticks": ""
           }
          },
          "title": {
           "x": 0.05
          },
          "xaxis": {
           "automargin": true,
           "gridcolor": "white",
           "linecolor": "white",
           "ticks": "",
           "title": {
            "standoff": 15
           },
           "zerolinecolor": "white",
           "zerolinewidth": 2
          },
          "yaxis": {
           "automargin": true,
           "gridcolor": "white",
           "linecolor": "white",
           "ticks": "",
           "title": {
            "standoff": 15
           },
           "zerolinecolor": "white",
           "zerolinewidth": 2
          }
         }
        },
        "title": {
         "text": "Average Pre-Softmax Logit Distance Between Classes"
        },
        "width": 700,
        "xaxis": {
         "anchor": "y",
         "constrain": "domain",
         "domain": [
          0,
          1
         ],
         "scaleanchor": "y"
        },
        "yaxis": {
         "anchor": "x",
         "autorange": "reversed",
         "constrain": "domain",
         "domain": [
          0,
          1
         ]
        }
       }
      }
     },
     "metadata": {},
     "output_type": "display_data"
    }
   ],
   "source": [
    "import numpy as np\n",
    "import torch\n",
    "import plotly.express as px\n",
    "from sklearn.metrics.pairwise import euclidean_distances  # or cosine_distances\n",
    "\n",
    "def plot_class_distance_matrix(model, X_np, Y_np, class_names: dict, device=None):\n",
    "    \"\"\"\n",
    "    Plots a matrix of average distances between class logits before softmax.\n",
    "    \n",
    "    Parameters:\n",
    "    - model: torch model, classifier returning logits\n",
    "    - X_np: numpy array of shape (n, 9, 128)\n",
    "    - Y_np: numpy array of shape (n,) with class IDs\n",
    "    - class_names: dict[int] → str\n",
    "    - device: torch.device (optional)\n",
    "    \"\"\"\n",
    "    model.eval()\n",
    "    if device is None:\n",
    "        device = torch.device(\"cuda\" if torch.cuda.is_available() else \"cpu\")\n",
    "    model.to(device)\n",
    "\n",
    "    # Convert inputs\n",
    "    X_tensor = torch.tensor(X_np, dtype=torch.float32).to(device)\n",
    "    Y_tensor = torch.tensor(Y_np, dtype=torch.long)\n",
    "\n",
    "    # Pass through model to get logits\n",
    "    with torch.no_grad():\n",
    "        logits = model(X_tensor).cpu().numpy()  # shape (n, num_classes)\n",
    "\n",
    "    num_classes = len(class_names)\n",
    "    class_logits = {i: [] for i in range(num_classes)}\n",
    "\n",
    "    # Collect logits by class\n",
    "    for i in range(len(Y_tensor)):\n",
    "        class_logits[int(Y_tensor[i])].append(logits[i])\n",
    "\n",
    "    # Average logits per class\n",
    "    avg_logits = np.array([np.mean(class_logits[i], axis=0) for i in range(num_classes)])\n",
    "\n",
    "    # Compute pairwise distances\n",
    "    dist_matrix = euclidean_distances(avg_logits)  # or use cosine_distances\n",
    "\n",
    "    # Label rows/columns\n",
    "    labels = [class_names[i] for i in range(num_classes)]\n",
    "\n",
    "    # Plot with Plotly\n",
    "    fig = px.imshow(dist_matrix,\n",
    "                    x=labels, y=labels,\n",
    "                    color_continuous_scale=\"Viridis\",\n",
    "                    labels={'color': 'Avg Distance'},\n",
    "                    title=\"Average Pre-Softmax Logit Distance Between Classes\")\n",
    "\n",
    "    fig.update_layout(width=700, height=700)\n",
    "    fig.write_html(\"classification_distances_heatmap.html\", include_plotlyjs=\"cdn\")\n",
    "    fig.show()\n",
    "\n",
    "\n",
    "plot_class_distance_matrix(cls_net , X_t, ident, file_dict, device=None)"
   ]
  },
  {
   "cell_type": "code",
   "execution_count": 18,
   "id": "33e31854",
   "metadata": {},
   "outputs": [
    {
     "name": "stderr",
     "output_type": "stream",
     "text": [
      "/var/folders/wn/4nj87rbs0g3dpdktf27qylhr0000gn/T/ipykernel_33843/2743273952.py:28: UserWarning:\n",
      "\n",
      "To copy construct from a tensor, it is recommended to use sourceTensor.clone().detach() or sourceTensor.clone().detach().requires_grad_(True), rather than torch.tensor(sourceTensor).\n",
      "\n"
     ]
    },
    {
     "name": "stdout",
     "output_type": "stream",
     "text": [
      "tensor([[-0.2693, -0.8274],\n",
      "        [-0.7685, -1.0554],\n",
      "        [-0.7696, -0.7201],\n",
      "        [-0.0832, -0.5406],\n",
      "        [-0.4664, -0.2896]])\n",
      "tensor([[-1.0000, -1.0000],\n",
      "        [-1.0000, -0.7778],\n",
      "        [-1.0000, -0.5556],\n",
      "        [-1.0000, -0.3333],\n",
      "        [-1.0000, -0.1111]])\n"
     ]
    },
    {
     "data": {
      "application/vnd.plotly.v1+json": {
       "config": {
        "plotlyServerURL": "https://plot.ly"
       },
       "data": [
        {
         "coloraxis": "coloraxis",
         "hovertemplate": "x: %{x}<br>y: %{y}<br>Avg L2 Error: %{z}<extra></extra>",
         "name": "0",
         "type": "heatmap",
         "x": [
          -0.9700000286102295,
          -0.8999999761581421,
          -0.8299999833106995,
          -0.7699999809265137,
          -0.699999988079071,
          -0.6299999952316284,
          -0.5699999928474426,
          -0.5,
          -0.4300000071525574,
          -0.3700000047683716,
          -0.30000001192092896,
          -0.23000000417232513,
          -0.17000000178813934,
          -0.10000000149011612,
          -0.029999999329447746,
          0.029999999329447746,
          0.10000000149011612,
          0.17000000178813934,
          0.23000000417232513,
          0.30000001192092896,
          0.3700000047683716,
          0.4300000071525574,
          0.5,
          0.5699999928474426,
          0.6299999952316284,
          0.699999988079071,
          0.7699999809265137,
          0.8299999833106995,
          0.8999999761581421,
          0.9700000286102295
         ],
         "xaxis": "x",
         "y": [
          -0.9700000286102295,
          -0.8999999761581421,
          -0.8299999833106995,
          -0.7699999809265137,
          -0.699999988079071,
          -0.6299999952316284,
          -0.5699999928474426,
          -0.5,
          -0.4300000071525574,
          -0.3700000047683716,
          -0.30000001192092896,
          -0.23000000417232513,
          -0.17000000178813934,
          -0.10000000149011612,
          -0.029999999329447746,
          0.029999999329447746,
          0.10000000149011612,
          0.17000000178813934,
          0.23000000417232513,
          0.30000001192092896,
          0.3700000047683716,
          0.4300000071525574,
          0.5,
          0.5699999928474426,
          0.6299999952316284,
          0.699999988079071,
          0.7699999809265137,
          0.8299999833106995,
          0.8999999761581421,
          0.9700000286102295
         ],
         "yaxis": "y",
         "z": [
          [
           0.36534228827804327,
           null,
           null,
           0.7186436532065272,
           null,
           null,
           0.5420946143567562,
           null,
           null,
           null,
           0.6543661889154464,
           null,
           null,
           0.45267691905610263,
           null,
           null,
           0.5112012512981892,
           null,
           null,
           null,
           0.36292676674202085,
           null,
           null,
           0.5705505874939263,
           null,
           null,
           0.4917228948324919,
           null,
           null,
           0.5429699830710888
          ],
          [
           null,
           null,
           null,
           null,
           null,
           null,
           null,
           null,
           null,
           null,
           null,
           null,
           null,
           null,
           null,
           null,
           null,
           null,
           null,
           null,
           null,
           null,
           null,
           null,
           null,
           null,
           null,
           null,
           null,
           null
          ],
          [
           null,
           null,
           null,
           null,
           null,
           null,
           null,
           null,
           null,
           null,
           null,
           null,
           null,
           null,
           null,
           null,
           null,
           null,
           null,
           null,
           null,
           null,
           null,
           null,
           null,
           null,
           null,
           null,
           null,
           null
          ],
          [
           0.20403602463193238,
           null,
           null,
           0.5474402084946632,
           null,
           null,
           0.4275699509307742,
           null,
           null,
           null,
           0.4986517019569874,
           null,
           null,
           0.26974984584376216,
           null,
           null,
           0.40136824175715446,
           null,
           null,
           null,
           0.25658115837723017,
           null,
           null,
           0.6025286605581641,
           null,
           null,
           0.34748711716383696,
           null,
           null,
           0.4944283962249756
          ],
          [
           null,
           null,
           null,
           null,
           null,
           null,
           null,
           null,
           null,
           null,
           null,
           null,
           null,
           null,
           null,
           null,
           null,
           null,
           null,
           null,
           null,
           null,
           null,
           null,
           null,
           null,
           null,
           null,
           null,
           null
          ],
          [
           null,
           null,
           null,
           null,
           null,
           null,
           null,
           null,
           null,
           null,
           null,
           null,
           null,
           null,
           null,
           null,
           null,
           null,
           null,
           null,
           null,
           null,
           null,
           null,
           null,
           null,
           null,
           null,
           null,
           null
          ],
          [
           0.3061953540891409,
           null,
           null,
           0.5645203460007906,
           null,
           null,
           0.3441649079322815,
           null,
           null,
           null,
           0.5570146376267076,
           null,
           null,
           0.36412195209413767,
           null,
           null,
           0.33365896227769554,
           null,
           null,
           null,
           0.2752611958421767,
           null,
           null,
           0.368880866561085,
           null,
           null,
           0.40081999730318785,
           null,
           null,
           0.4855862511321902
          ],
          [
           null,
           null,
           null,
           null,
           null,
           null,
           null,
           null,
           null,
           null,
           null,
           null,
           null,
           null,
           null,
           null,
           null,
           null,
           null,
           null,
           null,
           null,
           null,
           null,
           null,
           null,
           null,
           null,
           null,
           null
          ],
          [
           null,
           null,
           null,
           null,
           null,
           null,
           null,
           null,
           null,
           null,
           null,
           null,
           null,
           null,
           null,
           null,
           null,
           null,
           null,
           null,
           null,
           null,
           null,
           null,
           null,
           null,
           null,
           null,
           null,
           null
          ],
          [
           null,
           null,
           null,
           null,
           null,
           null,
           null,
           null,
           null,
           null,
           null,
           null,
           null,
           null,
           null,
           null,
           null,
           null,
           null,
           null,
           null,
           null,
           null,
           null,
           null,
           null,
           null,
           null,
           null,
           null
          ],
          [
           0.29005306400358677,
           null,
           null,
           0.5346740335226059,
           null,
           null,
           0.3977579800412059,
           null,
           null,
           null,
           0.5417727921158075,
           null,
           null,
           0.27291486505419016,
           null,
           null,
           0.39134104340337217,
           null,
           null,
           null,
           0.2868670579046011,
           null,
           null,
           0.3612867398187518,
           null,
           null,
           0.40245953225530684,
           null,
           null,
           0.5394462370313704
          ],
          [
           null,
           null,
           null,
           null,
           null,
           null,
           null,
           null,
           null,
           null,
           null,
           null,
           null,
           null,
           null,
           null,
           null,
           null,
           null,
           null,
           null,
           null,
           null,
           null,
           null,
           null,
           null,
           null,
           null,
           null
          ],
          [
           null,
           null,
           null,
           null,
           null,
           null,
           null,
           null,
           null,
           null,
           null,
           null,
           null,
           null,
           null,
           null,
           null,
           null,
           null,
           null,
           null,
           null,
           null,
           null,
           null,
           null,
           null,
           null,
           null,
           null
          ],
          [
           0.21625868417322636,
           null,
           null,
           0.4903810666874051,
           null,
           null,
           0.4163806573487818,
           null,
           null,
           null,
           0.49312696559354663,
           null,
           null,
           0.2850985233671963,
           null,
           null,
           0.30071768537163734,
           null,
           null,
           null,
           0.33542098850011826,
           null,
           null,
           0.3692321996204555,
           null,
           null,
           0.5609773714095354,
           null,
           null,
           0.5853865714743733
          ],
          [
           null,
           null,
           null,
           null,
           null,
           null,
           null,
           null,
           null,
           null,
           null,
           null,
           null,
           null,
           null,
           null,
           null,
           null,
           null,
           null,
           null,
           null,
           null,
           null,
           null,
           null,
           null,
           null,
           null,
           null
          ],
          [
           null,
           null,
           null,
           null,
           null,
           null,
           null,
           null,
           null,
           null,
           null,
           null,
           null,
           null,
           null,
           null,
           null,
           null,
           null,
           null,
           null,
           null,
           null,
           null,
           null,
           null,
           null,
           null,
           null,
           null
          ],
          [
           0.3028990514576435,
           null,
           null,
           0.3397218929603696,
           null,
           null,
           0.32533767726272345,
           null,
           null,
           null,
           0.38300242088735104,
           null,
           null,
           0.31746713165193796,
           null,
           null,
           0.2985667675966397,
           null,
           null,
           null,
           0.299995303619653,
           null,
           null,
           0.3895114157348871,
           null,
           null,
           0.5271624717861414,
           null,
           null,
           0.5647397898137569
          ],
          [
           null,
           null,
           null,
           null,
           null,
           null,
           null,
           null,
           null,
           null,
           null,
           null,
           null,
           null,
           null,
           null,
           null,
           null,
           null,
           null,
           null,
           null,
           null,
           null,
           null,
           null,
           null,
           null,
           null,
           null
          ],
          [
           null,
           null,
           null,
           null,
           null,
           null,
           null,
           null,
           null,
           null,
           null,
           null,
           null,
           null,
           null,
           null,
           null,
           null,
           null,
           null,
           null,
           null,
           null,
           null,
           null,
           null,
           null,
           null,
           null,
           null
          ],
          [
           null,
           null,
           null,
           null,
           null,
           null,
           null,
           null,
           null,
           null,
           null,
           null,
           null,
           null,
           null,
           null,
           null,
           null,
           null,
           null,
           null,
           null,
           null,
           null,
           null,
           null,
           null,
           null,
           null,
           null
          ],
          [
           0.3210547952912748,
           null,
           null,
           0.32887693401426077,
           null,
           null,
           0.38930736808106303,
           null,
           null,
           null,
           0.2896332039963454,
           null,
           null,
           0.39307351037859917,
           null,
           null,
           0.3426639623939991,
           null,
           null,
           null,
           0.37803773023188114,
           null,
           null,
           0.4035516958683729,
           null,
           null,
           0.46405048202723265,
           null,
           null,
           0.5934720183722675
          ],
          [
           null,
           null,
           null,
           null,
           null,
           null,
           null,
           null,
           null,
           null,
           null,
           null,
           null,
           null,
           null,
           null,
           null,
           null,
           null,
           null,
           null,
           null,
           null,
           null,
           null,
           null,
           null,
           null,
           null,
           null
          ],
          [
           null,
           null,
           null,
           null,
           null,
           null,
           null,
           null,
           null,
           null,
           null,
           null,
           null,
           null,
           null,
           null,
           null,
           null,
           null,
           null,
           null,
           null,
           null,
           null,
           null,
           null,
           null,
           null,
           null,
           null
          ],
          [
           0.38234562356956303,
           null,
           null,
           0.3840074557811022,
           null,
           null,
           0.35254863696172833,
           null,
           null,
           null,
           0.3105512447655201,
           null,
           null,
           0.4652023841626942,
           null,
           null,
           0.2889344908762723,
           null,
           null,
           null,
           0.34157167188823223,
           null,
           null,
           0.4961600322276354,
           null,
           null,
           0.6411657929420471,
           null,
           null,
           0.6392337568104267
          ],
          [
           null,
           null,
           null,
           null,
           null,
           null,
           null,
           null,
           null,
           null,
           null,
           null,
           null,
           null,
           null,
           null,
           null,
           null,
           null,
           null,
           null,
           null,
           null,
           null,
           null,
           null,
           null,
           null,
           null,
           null
          ],
          [
           null,
           null,
           null,
           null,
           null,
           null,
           null,
           null,
           null,
           null,
           null,
           null,
           null,
           null,
           null,
           null,
           null,
           null,
           null,
           null,
           null,
           null,
           null,
           null,
           null,
           null,
           null,
           null,
           null,
           null
          ],
          [
           0.7132463250309229,
           null,
           null,
           0.42257064674049616,
           null,
           null,
           0.44443417992442846,
           null,
           null,
           null,
           0.39079382503405213,
           null,
           null,
           0.4162262510508299,
           null,
           null,
           0.30991345131769776,
           null,
           null,
           null,
           0.433717914391309,
           null,
           null,
           0.5163377022836357,
           null,
           null,
           0.5936174895614386,
           null,
           null,
           0.7673472482711077
          ],
          [
           null,
           null,
           null,
           null,
           null,
           null,
           null,
           null,
           null,
           null,
           null,
           null,
           null,
           null,
           null,
           null,
           null,
           null,
           null,
           null,
           null,
           null,
           null,
           null,
           null,
           null,
           null,
           null,
           null,
           null
          ],
          [
           null,
           null,
           null,
           null,
           null,
           null,
           null,
           null,
           null,
           null,
           null,
           null,
           null,
           null,
           null,
           null,
           null,
           null,
           null,
           null,
           null,
           null,
           null,
           null,
           null,
           null,
           null,
           null,
           null,
           null
          ],
          [
           0.6892300136387348,
           null,
           null,
           0.7000127825886011,
           null,
           null,
           0.5838782601058483,
           null,
           null,
           null,
           0.5450480412691832,
           null,
           null,
           0.5891102720052004,
           null,
           null,
           0.5167653793469071,
           null,
           null,
           null,
           0.6253707036376,
           null,
           null,
           0.6513415314257145,
           null,
           null,
           0.69748439732939,
           null,
           null,
           0.9380133785307407
          ]
         ]
        }
       ],
       "layout": {
        "coloraxis": {
         "colorbar": {
          "title": {
           "text": "Avg L2 Error"
          }
         },
         "colorscale": [
          [
           0,
           "#0d0887"
          ],
          [
           0.1111111111111111,
           "#46039f"
          ],
          [
           0.2222222222222222,
           "#7201a8"
          ],
          [
           0.3333333333333333,
           "#9c179e"
          ],
          [
           0.4444444444444444,
           "#bd3786"
          ],
          [
           0.5555555555555556,
           "#d8576b"
          ],
          [
           0.6666666666666666,
           "#ed7953"
          ],
          [
           0.7777777777777778,
           "#fb9f3a"
          ],
          [
           0.8888888888888888,
           "#fdca26"
          ],
          [
           1,
           "#f0f921"
          ]
         ]
        },
        "height": 600,
        "template": {
         "data": {
          "bar": [
           {
            "error_x": {
             "color": "#2a3f5f"
            },
            "error_y": {
             "color": "#2a3f5f"
            },
            "marker": {
             "line": {
              "color": "#E5ECF6",
              "width": 0.5
             },
             "pattern": {
              "fillmode": "overlay",
              "size": 10,
              "solidity": 0.2
             }
            },
            "type": "bar"
           }
          ],
          "barpolar": [
           {
            "marker": {
             "line": {
              "color": "#E5ECF6",
              "width": 0.5
             },
             "pattern": {
              "fillmode": "overlay",
              "size": 10,
              "solidity": 0.2
             }
            },
            "type": "barpolar"
           }
          ],
          "carpet": [
           {
            "aaxis": {
             "endlinecolor": "#2a3f5f",
             "gridcolor": "white",
             "linecolor": "white",
             "minorgridcolor": "white",
             "startlinecolor": "#2a3f5f"
            },
            "baxis": {
             "endlinecolor": "#2a3f5f",
             "gridcolor": "white",
             "linecolor": "white",
             "minorgridcolor": "white",
             "startlinecolor": "#2a3f5f"
            },
            "type": "carpet"
           }
          ],
          "choropleth": [
           {
            "colorbar": {
             "outlinewidth": 0,
             "ticks": ""
            },
            "type": "choropleth"
           }
          ],
          "contour": [
           {
            "colorbar": {
             "outlinewidth": 0,
             "ticks": ""
            },
            "colorscale": [
             [
              0,
              "#0d0887"
             ],
             [
              0.1111111111111111,
              "#46039f"
             ],
             [
              0.2222222222222222,
              "#7201a8"
             ],
             [
              0.3333333333333333,
              "#9c179e"
             ],
             [
              0.4444444444444444,
              "#bd3786"
             ],
             [
              0.5555555555555556,
              "#d8576b"
             ],
             [
              0.6666666666666666,
              "#ed7953"
             ],
             [
              0.7777777777777778,
              "#fb9f3a"
             ],
             [
              0.8888888888888888,
              "#fdca26"
             ],
             [
              1,
              "#f0f921"
             ]
            ],
            "type": "contour"
           }
          ],
          "contourcarpet": [
           {
            "colorbar": {
             "outlinewidth": 0,
             "ticks": ""
            },
            "type": "contourcarpet"
           }
          ],
          "heatmap": [
           {
            "colorbar": {
             "outlinewidth": 0,
             "ticks": ""
            },
            "colorscale": [
             [
              0,
              "#0d0887"
             ],
             [
              0.1111111111111111,
              "#46039f"
             ],
             [
              0.2222222222222222,
              "#7201a8"
             ],
             [
              0.3333333333333333,
              "#9c179e"
             ],
             [
              0.4444444444444444,
              "#bd3786"
             ],
             [
              0.5555555555555556,
              "#d8576b"
             ],
             [
              0.6666666666666666,
              "#ed7953"
             ],
             [
              0.7777777777777778,
              "#fb9f3a"
             ],
             [
              0.8888888888888888,
              "#fdca26"
             ],
             [
              1,
              "#f0f921"
             ]
            ],
            "type": "heatmap"
           }
          ],
          "heatmapgl": [
           {
            "colorbar": {
             "outlinewidth": 0,
             "ticks": ""
            },
            "colorscale": [
             [
              0,
              "#0d0887"
             ],
             [
              0.1111111111111111,
              "#46039f"
             ],
             [
              0.2222222222222222,
              "#7201a8"
             ],
             [
              0.3333333333333333,
              "#9c179e"
             ],
             [
              0.4444444444444444,
              "#bd3786"
             ],
             [
              0.5555555555555556,
              "#d8576b"
             ],
             [
              0.6666666666666666,
              "#ed7953"
             ],
             [
              0.7777777777777778,
              "#fb9f3a"
             ],
             [
              0.8888888888888888,
              "#fdca26"
             ],
             [
              1,
              "#f0f921"
             ]
            ],
            "type": "heatmapgl"
           }
          ],
          "histogram": [
           {
            "marker": {
             "pattern": {
              "fillmode": "overlay",
              "size": 10,
              "solidity": 0.2
             }
            },
            "type": "histogram"
           }
          ],
          "histogram2d": [
           {
            "colorbar": {
             "outlinewidth": 0,
             "ticks": ""
            },
            "colorscale": [
             [
              0,
              "#0d0887"
             ],
             [
              0.1111111111111111,
              "#46039f"
             ],
             [
              0.2222222222222222,
              "#7201a8"
             ],
             [
              0.3333333333333333,
              "#9c179e"
             ],
             [
              0.4444444444444444,
              "#bd3786"
             ],
             [
              0.5555555555555556,
              "#d8576b"
             ],
             [
              0.6666666666666666,
              "#ed7953"
             ],
             [
              0.7777777777777778,
              "#fb9f3a"
             ],
             [
              0.8888888888888888,
              "#fdca26"
             ],
             [
              1,
              "#f0f921"
             ]
            ],
            "type": "histogram2d"
           }
          ],
          "histogram2dcontour": [
           {
            "colorbar": {
             "outlinewidth": 0,
             "ticks": ""
            },
            "colorscale": [
             [
              0,
              "#0d0887"
             ],
             [
              0.1111111111111111,
              "#46039f"
             ],
             [
              0.2222222222222222,
              "#7201a8"
             ],
             [
              0.3333333333333333,
              "#9c179e"
             ],
             [
              0.4444444444444444,
              "#bd3786"
             ],
             [
              0.5555555555555556,
              "#d8576b"
             ],
             [
              0.6666666666666666,
              "#ed7953"
             ],
             [
              0.7777777777777778,
              "#fb9f3a"
             ],
             [
              0.8888888888888888,
              "#fdca26"
             ],
             [
              1,
              "#f0f921"
             ]
            ],
            "type": "histogram2dcontour"
           }
          ],
          "mesh3d": [
           {
            "colorbar": {
             "outlinewidth": 0,
             "ticks": ""
            },
            "type": "mesh3d"
           }
          ],
          "parcoords": [
           {
            "line": {
             "colorbar": {
              "outlinewidth": 0,
              "ticks": ""
             }
            },
            "type": "parcoords"
           }
          ],
          "pie": [
           {
            "automargin": true,
            "type": "pie"
           }
          ],
          "scatter": [
           {
            "fillpattern": {
             "fillmode": "overlay",
             "size": 10,
             "solidity": 0.2
            },
            "type": "scatter"
           }
          ],
          "scatter3d": [
           {
            "line": {
             "colorbar": {
              "outlinewidth": 0,
              "ticks": ""
             }
            },
            "marker": {
             "colorbar": {
              "outlinewidth": 0,
              "ticks": ""
             }
            },
            "type": "scatter3d"
           }
          ],
          "scattercarpet": [
           {
            "marker": {
             "colorbar": {
              "outlinewidth": 0,
              "ticks": ""
             }
            },
            "type": "scattercarpet"
           }
          ],
          "scattergeo": [
           {
            "marker": {
             "colorbar": {
              "outlinewidth": 0,
              "ticks": ""
             }
            },
            "type": "scattergeo"
           }
          ],
          "scattergl": [
           {
            "marker": {
             "colorbar": {
              "outlinewidth": 0,
              "ticks": ""
             }
            },
            "type": "scattergl"
           }
          ],
          "scattermapbox": [
           {
            "marker": {
             "colorbar": {
              "outlinewidth": 0,
              "ticks": ""
             }
            },
            "type": "scattermapbox"
           }
          ],
          "scatterpolar": [
           {
            "marker": {
             "colorbar": {
              "outlinewidth": 0,
              "ticks": ""
             }
            },
            "type": "scatterpolar"
           }
          ],
          "scatterpolargl": [
           {
            "marker": {
             "colorbar": {
              "outlinewidth": 0,
              "ticks": ""
             }
            },
            "type": "scatterpolargl"
           }
          ],
          "scatterternary": [
           {
            "marker": {
             "colorbar": {
              "outlinewidth": 0,
              "ticks": ""
             }
            },
            "type": "scatterternary"
           }
          ],
          "surface": [
           {
            "colorbar": {
             "outlinewidth": 0,
             "ticks": ""
            },
            "colorscale": [
             [
              0,
              "#0d0887"
             ],
             [
              0.1111111111111111,
              "#46039f"
             ],
             [
              0.2222222222222222,
              "#7201a8"
             ],
             [
              0.3333333333333333,
              "#9c179e"
             ],
             [
              0.4444444444444444,
              "#bd3786"
             ],
             [
              0.5555555555555556,
              "#d8576b"
             ],
             [
              0.6666666666666666,
              "#ed7953"
             ],
             [
              0.7777777777777778,
              "#fb9f3a"
             ],
             [
              0.8888888888888888,
              "#fdca26"
             ],
             [
              1,
              "#f0f921"
             ]
            ],
            "type": "surface"
           }
          ],
          "table": [
           {
            "cells": {
             "fill": {
              "color": "#EBF0F8"
             },
             "line": {
              "color": "white"
             }
            },
            "header": {
             "fill": {
              "color": "#C8D4E3"
             },
             "line": {
              "color": "white"
             }
            },
            "type": "table"
           }
          ]
         },
         "layout": {
          "annotationdefaults": {
           "arrowcolor": "#2a3f5f",
           "arrowhead": 0,
           "arrowwidth": 1
          },
          "autotypenumbers": "strict",
          "coloraxis": {
           "colorbar": {
            "outlinewidth": 0,
            "ticks": ""
           }
          },
          "colorscale": {
           "diverging": [
            [
             0,
             "#8e0152"
            ],
            [
             0.1,
             "#c51b7d"
            ],
            [
             0.2,
             "#de77ae"
            ],
            [
             0.3,
             "#f1b6da"
            ],
            [
             0.4,
             "#fde0ef"
            ],
            [
             0.5,
             "#f7f7f7"
            ],
            [
             0.6,
             "#e6f5d0"
            ],
            [
             0.7,
             "#b8e186"
            ],
            [
             0.8,
             "#7fbc41"
            ],
            [
             0.9,
             "#4d9221"
            ],
            [
             1,
             "#276419"
            ]
           ],
           "sequential": [
            [
             0,
             "#0d0887"
            ],
            [
             0.1111111111111111,
             "#46039f"
            ],
            [
             0.2222222222222222,
             "#7201a8"
            ],
            [
             0.3333333333333333,
             "#9c179e"
            ],
            [
             0.4444444444444444,
             "#bd3786"
            ],
            [
             0.5555555555555556,
             "#d8576b"
            ],
            [
             0.6666666666666666,
             "#ed7953"
            ],
            [
             0.7777777777777778,
             "#fb9f3a"
            ],
            [
             0.8888888888888888,
             "#fdca26"
            ],
            [
             1,
             "#f0f921"
            ]
           ],
           "sequentialminus": [
            [
             0,
             "#0d0887"
            ],
            [
             0.1111111111111111,
             "#46039f"
            ],
            [
             0.2222222222222222,
             "#7201a8"
            ],
            [
             0.3333333333333333,
             "#9c179e"
            ],
            [
             0.4444444444444444,
             "#bd3786"
            ],
            [
             0.5555555555555556,
             "#d8576b"
            ],
            [
             0.6666666666666666,
             "#ed7953"
            ],
            [
             0.7777777777777778,
             "#fb9f3a"
            ],
            [
             0.8888888888888888,
             "#fdca26"
            ],
            [
             1,
             "#f0f921"
            ]
           ]
          },
          "colorway": [
           "#636efa",
           "#EF553B",
           "#00cc96",
           "#ab63fa",
           "#FFA15A",
           "#19d3f3",
           "#FF6692",
           "#B6E880",
           "#FF97FF",
           "#FECB52"
          ],
          "font": {
           "color": "#2a3f5f"
          },
          "geo": {
           "bgcolor": "white",
           "lakecolor": "white",
           "landcolor": "#E5ECF6",
           "showlakes": true,
           "showland": true,
           "subunitcolor": "white"
          },
          "hoverlabel": {
           "align": "left"
          },
          "hovermode": "closest",
          "mapbox": {
           "style": "light"
          },
          "paper_bgcolor": "white",
          "plot_bgcolor": "#E5ECF6",
          "polar": {
           "angularaxis": {
            "gridcolor": "white",
            "linecolor": "white",
            "ticks": ""
           },
           "bgcolor": "#E5ECF6",
           "radialaxis": {
            "gridcolor": "white",
            "linecolor": "white",
            "ticks": ""
           }
          },
          "scene": {
           "xaxis": {
            "backgroundcolor": "#E5ECF6",
            "gridcolor": "white",
            "gridwidth": 2,
            "linecolor": "white",
            "showbackground": true,
            "ticks": "",
            "zerolinecolor": "white"
           },
           "yaxis": {
            "backgroundcolor": "#E5ECF6",
            "gridcolor": "white",
            "gridwidth": 2,
            "linecolor": "white",
            "showbackground": true,
            "ticks": "",
            "zerolinecolor": "white"
           },
           "zaxis": {
            "backgroundcolor": "#E5ECF6",
            "gridcolor": "white",
            "gridwidth": 2,
            "linecolor": "white",
            "showbackground": true,
            "ticks": "",
            "zerolinecolor": "white"
           }
          },
          "shapedefaults": {
           "line": {
            "color": "#2a3f5f"
           }
          },
          "ternary": {
           "aaxis": {
            "gridcolor": "white",
            "linecolor": "white",
            "ticks": ""
           },
           "baxis": {
            "gridcolor": "white",
            "linecolor": "white",
            "ticks": ""
           },
           "bgcolor": "#E5ECF6",
           "caxis": {
            "gridcolor": "white",
            "linecolor": "white",
            "ticks": ""
           }
          },
          "title": {
           "x": 0.05
          },
          "xaxis": {
           "automargin": true,
           "gridcolor": "white",
           "linecolor": "white",
           "ticks": "",
           "title": {
            "standoff": 15
           },
           "zerolinecolor": "white",
           "zerolinewidth": 2
          },
          "yaxis": {
           "automargin": true,
           "gridcolor": "white",
           "linecolor": "white",
           "ticks": "",
           "title": {
            "standoff": 15
           },
           "zerolinecolor": "white",
           "zerolinewidth": 2
          }
         }
        },
        "title": {
         "text": "Average L2 Prediction Error per (x,y) Region"
        },
        "width": 700,
        "xaxis": {
         "anchor": "y",
         "constrain": "domain",
         "domain": [
          0,
          1
         ],
         "scaleanchor": "y",
         "title": {
          "text": "x"
         }
        },
        "yaxis": {
         "anchor": "x",
         "autorange": true,
         "constrain": "domain",
         "domain": [
          0,
          1
         ],
         "title": {
          "text": "y"
         }
        }
       }
      }
     },
     "metadata": {},
     "output_type": "display_data"
    }
   ],
   "source": [
    "import numpy as np\n",
    "import torch\n",
    "import plotly.express as px\n",
    "from scipy.stats import binned_statistic_2d\n",
    "\n",
    "def plot_regression_error_map(reg_model, X_np, Y_np, class_names=None, bins=30, device=None):\n",
    "    \"\"\"\n",
    "    Plots a 2D matrix of average L2 prediction error per (x,y) region.\n",
    "    \n",
    "    Parameters:\n",
    "    - reg_model : torch.nn.Module\n",
    "        Regressor that outputs (x, y) coordinates\n",
    "    - X_np : np.ndarray\n",
    "        Input features of shape (n, 9, 128)\n",
    "    - Y_np : np.ndarray\n",
    "        True (x, y) coordinates of shape (n, 2)\n",
    "    - class_names : unused (included for API consistency)\n",
    "    - bins : int\n",
    "        Number of bins along x and y axis\n",
    "    - device : torch.device (optional)\n",
    "    \"\"\"\n",
    "    reg_model.eval()\n",
    "    if device is None:\n",
    "        device = torch.device(\"cuda\" if torch.cuda.is_available() else \"cpu\")\n",
    "    reg_model.to(device)\n",
    "\n",
    "    # Convert inputs\n",
    "    X_tensor = torch.tensor(X_np, dtype=torch.float32).to(device)\n",
    "\n",
    "    # Get predictions\n",
    "    with torch.no_grad():\n",
    "        preds = reg_model(X_tensor).cpu()#.numpy()\n",
    "    print(preds[:5,:])\n",
    "    print(Y_np[:5,:])\n",
    "    # Compute L2 errors\n",
    "    errors = np.linalg.norm(preds - Y_np, axis=1)  # (n,)\n",
    "\n",
    "    # Create 2D bins over (x, y) true coordinates\n",
    "    x_vals, y_vals = Y_np[:, 0], Y_np[:, 1]\n",
    "\n",
    "    stat, x_edges, y_edges, _ = binned_statistic_2d(\n",
    "        x_vals, y_vals, errors, statistic='mean', bins=bins\n",
    "    )\n",
    "\n",
    "    # Plot with Plotly\n",
    "    fig = px.imshow(stat.T,  # transpose so x = horizontal, y = vertical\n",
    "                    origin='lower',\n",
    "                    labels={'color': 'Avg L2 Error'},\n",
    "                    x=np.round((x_edges[:-1] + x_edges[1:]) / 2, 2),\n",
    "                    y=np.round((y_edges[:-1] + y_edges[1:]) / 2, 2),\n",
    "                    title=\"Average L2 Prediction Error per (x,y) Region\")\n",
    "    \n",
    "    fig.update_layout(\n",
    "        xaxis_title=\"x\", yaxis_title=\"y\",\n",
    "        width=700, height=600\n",
    "    )\n",
    "    fig.write_html(\"regression_distances_heatmap.html\", include_plotlyjs=\"cdn\")\n",
    "    fig.show()\n",
    "plot_regression_error_map(reg_net, X_t, loc, class_names=None)\n"
   ]
  },
  {
   "cell_type": "markdown",
   "id": "923a2503",
   "metadata": {},
   "source": [
    "pairwise distance in embedding space\n",
    "modify data to remove the first n bins and check model perforamnce\n",
    "Create model to predict both at the same \n",
    "heat map for distance estimates\n"
   ]
  },
  {
   "cell_type": "markdown",
   "id": "b9192b5b",
   "metadata": {},
   "source": [
    "parse the accuracy metric"
   ]
  }
 ],
 "metadata": {
  "kernelspec": {
   "display_name": "Python 3",
   "language": "python",
   "name": "python3"
  },
  "language_info": {
   "codemirror_mode": {
    "name": "ipython",
    "version": 3
   },
   "file_extension": ".py",
   "mimetype": "text/x-python",
   "name": "python",
   "nbconvert_exporter": "python",
   "pygments_lexer": "ipython3",
   "version": "3.10.9"
  }
 },
 "nbformat": 4,
 "nbformat_minor": 5
}
